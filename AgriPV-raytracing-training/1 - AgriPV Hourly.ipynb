{
 "cells": [
  {
   "cell_type": "markdown",
   "metadata": {},
   "source": [
    "# 1 - AgriPV Systems\n",
    "\n",
    "This journal shows how to model an AgriPV site, calculating the irradiance not only on the modules but also the irradiance received by the ground to evaluate available solar ersource for plants. \n",
    "\n",
    "We assume that `bifacia_radiance` and `radiance` are properly installed.\n",
    "\n",
    "These journal outlines 4 useful uses of bifacial_radiance and some tricks: \n",
    "\n",
    "* Creating the modules in the AgriPV site\n",
    "* Adding extra geometry for the pillars/posts supporting the AgriPV site\n",
    "* Hacking the sensors to sample the ground irradiance and create irradiance map\n",
    "* Adding object to simulate variations in ground albedo from different crops between rows.\n",
    "\n",
    "\n",
    "#### Steps:\n",
    "\n",
    "1. <a href='#step1'> Generate the geometry </a>\n",
    "2. <a href='#step2'> Analyse the Ground Irradiance </a>\n",
    "3. <a href='#step3'> Analyse and MAP the Ground Irradiance </a>\n",
    "4. <a href='#step4'> Adding different Albedo Section </a>\n",
    "    \n",
    "#### Preview of what we will create: \n",
    "    \n",
    "![Another view](images/AgriPV_2.PNG)\n",
    "![AgriPV Image We will create](images/AgriPV_1.PNG)\n",
    "And this is how it will look like:\n",
    "\n",
    "![AgriPV modeled step 4](images/AgriPV_step4.PNG)\n",
    "\n",
    "\n"
   ]
  },
  {
   "cell_type": "markdown",
   "metadata": {},
   "source": [
    "<a id='step1'></a>"
   ]
  },
  {
   "cell_type": "markdown",
   "metadata": {},
   "source": [
    "## 1. Generate the geometry \n",
    "\n",
    "This section goes from setting up variables to making the OCT axis. \n",
    "\n",
    "For creating the 3-up landscape collector, we set ``numpanels = 3``"
   ]
  },
  {
   "cell_type": "code",
   "execution_count": 1,
   "metadata": {},
   "outputs": [
    {
     "name": "stdout",
     "output_type": "stream",
     "text": [
      "Your simulation will be stored in C:\\Users\\sayala\\Documents\\GitHub\\InSPIRE\\TEMP\\Tutorial_1\n"
     ]
    }
   ],
   "source": [
    "import os\n",
    "from pathlib import Path\n",
    "\n",
    "testfolder = str(Path().resolve().parent / 'TEMP' /  'Tutorial_1')\n",
    "\n",
    "if not os.path.exists(testfolder):\n",
    "    os.makedirs(testfolder)\n",
    "    \n",
    "print (\"Your simulation will be stored in %s\" % testfolder)"
   ]
  },
  {
   "cell_type": "code",
   "execution_count": 2,
   "metadata": {},
   "outputs": [
    {
     "data": {
      "text/plain": [
       "'0.4.2+159.gf121108'"
      ]
     },
     "execution_count": 2,
     "metadata": {},
     "output_type": "execute_result"
    }
   ],
   "source": [
    "import bifacial_radiance as br\n",
    "import numpy as np\n",
    "import pandas as pd\n",
    "\n",
    "br.__version__"
   ]
  },
  {
   "cell_type": "code",
   "execution_count": 3,
   "metadata": {},
   "outputs": [
    {
     "name": "stdout",
     "output_type": "stream",
     "text": [
      "Working on a  Windows 10\n",
      "Python version  3.11.4 | packaged by Anaconda, Inc. | (main, Jul  5 2023, 13:38:37) [MSC v.1916 64 bit (AMD64)]\n",
      "Pandas version  2.0.3\n",
      "bifacial_radiance version  0.4.2+159.gf121108\n"
     ]
    }
   ],
   "source": [
    "# This information helps with debugging and getting support :)\n",
    "import sys, platform\n",
    "print(\"Working on a \", platform.system(), platform.release())\n",
    "print(\"Python version \", sys.version)\n",
    "print(\"Pandas version \", pd.__version__)\n",
    "print(\"bifacial_radiance version \", br.__version__)"
   ]
  },
  {
   "cell_type": "code",
   "execution_count": 5,
   "metadata": {},
   "outputs": [],
   "source": [
    "simulationname = 'tutorial_1'\n",
    "\n",
    "# Location:\n",
    "lat = 40.0583  # NJ\n",
    "lon = -74.4057  # NJ\n",
    "\n",
    "# Scene Parameters:\n",
    "azimuth_ang=180 # Facing south\n",
    "tilt =35 # tilt.\n",
    "\n",
    "# MakeModule Parameters\n",
    "moduletype='test-module'\n",
    "numpanels = 3  # AgriPV site has 3 modules along the y direction\n",
    "module_x = 2 # m\n",
    "module_y = 1 # m. slope we will measure\n",
    "# if x > y, landscape. if x < y, portrait\n",
    "xgap = 2.0#\n",
    "ygap = 0.01 # Leaving 10 centimeters between modules on y direction\n",
    "sensorsy = 6*numpanels  # this will give 6 sensors per module, 1 per cell\n",
    "\n",
    "# TorqueTube Parameters\n",
    "tubetype='square' # Other options: 'square' , 'hex'\n",
    "material = 'Metal_Grey' # Other options: 'black'\n",
    "diameter = 0.1 # m\n",
    "axisofrotationTorqueTube = False\n",
    "zgap = 0.05 # m\n",
    "visible = True \n",
    "\n",
    "# Cell Module Parameters \n",
    "numcellsx = 12\n",
    "numcellsy = 6\n",
    "xcell = 0.156 # m. Current standard cell size\n",
    "ycell = 0.156 # m. Current standard cell size\n",
    "xcellgap = 0.02 # m. This is not representative of real modules, it is a high value for visualization)\n",
    "ycellgap = 0.02 # m. This is not representative of real modules, it is a high value for visualization)\n",
    "\n",
    "#Add torquetube \n",
    "tubeParams = {'tubetype':tubetype,\n",
    "              'diameter':diameter,\n",
    "              'material':material,\n",
    "              'axisofrotation':False,\n",
    "              'visible':True}\n",
    "\n",
    "# SceneDict Parameters\n",
    "pitch = 15 # m\n",
    "albedo = 0.2  #'grass'     # ground albedo\n",
    "hub_height = 4.3 # m  \n",
    "nMods = 6 # six modules per row.\n",
    "nRows = 3  # 3 row\n"
   ]
  },
  {
   "cell_type": "code",
   "execution_count": 6,
   "metadata": {},
   "outputs": [
    {
     "name": "stdout",
     "output_type": "stream",
     "text": [
      "path = C:\\Users\\sayala\\Documents\\GitHub\\InSPIRE\\TEMP\\Tutorial_1\n",
      "Loading albedo, 1 value(s), 0.200 avg\n",
      "1 nonzero albedo values.\n",
      "Getting weather file: USA_NJ_McGuire.AFB.724096_TMY3.epw\n",
      " ... OK!\n"
     ]
    }
   ],
   "source": [
    "demo = br.RadianceObj(simulationname,path = testfolder)  \n",
    "demo.setGround(albedo) \n",
    "epwfile = demo.getEPW(lat, lon) # NJ lat/lon 40.0583° N, 74.4057\n"
   ]
  },
  {
   "cell_type": "code",
   "execution_count": 7,
   "metadata": {},
   "outputs": [
    {
     "name": "stdout",
     "output_type": "stream",
     "text": [
      "\n",
      "Module Name: test-module\n",
      "Module was shifted by 0.078 in X to avoid sensors on air\n",
      "This is a Cell-Level detailed module with Packaging Factor of 0.81 \n",
      "Module test-module updated in module.json\n",
      "Pre-existing .rad file objects\\test-module.rad will be overwritten\n",
      "\n"
     ]
    }
   ],
   "source": [
    "# Making module, either as a black Unit or with cell-level detail.\n",
    "# Suggest to use cell-level only for visualizations, and or for studying customly made agriPV modules where the cell\n",
    "# gaps might be really, really wide. Most commercial panels can be approximated by the single-black surface.\n",
    "detailedModule = False\n",
    "\n",
    "if detailedModule:\n",
    "    cellModule = {'numcellsx': numcellsx, 'numcellsy':numcellsy, \n",
    "                             'xcell': xcell, 'ycell': ycell, 'xcellgap': xcellgap, 'ycellgap': ycellgap}\n",
    "    module=demo.makeModule(name=moduletype,numpanels=numpanels, \n",
    "                           xgap=xgap, ygap=ygap, cellModule=cellModule, tubeParams=tubeParams)\n",
    "else:\n",
    "    module=demo.makeModule(name=moduletype,x=module_x,y=module_y,numpanels=numpanels, \n",
    "                           xgap=xgap, ygap=ygap, tubeParams=tubeParams)"
   ]
  },
  {
   "cell_type": "code",
   "execution_count": 8,
   "metadata": {},
   "outputs": [
    {
     "name": "stdout",
     "output_type": "stream",
     "text": [
      "8760 line in WeatherFile. Assuming this is a standard hourly WeatherFile for the year for purposes of saving Gencumulativesky temporary weather files in EPW folder.\n",
      "Coercing year to 2021\n",
      "Filtering dates\n",
      "Saving file EPWs\\metdata_temp.csv, # points: 8760\n",
      "Calculating Sun position for Metdata that is right-labeled  with a delta of -30 mins. i.e. 12 is 11:30 sunpos\n"
     ]
    }
   ],
   "source": [
    "#Determine Hour to model\n",
    "#Valid options: mm_dd, mm_dd_HH, mm_dd_HHMM, YYYY-mm-dd_HHMM\n",
    "metdata = demo.readWeatherFile(epwfile, coerce_year=2021, starttime='2021-06-21_12', endtime='2021-06-21_13')"
   ]
  },
  {
   "cell_type": "code",
   "execution_count": 11,
   "metadata": {},
   "outputs": [
    {
     "data": {
      "text/plain": [
       "{'latitude': 40.02,\n",
       " 'longitude': -74.6,\n",
       " 'elevation': 45.0,\n",
       " 'timezone': -5.0,\n",
       " 'city': 'Mcguire Afb',\n",
       " 'datetime': [Timestamp('2021-06-21 12:00:00-0500', tz='UTC-05:00'),\n",
       "  Timestamp('2021-06-21 13:00:00-0500', tz='UTC-05:00')],\n",
       " 'ghi': array([958, 864], dtype=int64),\n",
       " 'dhi': array([308, 257], dtype=int64),\n",
       " 'dni': array([684, 638], dtype=int64),\n",
       " 'albedo': array([0.14, 0.14]),\n",
       " 'dewpoint': array([12.8, 13.9]),\n",
       " 'pressure': array([100900, 100900], dtype=int64),\n",
       " 'temp_air': array([31.1, 31.1]),\n",
       " 'wind_speed': array([2.6, 2.1]),\n",
       " 'meastracker_angle': None,\n",
       " 'solpos':                            apparent_zenith    zenith  apparent_elevation  \\\n",
       " corrected_timestamp                                                        \n",
       " 2021-06-21 11:30:00-05:00        17.768153  17.77351           72.231847   \n",
       " 2021-06-21 12:30:00-05:00        17.723348  17.72869           72.276652   \n",
       " \n",
       "                            elevation     azimuth  equation_of_time  \n",
       " corrected_timestamp                                                 \n",
       " 2021-06-21 11:30:00-05:00   72.22649  156.661248         -1.891207  \n",
       " 2021-06-21 12:30:00-05:00   72.27131  202.913473         -1.900205  ,\n",
       " 'sunrisesetdata':                                                       sunrise  \\\n",
       " 2021-06-21 12:00:00-05:00 2021-06-21 04:29:43.658997504-05:00   \n",
       " 2021-06-21 13:00:00-05:00 2021-06-21 04:29:43.658997504-05:00   \n",
       " \n",
       "                                                        sunset  \\\n",
       " 2021-06-21 12:00:00-05:00 2021-06-21 19:30:39.301545728-05:00   \n",
       " 2021-06-21 13:00:00-05:00 2021-06-21 19:30:39.301545728-05:00   \n",
       " \n",
       "                                                       transit  minutedelta  \\\n",
       " 2021-06-21 12:00:00-05:00 2021-06-21 12:00:17.943721472-05:00           30   \n",
       " 2021-06-21 13:00:00-05:00 2021-06-21 12:00:17.943721472-05:00           30   \n",
       " \n",
       "                                 corrected_timestamp  \n",
       " 2021-06-21 12:00:00-05:00 2021-06-21 11:30:00-05:00  \n",
       " 2021-06-21 13:00:00-05:00 2021-06-21 12:30:00-05:00  ,\n",
       " 'label': 'right'}"
      ]
     },
     "execution_count": 11,
     "metadata": {},
     "output_type": "execute_result"
    }
   ],
   "source": [
    "demo.metdata.__dict__"
   ]
  },
  {
   "cell_type": "code",
   "execution_count": 9,
   "metadata": {},
   "outputs": [
    {
     "data": {
      "text/plain": [
       "{'latitude': 40.02,\n",
       " 'longitude': -74.6,\n",
       " 'elevation': 45.0,\n",
       " 'timezone': -5.0,\n",
       " 'city': 'Mcguire Afb',\n",
       " 'datetime': [Timestamp('2021-06-21 12:00:00-0500', tz='UTC-05:00'),\n",
       "  Timestamp('2021-06-21 13:00:00-0500', tz='UTC-05:00')],\n",
       " 'ghi': array([958, 864], dtype=int64),\n",
       " 'dhi': array([308, 257], dtype=int64),\n",
       " 'dni': array([684, 638], dtype=int64),\n",
       " 'albedo': array([0.14, 0.14]),\n",
       " 'dewpoint': array([12.8, 13.9]),\n",
       " 'pressure': array([100900, 100900], dtype=int64),\n",
       " 'temp_air': array([31.1, 31.1]),\n",
       " 'wind_speed': array([2.6, 2.1]),\n",
       " 'meastracker_angle': None,\n",
       " 'solpos':                            apparent_zenith    zenith  apparent_elevation  \\\n",
       " corrected_timestamp                                                        \n",
       " 2021-06-21 11:30:00-05:00        17.768153  17.77351           72.231847   \n",
       " 2021-06-21 12:30:00-05:00        17.723348  17.72869           72.276652   \n",
       " \n",
       "                            elevation     azimuth  equation_of_time  \n",
       " corrected_timestamp                                                 \n",
       " 2021-06-21 11:30:00-05:00   72.22649  156.661248         -1.891207  \n",
       " 2021-06-21 12:30:00-05:00   72.27131  202.913473         -1.900205  ,\n",
       " 'sunrisesetdata':                                                       sunrise  \\\n",
       " 2021-06-21 12:00:00-05:00 2021-06-21 04:29:43.658997504-05:00   \n",
       " 2021-06-21 13:00:00-05:00 2021-06-21 04:29:43.658997504-05:00   \n",
       " \n",
       "                                                        sunset  \\\n",
       " 2021-06-21 12:00:00-05:00 2021-06-21 19:30:39.301545728-05:00   \n",
       " 2021-06-21 13:00:00-05:00 2021-06-21 19:30:39.301545728-05:00   \n",
       " \n",
       "                                                       transit  minutedelta  \\\n",
       " 2021-06-21 12:00:00-05:00 2021-06-21 12:00:17.943721472-05:00           30   \n",
       " 2021-06-21 13:00:00-05:00 2021-06-21 12:00:17.943721472-05:00           30   \n",
       " \n",
       "                                 corrected_timestamp  \n",
       " 2021-06-21 12:00:00-05:00 2021-06-21 11:30:00-05:00  \n",
       " 2021-06-21 13:00:00-05:00 2021-06-21 12:30:00-05:00  ,\n",
       " 'label': 'right'}"
      ]
     },
     "execution_count": 9,
     "metadata": {},
     "output_type": "execute_result"
    }
   ],
   "source": [
    "metdata.__dict__"
   ]
  },
  {
   "cell_type": "markdown",
   "metadata": {},
   "source": [
    "We are going to model just one single timeindex at a time."
   ]
  },
  {
   "cell_type": "code",
   "execution_count": 15,
   "metadata": {},
   "outputs": [
    {
     "data": {
      "text/plain": [
       "0"
      ]
     },
     "execution_count": 15,
     "metadata": {},
     "output_type": "execute_result"
    }
   ],
   "source": [
    "timeindex = metdata.datetime.index(pd.to_datetime('2021-06-21 12:0:0 -5'))  # Make this timezone aware, use -5 for EST.\n",
    "timeindex"
   ]
  },
  {
   "cell_type": "code",
   "execution_count": 35,
   "metadata": {},
   "outputs": [
    {
     "name": "stdout",
     "output_type": "stream",
     "text": [
      "Loaded  EPWs\\metdata_temp.csv\n",
      "message: There were 2 sun up hours in this climate file\n",
      "Total Ibh/Lbh: 0.000000\n"
     ]
    },
    {
     "data": {
      "text/plain": [
       "'skies\\\\cumulative.rad'"
      ]
     },
     "execution_count": 35,
     "metadata": {},
     "output_type": "execute_result"
    }
   ],
   "source": [
    "demo.genCumSky()  "
   ]
  },
  {
   "cell_type": "code",
   "execution_count": 16,
   "metadata": {},
   "outputs": [
    {
     "data": {
      "text/plain": [
       "'skies\\\\sky2_40.02_-74.6_2021-06-21_1200.rad'"
      ]
     },
     "execution_count": 16,
     "metadata": {},
     "output_type": "execute_result"
    }
   ],
   "source": [
    "demo.gendaylit(timeindex=timeindex)  "
   ]
  },
  {
   "cell_type": "code",
   "execution_count": 17,
   "metadata": {},
   "outputs": [
    {
     "name": "stdout",
     "output_type": "stream",
     "text": [
      "Created tutorial_1.oct\n"
     ]
    }
   ],
   "source": [
    "sceneDict = {'tilt':tilt,'pitch': 15,'hub_height':hub_height,'azimuth':azimuth_ang, 'nMods': nMods, 'nRows': nRows}  \n",
    "scene = demo.makeScene(module=moduletype, sceneDict=sceneDict) \n"
   ]
  },
  {
   "cell_type": "code",
   "execution_count": 19,
   "metadata": {},
   "outputs": [
    {
     "name": "stdout",
     "output_type": "stream",
     "text": [
      "Created tutorial_1.oct\n"
     ]
    }
   ],
   "source": [
    "octfile = demo.makeOct(demo.getfilelist())"
   ]
  },
  {
   "cell_type": "markdown",
   "metadata": {},
   "source": [
    "If desired, you can view the Oct file at this point:\n",
    "\n",
    "***rvu -vf views\\front.vp -e .01 tutorial_1.oct***"
   ]
  },
  {
   "cell_type": "code",
   "execution_count": 21,
   "metadata": {},
   "outputs": [],
   "source": [
    "## Comment the ! line below to run rvu from the Jupyter notebook instead of your terminal.\n",
    "## Simulation will stop until you close the rvu window\n",
    "\n",
    "!rvu -vf views\\front.vp -e .01 tutorial_1.oct"
   ]
  },
  {
   "cell_type": "markdown",
   "metadata": {},
   "source": [
    "And adjust the view parameters, you should see this image.\n",
    "\n",
    "![AgriPV modeled step 1](images/AgriPV_step1.PNG)\n"
   ]
  },
  {
   "cell_type": "markdown",
   "metadata": {},
   "source": [
    "## 4. Adding different Albedo Sections\n",
    "For practicing adding custom scene elements, we will add a patch in the ground that has a different reflectivity (albedo) than the average set for the field. \n",
    "By using this `genbox` and giving it the right size/position, we can create trees, buildings, or secondary small-area surfaces to add with sampling at specific heights but that do not shade the scene.\n"
   ]
  },
  {
   "cell_type": "code",
   "execution_count": 24,
   "metadata": {
    "scrolled": true
   },
   "outputs": [
    {
     "name": "stdout",
     "output_type": "stream",
     "text": [
      "\n",
      "Custom Object Name objects\\Center_Patch.rad\n",
      "Created tutorial_1.oct\n"
     ]
    }
   ],
   "source": [
    "name='Center_Patch'\n",
    "patchpositionx=-14\n",
    "patchpositiony=2\n",
    "text='! genbox white_EPDM CenterPatch 28 12 0.001 | xform -t {} {} 0'.format(patchpositionx, patchpositiony)\n",
    "customObject = demo.makeCustomObject(name,text)\n",
    "demo.appendtoScene(scene.radfiles, customObject)\n",
    "octfile = demo.makeOct(demo.getfilelist()) "
   ]
  },
  {
   "cell_type": "code",
   "execution_count": 23,
   "metadata": {},
   "outputs": [],
   "source": [
    "#!rvu -vf views\\front.vp -e .01 tutorial_1.oct\n",
    "#!rvu -vf views\\front.vp -e .01 -pe 0.4 -vp 12 -10 3.5 -vd -0.0995 0.9950 0.0 tutorial_1.oct"
   ]
  },
  {
   "cell_type": "markdown",
   "metadata": {},
   "source": [
    "Viewing with rvu:\n",
    "\n",
    "![AgriPV modeled step 4](images/AgriPV_step4.PNG)\n",
    "\n"
   ]
  },
  {
   "cell_type": "markdown",
   "metadata": {},
   "source": [
    "## 2. Analyse  the Ground Irradiance\n",
    "\n",
    "Now let's do some analysis along the ground, starting from the edge of the modules. We wil select to start in the center of the array.\n",
    "\n",
    "We are also increasign the number of points sampled accross the collector width, with the  variable **sensorsy** passed to **moduleanalysis**. We are also increasing the step between sampling points, to be able to sample in between the rows."
   ]
  },
  {
   "cell_type": "code",
   "execution_count": 26,
   "metadata": {},
   "outputs": [],
   "source": [
    "analysis = br.AnalysisObj(octfile, demo.name)  \n",
    "frontscan, backscan = analysis.moduleAnalysis(scene, sensorsy=sensorsy, modWanted=4)\n"
   ]
  },
  {
   "cell_type": "code",
   "execution_count": 27,
   "metadata": {},
   "outputs": [
    {
     "data": {
      "text/plain": [
       "{'xstart': 4.0920000000000005,\n",
       " 'ystart': -1.1583406079820937,\n",
       " 'zstart': 3.5145574408405102,\n",
       " 'xinc': -1.6515377863575923e-17,\n",
       " 'yinc': 0.1348582944492614,\n",
       " 'zinc': 0.09442879436347748,\n",
       " 'sx_xinc': 0.0,\n",
       " 'sx_yinc': 0.0,\n",
       " 'sx_zinc': 0.0,\n",
       " 'Nx': 1,\n",
       " 'Ny': 18,\n",
       " 'Nz': 1,\n",
       " 'orient': '-0.000 0.574 -0.819'}"
      ]
     },
     "execution_count": 27,
     "metadata": {},
     "output_type": "execute_result"
    }
   ],
   "source": [
    "frontscan"
   ]
  },
  {
   "cell_type": "code",
   "execution_count": 28,
   "metadata": {},
   "outputs": [],
   "source": [
    "groundscan = frontscan"
   ]
  },
  {
   "cell_type": "code",
   "execution_count": 29,
   "metadata": {},
   "outputs": [
    {
     "data": {
      "text/plain": [
       "{'xstart': 4.0920000000000005,\n",
       " 'ystart': -1.1583406079820937,\n",
       " 'zstart': 0.05,\n",
       " 'xinc': -1.6515377863575923e-17,\n",
       " 'yinc': 0.8823529411764706,\n",
       " 'zinc': 0,\n",
       " 'sx_xinc': 0.0,\n",
       " 'sx_yinc': 0.0,\n",
       " 'sx_zinc': 0.0,\n",
       " 'Nx': 1,\n",
       " 'Ny': 18,\n",
       " 'Nz': 1,\n",
       " 'orient': '0 0 -1'}"
      ]
     },
     "execution_count": 29,
     "metadata": {},
     "output_type": "execute_result"
    }
   ],
   "source": [
    "groundscan['zstart'] = 0.05  # setting it 5 cm from the ground.\n",
    "groundscan['zinc'] = 0   # no tilt necessary. \n",
    "groundscan['yinc'] = pitch/(sensorsy-1)   # increasing spacing so it covers all distance between rows\n",
    "groundscan['orient'] = '0 0 -1' \n",
    "groundscan"
   ]
  },
  {
   "cell_type": "code",
   "execution_count": 30,
   "metadata": {},
   "outputs": [
    {
     "name": "stdout",
     "output_type": "stream",
     "text": [
      "Linescan in process: tutorial_1_groundscan_Row2_Module4_Front\n",
      "Linescan in process: tutorial_1_groundscan_Row2_Module4_Back\n",
      "Saved: results\\irr_tutorial_1_groundscan_Row2_Module4.csv\n"
     ]
    },
    {
     "data": {
      "text/plain": [
       "({'Wm2': [921.5393333333333,\n",
       "   895.1578333333333,\n",
       "   229.81463333333332,\n",
       "   230.64543333333333,\n",
       "   247.2583,\n",
       "   915.6136666666666,\n",
       "   927.5769666666666,\n",
       "   937.0219000000001,\n",
       "   940.7236666666668,\n",
       "   943.9996333333332,\n",
       "   946.3558333333334,\n",
       "   948.2132333333334,\n",
       "   949.4235333333332,\n",
       "   949.6986666666667,\n",
       "   948.8133333333332,\n",
       "   944.0348666666667,\n",
       "   936.1854666666667,\n",
       "   920.5010333333333],\n",
       "  'x': [4.092,\n",
       "   4.092,\n",
       "   4.092,\n",
       "   4.092,\n",
       "   4.092,\n",
       "   4.092,\n",
       "   4.092,\n",
       "   4.092,\n",
       "   4.092,\n",
       "   4.092,\n",
       "   4.092,\n",
       "   4.092,\n",
       "   4.092,\n",
       "   4.092,\n",
       "   4.092,\n",
       "   4.092,\n",
       "   4.092,\n",
       "   4.092],\n",
       "  'y': [-1.158341,\n",
       "   -0.2759877,\n",
       "   0.6063653,\n",
       "   1.488718,\n",
       "   2.371071,\n",
       "   3.253424,\n",
       "   4.135777,\n",
       "   5.01813,\n",
       "   5.900483,\n",
       "   6.782836,\n",
       "   7.665189,\n",
       "   8.547542,\n",
       "   9.429895,\n",
       "   10.31225,\n",
       "   11.1946,\n",
       "   12.07695,\n",
       "   12.95931,\n",
       "   13.84166],\n",
       "  'z': [0.05,\n",
       "   0.05,\n",
       "   0.05,\n",
       "   0.05,\n",
       "   0.05,\n",
       "   0.05,\n",
       "   0.05,\n",
       "   0.05,\n",
       "   0.05,\n",
       "   0.05,\n",
       "   0.05,\n",
       "   0.05,\n",
       "   0.05,\n",
       "   0.05,\n",
       "   0.05,\n",
       "   0.05,\n",
       "   0.05,\n",
       "   0.05],\n",
       "  'r': [921.6099,\n",
       "   895.1969,\n",
       "   229.9997,\n",
       "   230.747,\n",
       "   247.3967,\n",
       "   915.7021,\n",
       "   927.6438,\n",
       "   937.0527,\n",
       "   940.7811,\n",
       "   944.0183,\n",
       "   946.3758,\n",
       "   948.2332,\n",
       "   949.4573,\n",
       "   949.7324,\n",
       "   948.8453,\n",
       "   944.0753,\n",
       "   936.1986,\n",
       "   920.551],\n",
       "  'g': [921.5278,\n",
       "   895.15,\n",
       "   229.786,\n",
       "   230.6294,\n",
       "   247.2371,\n",
       "   915.5986,\n",
       "   927.5658,\n",
       "   937.0166,\n",
       "   940.7144,\n",
       "   943.996,\n",
       "   946.3521,\n",
       "   948.2097,\n",
       "   949.4177,\n",
       "   949.6928,\n",
       "   948.8075,\n",
       "   944.0275,\n",
       "   936.1815,\n",
       "   920.4923],\n",
       "  'b': [921.4803,\n",
       "   895.1266,\n",
       "   229.6582,\n",
       "   230.5599,\n",
       "   247.1411,\n",
       "   915.5403,\n",
       "   927.5213,\n",
       "   936.9964,\n",
       "   940.6755,\n",
       "   943.9846,\n",
       "   946.3396,\n",
       "   948.1968,\n",
       "   949.3956,\n",
       "   949.6708,\n",
       "   948.7872,\n",
       "   944.0018,\n",
       "   936.1763,\n",
       "   920.4598],\n",
       "  'mattype': ['groundplane',\n",
       "   'groundplane',\n",
       "   'groundplane',\n",
       "   'groundplane',\n",
       "   'CenterPatch.6457',\n",
       "   'CenterPatch.6457',\n",
       "   'CenterPatch.6457',\n",
       "   'CenterPatch.6457',\n",
       "   'CenterPatch.6457',\n",
       "   'CenterPatch.6457',\n",
       "   'CenterPatch.6457',\n",
       "   'CenterPatch.6457',\n",
       "   'CenterPatch.6457',\n",
       "   'CenterPatch.6457',\n",
       "   'CenterPatch.6457',\n",
       "   'CenterPatch.6457',\n",
       "   'CenterPatch.6457',\n",
       "   'CenterPatch.6457'],\n",
       "  'title': 'tutorial_1_groundscan_Row2_Module4_Front'},\n",
       " {'Wm2': [175.79460000000003,\n",
       "   303.1740333333333,\n",
       "   310.0919333333333,\n",
       "   317.01233333333334,\n",
       "   325.70313333333337,\n",
       "   332.53026666666665,\n",
       "   339.3599,\n",
       "   339.27186666666665,\n",
       "   225.7906,\n",
       "   351.59846666666664,\n",
       "   364.09633333333335,\n",
       "   371.29743333333334,\n",
       "   380.51680000000005,\n",
       "   387.9012333333333,\n",
       "   393.9968333333333,\n",
       "   400.1804333333334,\n",
       "   406.36560000000003,\n",
       "   175.79460000000003],\n",
       "  'x': [4.092,\n",
       "   4.092,\n",
       "   4.092,\n",
       "   4.092,\n",
       "   4.092,\n",
       "   4.092,\n",
       "   4.092,\n",
       "   4.092,\n",
       "   4.092,\n",
       "   4.092,\n",
       "   4.092,\n",
       "   4.092,\n",
       "   4.092,\n",
       "   4.092,\n",
       "   4.092,\n",
       "   4.092,\n",
       "   4.092,\n",
       "   4.092],\n",
       "  'y': [-1.145722,\n",
       "   -1.010864,\n",
       "   -0.8760053,\n",
       "   -0.741147,\n",
       "   -0.6062887,\n",
       "   -0.4714305,\n",
       "   -0.3365722,\n",
       "   -0.2017139,\n",
       "   -0.06685557,\n",
       "   0.06800272,\n",
       "   0.202861,\n",
       "   0.3377193,\n",
       "   0.4725776,\n",
       "   0.6074359,\n",
       "   0.7422942,\n",
       "   0.8771525,\n",
       "   1.012011,\n",
       "   1.146869],\n",
       "  'z': [3.496536,\n",
       "   3.590965,\n",
       "   3.685394,\n",
       "   3.779822,\n",
       "   3.874251,\n",
       "   3.96868,\n",
       "   4.063109,\n",
       "   4.157538,\n",
       "   4.251966,\n",
       "   4.346395,\n",
       "   4.440824,\n",
       "   4.535253,\n",
       "   4.629682,\n",
       "   4.72411,\n",
       "   4.818539,\n",
       "   4.912968,\n",
       "   5.007397,\n",
       "   5.101826],\n",
       "  'r': [175.7946,\n",
       "   317.8529,\n",
       "   325.1058,\n",
       "   332.3613,\n",
       "   342.807,\n",
       "   349.9926,\n",
       "   357.1809,\n",
       "   358.737,\n",
       "   233.1731,\n",
       "   372.7475,\n",
       "   385.9326,\n",
       "   393.5656,\n",
       "   403.339,\n",
       "   411.1663,\n",
       "   418.2297,\n",
       "   424.7936,\n",
       "   431.3592,\n",
       "   175.7946],\n",
       "  'g': [175.7946,\n",
       "   301.1637,\n",
       "   308.0357,\n",
       "   314.9102,\n",
       "   323.3607,\n",
       "   330.1387,\n",
       "   336.9192,\n",
       "   336.5945,\n",
       "   224.7191,\n",
       "   348.6575,\n",
       "   361.0885,\n",
       "   368.2301,\n",
       "   377.3879,\n",
       "   384.7116,\n",
       "   390.6779,\n",
       "   396.8094,\n",
       "   402.9424,\n",
       "   175.7946],\n",
       "  'b': [175.7946,\n",
       "   290.5055,\n",
       "   297.1343,\n",
       "   303.7655,\n",
       "   310.9417,\n",
       "   317.4595,\n",
       "   323.9796,\n",
       "   322.4841,\n",
       "   219.4796,\n",
       "   333.3904,\n",
       "   345.2679,\n",
       "   352.0966,\n",
       "   360.8235,\n",
       "   367.8258,\n",
       "   373.0829,\n",
       "   378.9383,\n",
       "   384.7952,\n",
       "   175.7946],\n",
       "  'mattype': ['sky',\n",
       "   'a3.1.a5.1.0.cellPVmodule.2310',\n",
       "   'a3.1.a5.2.0.cellPVmodule.2310',\n",
       "   'a3.1.a5.3.0.cellPVmodule.2310',\n",
       "   'a3.1.a5.4.0.cellPVmodule.2310',\n",
       "   'a3.1.a5.5.0.cellPVmodule.2310',\n",
       "   'a3.1.a5.0.1.cellPVmodule.2310',\n",
       "   'a3.1.a5.1.1.cellPVmodule.2310',\n",
       "   'a3.1.a5.2.1.cellPVmodule.2310',\n",
       "   'a3.1.a5.3.1.cellPVmodule.2310',\n",
       "   'a3.1.a5.4.1.cellPVmodule.2310',\n",
       "   'a3.1.a5.5.1.cellPVmodule.2310',\n",
       "   'a3.1.a5.0.2.cellPVmodule.2310',\n",
       "   'a3.1.a5.1.2.cellPVmodule.2310',\n",
       "   'a3.1.a5.2.2.cellPVmodule.2310',\n",
       "   'a3.1.a5.3.2.cellPVmodule.2310',\n",
       "   'a3.1.a5.4.2.cellPVmodule.2310',\n",
       "   'sky'],\n",
       "  'title': 'tutorial_1_groundscan_Row2_Module4_Back'})"
      ]
     },
     "execution_count": 30,
     "metadata": {},
     "output_type": "execute_result"
    }
   ],
   "source": [
    "analysis.analysis(octfile, simulationname+\"_groundscan\", groundscan, backscan)  # compare the back vs front irradiance  \n"
   ]
  },
  {
   "cell_type": "markdown",
   "metadata": {},
   "source": [
    "This is the result for only one 'chord' accross the ground. Let's now do a X-Y scan of the ground."
   ]
  },
  {
   "cell_type": "markdown",
   "metadata": {},
   "source": [
    "<a id='step3'></a>"
   ]
  },
  {
   "cell_type": "markdown",
   "metadata": {},
   "source": [
    "## 3. Analyse and MAP the Ground Irradiance"
   ]
  },
  {
   "cell_type": "markdown",
   "metadata": {},
   "source": [
    " We will use the same technique to find the irradiance on the ground used above, but will move it along the X-axis to map from the start of one module to the next.\n",
    " \n",
    " We will sample around the module that is placed at the center of the field."
   ]
  },
  {
   "cell_type": "markdown",
   "metadata": {},
   "source": [
    "![AgriPV modeled step 4](images/spacing_between_modules.PNG)"
   ]
  },
  {
   "cell_type": "code",
   "execution_count": null,
   "metadata": {},
   "outputs": [],
   "source": [
    "import seaborn as sns"
   ]
  },
  {
   "cell_type": "code",
   "execution_count": null,
   "metadata": {},
   "outputs": [],
   "source": [
    "sensorsx = 3\n",
    "startgroundsample=-module.scenex\n",
    "spacingbetweensamples = module.scenex/(sensorsx-1)\n",
    "\n",
    "for i in range (0, sensorsx): # Will map 20 points    \n",
    "    frontscan, backscan = analysis.moduleAnalysis(scene, sensorsy=sensorsy)\n",
    "    groundscan = frontscan\n",
    "    groundscan['zstart'] = 0.05  # setting it 5 cm from the ground.\n",
    "    groundscan['zinc'] = 0   # no tilt necessary. \n",
    "    groundscan['yinc'] = pitch/(sensorsy-1)   # increasing spacing so it covers all distance between rows\n",
    "    groundscan['xstart'] = startgroundsample + i*spacingbetweensamples   # increasing spacing so it covers all distance between rows\n",
    "    analysis.analysis(octfile, simulationname+\"_groundscan_\"+str(i), groundscan, backscan)  # compare the back vs front irradiance  \n"
   ]
  },
  {
   "cell_type": "markdown",
   "metadata": {},
   "source": [
    "Read all the files generated into one dataframe"
   ]
  },
  {
   "cell_type": "code",
   "execution_count": null,
   "metadata": {},
   "outputs": [],
   "source": [
    "filestarter = \"irr_tutorial_1_groundscan_\"\n",
    "\n",
    "filelist = sorted(os.listdir(os.path.join(testfolder, 'results')))\n",
    "prefixed = [filename for filename in filelist if filename.startswith(filestarter)]\n",
    "arrayWm2Front = []\n",
    "arrayWm2Back = []\n",
    "arrayMatFront = []\n",
    "arrayMatBack = []\n",
    "filenamed = []\n",
    "faillist = []\n",
    "\n",
    "print('{} files in the directory'.format(filelist.__len__()))\n",
    "print('{} groundscan files in the directory'.format(prefixed.__len__()))\n",
    "i = 0  # counter to track # files loaded.\n",
    "\n",
    "for i in range (0, len(prefixed)):\n",
    "    ind = prefixed[i].split('_')\n",
    "\n",
    "    try:\n",
    "        resultsDF = br.load.read1Result(os.path.join(testfolder, 'results', prefixed[i]))\n",
    "        arrayWm2Front.append(list(resultsDF['Wm2Front']))\n",
    "        arrayWm2Back.append(list(resultsDF['Wm2Back']))\n",
    "        arrayMatFront.append(list(resultsDF['mattype']))\n",
    "        arrayMatBack.append(list(resultsDF['rearMat']))\n",
    "        filenamed.append(prefixed[i])\n",
    "    except:\n",
    "        print(\" FAILED \", i, prefixed[i])\n",
    "        faillist.append(prefixed[i])\n",
    "\n",
    "resultsdf = pd.DataFrame(list(zip(arrayWm2Front, arrayWm2Back, \n",
    "                                  arrayMatFront, arrayMatBack)),\n",
    "                         columns = ['br_Wm2Front', 'br_Wm2Back', \n",
    "                                    'br_MatFront', 'br_MatBack'])\n",
    "resultsdf['filename'] = filenamed"
   ]
  },
  {
   "cell_type": "markdown",
   "metadata": {},
   "source": [
    "Creating a new dataframe where  each element in the front irradiance list is a column. Also transpose and reverse so it looks like a top-down view of the ground."
   ]
  },
  {
   "cell_type": "code",
   "execution_count": null,
   "metadata": {},
   "outputs": [],
   "source": [
    "df3 = pd.DataFrame(resultsdf['br_Wm2Front'].to_list())\n",
    "reversed_df = df3.T.iloc[::-1]"
   ]
  },
  {
   "cell_type": "code",
   "execution_count": null,
   "metadata": {},
   "outputs": [],
   "source": [
    "sns.set(rc={'figure.figsize':(11.7,8.27)})"
   ]
  },
  {
   "cell_type": "code",
   "execution_count": null,
   "metadata": {},
   "outputs": [],
   "source": [
    "# Plot\n",
    "ax = sns.heatmap(reversed_df)\n",
    "ax.set_yticks([])\n",
    "ax.set_xticks([])\n",
    "ax.set_ylabel('')  \n",
    "ax.set_xlabel('')  \n",
    "print('')"
   ]
  },
  {
   "cell_type": "markdown",
   "metadata": {},
   "source": [
    "<a id='step4'></a>"
   ]
  }
 ],
 "metadata": {
  "kernelspec": {
   "display_name": "Python 3 (ipykernel)",
   "language": "python",
   "name": "python3"
  },
  "language_info": {
   "codemirror_mode": {
    "name": "ipython",
    "version": 3
   },
   "file_extension": ".py",
   "mimetype": "text/x-python",
   "name": "python",
   "nbconvert_exporter": "python",
   "pygments_lexer": "ipython3",
   "version": "3.11.4"
  }
 },
 "nbformat": 4,
 "nbformat_minor": 2
}
