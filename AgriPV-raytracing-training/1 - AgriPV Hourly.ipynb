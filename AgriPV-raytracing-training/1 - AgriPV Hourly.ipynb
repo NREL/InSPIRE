{
 "cells": [
  {
   "cell_type": "markdown",
   "metadata": {},
   "source": [
    "# 1 - AgriPV Systems\n",
    "\n",
    "This journal shows how to model an AgriPV site, calculating the irradiance not only on the modules but also the irradiance received by the ground to evaluate available solar ersource for plants. \n",
    "\n",
    "We assume that bifacia_radiacne is already installed in your computer. This works for bifacial_radiance v.3 release.\n",
    "\n",
    "These journal outlines 4 useful uses of bifacial_radiance and some tricks: \n",
    "\n",
    "* Creating the modules in the AgriPV site\n",
    "* Adding extra geometry for the pillars/posts supporting the AgriPV site\n",
    "* Hacking the sensors to sample the ground irradiance and create irradiance map\n",
    "* Adding object to simulate variations in ground albedo from different crops between rows.\n",
    "\n",
    "\n",
    "#### Steps:\n",
    "\n",
    "1. <a href='#step1'> Generate the geometry </a>\n",
    "2. <a href='#step2'> Analyse the Ground Irradiance </a>\n",
    "3. <a href='#step3'> Analyse and MAP the Ground Irradiance </a>\n",
    "4. <a href='#step4'> Adding different Albedo Section </a>\n",
    "    \n",
    "#### Preview of what we will create: \n",
    "    \n",
    "![Another view](images/AgriPV_2.PNG)\n",
    "![AgriPV Image We will create](images/AgriPV_1.PNG)\n",
    "And this is how it will look like:\n",
    "\n",
    "![AgriPV modeled step 4](images/AgriPV_step4.PNG)\n",
    "\n",
    "\n"
   ]
  },
  {
   "cell_type": "markdown",
   "metadata": {},
   "source": [
    "<a id='step1'></a>"
   ]
  },
  {
   "cell_type": "markdown",
   "metadata": {},
   "source": [
    "## 1. Generate the geometry \n",
    "\n",
    "This section goes from setting up variables to making the OCT axis. \n",
    "\n",
    "For creating the 3-up landscape collector, we set ``numpanels = 3``"
   ]
  },
  {
   "cell_type": "code",
   "execution_count": 1,
   "metadata": {},
   "outputs": [
    {
     "name": "stdout",
     "output_type": "stream",
     "text": [
      "Your simulation will be stored in C:\\Users\\sayala\\Documents\\GitHub\\InSPIRE\\TEMP\\Tutorial_1\n"
     ]
    }
   ],
   "source": [
    "import os\n",
    "from pathlib import Path\n",
    "\n",
    "testfolder = str(Path().resolve().parent / 'TEMP' /  'Tutorial_1')\n",
    "\n",
    "if not os.path.exists(testfolder):\n",
    "    os.makedirs(testfolder)\n",
    "    \n",
    "print (\"Your simulation will be stored in %s\" % testfolder)"
   ]
  },
  {
   "cell_type": "code",
   "execution_count": 2,
   "metadata": {},
   "outputs": [
    {
     "data": {
      "text/plain": [
       "'0.4.2+159.gf121108.dirty'"
      ]
     },
     "execution_count": 2,
     "metadata": {},
     "output_type": "execute_result"
    }
   ],
   "source": [
    "import bifacial_radiance as br\n",
    "import numpy as np\n",
    "import pandas as pd\n",
    "\n",
    "br.__version__"
   ]
  },
  {
   "cell_type": "code",
   "execution_count": 3,
   "metadata": {},
   "outputs": [
    {
     "name": "stdout",
     "output_type": "stream",
     "text": [
      "Working on a  Windows 10\n",
      "Python version  3.11.4 | packaged by Anaconda, Inc. | (main, Jul  5 2023, 13:38:37) [MSC v.1916 64 bit (AMD64)]\n",
      "Pandas version  2.0.3\n",
      "bifacial_radiance version  0.4.2+159.gf121108.dirty\n"
     ]
    }
   ],
   "source": [
    "# This information helps with debugging and getting support :)\n",
    "import sys, platform\n",
    "print(\"Working on a \", platform.system(), platform.release())\n",
    "print(\"Python version \", sys.version)\n",
    "print(\"Pandas version \", pd.__version__)\n",
    "print(\"bifacial_radiance version \", br.__version__)"
   ]
  },
  {
   "cell_type": "code",
   "execution_count": 7,
   "metadata": {},
   "outputs": [],
   "source": [
    "simulationname = 'tutorial_1'\n",
    "\n",
    "# Location:\n",
    "lat = 40.0583  # NJ\n",
    "lon = -74.4057  # NJ\n",
    "\n",
    "# Scene Parameters:\n",
    "azimuth_ang=180 # Facing south\n",
    "tilt =35 # tilt.\n",
    "\n",
    "# MakeModule Parameters\n",
    "moduletype='test-module'\n",
    "numpanels = 3  # AgriPV site has 3 modules along the y direction\n",
    "module_x = 2 # 2 m\n",
    "module_y = 1 # m. slope we will measure\n",
    "# if x > y, landscape. if x < y, portrait\n",
    "xgap = 2.0#\n",
    "ygap = 0.01 # Leaving 10 centimeters between modules on y direction\n",
    "sensorsy = 6*numpanels  # this will give 6 sensors per module, 1 per cell\n",
    "\n",
    "# TorqueTube Parameters\n",
    "tubetype='square' # Other options: 'square' , 'hex'\n",
    "material = 'Metal_Grey' # Other options: 'black'\n",
    "diameter = 0.1 # m\n",
    "axisofrotationTorqueTube = False\n",
    "zgap = 0.05 # m\n",
    "visible = True \n",
    "\n",
    "# Cell Module Parameters \n",
    "numcellsx = 12\n",
    "numcellsy = 6\n",
    "xcell = 0.156 # m. Current standard cell size\n",
    "ycell = 0.156 # m. Current standard cell size\n",
    "xcellgap = 0.02 # m. This is not representative of real modules, it is a high value for visualization)\n",
    "ycellgap = 0.02 # m. This is not representative of real modules, it is a high value for visualization)\n",
    "\n",
    "#Add torquetube \n",
    "tubeParams = {'tubetype':tubetype,\n",
    "              'diameter':diameter,\n",
    "              'material':material,\n",
    "              'axisofrotation':False,\n",
    "              'visible':True}\n",
    "\n",
    "# SceneDict Parameters\n",
    "pitch = 15 # m\n",
    "albedo = 0.2  #'grass'     # ground albedo\n",
    "hub_height = 4.3 # m  \n",
    "nMods = 6 # six modules per row.\n",
    "nRows = 3  # 3 row\n"
   ]
  },
  {
   "cell_type": "code",
   "execution_count": 8,
   "metadata": {},
   "outputs": [
    {
     "name": "stdout",
     "output_type": "stream",
     "text": [
      "path = C:\\Users\\sayala\\Documents\\GitHub\\InSPIRE\\TEMP\\Tutorial_1\n",
      "Loading albedo, 1 value(s), 0.200 avg\n",
      "1 nonzero albedo values.\n",
      "Getting weather file: USA_NJ_McGuire.AFB.724096_TMY3.epw\n",
      " ... OK!\n"
     ]
    }
   ],
   "source": [
    "demo = br.RadianceObj(simulationname,path = testfolder)  \n",
    "demo.setGround(albedo) \n",
    "epwfile = demo.getEPW(lat, lon) # NJ lat/lon 40.0583° N, 74.4057\n"
   ]
  },
  {
   "cell_type": "code",
   "execution_count": 9,
   "metadata": {},
   "outputs": [
    {
     "name": "stdout",
     "output_type": "stream",
     "text": [
      "\n",
      "Module Name: test-module\n",
      "Module was shifted by 0.078 in X to avoid sensors on air\n",
      "This is a Cell-Level detailed module with Packaging Factor of 0.81 \n",
      "Module test-module updated in module.json\n",
      "Pre-existing .rad file objects\\test-module.rad will be overwritten\n",
      "\n"
     ]
    }
   ],
   "source": [
    "# Making module, either as a black Unit or with cell-level detail.\n",
    "# Suggest to use cell-level only for visualizations, and or for studying customly made agriPV modules where the cell\n",
    "# gaps might be really, really wide. Most commercial panels can be approximated by the single-black surface.\n",
    "detailedModule = False\n",
    "\n",
    "#Add torquetube \n",
    "tubeParams = {'tubetype':tubetype,\n",
    "              'diameter':diameter,\n",
    "              'material':material,\n",
    "              'axisofrotation':False,\n",
    "              'visible':True}\n",
    "\n",
    "if detailedModule:\n",
    "    module=demo.makeModule(name=moduletype,x=module_x,y=module_y,numpanels=numpanels, \n",
    "                           xgap=xgap, ygap=ygap, tubeParams=tubeParams)\n",
    "else:\n",
    "    cellModule = {'numcellsx': numcellsx, 'numcellsy':numcellsy, \n",
    "                             'xcell': xcell, 'ycell': ycell, 'xcellgap': xcellgap, 'ycellgap': ycellgap}\n",
    "    module=demo.makeModule(name=moduletype,numpanels=numpanels, \n",
    "                           xgap=xgap, ygap=ygap, cellModule=cellModule, tubeParams=tubeParams)"
   ]
  },
  {
   "cell_type": "code",
   "execution_count": 10,
   "metadata": {},
   "outputs": [
    {
     "name": "stdout",
     "output_type": "stream",
     "text": [
      "8760 line in WeatherFile. Assuming this is a standard hourly WeatherFile for the year for purposes of saving Gencumulativesky temporary weather files in EPW folder.\n",
      "Coercing year to 2021\n",
      "Filtering dates\n",
      "Saving file EPWs\\metdata_temp.csv, # points: 8760\n",
      "Calculating Sun position for Metdata that is right-labeled  with a delta of -30 mins. i.e. 12 is 11:30 sunpos\n"
     ]
    }
   ],
   "source": [
    "#Determine Hour to model\n",
    "#Valid options: mm_dd, mm_dd_HH, mm_dd_HHMM, YYYY-mm-dd_HHMM\n",
    "metdata = demo.readWeatherFile(epwfile, coerce_year=2021, starttime='2021-06-17_1300', endtime='2021-06-17_1500')\n"
   ]
  },
  {
   "cell_type": "code",
   "execution_count": 11,
   "metadata": {},
   "outputs": [
    {
     "data": {
      "text/plain": [
       "{'latitude': 40.02,\n",
       " 'longitude': -74.6,\n",
       " 'elevation': 45.0,\n",
       " 'timezone': -5.0,\n",
       " 'city': 'Mcguire Afb',\n",
       " 'datetime': [Timestamp('2021-06-17 13:00:00-0500', tz='UTC-05:00'),\n",
       "  Timestamp('2021-06-17 14:00:00-0500', tz='UTC-05:00'),\n",
       "  Timestamp('2021-06-17 15:00:00-0500', tz='UTC-05:00')],\n",
       " 'ghi': array([764, 629, 528], dtype=int64),\n",
       " 'dhi': array([437, 478, 325], dtype=int64),\n",
       " 'dni': array([344, 166, 250], dtype=int64),\n",
       " 'albedo': array([0.14, 0.14, 0.14]),\n",
       " 'dewpoint': array([18.3, 18.9, 18.3]),\n",
       " 'pressure': array([100700, 100700, 100700], dtype=int64),\n",
       " 'temp_air': array([32.2, 31.7, 32.8]),\n",
       " 'wind_speed': array([1.5, 1. , 1. ]),\n",
       " 'meastracker_angle': None,\n",
       " 'solpos':                            apparent_zenith     zenith  apparent_elevation  \\\n",
       " corrected_timestamp                                                         \n",
       " 2021-06-17 12:30:00-05:00        17.825584  17.830959           72.174416   \n",
       " 2021-06-17 13:30:00-05:00        25.296241  25.304152           64.703759   \n",
       " 2021-06-17 14:30:00-05:00        35.701735  35.713768           54.298265   \n",
       " \n",
       "                            elevation     azimuth  equation_of_time  \n",
       " corrected_timestamp                                                 \n",
       " 2021-06-17 12:30:00-05:00  72.169041  203.487499         -1.032088  \n",
       " 2021-06-17 13:30:00-05:00  64.695848  235.744783         -1.041137  \n",
       " 2021-06-17 14:30:00-05:00  54.286232  253.762186         -1.050187  ,\n",
       " 'sunrisesetdata':                                                       sunrise  \\\n",
       " 2021-06-17 13:00:00-05:00 2021-06-17 04:29:04.142577664-05:00   \n",
       " 2021-06-17 14:00:00-05:00 2021-06-17 04:29:04.142577664-05:00   \n",
       " 2021-06-17 15:00:00-05:00 2021-06-17 04:29:04.142577664-05:00   \n",
       " \n",
       "                                                        sunset  \\\n",
       " 2021-06-17 13:00:00-05:00 2021-06-17 19:29:31.871100160-05:00   \n",
       " 2021-06-17 14:00:00-05:00 2021-06-17 19:29:31.871100160-05:00   \n",
       " 2021-06-17 15:00:00-05:00 2021-06-17 19:29:31.871100160-05:00   \n",
       " \n",
       "                                                       transit  minutedelta  \\\n",
       " 2021-06-17 13:00:00-05:00 2021-06-17 11:59:25.843597056-05:00           30   \n",
       " 2021-06-17 14:00:00-05:00 2021-06-17 11:59:25.843597056-05:00           30   \n",
       " 2021-06-17 15:00:00-05:00 2021-06-17 11:59:25.843597056-05:00           30   \n",
       " \n",
       "                                 corrected_timestamp  \n",
       " 2021-06-17 13:00:00-05:00 2021-06-17 12:30:00-05:00  \n",
       " 2021-06-17 14:00:00-05:00 2021-06-17 13:30:00-05:00  \n",
       " 2021-06-17 15:00:00-05:00 2021-06-17 14:30:00-05:00  ,\n",
       " 'label': 'right'}"
      ]
     },
     "execution_count": 11,
     "metadata": {},
     "output_type": "execute_result"
    }
   ],
   "source": [
    "metdata.__dict__"
   ]
  },
  {
   "cell_type": "markdown",
   "metadata": {},
   "source": [
    "We are going to model just one single timeindex at a time."
   ]
  },
  {
   "cell_type": "code",
   "execution_count": 12,
   "metadata": {},
   "outputs": [
    {
     "data": {
      "text/plain": [
       "0"
      ]
     },
     "execution_count": 12,
     "metadata": {},
     "output_type": "execute_result"
    }
   ],
   "source": [
    "timeindex = metdata.datetime.index(pd.to_datetime('2021-06-17 13:0:0 -5'))  # Make this timezone aware, use -5 for EST.\n",
    "timeindex"
   ]
  },
  {
   "cell_type": "code",
   "execution_count": 13,
   "metadata": {},
   "outputs": [
    {
     "data": {
      "text/plain": [
       "'skies\\\\sky2_40.02_-74.6_2021-06-17_1300.rad'"
      ]
     },
     "execution_count": 13,
     "metadata": {},
     "output_type": "execute_result"
    }
   ],
   "source": [
    "demo.gendaylit(timeindex=timeindex)  "
   ]
  },
  {
   "cell_type": "code",
   "execution_count": 14,
   "metadata": {},
   "outputs": [
    {
     "name": "stdout",
     "output_type": "stream",
     "text": [
      "Created tutorial_1.oct\n"
     ]
    }
   ],
   "source": [
    "sceneDict = {'tilt':tilt,'pitch': 15,'hub_height':hub_height,'azimuth':azimuth_ang, 'nMods': nMods, 'nRows': nRows}  \n",
    "scene = demo.makeScene(module=moduletype, sceneDict=sceneDict) \n",
    "octfile = demo.makeOct(demo.getfilelist())\n"
   ]
  },
  {
   "cell_type": "markdown",
   "metadata": {},
   "source": [
    "If desired, you can view the Oct file at this point:\n",
    "\n",
    "***rvu -vf views\\front.vp -e .01 tutorial_1.oct***"
   ]
  },
  {
   "cell_type": "code",
   "execution_count": 15,
   "metadata": {},
   "outputs": [],
   "source": [
    "## Comment the ! line below to run rvu from the Jupyter notebook instead of your terminal.\n",
    "## Simulation will stop until you close the rvu window\n",
    "\n",
    "#!rvu -vf views\\front.vp -e .01 tutorial_1.oct"
   ]
  },
  {
   "cell_type": "markdown",
   "metadata": {},
   "source": [
    "And adjust the view parameters, you should see this image.\n",
    "\n",
    "![AgriPV modeled step 1](images/AgriPV_step1.PNG)\n"
   ]
  },
  {
   "cell_type": "markdown",
   "metadata": {},
   "source": [
    "## 4. Adding different Albedo Sections\n",
    "For practicing adding custom scene elements, we will add a patch in the ground that has a different reflectivity (albedo) than the average set for the field. \n",
    "By using this `genbox` and giving it the right size/position, we can create trees, buildings, or secondary small-area surfaces to add with sampling at specific heights but that do not shade the scene.\n"
   ]
  },
  {
   "cell_type": "code",
   "execution_count": 16,
   "metadata": {
    "scrolled": true
   },
   "outputs": [
    {
     "name": "stdout",
     "output_type": "stream",
     "text": [
      "\n",
      "Custom Object Name objects\\Center_Patch.rad\n",
      "Created tutorial_1.oct\n"
     ]
    }
   ],
   "source": [
    "name='Center_Patch'\n",
    "patchpositionx=-2\n",
    "patchpositiony=-1\n",
    "text='! genbox white_EPDM CenterPatch 28 12 0.1 | xform -t -14 2 0'.format(patchpositionx, patchpositiony)\n",
    "customObject = demo.makeCustomObject(name,text)\n",
    "demo.appendtoScene(scene.radfiles, customObject)\n",
    "octfile = demo.makeOct(demo.getfilelist()) "
   ]
  },
  {
   "cell_type": "code",
   "execution_count": 17,
   "metadata": {},
   "outputs": [],
   "source": [
    "#!rvu -vf views\\front.vp -e .01 tutorial_1.oct\n",
    "#!rvu -vf views\\front.vp -e .01 -pe 0.4 -vp 12 -10 3.5 -vd -0.0995 0.9950 0.0 tutorial_1.oct"
   ]
  },
  {
   "cell_type": "markdown",
   "metadata": {},
   "source": [
    "Viewing with rvu:\n",
    "\n",
    "![AgriPV modeled step 4](images/AgriPV_step4.PNG)\n",
    "\n"
   ]
  },
  {
   "cell_type": "markdown",
   "metadata": {},
   "source": [
    "## 2. Analyse  the Ground Irradiance\n",
    "\n",
    "Now let's do some analysis along the ground, starting from the edge of the modules. We wil select to start in the center of the array.\n",
    "\n",
    "We are also increasign the number of points sampled accross the collector width, with the  variable **sensorsy** passed to **moduleanalysis**. We are also increasing the step between sampling points, to be able to sample in between the rows."
   ]
  },
  {
   "cell_type": "code",
   "execution_count": 18,
   "metadata": {},
   "outputs": [],
   "source": [
    "analysis = br.AnalysisObj(octfile, demo.name)  \n",
    "sensorsy = 20\n",
    "frontscan, backscan = analysis.moduleAnalysis(scene, sensorsy=sensorsy)\n"
   ]
  },
  {
   "cell_type": "code",
   "execution_count": 19,
   "metadata": {},
   "outputs": [],
   "source": [
    "groundscan = frontscan"
   ]
  },
  {
   "cell_type": "code",
   "execution_count": 20,
   "metadata": {},
   "outputs": [
    {
     "data": {
      "text/plain": [
       "{'xstart': 1.434287049186314e-16,\n",
       " 'ystart': -1.1711842550724996,\n",
       " 'zstart': 0.05,\n",
       " 'xinc': -1.4942484733711547e-17,\n",
       " 'yinc': 0.7894736842105263,\n",
       " 'zinc': 0,\n",
       " 'sx_xinc': 0.0,\n",
       " 'sx_yinc': 0.0,\n",
       " 'sx_zinc': 0.0,\n",
       " 'Nx': 1,\n",
       " 'Ny': 20,\n",
       " 'Nz': 1,\n",
       " 'orient': '-0.000 0.574 -0.819'}"
      ]
     },
     "execution_count": 20,
     "metadata": {},
     "output_type": "execute_result"
    }
   ],
   "source": [
    "groundscan['zstart'] = 0.05  # setting it 5 cm from the ground.\n",
    "groundscan['zinc'] = 0   # no tilt necessary. \n",
    "groundscan['yinc'] = pitch/(sensorsy-1)   # increasing spacing so it covers all distance between rows\n",
    "groundscan"
   ]
  },
  {
   "cell_type": "code",
   "execution_count": 21,
   "metadata": {},
   "outputs": [
    {
     "name": "stdout",
     "output_type": "stream",
     "text": [
      "Linescan in process: tutorial_1_groundscan_Row2_Module3_Front\n",
      "Linescan in process: tutorial_1_groundscan_Row2_Module3_Back\n",
      "Saved: results\\irr_tutorial_1_groundscan_Row2_Module3.csv\n"
     ]
    },
    {
     "data": {
      "text/plain": [
       "({'Wm2': [703.6178333333334,\n",
       "   672.7365333333333,\n",
       "   323.0699333333333,\n",
       "   325.45509999999996,\n",
       "   185.27276666666668,\n",
       "   0.0,\n",
       "   0.0,\n",
       "   0.0,\n",
       "   0.0,\n",
       "   0.0,\n",
       "   0.0,\n",
       "   0.0,\n",
       "   0.0,\n",
       "   0.0,\n",
       "   0.0,\n",
       "   0.0,\n",
       "   0.0,\n",
       "   0.0,\n",
       "   0.0,\n",
       "   0.0],\n",
       "  'x': [1.434287e-16,\n",
       "   1.284862e-16,\n",
       "   1.135437e-16,\n",
       "   9.860125e-17,\n",
       "   8.365877e-17,\n",
       "   6.871628e-17,\n",
       "   5.37738e-17,\n",
       "   3.883131e-17,\n",
       "   2.388883e-17,\n",
       "   8.946342e-18,\n",
       "   -5.996142e-18,\n",
       "   -2.093863e-17,\n",
       "   -3.588111e-17,\n",
       "   -5.08236e-17,\n",
       "   -6.576608e-17,\n",
       "   -8.070857e-17,\n",
       "   -9.565105e-17,\n",
       "   -1.105935e-16,\n",
       "   -1.25536e-16,\n",
       "   -1.404785e-16],\n",
       "  'y': [-1.171184,\n",
       "   -0.3817106,\n",
       "   0.4077631,\n",
       "   1.197237,\n",
       "   1.98671,\n",
       "   2.776184,\n",
       "   3.565658,\n",
       "   4.355132,\n",
       "   5.144605,\n",
       "   5.934079,\n",
       "   6.723553,\n",
       "   7.513026,\n",
       "   8.3025,\n",
       "   9.091974,\n",
       "   9.881447,\n",
       "   10.67092,\n",
       "   11.46039,\n",
       "   12.24987,\n",
       "   13.03934,\n",
       "   13.82882],\n",
       "  'z': [0.05,\n",
       "   0.05,\n",
       "   0.05,\n",
       "   0.05,\n",
       "   0.05,\n",
       "   0.05,\n",
       "   0.05,\n",
       "   0.05,\n",
       "   0.05,\n",
       "   0.05,\n",
       "   0.05,\n",
       "   0.05,\n",
       "   0.05,\n",
       "   0.05,\n",
       "   0.05,\n",
       "   0.05,\n",
       "   0.05,\n",
       "   0.05,\n",
       "   0.05,\n",
       "   0.05],\n",
       "  'r': [703.6495,\n",
       "   672.8463,\n",
       "   323.1802,\n",
       "   325.6488,\n",
       "   185.3122,\n",
       "   0.0,\n",
       "   0.0,\n",
       "   0.0,\n",
       "   0.0,\n",
       "   0.0,\n",
       "   0.0,\n",
       "   0.0,\n",
       "   0.0,\n",
       "   0.0,\n",
       "   0.0,\n",
       "   0.0,\n",
       "   0.0,\n",
       "   0.0,\n",
       "   0.0,\n",
       "   0.0],\n",
       "  'g': [703.6123,\n",
       "   672.7201,\n",
       "   323.0536,\n",
       "   325.4269,\n",
       "   185.2666,\n",
       "   0.0,\n",
       "   0.0,\n",
       "   0.0,\n",
       "   0.0,\n",
       "   0.0,\n",
       "   0.0,\n",
       "   0.0,\n",
       "   0.0,\n",
       "   0.0,\n",
       "   0.0,\n",
       "   0.0,\n",
       "   0.0,\n",
       "   0.0,\n",
       "   0.0,\n",
       "   0.0],\n",
       "  'b': [703.5917,\n",
       "   672.6432,\n",
       "   322.976,\n",
       "   325.2896,\n",
       "   185.2395,\n",
       "   0.0,\n",
       "   0.0,\n",
       "   0.0,\n",
       "   0.0,\n",
       "   0.0,\n",
       "   0.0,\n",
       "   0.0,\n",
       "   0.0,\n",
       "   0.0,\n",
       "   0.0,\n",
       "   0.0,\n",
       "   0.0,\n",
       "   0.0,\n",
       "   0.0,\n",
       "   0.0],\n",
       "  'mattype': ['groundplane',\n",
       "   'groundplane',\n",
       "   'groundplane',\n",
       "   'groundplane',\n",
       "   'CenterPatch.1540',\n",
       "   'CenterPatch.2310',\n",
       "   'CenterPatch.2310',\n",
       "   'CenterPatch.2310',\n",
       "   'CenterPatch.2310',\n",
       "   'CenterPatch.2310',\n",
       "   'CenterPatch.2310',\n",
       "   'CenterPatch.2310',\n",
       "   'CenterPatch.2310',\n",
       "   'CenterPatch.2310',\n",
       "   'CenterPatch.2310',\n",
       "   'CenterPatch.2310',\n",
       "   'CenterPatch.2310',\n",
       "   'CenterPatch.2310',\n",
       "   'CenterPatch.2310',\n",
       "   'CenterPatch.2310'],\n",
       "  'title': 'tutorial_1_groundscan_Row2_Module3_Front'},\n",
       " {'Wm2': [239.65796666666665,\n",
       "   244.5952333333333,\n",
       "   249.53513333333333,\n",
       "   254.98806666666667,\n",
       "   260.0253666666667,\n",
       "   265.06506666666667,\n",
       "   257.0916,\n",
       "   269.4681,\n",
       "   273.09929999999997,\n",
       "   169.91063333333332,\n",
       "   276.41873333333336,\n",
       "   298.86983333333336,\n",
       "   299.4633,\n",
       "   257.0916,\n",
       "   312.683,\n",
       "   317.6454333333333,\n",
       "   320.79523333333333,\n",
       "   325.02233333333334,\n",
       "   329.25126666666665,\n",
       "   336.7441666666667],\n",
       "  'x': [1.418834e-16,\n",
       "   1.269409e-16,\n",
       "   1.119984e-16,\n",
       "   9.705591e-17,\n",
       "   8.211342e-17,\n",
       "   6.717094e-17,\n",
       "   5.222845e-17,\n",
       "   3.728597e-17,\n",
       "   2.234348e-17,\n",
       "   7.401e-18,\n",
       "   -7.541485e-18,\n",
       "   -2.248397e-17,\n",
       "   -3.742645e-17,\n",
       "   -5.236894e-17,\n",
       "   -6.731142e-17,\n",
       "   -8.225391e-17,\n",
       "   -9.719639e-17,\n",
       "   -1.121389e-16,\n",
       "   -1.270814e-16,\n",
       "   -1.420238e-16],\n",
       "  'y': [-1.158566,\n",
       "   -1.036551,\n",
       "   -0.9145363,\n",
       "   -0.7925216,\n",
       "   -0.670507,\n",
       "   -0.5484923,\n",
       "   -0.4264777,\n",
       "   -0.304463,\n",
       "   -0.1824484,\n",
       "   -0.06043375,\n",
       "   0.0615809,\n",
       "   0.1835955,\n",
       "   0.3056102,\n",
       "   0.4276248,\n",
       "   0.5496395,\n",
       "   0.6716541,\n",
       "   0.7936688,\n",
       "   0.9156834,\n",
       "   1.037698,\n",
       "   1.159713],\n",
       "  'z': [3.487543,\n",
       "   3.572978,\n",
       "   3.658414,\n",
       "   3.74385,\n",
       "   3.829285,\n",
       "   3.914721,\n",
       "   4.000156,\n",
       "   4.085592,\n",
       "   4.171027,\n",
       "   4.256463,\n",
       "   4.341899,\n",
       "   4.427334,\n",
       "   4.51277,\n",
       "   4.598205,\n",
       "   4.683641,\n",
       "   4.769077,\n",
       "   4.854512,\n",
       "   4.939948,\n",
       "   5.025383,\n",
       "   5.110819],\n",
       "  'r': [250.7839,\n",
       "   255.9504,\n",
       "   261.1196,\n",
       "   267.8078,\n",
       "   273.0984,\n",
       "   278.3915,\n",
       "   257.0916,\n",
       "   284.5342,\n",
       "   288.3684,\n",
       "   174.9833,\n",
       "   292.6311,\n",
       "   316.8095,\n",
       "   317.4386,\n",
       "   257.0916,\n",
       "   331.5076,\n",
       "   336.7688,\n",
       "   340.3124,\n",
       "   344.7967,\n",
       "   349.2829,\n",
       "   357.7619],\n",
       "  'g': [238.1348,\n",
       "   243.0407,\n",
       "   247.9492,\n",
       "   253.233,\n",
       "   258.2356,\n",
       "   263.2406,\n",
       "   257.0916,\n",
       "   267.4026,\n",
       "   271.006,\n",
       "   169.1716,\n",
       "   274.1597,\n",
       "   296.3959,\n",
       "   296.9844,\n",
       "   257.0916,\n",
       "   310.1037,\n",
       "   315.0252,\n",
       "   318.1224,\n",
       "   322.3143,\n",
       "   326.508,\n",
       "   333.867],\n",
       "  'b': [230.0552,\n",
       "   234.7946,\n",
       "   239.5366,\n",
       "   243.9234,\n",
       "   248.7421,\n",
       "   253.5631,\n",
       "   257.0916,\n",
       "   256.4675,\n",
       "   259.9235,\n",
       "   165.577,\n",
       "   262.4654,\n",
       "   283.4041,\n",
       "   283.9669,\n",
       "   257.0916,\n",
       "   296.4377,\n",
       "   301.1423,\n",
       "   303.9509,\n",
       "   307.956,\n",
       "   311.9629,\n",
       "   318.6036],\n",
       "  'mattype': ['a2.1.a5.0.0.cellPVmodule.2310',\n",
       "   'a2.1.a5.1.0.cellPVmodule.2310',\n",
       "   'a2.1.a5.2.0.cellPVmodule.2310',\n",
       "   'a2.1.a5.3.0.cellPVmodule.2310',\n",
       "   'a2.1.a5.4.0.cellPVmodule.2310',\n",
       "   'a2.1.a5.5.0.cellPVmodule.2310',\n",
       "   'sky',\n",
       "   'a2.1.a5.0.1.cellPVmodule.2310',\n",
       "   'a2.1.a5.1.1.cellPVmodule.2310',\n",
       "   'a2.1.a5.2.1.cellPVmodule.2310',\n",
       "   'a2.1.a5.3.1.cellPVmodule.2310',\n",
       "   'a2.1.a5.4.1.cellPVmodule.2310',\n",
       "   'a2.1.a5.5.1.cellPVmodule.2310',\n",
       "   'sky',\n",
       "   'a2.1.a5.0.2.cellPVmodule.2310',\n",
       "   'a2.1.a5.1.2.cellPVmodule.2310',\n",
       "   'a2.1.a5.2.2.cellPVmodule.2310',\n",
       "   'a2.1.a5.3.2.cellPVmodule.2310',\n",
       "   'a2.1.a5.4.2.cellPVmodule.2310',\n",
       "   'a2.1.a5.5.2.cellPVmodule.2310'],\n",
       "  'title': 'tutorial_1_groundscan_Row2_Module3_Back'})"
      ]
     },
     "execution_count": 21,
     "metadata": {},
     "output_type": "execute_result"
    }
   ],
   "source": [
    "analysis.analysis(octfile, simulationname+\"_groundscan\", groundscan, backscan)  # compare the back vs front irradiance  \n"
   ]
  },
  {
   "cell_type": "markdown",
   "metadata": {},
   "source": [
    "This is the result for only one 'chord' accross the ground. Let's now do a X-Y scan of the ground."
   ]
  },
  {
   "cell_type": "markdown",
   "metadata": {},
   "source": [
    "<a id='step3'></a>"
   ]
  },
  {
   "cell_type": "markdown",
   "metadata": {},
   "source": [
    "## 3. Analyse and MAP the Ground Irradiance"
   ]
  },
  {
   "cell_type": "markdown",
   "metadata": {},
   "source": [
    " We will use the same technique to find the irradiance on the ground used above, but will move it along the X-axis to map from the start of one module to the next.\n",
    " \n",
    " We will sample around the module that is placed at the center of the field."
   ]
  },
  {
   "cell_type": "markdown",
   "metadata": {},
   "source": [
    "![AgriPV modeled step 4](images/spacing_between_modules.PNG)"
   ]
  },
  {
   "cell_type": "code",
   "execution_count": 22,
   "metadata": {},
   "outputs": [],
   "source": [
    "import seaborn as sns"
   ]
  },
  {
   "cell_type": "code",
   "execution_count": 23,
   "metadata": {},
   "outputs": [
    {
     "name": "stdout",
     "output_type": "stream",
     "text": [
      "Linescan in process: tutorial_1_groundscan_0_Row2_Module3_Front\n",
      "Linescan in process: tutorial_1_groundscan_0_Row2_Module3_Back\n",
      "Saved: results\\irr_tutorial_1_groundscan_0_Row2_Module3.csv\n",
      "Linescan in process: tutorial_1_groundscan_1_Row2_Module3_Front\n",
      "Linescan in process: tutorial_1_groundscan_1_Row2_Module3_Back\n",
      "Saved: results\\irr_tutorial_1_groundscan_1_Row2_Module3.csv\n",
      "Linescan in process: tutorial_1_groundscan_2_Row2_Module3_Front\n",
      "Linescan in process: tutorial_1_groundscan_2_Row2_Module3_Back\n",
      "Saved: results\\irr_tutorial_1_groundscan_2_Row2_Module3.csv\n",
      "Linescan in process: tutorial_1_groundscan_3_Row2_Module3_Front\n",
      "Linescan in process: tutorial_1_groundscan_3_Row2_Module3_Back\n",
      "Saved: results\\irr_tutorial_1_groundscan_3_Row2_Module3.csv\n",
      "Linescan in process: tutorial_1_groundscan_4_Row2_Module3_Front\n",
      "Linescan in process: tutorial_1_groundscan_4_Row2_Module3_Back\n",
      "Saved: results\\irr_tutorial_1_groundscan_4_Row2_Module3.csv\n",
      "Linescan in process: tutorial_1_groundscan_5_Row2_Module3_Front\n",
      "Linescan in process: tutorial_1_groundscan_5_Row2_Module3_Back\n",
      "Saved: results\\irr_tutorial_1_groundscan_5_Row2_Module3.csv\n",
      "Linescan in process: tutorial_1_groundscan_6_Row2_Module3_Front\n",
      "Linescan in process: tutorial_1_groundscan_6_Row2_Module3_Back\n",
      "Saved: results\\irr_tutorial_1_groundscan_6_Row2_Module3.csv\n",
      "Linescan in process: tutorial_1_groundscan_7_Row2_Module3_Front\n",
      "Linescan in process: tutorial_1_groundscan_7_Row2_Module3_Back\n",
      "Saved: results\\irr_tutorial_1_groundscan_7_Row2_Module3.csv\n",
      "Linescan in process: tutorial_1_groundscan_8_Row2_Module3_Front\n",
      "Linescan in process: tutorial_1_groundscan_8_Row2_Module3_Back\n",
      "Saved: results\\irr_tutorial_1_groundscan_8_Row2_Module3.csv\n",
      "Linescan in process: tutorial_1_groundscan_9_Row2_Module3_Front\n",
      "Linescan in process: tutorial_1_groundscan_9_Row2_Module3_Back\n",
      "Saved: results\\irr_tutorial_1_groundscan_9_Row2_Module3.csv\n",
      "Linescan in process: tutorial_1_groundscan_10_Row2_Module3_Front\n",
      "Linescan in process: tutorial_1_groundscan_10_Row2_Module3_Back\n",
      "Saved: results\\irr_tutorial_1_groundscan_10_Row2_Module3.csv\n",
      "Linescan in process: tutorial_1_groundscan_11_Row2_Module3_Front\n",
      "Linescan in process: tutorial_1_groundscan_11_Row2_Module3_Back\n",
      "Saved: results\\irr_tutorial_1_groundscan_11_Row2_Module3.csv\n",
      "Linescan in process: tutorial_1_groundscan_12_Row2_Module3_Front\n",
      "Linescan in process: tutorial_1_groundscan_12_Row2_Module3_Back\n",
      "Saved: results\\irr_tutorial_1_groundscan_12_Row2_Module3.csv\n",
      "Linescan in process: tutorial_1_groundscan_13_Row2_Module3_Front\n",
      "Linescan in process: tutorial_1_groundscan_13_Row2_Module3_Back\n",
      "Saved: results\\irr_tutorial_1_groundscan_13_Row2_Module3.csv\n",
      "Linescan in process: tutorial_1_groundscan_14_Row2_Module3_Front\n",
      "Linescan in process: tutorial_1_groundscan_14_Row2_Module3_Back\n",
      "Saved: results\\irr_tutorial_1_groundscan_14_Row2_Module3.csv\n",
      "Linescan in process: tutorial_1_groundscan_15_Row2_Module3_Front\n",
      "Linescan in process: tutorial_1_groundscan_15_Row2_Module3_Back\n",
      "Saved: results\\irr_tutorial_1_groundscan_15_Row2_Module3.csv\n",
      "Linescan in process: tutorial_1_groundscan_16_Row2_Module3_Front\n",
      "Linescan in process: tutorial_1_groundscan_16_Row2_Module3_Back\n",
      "Saved: results\\irr_tutorial_1_groundscan_16_Row2_Module3.csv\n",
      "Linescan in process: tutorial_1_groundscan_17_Row2_Module3_Front\n",
      "Linescan in process: tutorial_1_groundscan_17_Row2_Module3_Back\n",
      "Saved: results\\irr_tutorial_1_groundscan_17_Row2_Module3.csv\n",
      "Linescan in process: tutorial_1_groundscan_18_Row2_Module3_Front\n",
      "Linescan in process: tutorial_1_groundscan_18_Row2_Module3_Back\n",
      "Saved: results\\irr_tutorial_1_groundscan_18_Row2_Module3.csv\n",
      "Linescan in process: tutorial_1_groundscan_19_Row2_Module3_Front\n",
      "Linescan in process: tutorial_1_groundscan_19_Row2_Module3_Back\n",
      "Saved: results\\irr_tutorial_1_groundscan_19_Row2_Module3.csv\n"
     ]
    }
   ],
   "source": [
    "sensorsx = 3\n",
    "startgroundsample=-module.scenex\n",
    "spacingbetweensamples = module.scenex/(sensorsx-1)\n",
    "\n",
    "for i in range (0, sensorsx): # Will map 20 points    \n",
    "    frontscan, backscan = analysis.moduleAnalysis(scene, sensorsy=sensorsy)\n",
    "    groundscan = frontscan\n",
    "    groundscan['zstart'] = 0.05  # setting it 5 cm from the ground.\n",
    "    groundscan['zinc'] = 0   # no tilt necessary. \n",
    "    groundscan['yinc'] = pitch/(sensorsy-1)   # increasing spacing so it covers all distance between rows\n",
    "    groundscan['xstart'] = startgroundsample + i*spacingbetweensamples   # increasing spacing so it covers all distance between rows\n",
    "    analysis.analysis(octfile, simulationname+\"_groundscan_\"+str(i), groundscan, backscan)  # compare the back vs front irradiance  \n"
   ]
  },
  {
   "cell_type": "markdown",
   "metadata": {},
   "source": [
    "Read all the files generated into one dataframe"
   ]
  },
  {
   "cell_type": "code",
   "execution_count": 29,
   "metadata": {},
   "outputs": [
    {
     "name": "stdout",
     "output_type": "stream",
     "text": [
      "21 files in the directory\n",
      "21 groundscan files in the directory\n"
     ]
    }
   ],
   "source": [
    "filestarter = \"irr_tutorial_1_groundscan_\"\n",
    "\n",
    "filelist = sorted(os.listdir(os.path.join(testfolder, 'results')))\n",
    "prefixed = [filename for filename in filelist if filename.startswith(filestarter)]\n",
    "arrayWm2Front = []\n",
    "arrayWm2Back = []\n",
    "arrayMatFront = []\n",
    "arrayMatBack = []\n",
    "filenamed = []\n",
    "faillist = []\n",
    "\n",
    "print('{} files in the directory'.format(filelist.__len__()))\n",
    "print('{} groundscan files in the directory'.format(prefixed.__len__()))\n",
    "i = 0  # counter to track # files loaded.\n",
    "\n",
    "for i in range (0, len(prefixed)):\n",
    "    ind = prefixed[i].split('_')\n",
    "\n",
    "    try:\n",
    "        resultsDF = br.load.read1Result(os.path.join(testfolder, 'results', prefixed[i]))\n",
    "        arrayWm2Front.append(list(resultsDF['Wm2Front']))\n",
    "        arrayWm2Back.append(list(resultsDF['Wm2Back']))\n",
    "        arrayMatFront.append(list(resultsDF['mattype']))\n",
    "        arrayMatBack.append(list(resultsDF['rearMat']))\n",
    "        filenamed.append(prefixed[i])\n",
    "    except:\n",
    "        print(\" FAILED \", i, prefixed[i])\n",
    "        faillist.append(prefixed[i])\n",
    "\n",
    "resultsdf = pd.DataFrame(list(zip(arrayWm2Front, arrayWm2Back, \n",
    "                                  arrayMatFront, arrayMatBack)),\n",
    "                         columns = ['br_Wm2Front', 'br_Wm2Back', \n",
    "                                    'br_MatFront', 'br_MatBack'])\n",
    "resultsdf['filename'] = filenamed"
   ]
  },
  {
   "cell_type": "markdown",
   "metadata": {},
   "source": [
    "Creating a new dataframe where  each element in the front irradiance list is a column. Also transpose and reverse so it looks like a top-down view of the ground."
   ]
  },
  {
   "cell_type": "code",
   "execution_count": 30,
   "metadata": {},
   "outputs": [],
   "source": [
    "df3 = pd.DataFrame(resultsdf['br_Wm2Front'].to_list())\n",
    "reversed_df = df3.T.iloc[::-1]"
   ]
  },
  {
   "cell_type": "code",
   "execution_count": 31,
   "metadata": {},
   "outputs": [],
   "source": [
    "sns.set(rc={'figure.figsize':(11.7,8.27)})"
   ]
  },
  {
   "cell_type": "code",
   "execution_count": 32,
   "metadata": {},
   "outputs": [
    {
     "name": "stdout",
     "output_type": "stream",
     "text": [
      "\n"
     ]
    },
    {
     "data": {
      "image/png": "[encoded data removed]",
      "text/plain": [
       "<Figure size 1170x827 with 2 Axes>"
      ]
     },
     "metadata": {},
     "output_type": "display_data"
    }
   ],
   "source": [
    "# Plot\n",
    "ax = sns.heatmap(reversed_df)\n",
    "ax.set_yticks([])\n",
    "ax.set_xticks([])\n",
    "ax.set_ylabel('')  \n",
    "ax.set_xlabel('')  \n",
    "print('')"
   ]
  },
  {
   "cell_type": "markdown",
   "metadata": {},
   "source": [
    "<a id='step4'></a>"
   ]
  }
 ],
 "metadata": {
  "kernelspec": {
   "display_name": "Python 3 (ipykernel)",
   "language": "python",
   "name": "python3"
  },
  "language_info": {
   "codemirror_mode": {
    "name": "ipython",
    "version": 3
   },
   "file_extension": ".py",
   "mimetype": "text/x-python",
   "name": "python",
   "nbconvert_exporter": "python",
   "pygments_lexer": "ipython3",
   "version": "3.11.4"
  }
 },
 "nbformat": 4,
 "nbformat_minor": 2
}
