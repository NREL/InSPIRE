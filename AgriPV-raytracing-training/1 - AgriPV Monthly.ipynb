{
 "cells": [
  {
   "cell_type": "markdown",
   "metadata": {},
   "source": [
    "# 11 - AgriPV Systems\n",
    "\n",
    "This journal shows how to model an AgriPV site, calculating the irradiance not only on the modules but also the irradiance received by the ground to evaluate available solar ersource for plants. \n",
    "\n",
    "We assume that bifacia_radiacne is already installed in your computer. This works for bifacial_radiance v.3 release.\n",
    "\n",
    "These journal outlines 4 useful uses of bifacial_radiance and some tricks: \n",
    "\n",
    "* Creating the modules in the AgriPV site\n",
    "* Adding extra geometry for the pillars/posts supporting the AgriPV site\n",
    "* Hacking the sensors to sample the ground irradiance and create irradiance map\n",
    "* Adding object to simulate variations in ground albedo from different crops between rows.\n",
    "\n",
    "\n",
    "#### Steps:\n",
    "\n",
    "1. <a href='#step1'> Generate the geometry </a>\n",
    "2. <a href='#step2'> Analyse the Ground Irradiance </a>\n",
    "3. <a href='#step3'> Analyse and MAP the Ground Irradiance </a>\n",
    "4. <a href='#step4'> Adding different Albedo Section </a>\n",
    "    \n",
    "#### Preview of what we will create: \n",
    "    \n",
    "![Another view](../images_wiki/AdvancedJournals/AgriPV_2.PNG)\n",
    "![AgriPV Image We will create](../images_wiki/AdvancedJournals/AgriPV_1.PNG)\n",
    "And this is how it will look like:\n",
    "\n",
    "![AgriPV modeled step 4](../images_wiki/AdvancedJournals/AgriPV_step4.PNG)\n",
    "\n",
    "\n"
   ]
  },
  {
   "cell_type": "markdown",
   "metadata": {},
   "source": [
    "<a id='step1'></a>"
   ]
  },
  {
   "cell_type": "markdown",
   "metadata": {},
   "source": [
    "## 1. Generate the geometry \n",
    "\n",
    "This section goes from setting up variables to making the OCT axis. We are also adding some custom elements for the torquetubes and posts.\n",
    "\n",
    "We've done this before a couple times, no new stuff here. \n",
    "\n",
    "The magic is that, for doing the carport we see in the figure, we are going to do a 4-up configuration of modules (**numpanels**), and we are going to repeat that 3-UP 6 times (**nMods**)"
   ]
  },
  {
   "cell_type": "code",
   "execution_count": 1,
   "metadata": {},
   "outputs": [
    {
     "name": "stdout",
     "output_type": "stream",
     "text": [
      "Your simulation will be stored in C:\\Users\\sayala\\Documents\\GitHub\\InSPIRE\\TEMP\\Tutorial_1\n"
     ]
    }
   ],
   "source": [
    "import os\n",
    "from pathlib import Path\n",
    "\n",
    "testfolder = str(Path().resolve().parent / 'TEMP' /  'Tutorial_1')\n",
    "\n",
    "if not os.path.exists(testfolder):\n",
    "    os.makedirs(testfolder)\n",
    "    \n",
    "print (\"Your simulation will be stored in %s\" % testfolder)"
   ]
  },
  {
   "cell_type": "code",
   "execution_count": 2,
   "metadata": {},
   "outputs": [],
   "source": [
    "import bifacial_radiance as br\n",
    "import numpy as np\n",
    "import pandas as pd"
   ]
  },
  {
   "cell_type": "code",
   "execution_count": 3,
   "metadata": {},
   "outputs": [],
   "source": [
    "simulationname = 'tutorial_1'\n",
    "\n",
    "#Location:\n",
    "lat = 40.0583  # NJ\n",
    "lon = -74.4057  # NJ\n",
    "\n",
    "# MakeModule Parameters\n",
    "moduletype='test-module'\n",
    "numpanels = 3  # AgriPV site has 3 modules along the y direction (N-S since we are facing it to the south) .\n",
    "x = 1  \n",
    "y = 2\n",
    "xgap = 2.0# Leaving 15 centimeters between modules on x direction\n",
    "ygap = 0.10 # Leaving 10 centimeters between modules on y direction\n",
    "zgap = 0 # no gap to torquetube.\n",
    "sensorsy = 6*numpanels  # this will give 6 sensors per module, 1 per cell\n",
    "\n",
    "# Other default values:\n",
    "\n",
    "# TorqueTube Parameters\n",
    "axisofrotationTorqueTube=False  # this is False by default if there is no torquetbue parameters\n",
    "torqueTube = False\n",
    "cellLevelModule = True\n",
    "\n",
    "numcellsx = 12\n",
    "numcellsy = 6\n",
    "xcell = 0.156\n",
    "ycell = 0.156\n",
    "xcellgap = 0.02\n",
    "ycellgap = 0.02\n",
    "\n",
    "cellLevelModuleParams = {'numcellsx': numcellsx, 'numcellsy':numcellsy, \n",
    "                         'xcell': xcell, 'ycell': ycell, 'xcellgap': xcellgap, 'ycellgap': ycellgap}\n",
    "\n",
    "# SceneDict Parameters\n",
    "pitch = 15 # m\n",
    "albedo = 0.2  #'grass'     # ground albedo\n",
    "hub_height = 4.3 # m  \n",
    "nMods = 6 # six modules per row.\n",
    "nRows = 3  # 3 row\n",
    "\n",
    "azimuth_ang=180 # Facing south\n",
    "tilt =35 # tilt."
   ]
  },
  {
   "cell_type": "code",
   "execution_count": 5,
   "metadata": {},
   "outputs": [
    {
     "name": "stdout",
     "output_type": "stream",
     "text": [
      "path = C:\\Users\\sayala\\Documents\\GitHub\\InSPIRE\\TEMP\\Tutorial_1\n",
      "Making path: images\n",
      "Making path: objects\n",
      "Making path: results\n",
      "Making path: skies\n",
      "Making path: EPWs\n",
      "Making path: materials\n",
      "Loading albedo, 1 value(s), 0.200 avg\n",
      "1 nonzero albedo values.\n",
      "Getting weather file: USA_NJ_McGuire.AFB.724096_TMY3.epw\n",
      " ... OK!\n"
     ]
    },
    {
     "ename": "Exception",
     "evalue": "incorrect time string passed 2021-06-17 13:0:0 -5.Valid options: mm_dd, mm_dd_HH, mm_dd_HHMM, YYYY-mm-dd_HHMM",
     "output_type": "error",
     "traceback": [
      "\u001b[1;31m---------------------------------------------------------------------------\u001b[0m",
      "\u001b[1;31mException\u001b[0m                                 Traceback (most recent call last)",
      "Cell \u001b[1;32mIn[5], line 4\u001b[0m\n\u001b[0;32m      2\u001b[0m demo\u001b[38;5;241m.\u001b[39msetGround(albedo) \n\u001b[0;32m      3\u001b[0m epwfile \u001b[38;5;241m=\u001b[39m demo\u001b[38;5;241m.\u001b[39mgetEPW(lat, lon) \u001b[38;5;66;03m# NJ lat/lon 40.0583° N, 74.4057\u001b[39;00m\n\u001b[1;32m----> 4\u001b[0m metdata \u001b[38;5;241m=\u001b[39m demo\u001b[38;5;241m.\u001b[39mreadWeatherFile(epwfile, coerce_year\u001b[38;5;241m=\u001b[39m\u001b[38;5;241m2021\u001b[39m, starttime\u001b[38;5;241m=\u001b[39m\u001b[38;5;124m'\u001b[39m\u001b[38;5;124m2021-06-17 13:0:0 -5\u001b[39m\u001b[38;5;124m'\u001b[39m, endtime\u001b[38;5;241m=\u001b[39m\u001b[38;5;124m'\u001b[39m\u001b[38;5;124m2021-06-17 16:0:0 -5\u001b[39m\u001b[38;5;124m'\u001b[39m)\n",
      "File \u001b[1;32mc:\\users\\sayala\\documents\\github\\bifacial_radiance\\bifacial_radiance\\main.py:940\u001b[0m, in \u001b[0;36mRadianceObj.readWeatherFile\u001b[1;34m(self, weatherFile, starttime, endtime, label, source, coerce_year, tz_convert_val)\u001b[0m\n\u001b[0;32m    938\u001b[0m \u001b[38;5;66;03m# Parse the start and endtime strings. \u001b[39;00m\n\u001b[0;32m    939\u001b[0m \u001b[38;5;28;01mif\u001b[39;00m starttime \u001b[38;5;129;01mis\u001b[39;00m \u001b[38;5;129;01mnot\u001b[39;00m \u001b[38;5;28;01mNone\u001b[39;00m:\n\u001b[1;32m--> 940\u001b[0m     starttime, coerce_year \u001b[38;5;241m=\u001b[39m _parseTimes(starttime, \u001b[38;5;241m1\u001b[39m, coerce_year)\n\u001b[0;32m    941\u001b[0m     starttime \u001b[38;5;241m=\u001b[39m starttime\u001b[38;5;241m.\u001b[39mtz_localize(tzinfo)\n\u001b[0;32m    942\u001b[0m \u001b[38;5;28;01mif\u001b[39;00m endtime \u001b[38;5;129;01mis\u001b[39;00m \u001b[38;5;129;01mnot\u001b[39;00m \u001b[38;5;28;01mNone\u001b[39;00m:\n",
      "File \u001b[1;32mc:\\users\\sayala\\documents\\github\\bifacial_radiance\\bifacial_radiance\\main.py:875\u001b[0m, in \u001b[0;36mRadianceObj.readWeatherFile.<locals>._parseTimes\u001b[1;34m(t, hour, coerce_year)\u001b[0m\n\u001b[0;32m    870\u001b[0m             \u001b[38;5;28;01mraise\u001b[39;00m \u001b[38;5;167;01mException\u001b[39;00m(\u001b[38;5;124mf\u001b[39m\u001b[38;5;124m'\u001b[39m\u001b[38;5;124mincorrect time string passed \u001b[39m\u001b[38;5;132;01m{\u001b[39;00mt\u001b[38;5;132;01m}\u001b[39;00m\u001b[38;5;124m.\u001b[39m\u001b[38;5;124m'\u001b[39m\n\u001b[0;32m    871\u001b[0m                             \u001b[38;5;124m'\u001b[39m\u001b[38;5;124mValid options: mm_dd, mm_dd_HH, \u001b[39m\u001b[38;5;124m'\u001b[39m\n\u001b[0;32m    872\u001b[0m                             \u001b[38;5;124m'\u001b[39m\u001b[38;5;124mmm_dd_HHMM, YYYY-mm-dd_HHMM\u001b[39m\u001b[38;5;124m'\u001b[39m)  \n\u001b[0;32m    873\u001b[0m     \u001b[38;5;28;01mexcept\u001b[39;00m \u001b[38;5;167;01mException\u001b[39;00m \u001b[38;5;28;01mas\u001b[39;00m e:\n\u001b[0;32m    874\u001b[0m         \u001b[38;5;66;03m# Error for incorrect string passed:\u001b[39;00m\n\u001b[1;32m--> 875\u001b[0m         \u001b[38;5;28;01mraise\u001b[39;00m(e)\n\u001b[0;32m    876\u001b[0m \u001b[38;5;28;01melse\u001b[39;00m:  \u001b[38;5;66;03m#datetime or timestamp\u001b[39;00m\n\u001b[0;32m    877\u001b[0m     \u001b[38;5;28;01mtry\u001b[39;00m:\n",
      "File \u001b[1;32mc:\\users\\sayala\\documents\\github\\bifacial_radiance\\bifacial_radiance\\main.py:870\u001b[0m, in \u001b[0;36mRadianceObj.readWeatherFile.<locals>._parseTimes\u001b[1;34m(t, hour, coerce_year)\u001b[0m\n\u001b[0;32m    867\u001b[0m         t_out \u001b[38;5;241m=\u001b[39m pd\u001b[38;5;241m.\u001b[39mto_datetime(\u001b[38;5;124m'\u001b[39m\u001b[38;5;124m'\u001b[39m\u001b[38;5;241m.\u001b[39mjoin(tsplit)\u001b[38;5;241m.\u001b[39mljust(\u001b[38;5;241m12\u001b[39m,\u001b[38;5;124m'\u001b[39m\u001b[38;5;124m0\u001b[39m\u001b[38;5;124m'\u001b[39m) ) \n\u001b[0;32m    869\u001b[0m     \u001b[38;5;28;01melse\u001b[39;00m:\n\u001b[1;32m--> 870\u001b[0m         \u001b[38;5;28;01mraise\u001b[39;00m \u001b[38;5;167;01mException\u001b[39;00m(\u001b[38;5;124mf\u001b[39m\u001b[38;5;124m'\u001b[39m\u001b[38;5;124mincorrect time string passed \u001b[39m\u001b[38;5;132;01m{\u001b[39;00mt\u001b[38;5;132;01m}\u001b[39;00m\u001b[38;5;124m.\u001b[39m\u001b[38;5;124m'\u001b[39m\n\u001b[0;32m    871\u001b[0m                         \u001b[38;5;124m'\u001b[39m\u001b[38;5;124mValid options: mm_dd, mm_dd_HH, \u001b[39m\u001b[38;5;124m'\u001b[39m\n\u001b[0;32m    872\u001b[0m                         \u001b[38;5;124m'\u001b[39m\u001b[38;5;124mmm_dd_HHMM, YYYY-mm-dd_HHMM\u001b[39m\u001b[38;5;124m'\u001b[39m)  \n\u001b[0;32m    873\u001b[0m \u001b[38;5;28;01mexcept\u001b[39;00m \u001b[38;5;167;01mException\u001b[39;00m \u001b[38;5;28;01mas\u001b[39;00m e:\n\u001b[0;32m    874\u001b[0m     \u001b[38;5;66;03m# Error for incorrect string passed:\u001b[39;00m\n\u001b[0;32m    875\u001b[0m     \u001b[38;5;28;01mraise\u001b[39;00m(e)\n",
      "\u001b[1;31mException\u001b[0m: incorrect time string passed 2021-06-17 13:0:0 -5.Valid options: mm_dd, mm_dd_HH, mm_dd_HHMM, YYYY-mm-dd_HHMM"
     ]
    }
   ],
   "source": [
    "demo = br.RadianceObj(simulationname,path = testfolder)  \n",
    "demo.setGround(albedo) \n",
    "epwfile = demo.getEPW(lat, lon) # NJ lat/lon 40.0583° N, 74.4057\n",
    "# Making module with all the variables\n",
    "module=demo.makeModule(name=moduletype,x=x,y=y,numpanels=numpanels, \n",
    "                           xgap=xgap, ygap=ygap, cellModule=cellLevelModuleParams)\n",
    "# create a scene with all the variables\n"
   ]
  },
  {
   "cell_type": "code",
   "execution_count": 6,
   "metadata": {},
   "outputs": [
    {
     "name": "stdout",
     "output_type": "stream",
     "text": [
      "8760 line in WeatherFile. Assuming this is a standard hourly WeatherFile for the year for purposes of saving Gencumulativesky temporary weather files in EPW folder.\n",
      "Coercing year to 2021\n",
      "Filtering dates\n",
      "Saving file EPWs\\metdata_temp.csv, # points: 8760\n",
      "Calculating Sun position for Metdata that is right-labeled  with a delta of -30 mins. i.e. 12 is 11:30 sunpos\n"
     ]
    }
   ],
   "source": [
    "#startime and endtime \n",
    "#Valid options: mm_dd, mm_dd_HH, mm_dd_HHMM, YYYY-mm-dd_HHMM\n",
    "metdata = demo.readWeatherFile(epwfile, coerce_year=2021, starttime='2021-06-17_1300', endtime='2021-06-17_1500')\n"
   ]
  },
  {
   "cell_type": "code",
   "execution_count": 10,
   "metadata": {},
   "outputs": [
    {
     "data": {
      "text/plain": [
       "{'latitude': 40.02,\n",
       " 'longitude': -74.6,\n",
       " 'elevation': 45.0,\n",
       " 'timezone': -5.0,\n",
       " 'city': 'Mcguire Afb',\n",
       " 'datetime': [Timestamp('2021-06-17 13:00:00-0500', tz='UTC-05:00'),\n",
       "  Timestamp('2021-06-17 14:00:00-0500', tz='UTC-05:00'),\n",
       "  Timestamp('2021-06-17 15:00:00-0500', tz='UTC-05:00')],\n",
       " 'ghi': array([764, 629, 528], dtype=int64),\n",
       " 'dhi': array([437, 478, 325], dtype=int64),\n",
       " 'dni': array([344, 166, 250], dtype=int64),\n",
       " 'albedo': array([0.14, 0.14, 0.14]),\n",
       " 'dewpoint': array([18.3, 18.9, 18.3]),\n",
       " 'pressure': array([100700, 100700, 100700], dtype=int64),\n",
       " 'temp_air': array([32.2, 31.7, 32.8]),\n",
       " 'wind_speed': array([1.5, 1. , 1. ]),\n",
       " 'meastracker_angle': None,\n",
       " 'solpos':                            apparent_zenith     zenith  apparent_elevation  \\\n",
       " corrected_timestamp                                                         \n",
       " 2021-06-17 12:30:00-05:00        17.825584  17.830959           72.174416   \n",
       " 2021-06-17 13:30:00-05:00        25.296241  25.304152           64.703759   \n",
       " 2021-06-17 14:30:00-05:00        35.701735  35.713768           54.298265   \n",
       " \n",
       "                            elevation     azimuth  equation_of_time  \n",
       " corrected_timestamp                                                 \n",
       " 2021-06-17 12:30:00-05:00  72.169041  203.487499         -1.032088  \n",
       " 2021-06-17 13:30:00-05:00  64.695848  235.744783         -1.041137  \n",
       " 2021-06-17 14:30:00-05:00  54.286232  253.762186         -1.050187  ,\n",
       " 'sunrisesetdata':                                                       sunrise  \\\n",
       " 2021-06-17 13:00:00-05:00 2021-06-17 04:29:04.142577664-05:00   \n",
       " 2021-06-17 14:00:00-05:00 2021-06-17 04:29:04.142577664-05:00   \n",
       " 2021-06-17 15:00:00-05:00 2021-06-17 04:29:04.142577664-05:00   \n",
       " \n",
       "                                                        sunset  \\\n",
       " 2021-06-17 13:00:00-05:00 2021-06-17 19:29:31.871100160-05:00   \n",
       " 2021-06-17 14:00:00-05:00 2021-06-17 19:29:31.871100160-05:00   \n",
       " 2021-06-17 15:00:00-05:00 2021-06-17 19:29:31.871100160-05:00   \n",
       " \n",
       "                                                       transit  minutedelta  \\\n",
       " 2021-06-17 13:00:00-05:00 2021-06-17 11:59:25.843597056-05:00           30   \n",
       " 2021-06-17 14:00:00-05:00 2021-06-17 11:59:25.843597056-05:00           30   \n",
       " 2021-06-17 15:00:00-05:00 2021-06-17 11:59:25.843597056-05:00           30   \n",
       " \n",
       "                                 corrected_timestamp  \n",
       " 2021-06-17 13:00:00-05:00 2021-06-17 12:30:00-05:00  \n",
       " 2021-06-17 14:00:00-05:00 2021-06-17 13:30:00-05:00  \n",
       " 2021-06-17 15:00:00-05:00 2021-06-17 14:30:00-05:00  ,\n",
       " 'label': 'right'}"
      ]
     },
     "execution_count": 10,
     "metadata": {},
     "output_type": "execute_result"
    }
   ],
   "source": [
    "metdata.__dict__"
   ]
  },
  {
   "cell_type": "code",
   "execution_count": 17,
   "metadata": {},
   "outputs": [
    {
     "data": {
      "text/plain": [
       "0"
      ]
     },
     "execution_count": 17,
     "metadata": {},
     "output_type": "execute_result"
    }
   ],
   "source": [
    "timeindex = metdata.datetime.index(pd.to_datetime('2021-06-17 13:0:0 -5'))  # Make this timezone aware, use -5 for EST.\n",
    "timeindex"
   ]
  },
  {
   "cell_type": "code",
   "execution_count": 18,
   "metadata": {},
   "outputs": [
    {
     "data": {
      "text/plain": [
       "'skies\\\\sky2_40.02_-74.6_2021-06-17_1300.rad'"
      ]
     },
     "execution_count": 18,
     "metadata": {},
     "output_type": "execute_result"
    }
   ],
   "source": [
    "demo.gendaylit(timeindex=timeindex)  "
   ]
  },
  {
   "cell_type": "code",
   "execution_count": 20,
   "metadata": {},
   "outputs": [
    {
     "name": "stdout",
     "output_type": "stream",
     "text": [
      "Created tutorial_1.oct\n"
     ]
    }
   ],
   "source": [
    "sceneDict = {'tilt':tilt,'pitch': 15,'hub_height':hub_height,'azimuth':azimuth_ang, 'nMods': nMods, 'nRows': nRows}  \n",
    "scene = demo.makeScene(module=moduletype, sceneDict=sceneDict) \n",
    "octfile = demo.makeOct(demo.getfilelist())\n"
   ]
  },
  {
   "cell_type": "markdown",
   "metadata": {},
   "source": [
    "If desired, you can view the Oct file at this point:\n",
    "\n",
    "***rvu -vf views\\front.vp -e .01 tutorial_1.oct***"
   ]
  },
  {
   "cell_type": "code",
   "execution_count": 21,
   "metadata": {},
   "outputs": [],
   "source": [
    "## Comment the ! line below to run rvu from the Jupyter notebook instead of your terminal.\n",
    "## Simulation will stop until you close the rvu window\n",
    "\n",
    "!rvu -vf views\\front.vp -e .01 tutorial_1.oct\n"
   ]
  },
  {
   "cell_type": "markdown",
   "metadata": {},
   "source": [
    "And adjust the view parameters, you should see this image.\n",
    "\n",
    "![AgriPV modeled step 1](../images_wiki/AdvancedJournals/AgriPV_step1.PNG)\n"
   ]
  },
  {
   "cell_type": "markdown",
   "metadata": {},
   "source": [
    "### Adding a torquetube structure\n",
    "\n",
    "We will add on the torquetube and pillars.\n",
    "\n",
    "Positions of the piles could be done more programatically, but they are kinda estimated at the moment. "
   ]
  },
  {
   "cell_type": "code",
   "execution_count": null,
   "metadata": {},
   "outputs": [],
   "source": [
    "module=demo.makeModule(name=moduletype,x=x,y=y,numpanels=numpanels, \n",
    "                           xgap=xgap, ygap=ygap, cellModule=cellLevelModuleParams, \n",
    "                      torquetube=True, )\n",
    "# create a scene with all the variables"
   ]
  },
  {
   "cell_type": "markdown",
   "metadata": {},
   "source": [
    "## 2. Analyse  the Ground Irradiance\n",
    "\n",
    "Now let's do some analysis along the ground, starting from the edge of the modules. We wil select to start in the center of the array.\n",
    "\n",
    "We are also increasign the number of points sampled accross the collector width, with the  variable **sensorsy** passed to **moduleanalysis**. We are also increasing the step between sampling points, to be able to sample in between the rows."
   ]
  },
  {
   "cell_type": "code",
   "execution_count": 25,
   "metadata": {},
   "outputs": [],
   "source": [
    "analysis = br.AnalysisObj(octfile, demo.name)  \n",
    "sensorsy = 20\n",
    "frontscan, backscan = analysis.moduleAnalysis(scene, sensorsy=sensorsy)\n"
   ]
  },
  {
   "cell_type": "code",
   "execution_count": 26,
   "metadata": {},
   "outputs": [],
   "source": [
    "groundscan = frontscan"
   ]
  },
  {
   "cell_type": "code",
   "execution_count": 27,
   "metadata": {},
   "outputs": [
    {
     "data": {
      "text/plain": [
       "{'xstart': 1.5159739062663865e-16,\n",
       " 'ystart': -1.237886635821746,\n",
       " 'zstart': 0.05,\n",
       " 'xinc': -1.5802346387185998e-17,\n",
       " 'yinc': 0.7894736842105263,\n",
       " 'zinc': 0,\n",
       " 'sx_xinc': 0.0,\n",
       " 'sx_yinc': 0.0,\n",
       " 'sx_zinc': 0.0,\n",
       " 'Nx': 1,\n",
       " 'Ny': 20,\n",
       " 'Nz': 1,\n",
       " 'orient': '-0.000 0.574 -0.819'}"
      ]
     },
     "execution_count": 27,
     "metadata": {},
     "output_type": "execute_result"
    }
   ],
   "source": [
    "groundscan['zstart'] = 0.05  # setting it 5 cm from the ground.\n",
    "groundscan['zinc'] = 0   # no tilt necessary. \n",
    "groundscan['yinc'] = pitch/(sensorsy-1)   # increasing spacing so it covers all distance between rows\n",
    "groundscan"
   ]
  },
  {
   "cell_type": "code",
   "execution_count": 28,
   "metadata": {},
   "outputs": [
    {
     "name": "stdout",
     "output_type": "stream",
     "text": [
      "Linescan in process: tutorial_1_groundscan_Row2_Module3_Front\n",
      "Linescan in process: tutorial_1_groundscan_Row2_Module3_Back\n",
      "Saved: results\\irr_tutorial_1_groundscan_Row2_Module3.csv\n"
     ]
    },
    {
     "data": {
      "text/plain": [
       "({'Wm2': [705.9618,\n",
       "   674.8684,\n",
       "   331.1048,\n",
       "   331.4625,\n",
       "   347.4178,\n",
       "   360.4403,\n",
       "   709.1403,\n",
       "   720.8762,\n",
       "   731.803,\n",
       "   737.6065,\n",
       "   741.9417,\n",
       "   746.2793,\n",
       "   749.7294,\n",
       "   750.6525,\n",
       "   752.3912,\n",
       "   753.1805,\n",
       "   747.7246,\n",
       "   740.8768999999999,\n",
       "   728.2795,\n",
       "   704.9231],\n",
       "  'x': [1.515974e-16,\n",
       "   1.35795e-16,\n",
       "   1.199927e-16,\n",
       "   1.041904e-16,\n",
       "   8.838801e-17,\n",
       "   7.258566e-17,\n",
       "   5.678331e-17,\n",
       "   4.098097e-17,\n",
       "   2.517862e-17,\n",
       "   9.376273e-18,\n",
       "   -6.426073e-18,\n",
       "   -2.222842e-17,\n",
       "   -3.803077e-17,\n",
       "   -5.383311e-17,\n",
       "   -6.963546e-17,\n",
       "   -8.543781e-17,\n",
       "   -1.012402e-16,\n",
       "   -1.170425e-16,\n",
       "   -1.328448e-16,\n",
       "   -1.486472e-16],\n",
       "  'y': [-1.237887,\n",
       "   -0.448413,\n",
       "   0.3410607,\n",
       "   1.130534,\n",
       "   1.920008,\n",
       "   2.709482,\n",
       "   3.498955,\n",
       "   4.288429,\n",
       "   5.077903,\n",
       "   5.867377,\n",
       "   6.65685,\n",
       "   7.446324,\n",
       "   8.235798,\n",
       "   9.025271,\n",
       "   9.814745,\n",
       "   10.60422,\n",
       "   11.39369,\n",
       "   12.18317,\n",
       "   12.97264,\n",
       "   13.76211],\n",
       "  'z': [0.05,\n",
       "   0.05,\n",
       "   0.05,\n",
       "   0.05,\n",
       "   0.05,\n",
       "   0.05,\n",
       "   0.05,\n",
       "   0.05,\n",
       "   0.05,\n",
       "   0.05,\n",
       "   0.05,\n",
       "   0.05,\n",
       "   0.05,\n",
       "   0.05,\n",
       "   0.05,\n",
       "   0.05,\n",
       "   0.05,\n",
       "   0.05,\n",
       "   0.05,\n",
       "   0.05],\n",
       "  'r': [705.9618,\n",
       "   674.8684,\n",
       "   331.1048,\n",
       "   331.4625,\n",
       "   347.4178,\n",
       "   360.4403,\n",
       "   709.1403,\n",
       "   720.8762,\n",
       "   731.803,\n",
       "   737.6065,\n",
       "   741.9417,\n",
       "   746.2793,\n",
       "   749.7294,\n",
       "   750.6525,\n",
       "   752.3912,\n",
       "   753.1805,\n",
       "   747.7246,\n",
       "   740.8769,\n",
       "   728.2795,\n",
       "   704.9231],\n",
       "  'g': [705.9618,\n",
       "   674.8684,\n",
       "   331.1048,\n",
       "   331.4625,\n",
       "   347.4178,\n",
       "   360.4403,\n",
       "   709.1403,\n",
       "   720.8762,\n",
       "   731.803,\n",
       "   737.6065,\n",
       "   741.9417,\n",
       "   746.2793,\n",
       "   749.7294,\n",
       "   750.6525,\n",
       "   752.3912,\n",
       "   753.1805,\n",
       "   747.7246,\n",
       "   740.8769,\n",
       "   728.2795,\n",
       "   704.9231],\n",
       "  'b': [705.9618,\n",
       "   674.8684,\n",
       "   331.1048,\n",
       "   331.4625,\n",
       "   347.4178,\n",
       "   360.4403,\n",
       "   709.1403,\n",
       "   720.8762,\n",
       "   731.803,\n",
       "   737.6065,\n",
       "   741.9417,\n",
       "   746.2793,\n",
       "   749.7294,\n",
       "   750.6525,\n",
       "   752.3912,\n",
       "   753.1805,\n",
       "   747.7246,\n",
       "   740.8769,\n",
       "   728.2795,\n",
       "   704.9231],\n",
       "  'mattype': ['groundplane',\n",
       "   'groundplane',\n",
       "   'groundplane',\n",
       "   'groundplane',\n",
       "   'groundplane',\n",
       "   'groundplane',\n",
       "   'groundplane',\n",
       "   'groundplane',\n",
       "   'groundplane',\n",
       "   'groundplane',\n",
       "   'groundplane',\n",
       "   'groundplane',\n",
       "   'groundplane',\n",
       "   'groundplane',\n",
       "   'groundplane',\n",
       "   'groundplane',\n",
       "   'groundplane',\n",
       "   'groundplane',\n",
       "   'groundplane',\n",
       "   'groundplane'],\n",
       "  'title': 'tutorial_1_groundscan_Row2_Module3_Front'},\n",
       " {'Wm2': [257.0916,\n",
       "   136.8733,\n",
       "   136.8908,\n",
       "   136.9083,\n",
       "   136.6243,\n",
       "   136.8064,\n",
       "   257.0916,\n",
       "   137.1719,\n",
       "   137.3546,\n",
       "   137.5374,\n",
       "   136.7649,\n",
       "   137.0727,\n",
       "   137.381,\n",
       "   257.0916,\n",
       "   137.9976,\n",
       "   137.8098,\n",
       "   138.2015,\n",
       "   138.5942,\n",
       "   138.987,\n",
       "   257.0916],\n",
       "  'x': [1.50052e-16,\n",
       "   1.342497e-16,\n",
       "   1.184474e-16,\n",
       "   1.02645e-16,\n",
       "   8.684266e-17,\n",
       "   7.104032e-17,\n",
       "   5.523797e-17,\n",
       "   3.943562e-17,\n",
       "   2.363328e-17,\n",
       "   7.83093e-18,\n",
       "   -7.971416e-18,\n",
       "   -2.377376e-17,\n",
       "   -3.957611e-17,\n",
       "   -5.537846e-17,\n",
       "   -7.11808e-17,\n",
       "   -8.698315e-17,\n",
       "   -1.027855e-16,\n",
       "   -1.185878e-16,\n",
       "   -1.343902e-16,\n",
       "   -1.501925e-16],\n",
       "  'y': [-1.225268,\n",
       "   -1.096232,\n",
       "   -0.9671961,\n",
       "   -0.8381601,\n",
       "   -0.7091242,\n",
       "   -0.5800882,\n",
       "   -0.4510523,\n",
       "   -0.3220163,\n",
       "   -0.1929803,\n",
       "   -0.0639444,\n",
       "   0.06509155,\n",
       "   0.1941275,\n",
       "   0.3231635,\n",
       "   0.4521994,\n",
       "   0.5812354,\n",
       "   0.7102713,\n",
       "   0.8393073,\n",
       "   0.9683432,\n",
       "   1.097379,\n",
       "   1.226415],\n",
       "  'z': [3.440837,\n",
       "   3.531189,\n",
       "   3.621541,\n",
       "   3.711893,\n",
       "   3.802245,\n",
       "   3.892597,\n",
       "   3.982949,\n",
       "   4.073301,\n",
       "   4.163653,\n",
       "   4.254005,\n",
       "   4.344357,\n",
       "   4.434709,\n",
       "   4.525061,\n",
       "   4.615413,\n",
       "   4.705765,\n",
       "   4.796117,\n",
       "   4.886468,\n",
       "   4.97682,\n",
       "   5.067172,\n",
       "   5.157524],\n",
       "  'r': [257.0916,\n",
       "   136.8733,\n",
       "   136.8908,\n",
       "   136.9083,\n",
       "   136.6243,\n",
       "   136.8064,\n",
       "   257.0916,\n",
       "   137.1719,\n",
       "   137.3546,\n",
       "   137.5374,\n",
       "   136.7649,\n",
       "   137.0727,\n",
       "   137.381,\n",
       "   257.0916,\n",
       "   137.9976,\n",
       "   137.8098,\n",
       "   138.2015,\n",
       "   138.5942,\n",
       "   138.987,\n",
       "   257.0916],\n",
       "  'g': [257.0916,\n",
       "   136.8733,\n",
       "   136.8908,\n",
       "   136.9083,\n",
       "   136.6243,\n",
       "   136.8064,\n",
       "   257.0916,\n",
       "   137.1719,\n",
       "   137.3546,\n",
       "   137.5374,\n",
       "   136.7649,\n",
       "   137.0727,\n",
       "   137.381,\n",
       "   257.0916,\n",
       "   137.9976,\n",
       "   137.8098,\n",
       "   138.2015,\n",
       "   138.5942,\n",
       "   138.987,\n",
       "   257.0916],\n",
       "  'b': [257.0916,\n",
       "   136.8733,\n",
       "   136.8908,\n",
       "   136.9083,\n",
       "   136.6243,\n",
       "   136.8064,\n",
       "   257.0916,\n",
       "   137.1719,\n",
       "   137.3546,\n",
       "   137.5374,\n",
       "   136.7649,\n",
       "   137.0727,\n",
       "   137.381,\n",
       "   257.0916,\n",
       "   137.9976,\n",
       "   137.8098,\n",
       "   138.2015,\n",
       "   138.5942,\n",
       "   138.987,\n",
       "   257.0916],\n",
       "  'mattype': ['sky',\n",
       "   'a2.1.a5.1.0.cellPVmodule.2310',\n",
       "   'a2.1.a5.2.0.cellPVmodule.2310',\n",
       "   'a2.1.a5.3.0.cellPVmodule.2310',\n",
       "   'a2.1.a5.4.0.cellPVmodule.2310',\n",
       "   'a2.1.a5.5.0.cellPVmodule.2310',\n",
       "   'sky',\n",
       "   'a2.1.a5.0.1.cellPVmodule.2310',\n",
       "   'a2.1.a5.1.1.cellPVmodule.2310',\n",
       "   'a2.1.a5.2.1.cellPVmodule.2310',\n",
       "   'a2.1.a5.3.1.cellPVmodule.2310',\n",
       "   'a2.1.a5.4.1.cellPVmodule.2310',\n",
       "   'a2.1.a5.5.1.cellPVmodule.2310',\n",
       "   'sky',\n",
       "   'a2.1.a5.0.2.cellPVmodule.2310',\n",
       "   'a2.1.a5.1.2.cellPVmodule.2310',\n",
       "   'a2.1.a5.2.2.cellPVmodule.2310',\n",
       "   'a2.1.a5.3.2.cellPVmodule.2310',\n",
       "   'a2.1.a5.4.2.cellPVmodule.2310',\n",
       "   'sky'],\n",
       "  'title': 'tutorial_1_groundscan_Row2_Module3_Back'})"
      ]
     },
     "execution_count": 28,
     "metadata": {},
     "output_type": "execute_result"
    }
   ],
   "source": [
    "analysis.analysis(octfile, simulationname+\"_groundscan\", groundscan, backscan)  # compare the back vs front irradiance  \n"
   ]
  },
  {
   "cell_type": "markdown",
   "metadata": {},
   "source": [
    "This is the result for only one 'chord' accross the ground. Let's now do a X-Y scan of the ground."
   ]
  },
  {
   "cell_type": "markdown",
   "metadata": {},
   "source": [
    "<a id='step3'></a>"
   ]
  },
  {
   "cell_type": "markdown",
   "metadata": {},
   "source": [
    "## 3. Analyse and MAP the Ground Irradiance"
   ]
  },
  {
   "cell_type": "markdown",
   "metadata": {},
   "source": [
    " We will use the same technique to find the irradiance on the ground used above, but will move it along the X-axis to map from the start of one module to the next.\n",
    " \n",
    " We will sample around the module that is placed at the center of the field."
   ]
  },
  {
   "cell_type": "markdown",
   "metadata": {},
   "source": [
    "![AgriPV modeled step 4](../images_wiki/AdvancedJournals/spacing_between_modules.PNG)"
   ]
  },
  {
   "cell_type": "code",
   "execution_count": 29,
   "metadata": {},
   "outputs": [],
   "source": [
    "import seaborn as sns"
   ]
  },
  {
   "cell_type": "code",
   "execution_count": 30,
   "metadata": {},
   "outputs": [
    {
     "name": "stdout",
     "output_type": "stream",
     "text": [
      "Linescan in process: tutorial_1_groundscan_0_Row2_Module3_Front\n",
      "Linescan in process: tutorial_1_groundscan_0_Row2_Module3_Back\n",
      "Saved: results\\irr_tutorial_1_groundscan_0_Row2_Module3.csv\n",
      "Linescan in process: tutorial_1_groundscan_1_Row2_Module3_Front\n",
      "Linescan in process: tutorial_1_groundscan_1_Row2_Module3_Back\n",
      "Saved: results\\irr_tutorial_1_groundscan_1_Row2_Module3.csv\n",
      "Linescan in process: tutorial_1_groundscan_2_Row2_Module3_Front\n",
      "Linescan in process: tutorial_1_groundscan_2_Row2_Module3_Back\n",
      "Saved: results\\irr_tutorial_1_groundscan_2_Row2_Module3.csv\n",
      "Linescan in process: tutorial_1_groundscan_3_Row2_Module3_Front\n",
      "Linescan in process: tutorial_1_groundscan_3_Row2_Module3_Back\n",
      "Saved: results\\irr_tutorial_1_groundscan_3_Row2_Module3.csv\n",
      "Linescan in process: tutorial_1_groundscan_4_Row2_Module3_Front\n",
      "Linescan in process: tutorial_1_groundscan_4_Row2_Module3_Back\n",
      "Saved: results\\irr_tutorial_1_groundscan_4_Row2_Module3.csv\n",
      "Linescan in process: tutorial_1_groundscan_5_Row2_Module3_Front\n",
      "Linescan in process: tutorial_1_groundscan_5_Row2_Module3_Back\n",
      "Saved: results\\irr_tutorial_1_groundscan_5_Row2_Module3.csv\n",
      "Linescan in process: tutorial_1_groundscan_6_Row2_Module3_Front\n",
      "Linescan in process: tutorial_1_groundscan_6_Row2_Module3_Back\n",
      "Saved: results\\irr_tutorial_1_groundscan_6_Row2_Module3.csv\n",
      "Linescan in process: tutorial_1_groundscan_7_Row2_Module3_Front\n",
      "Linescan in process: tutorial_1_groundscan_7_Row2_Module3_Back\n",
      "Saved: results\\irr_tutorial_1_groundscan_7_Row2_Module3.csv\n",
      "Linescan in process: tutorial_1_groundscan_8_Row2_Module3_Front\n",
      "Linescan in process: tutorial_1_groundscan_8_Row2_Module3_Back\n",
      "Saved: results\\irr_tutorial_1_groundscan_8_Row2_Module3.csv\n",
      "Linescan in process: tutorial_1_groundscan_9_Row2_Module3_Front\n",
      "Linescan in process: tutorial_1_groundscan_9_Row2_Module3_Back\n",
      "Saved: results\\irr_tutorial_1_groundscan_9_Row2_Module3.csv\n",
      "Linescan in process: tutorial_1_groundscan_10_Row2_Module3_Front\n",
      "Linescan in process: tutorial_1_groundscan_10_Row2_Module3_Back\n",
      "Saved: results\\irr_tutorial_1_groundscan_10_Row2_Module3.csv\n",
      "Linescan in process: tutorial_1_groundscan_11_Row2_Module3_Front\n",
      "Linescan in process: tutorial_1_groundscan_11_Row2_Module3_Back\n",
      "Saved: results\\irr_tutorial_1_groundscan_11_Row2_Module3.csv\n",
      "Linescan in process: tutorial_1_groundscan_12_Row2_Module3_Front\n",
      "Linescan in process: tutorial_1_groundscan_12_Row2_Module3_Back\n",
      "Saved: results\\irr_tutorial_1_groundscan_12_Row2_Module3.csv\n",
      "Linescan in process: tutorial_1_groundscan_13_Row2_Module3_Front\n",
      "Linescan in process: tutorial_1_groundscan_13_Row2_Module3_Back\n",
      "Saved: results\\irr_tutorial_1_groundscan_13_Row2_Module3.csv\n",
      "Linescan in process: tutorial_1_groundscan_14_Row2_Module3_Front\n",
      "Linescan in process: tutorial_1_groundscan_14_Row2_Module3_Back\n",
      "Saved: results\\irr_tutorial_1_groundscan_14_Row2_Module3.csv\n",
      "Linescan in process: tutorial_1_groundscan_15_Row2_Module3_Front\n",
      "Linescan in process: tutorial_1_groundscan_15_Row2_Module3_Back\n",
      "Saved: results\\irr_tutorial_1_groundscan_15_Row2_Module3.csv\n",
      "Linescan in process: tutorial_1_groundscan_16_Row2_Module3_Front\n",
      "Linescan in process: tutorial_1_groundscan_16_Row2_Module3_Back\n",
      "Saved: results\\irr_tutorial_1_groundscan_16_Row2_Module3.csv\n",
      "Linescan in process: tutorial_1_groundscan_17_Row2_Module3_Front\n",
      "Linescan in process: tutorial_1_groundscan_17_Row2_Module3_Back\n",
      "Saved: results\\irr_tutorial_1_groundscan_17_Row2_Module3.csv\n",
      "Linescan in process: tutorial_1_groundscan_18_Row2_Module3_Front\n",
      "Linescan in process: tutorial_1_groundscan_18_Row2_Module3_Back\n",
      "Saved: results\\irr_tutorial_1_groundscan_18_Row2_Module3.csv\n",
      "Linescan in process: tutorial_1_groundscan_19_Row2_Module3_Front\n",
      "Linescan in process: tutorial_1_groundscan_19_Row2_Module3_Back\n",
      "Saved: results\\irr_tutorial_1_groundscan_19_Row2_Module3.csv\n"
     ]
    }
   ],
   "source": [
    "sensorsx = 20\n",
    "startgroundsample=-module.scenex\n",
    "spacingbetweensamples = module.scenex/(sensorsx-1)\n",
    "\n",
    "for i in range (0, sensorsx): # Will map 20 points    \n",
    "    frontscan, backscan = analysis.moduleAnalysis(scene, sensorsy=sensorsy)\n",
    "    groundscan = frontscan\n",
    "    groundscan['zstart'] = 0.05  # setting it 5 cm from the ground.\n",
    "    groundscan['zinc'] = 0   # no tilt necessary. \n",
    "    groundscan['yinc'] = pitch/(sensorsy-1)   # increasing spacing so it covers all distance between rows\n",
    "    groundscan['xstart'] = startgroundsample + i*spacingbetweensamples   # increasing spacing so it covers all distance between rows\n",
    "    analysis.analysis(octfile, simulationname+\"_groundscan_\"+str(i), groundscan, backscan)  # compare the back vs front irradiance  \n"
   ]
  },
  {
   "cell_type": "markdown",
   "metadata": {},
   "source": [
    "Read all the files generated into one dataframe"
   ]
  },
  {
   "cell_type": "code",
   "execution_count": 31,
   "metadata": {},
   "outputs": [
    {
     "name": "stdout",
     "output_type": "stream",
     "text": [
      "21 files in the directory\n",
      "0 groundscan files in the directory\n"
     ]
    }
   ],
   "source": [
    "filestarter = \"irr_AgriPV_groundscan_\"\n",
    "\n",
    "filelist = sorted(os.listdir(os.path.join(testfolder, 'results')))\n",
    "prefixed = [filename for filename in filelist if filename.startswith(filestarter)]\n",
    "arrayWm2Front = []\n",
    "arrayWm2Back = []\n",
    "arrayMatFront = []\n",
    "arrayMatBack = []\n",
    "filenamed = []\n",
    "faillist = []\n",
    "\n",
    "print('{} files in the directory'.format(filelist.__len__()))\n",
    "print('{} groundscan files in the directory'.format(prefixed.__len__()))\n",
    "i = 0  # counter to track # files loaded.\n",
    "\n",
    "for i in range (0, len(prefixed)):\n",
    "    ind = prefixed[i].split('_')\n",
    "\n",
    "    try:\n",
    "        resultsDF = load.read1Result(os.path.join(testfolder, 'results', prefixed[i]))\n",
    "        arrayWm2Front.append(list(resultsDF['Wm2Front']))\n",
    "        arrayWm2Back.append(list(resultsDF['Wm2Back']))\n",
    "        arrayMatFront.append(list(resultsDF['mattype']))\n",
    "        arrayMatBack.append(list(resultsDF['rearMat']))\n",
    "        filenamed.append(prefixed[i])\n",
    "    except:\n",
    "        print(\" FAILED \", i, prefixed[i])\n",
    "        faillist.append(prefixed[i])\n",
    "\n",
    "resultsdf = pd.DataFrame(list(zip(arrayWm2Front, arrayWm2Back, \n",
    "                                  arrayMatFront, arrayMatBack)),\n",
    "                         columns = ['br_Wm2Front', 'br_Wm2Back', \n",
    "                                    'br_MatFront', 'br_MatBack'])\n",
    "resultsdf['filename'] = filenamed"
   ]
  },
  {
   "cell_type": "markdown",
   "metadata": {},
   "source": [
    "Creating a new dataframe where  each element in the front irradiance list is a column. Also transpose and reverse so it looks like a top-down view of the ground."
   ]
  },
  {
   "cell_type": "code",
   "execution_count": null,
   "metadata": {},
   "outputs": [],
   "source": [
    "df3 = pd.DataFrame(resultsdf['br_Wm2Front'].to_list())\n",
    "reversed_df = df3.T.iloc[::-1]"
   ]
  },
  {
   "cell_type": "code",
   "execution_count": null,
   "metadata": {},
   "outputs": [],
   "source": [
    "sns.set(rc={'figure.figsize':(11.7,8.27)})"
   ]
  },
  {
   "cell_type": "code",
   "execution_count": null,
   "metadata": {},
   "outputs": [],
   "source": [
    "# Plot\n",
    "ax = sns.heatmap(reversed_df)\n",
    "ax.set_yticks([])\n",
    "ax.set_xticks([])\n",
    "ax.set_ylabel('')  \n",
    "ax.set_xlabel('')  \n",
    "print('')"
   ]
  },
  {
   "cell_type": "markdown",
   "metadata": {},
   "source": [
    "<a id='step4'></a>"
   ]
  }
 ],
 "metadata": {
  "kernelspec": {
   "display_name": "Python 3 (ipykernel)",
   "language": "python",
   "name": "python3"
  },
  "language_info": {
   "codemirror_mode": {
    "name": "ipython",
    "version": 3
   },
   "file_extension": ".py",
   "mimetype": "text/x-python",
   "name": "python",
   "nbconvert_exporter": "python",
   "pygments_lexer": "ipython3",
   "version": "3.11.4"
  }
 },
 "nbformat": 4,
 "nbformat_minor": 2
}
