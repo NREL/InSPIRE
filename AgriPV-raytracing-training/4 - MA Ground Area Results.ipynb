{
 "cells": [
  {
   "cell_type": "markdown",
   "metadata": {},
   "source": [
    "<a id='step1'></a>"
   ]
  },
  {
   "cell_type": "code",
   "execution_count": 1,
   "metadata": {},
   "outputs": [
    {
     "name": "stdout",
     "output_type": "stream",
     "text": [
      "Your simulation will be stored in C:\\Users\\sayala\\Documents\\GitHub\\InSPIRE\\TEMP\\MA\n"
     ]
    }
   ],
   "source": [
    "import os\n",
    "from pathlib import Path\n",
    "\n",
    "testfolder = str(Path().resolve().parent / 'TEMP' /  'MA')\n",
    "\n",
    "if not os.path.exists(testfolder):\n",
    "    os.makedirs(testfolder)\n",
    "    \n",
    "print (\"Your simulation will be stored in %s\" % testfolder)"
   ]
  },
  {
   "cell_type": "code",
   "execution_count": 2,
   "metadata": {},
   "outputs": [],
   "source": [
    "import bifacial_radiance as br\n",
    "import numpy as np\n",
    "import pandas as pd\n"
   ]
  },
  {
   "cell_type": "code",
   "execution_count": 3,
   "metadata": {},
   "outputs": [
    {
     "name": "stdout",
     "output_type": "stream",
     "text": [
      "Working on a  Windows 10\n",
      "Python version  3.11.4 | packaged by Anaconda, Inc. | (main, Jul  5 2023, 13:38:37) [MSC v.1916 64 bit (AMD64)]\n",
      "Pandas version  2.1.0\n",
      "bifacial_radiance version  0.4.2+160.g1c4fa7f.dirty\n"
     ]
    }
   ],
   "source": [
    "# This information helps with debugging and getting support :)\n",
    "import sys, platform\n",
    "print(\"Working on a \", platform.system(), platform.release())\n",
    "print(\"Python version \", sys.version)\n",
    "print(\"Pandas version \", pd.__version__)\n",
    "print(\"bifacial_radiance version \", br.__version__)"
   ]
  },
  {
   "cell_type": "code",
   "execution_count": 4,
   "metadata": {},
   "outputs": [],
   "source": [
    "simulationname = 'tutorial_1'\n",
    "\n",
    "# Location:\n",
    "lat = 42.3732  # MA\n",
    "lon = -72.5199  # MA\n",
    "\n",
    "# Scene Parameters:\n",
    "azimuth_ang=180 # Facing south\n",
    "tilt =35 # tilt.\n",
    "pitch = 15 # m \n",
    "albedo = 0.2  #'grass'     # ground albedo\n",
    "hub_height = 4.3 # m  \n",
    "nRows = 2\n",
    "\n",
    "# MakeModule Parameters\n",
    "moduletype='pv-collector'\n",
    "numpanels = 3  # AgriPV site has 3 modules along the y direction\n",
    "x = 2 # m\n",
    "y = 1 # m. slope we will measure\n",
    "# if x > y, landscape. if x < y, portrait\n",
    "sensorsy = 6*numpanels  # this will give 6 sensors per module, 1 per cell\n",
    "\n",
    "ft2m = 0.3048\n",
    "\n",
    "# Scene Object 1\n",
    "xcoord_1 = 0\n",
    "ycoord_1 = 0\n",
    "nMods_1 = 3\n",
    "xgap_1 = 2*ft2m # 2f converted to meters now\n",
    "\n",
    "# Scene Object 2\n",
    "nMods_2 = 2\n",
    "xgap_2 = 3.5*ft2m # ft\n",
    "ycoord_2 = 0 \n",
    "xcoord_2 = x*nMods_1/2+xgap_1 + xgap_2 + x/2\n",
    "\n",
    "# Scene Object 3\n",
    "nMods_3 = 2\n",
    "xgap_3 = 5*ft2m # ft\n",
    "ycord_3 = 0\n",
    "xcoord_3 = x*nMods_1/2+xgap_1+ xgap_2 + x*2 + xgap_2+xgap_3 + x/2\n",
    "\n",
    "# TorqueTube Parameters\n",
    "tubetype='square' # Other options: 'square' , 'hex'\n",
    "material = 'Metal_Grey' # Other options: 'black'\n",
    "diameter = 0.1 # m\n",
    "axisofrotationTorqueTube = False\n",
    "zgap = 0.05 # m\n",
    "visible = True \n",
    "\n",
    "#Add torquetube \n",
    "tubeParams = {'tubetype':tubetype,\n",
    "              'diameter':diameter,\n",
    "              'material':material,\n",
    "              'axisofrotation':False,\n",
    "              'visible':True}"
   ]
  },
  {
   "cell_type": "code",
   "execution_count": 5,
   "metadata": {},
   "outputs": [],
   "source": [
    "NREL_API_KEY = None  # <-- please set your NREL API key here\n",
    "# note you must use \"quotes\" around your key as it is a string.\n",
    "\n",
    "if NREL_API_KEY is None:\n",
    "       NREL_API_KEY = 'DEMO_KEY'  # OK for this demo, but better to get your own key\n",
    "\n",
    "import pvlib\n",
    "\n",
    "metdata, metadata = pvlib.iotools.get_psm3(\n",
    "    latitude=lat, longitude=lon,\n",
    "    api_key=NREL_API_KEY,\n",
    "    email='silvana.ovaitt@nrel.gov',  # <-- any email works here fine\n",
    "    names='tmy', map_variables=True)\n",
    "\n",
    "# Some of the names changed internally. While bifacial_radiance updates their expected names, we are renaming the values here\n",
    "metadata['timezone'] = metadata['Time Zone']\n",
    "metadata['county'] = '-'\n",
    "metadata['elevation'] = metadata['altitude']\n",
    "metadata['state'] = metadata['State']\n",
    "metadata['country'] = metadata['Country']\n",
    "metdata['Albedo'] = metdata['albedo']"
   ]
  },
  {
   "cell_type": "code",
   "execution_count": 6,
   "metadata": {},
   "outputs": [
    {
     "name": "stdout",
     "output_type": "stream",
     "text": [
      "path = C:\\Users\\sayala\\Documents\\GitHub\\InSPIRE\\TEMP\\MA\n",
      "Loading albedo, 1 value(s), 0.200 avg\n",
      "1 nonzero albedo values.\n"
     ]
    }
   ],
   "source": [
    "demo = br.RadianceObj(simulationname,path = testfolder)  \n",
    "demo.setGround(albedo) \n"
   ]
  },
  {
   "cell_type": "code",
   "execution_count": 7,
   "metadata": {},
   "outputs": [
    {
     "name": "stdout",
     "output_type": "stream",
     "text": [
      "8760 line in WeatherFile. Assuming this is a standard hourly WeatherFile for the year for purposes of saving Gencumulativesky temporary weather files in EPW folder.\n",
      "Coercing year to 2021\n",
      "Filtering dates\n",
      "Saving file EPWs\\metdata_temp.csv, # points: 8760\n",
      "Calculating Sun position for center labeled data, at exact timestamp in input Weather File\n"
     ]
    }
   ],
   "source": [
    "# Specifiying growth season May to Oct.\n",
    "metData = demo.NSRDBWeatherData(metadata, metdata, starttime='05_09', endtime='10_01',coerce_year=2021)"
   ]
  },
  {
   "cell_type": "code",
   "execution_count": 8,
   "metadata": {},
   "outputs": [
    {
     "name": "stdout",
     "output_type": "stream",
     "text": [
      "\n",
      "Module Name: mod1\n",
      "Module mod1 updated in module.json\n",
      "Pre-existing .rad file objects\\mod1.rad will be overwritten\n",
      "\n",
      "\n",
      "Module Name: mod2\n",
      "Module mod2 updated in module.json\n",
      "Pre-existing .rad file objects\\mod2.rad will be overwritten\n",
      "\n",
      "\n",
      "Module Name: mod3\n",
      "Module mod3 updated in module.json\n",
      "Pre-existing .rad file objects\\mod3.rad will be overwritten\n",
      "\n"
     ]
    }
   ],
   "source": [
    "module_1=demo.makeModule(name='mod1',x=x,y=y,numpanels=numpanels, \n",
    "                           xgap=xgap_1, tubeParams=tubeParams)\n",
    "\n",
    "module_2=demo.makeModule(name='mod2',x=x,y=y,numpanels=numpanels, \n",
    "                           xgap=xgap_2, tubeParams=tubeParams)\n",
    "\n",
    "module_3=demo.makeModule(name='mod3',x=x,y=y,numpanels=numpanels, \n",
    "                           xgap=xgap_3, tubeParams=tubeParams)"
   ]
  },
  {
   "cell_type": "code",
   "execution_count": null,
   "metadata": {},
   "outputs": [],
   "source": []
  },
  {
   "cell_type": "code",
   "execution_count": 9,
   "metadata": {},
   "outputs": [
    {
     "name": "stdout",
     "output_type": "stream",
     "text": [
      "Loaded  EPWs\\metdata_temp.csv\n",
      "message: There were 1953 sun up hours in this climate file\n",
      "Total Ibh/Lbh: 0.000000\n"
     ]
    },
    {
     "data": {
      "text/plain": [
       "'skies\\\\cumulative.rad'"
      ]
     },
     "execution_count": 9,
     "metadata": {},
     "output_type": "execute_result"
    }
   ],
   "source": [
    "demo.genCumSky()  "
   ]
  },
  {
   "cell_type": "code",
   "execution_count": 10,
   "metadata": {},
   "outputs": [],
   "source": [
    "#timeindex = metdata.datetime.index(pd.to_datetime('2021-06-21 12:0:0 -5'))  # Make this timezone aware, use -5 for EST.\n",
    "#demo.gendaylit(timeindex=timeindex)  "
   ]
  },
  {
   "cell_type": "code",
   "execution_count": 29,
   "metadata": {},
   "outputs": [],
   "source": [
    "sceneDict_1 = {'tilt':tilt,'pitch': pitch,'hub_height':hub_height,'azimuth':azimuth_ang, 'nMods': nMods_1, 'nRows': nRows}\n",
    "sceneDict_2 = {'tilt':tilt,'pitch': pitch,'hub_height':hub_height,'azimuth':azimuth_ang, 'nMods': nMods_2, 'nRows': nRows, \n",
    "                'originx': xcoord_2, 'appendRadfile':True} \n",
    "sceneDict_3 = {'tilt':tilt,'pitch': pitch,'hub_height':hub_height,'azimuth':azimuth_ang, 'nMods': nMods_3, 'nRows': nRows, \n",
    "               'originx': xcoord_3, 'appendRadfile':True}  \n",
    "\n",
    "scene_1 = demo.makeScene(module=module_1, sceneDict=sceneDict_1) \n",
    "scene_2 = demo.makeScene(module=module_2, sceneDict=sceneDict_2) \n",
    "scene_3 = demo.makeScene(module=module_3, sceneDict=sceneDict_3) \n",
    "\n"
   ]
  },
  {
   "cell_type": "code",
   "execution_count": 30,
   "metadata": {
    "scrolled": true
   },
   "outputs": [
    {
     "data": {
      "text/plain": [
       "['materials\\\\ground.rad',\n",
       " 'skies\\\\sky2_42.37_-72.5_2021-05-09_1030.rad',\n",
       " 'objects\\\\mod1_C_3.43964_rtr_15.00000_tilt_35.00000_3modsx2rows_origin0,0.rad',\n",
       " 'objects\\\\mod2_C_3.43964_rtr_15.00000_tilt_35.00000_2modsx2rows_origin5.6764,0.rad',\n",
       " 'objects\\\\mod3_C_3.43964_rtr_15.00000_tilt_35.00000_2modsx2rows_origin12.267200000000003,0.rad']"
      ]
     },
     "execution_count": 30,
     "metadata": {},
     "output_type": "execute_result"
    }
   ],
   "source": [
    "demo.getfilelist()"
   ]
  },
  {
   "cell_type": "code",
   "execution_count": 15,
   "metadata": {},
   "outputs": [
    {
     "data": {
      "text/plain": [
       "'skies\\\\sky2_42.37_-72.5_2021-05-09_1030.rad'"
      ]
     },
     "execution_count": 15,
     "metadata": {},
     "output_type": "execute_result"
    }
   ],
   "source": [
    "demo.gendaylit(timeindex=5)  "
   ]
  },
  {
   "cell_type": "code",
   "execution_count": 31,
   "metadata": {},
   "outputs": [
    {
     "name": "stdout",
     "output_type": "stream",
     "text": [
      "Created tutorial_1.oct\n"
     ]
    }
   ],
   "source": [
    "octfile = demo.makeOct()"
   ]
  },
  {
   "cell_type": "code",
   "execution_count": 32,
   "metadata": {},
   "outputs": [],
   "source": [
    "## Comment the ! line below to run rvu from the Jupyter notebook instead of your terminal.\n",
    "## Simulation will stop until you close the rvu window\n",
    "\n",
    "#!rvu -vf views\\front.vp -e .01 tutorial_1.oct"
   ]
  },
  {
   "cell_type": "code",
   "execution_count": 35,
   "metadata": {
    "scrolled": true
   },
   "outputs": [],
   "source": [
    "analysis = br.AnalysisObj(octfile, demo.name)  \n",
    "frontscan, backscan = analysis.moduleAnalysis(scene_1, sensorsy=sensorsy, modWanted=3)\n"
   ]
  },
  {
   "cell_type": "code",
   "execution_count": 36,
   "metadata": {},
   "outputs": [
    {
     "data": {
      "text/plain": [
       "{'xstart': 2.6096,\n",
       " 'ystart': -1.1114333751301766,\n",
       " 'zstart': 3.5474022388799806,\n",
       " 'xinc': -1.583955677452934e-17,\n",
       " 'yinc': 0.12933979646668292,\n",
       " 'zinc': 0.09056470047648095,\n",
       " 'sx_xinc': 0.0,\n",
       " 'sx_yinc': 0.0,\n",
       " 'sx_zinc': 0.0,\n",
       " 'Nx': 1,\n",
       " 'Ny': 18,\n",
       " 'Nz': 1,\n",
       " 'orient': '-0.000 0.574 -0.819'}"
      ]
     },
     "execution_count": 36,
     "metadata": {},
     "output_type": "execute_result"
    }
   ],
   "source": [
    "frontscan"
   ]
  },
  {
   "cell_type": "code",
   "execution_count": 39,
   "metadata": {},
   "outputs": [
    {
     "ename": "NameError",
     "evalue": "name 'xcoords_3' is not defined",
     "output_type": "error",
     "traceback": [
      "\u001b[1;31m---------------------------------------------------------------------------\u001b[0m",
      "\u001b[1;31mNameError\u001b[0m                                 Traceback (most recent call last)",
      "Cell \u001b[1;32mIn[39], line 1\u001b[0m\n\u001b[1;32m----> 1\u001b[0m xcoords_3\n",
      "\u001b[1;31mNameError\u001b[0m: name 'xcoords_3' is not defined"
     ]
    }
   ],
   "source": [
    "xcoords_3"
   ]
  },
  {
   "cell_type": "code",
   "execution_count": 37,
   "metadata": {},
   "outputs": [],
   "source": [
    "groundscan = frontscan"
   ]
  },
  {
   "cell_type": "code",
   "execution_count": null,
   "metadata": {},
   "outputs": [],
   "source": [
    "groundscan['zstart'] = 0.05  # setting it 5 cm from the ground.\n",
    "groundscan['zinc'] = 0   # no tilt necessary. \n",
    "groundscan['yinc'] = pitch/(sensorsy-1)   # increasing spacing so it covers all distance between rows\n",
    "groundscan['orient'] = '0 0 -1' \n",
    "groundscan"
   ]
  },
  {
   "cell_type": "code",
   "execution_count": null,
   "metadata": {},
   "outputs": [],
   "source": [
    "analysis.analysis(octfile, simulationname+\"_groundscan\", groundscan, backscan)  # compare the back vs front irradiance  \n"
   ]
  },
  {
   "cell_type": "markdown",
   "metadata": {},
   "source": [
    "This is the result for only one 'chord' accross the ground. Let's now do a X-Y scan of the ground."
   ]
  },
  {
   "cell_type": "markdown",
   "metadata": {},
   "source": [
    "<a id='step3'></a>"
   ]
  },
  {
   "cell_type": "markdown",
   "metadata": {},
   "source": [
    "## 3. Analyse and MAP the Ground Irradiance"
   ]
  },
  {
   "cell_type": "markdown",
   "metadata": {},
   "source": [
    " We will use the same technique to find the irradiance on the ground used above, but will move it along the X-axis to map from the start of one module to the next.\n",
    " \n",
    " We will sample around the module that is placed at the center of the field."
   ]
  },
  {
   "cell_type": "markdown",
   "metadata": {},
   "source": [
    "![AgriPV modeled step 4](images/spacing_between_modules.PNG)"
   ]
  },
  {
   "cell_type": "code",
   "execution_count": null,
   "metadata": {},
   "outputs": [],
   "source": [
    "import seaborn as sns"
   ]
  },
  {
   "cell_type": "code",
   "execution_count": null,
   "metadata": {},
   "outputs": [],
   "source": [
    "sensorsx = 3\n",
    "startgroundsample=-module.scenex\n",
    "spacingbetweensamples = module.scenex/(sensorsx-1)\n",
    "\n",
    "for i in range (0, sensorsx): # Will map 20 points    \n",
    "    frontscan, backscan = analysis.moduleAnalysis(scene, sensorsy=sensorsy)\n",
    "    groundscan = frontscan\n",
    "    groundscan['zstart'] = 0.05  # setting it 5 cm from the ground.\n",
    "    groundscan['zinc'] = 0   # no tilt necessary. \n",
    "    groundscan['yinc'] = pitch/(sensorsy-1)   # increasing spacing so it covers all distance between rows\n",
    "    groundscan['xstart'] = startgroundsample + i*spacingbetweensamples   # increasing spacing so it covers all distance between rows\n",
    "    analysis.analysis(octfile, simulationname+\"_groundscan_\"+str(i), groundscan, backscan)  # compare the back vs front irradiance  \n"
   ]
  },
  {
   "cell_type": "markdown",
   "metadata": {},
   "source": [
    "Read all the files generated into one dataframe"
   ]
  },
  {
   "cell_type": "code",
   "execution_count": null,
   "metadata": {},
   "outputs": [],
   "source": [
    "filestarter = \"irr_tutorial_1_groundscan_\"\n",
    "\n",
    "filelist = sorted(os.listdir(os.path.join(testfolder, 'results')))\n",
    "prefixed = [filename for filename in filelist if filename.startswith(filestarter)]\n",
    "arrayWm2Front = []\n",
    "arrayWm2Back = []\n",
    "arrayMatFront = []\n",
    "arrayMatBack = []\n",
    "filenamed = []\n",
    "faillist = []\n",
    "\n",
    "print('{} files in the directory'.format(filelist.__len__()))\n",
    "print('{} groundscan files in the directory'.format(prefixed.__len__()))\n",
    "i = 0  # counter to track # files loaded.\n",
    "\n",
    "for i in range (0, len(prefixed)):\n",
    "    ind = prefixed[i].split('_')\n",
    "\n",
    "    try:\n",
    "        resultsDF = br.load.read1Result(os.path.join(testfolder, 'results', prefixed[i]))\n",
    "        arrayWm2Front.append(list(resultsDF['Wm2Front']))\n",
    "        arrayWm2Back.append(list(resultsDF['Wm2Back']))\n",
    "        arrayMatFront.append(list(resultsDF['mattype']))\n",
    "        arrayMatBack.append(list(resultsDF['rearMat']))\n",
    "        filenamed.append(prefixed[i])\n",
    "    except:\n",
    "        print(\" FAILED \", i, prefixed[i])\n",
    "        faillist.append(prefixed[i])\n",
    "\n",
    "resultsdf = pd.DataFrame(list(zip(arrayWm2Front, arrayWm2Back, \n",
    "                                  arrayMatFront, arrayMatBack)),\n",
    "                         columns = ['br_Wm2Front', 'br_Wm2Back', \n",
    "                                    'br_MatFront', 'br_MatBack'])\n",
    "resultsdf['filename'] = filenamed"
   ]
  },
  {
   "cell_type": "markdown",
   "metadata": {},
   "source": [
    "Creating a new dataframe where  each element in the front irradiance list is a column. Also transpose and reverse so it looks like a top-down view of the ground."
   ]
  },
  {
   "cell_type": "code",
   "execution_count": null,
   "metadata": {},
   "outputs": [],
   "source": [
    "df3 = pd.DataFrame(resultsdf['br_Wm2Front'].to_list())\n",
    "reversed_df = df3.T.iloc[::-1]"
   ]
  },
  {
   "cell_type": "code",
   "execution_count": null,
   "metadata": {},
   "outputs": [],
   "source": [
    "sns.set(rc={'figure.figsize':(11.7,8.27)})"
   ]
  },
  {
   "cell_type": "code",
   "execution_count": null,
   "metadata": {},
   "outputs": [],
   "source": [
    "# Plot\n",
    "ax = sns.heatmap(reversed_df)\n",
    "ax.set_yticks([])\n",
    "ax.set_xticks([])\n",
    "ax.set_ylabel('')  \n",
    "ax.set_xlabel('')  \n",
    "print('')"
   ]
  },
  {
   "cell_type": "markdown",
   "metadata": {},
   "source": [
    "<a id='step4'></a>"
   ]
  }
 ],
 "metadata": {
  "kernelspec": {
   "display_name": "Python 3 (ipykernel)",
   "language": "python",
   "name": "python3"
  },
  "language_info": {
   "codemirror_mode": {
    "name": "ipython",
    "version": 3
   },
   "file_extension": ".py",
   "mimetype": "text/x-python",
   "name": "python",
   "nbconvert_exporter": "python",
   "pygments_lexer": "ipython3",
   "version": "3.11.4"
  }
 },
 "nbformat": 4,
 "nbformat_minor": 2
}
