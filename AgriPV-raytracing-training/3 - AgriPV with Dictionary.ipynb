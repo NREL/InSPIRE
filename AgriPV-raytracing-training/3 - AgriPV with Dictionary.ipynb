{
 "cells": [
  {
   "cell_type": "markdown",
   "id": "648c9b6f",
   "metadata": {},
   "source": [
    "# Tutorial 3 - Agri PV With dictionary methodology\n",
    "\n",
    "So far, we explored the more custom-way of doing arrays and simulations in bifacial radiance.\n",
    "\n",
    "In this tutorial, we will see an alternative option of using bifacial_radiance with the internal \"Tracking Dictionary\". The tracking dictionary offers a structure that keeps track of the hourly simulation data as one entry each, or of one angle each for a cumulative simulation. It is a better approach to modeling, but it does not currently offer the possibility to add objects extraneous to the simulation. \n",
    "\n",
    "![Diagram of bifacial_radiance options](images/tut3_diagram.PNG)\n",
    "\n",
    "Included in this tutorial:\n",
    "1. Get weather data through NREL NSRDB API\n",
    "2. Model tracking dictionary hourly"
   ]
  },
  {
   "cell_type": "markdown",
   "id": "426ed74b",
   "metadata": {
    "slideshow": {
     "slide_type": "slide"
    }
   },
   "source": [
    "## 1. Solar Irradiance Data sources\n",
    "\n",
    "### Where to get _Free_ Solar Irradiance Data?\n",
    "\n",
    "There are many different sources of solar irradiance data. For your projects, these are some of the most common:\n",
    "\n",
    "- [NSRDB](https://maps.nrel.gov/nsrdb-viewer/) - National Solar Radiation Database. You can access data through the website for many locations accross the world, or you can use their [web API](https://developer.nrel.gov/docs/solar/nsrdb/) to download data programmatically. An \"API\" is an [\"application programming interface\"](https://en.wikipedia.org/wiki/API), and a \"web API\" is a programming interface that allows you to write code to interact with web services like the NSRDB.\n",
    "\n",
    "- [EPW](https://www.energy.gov/eere/buildings/downloads/energyplus-0) - Energy Plus Weather data is available for many locations accross the world. It's in its own format file ('EPW') so you can't open it easily in a spreadsheet program like Excel, but you can use [`pvlib.iotools.read_epw()`](https://pvlib-python.readthedocs.io/en/stable/reference/generated/pvlib.iotools.read_epw.html) to get it into a dataframe and use it.\n",
    "\n",
    "- [PVGIS](https://re.jrc.ec.europa.eu/pvg_tools/en/) - Free global weather data provided by the European Union and derived from many govermental agencies including the NSRDB. PVGIS also provides a web API. You can get PVGIS TMY data using [`pvlib.iotools.get_pvgis_tmy()`](https://pvlib-python.readthedocs.io/en/stable/reference/generated/pvlib.iotools.get_pvgis_tmy.html).\n",
    "\n",
    "- Perhaps another useful link: https://sam.nrel.gov/weather-data.html\n",
    "\n",
    "### Where else can you get historical irradiance data?\n",
    "\n",
    "There are several commercial providers of solar irradiance data. Data is available at different spatial and time resolutions. Each provider offers data under subscription that will provide access to irradiance (and other weather variables) via API to leverage in python.\n",
    "\n",
    "* [SolarAnywhere](https://www.solaranywhere.com/)\n",
    "* [SolarGIS](https://solargis.com/)\n",
    "* [Vaisala](https://www.vaisala.com/en)\n",
    "* [Meteonorm](https://meteonorm.com/en/)\n",
    "* [DNV Solar Resource Compass](https://src.dnv.com/)"
   ]
  },
  {
   "cell_type": "markdown",
   "id": "89be8493",
   "metadata": {
    "slideshow": {
     "slide_type": "subslide"
    }
   },
   "source": [
    "\n",
    "![NSRDB Example](images/tutorial_1_NSRDB_example.PNG)\n"
   ]
  },
  {
   "cell_type": "markdown",
   "id": "42309d68",
   "metadata": {},
   "source": [
    "### Fetching TMYs from the NSRDB\n",
    "\n",
    "At the [NREL Developer Network](https://developer.nrel.gov/), there are [APIs](https://en.wikipedia.org/wiki/API) to a lot of valuable [solar resources](https://developer.nrel.gov/docs/solar/) like [weather data from the NSRDB](https://developer.nrel.gov/docs/solar/nsrdb/), [operational data from PVDAQ](https://developer.nrel.gov/docs/solar/pvdaq-v3/), or indicative calculations using [PVWatts](https://developer.nrel.gov/docs/solar/pvwatts/). In order to use these resources from NREL, you need to [register for a free API key](https://developer.nrel.gov/signup/). You can test out the APIs using the `DEMO_KEY` but it has limited bandwidth compared to the [usage limit for registered users](https://developer.nrel.gov/docs/rate-limits/). NREL has some [API usage instructions](https://developer.nrel.gov/docs/api-key/), but pvlib has a few builtin functions, like [`pvlib.iotools.get_psm3()`](https://pvlib-python.readthedocs.io/en/stable/reference/generated/pvlib.iotools.get_psm3.html), that wrap the NREL API, and call them for you to make it much easier to use. Skip ahead to the next section to learn more. But before you do...\n",
    "\n",
    "<div class=\"alert alert-block alert-info\"> <b>Please pause now to visit <a href=\"https://developer.nrel.gov/signup/\"> https://developer.nrel.gov/signup/ </a> and get an API key</b> </div>\n",
    "\n",
    "<b><u> What is an API </u></b>\n",
    "\n",
    "What exactly is an API? Nowadays, the phrase is used interchangeably with a \"web API\" but in general an API is just a recipe for how to interface with a application programmatically, _IE_: in code. An API could be as simple as a function signature or its published documentation, _EG_: the API for the `solarposition` function is you give it an ISO8601 formatted date with a timezone, the latitude, longitude, and elevation as numbers, and it returns the zenith and azimuth as numbers.\n",
    "\n",
    "A web API is the same, except the application is a web service, that you access at its URL using web methods. We won't go into too much more detail here, but the most common web method is `GET` which is pretty self explanatory. Look over the [NREL web usage instructions](https://developer.nrel.gov/docs/api-key/) for some examples, but interacting with a web API can be as easy as entering a URL into a browser. Try the URL below to _get_ the PVWatts energy output for a fixed tilt site in [Broomfield, CO](https://goo.gl/maps/awkEcNGzSur9Has18).\n",
    "\n",
    "https://developer.nrel.gov/api/pvwatts/v6.json?api_key=DEMO_KEY&lat=40&lon=-105&system_capacity=4&azimuth=180&tilt=40&array_type=1&module_type=1&losses=10\n",
    "\n",
    "In addition to just using your browser, you can also access web APIs programmatically. The most popular Python package to interact with web APIs is [requests](https://docs.python-requests.org/en/master/). There's also free open source command-line tools like [cURL](https://curl.se/) and [HTTPie](https://httpie.io/), and a popular nagware/freemium GUI application called [Postman](https://www.postman.com/).\n",
    "\n",
    "**If you have an NREL API key please enter it in the next cell.**"
   ]
  },
  {
   "cell_type": "code",
   "execution_count": 1,
   "id": "e45586b1",
   "metadata": {},
   "outputs": [],
   "source": [
    "NREL_API_KEY = None  # <-- please set your NREL API key here\n",
    "# note you must use \"quotes\" around your key as it is a string.\n",
    "\n",
    "if NREL_API_KEY is None:\n",
    "       NREL_API_KEY = 'DEMO_KEY'  # OK for this demo, but better to get your own key"
   ]
  },
  {
   "cell_type": "markdown",
   "id": "9b3c1bf9",
   "metadata": {
    "slideshow": {
     "slide_type": "slide"
    }
   },
   "source": [
    "## Fetching TMYs from the NSRDB\n",
    "\n",
    "The example TMY dataset used here is from an airport in North Carolina, but what if we wanted to model a PV system somewhere else? The NSRDB, one of many sources of weather data intended for PV modeling, is free and easy to access using pvlib. As an example, we'll fetch a TMY dataset for San Juan, Puerto Rico at coordinates [(18.4671, -66.1185)](https://goo.gl/maps/ZuYuKFxSpJ1z9HXX8). We use [`pvlib.iotools.get_psm3()`](https://pvlib-python.readthedocs.io/en/stable/reference/generated/pvlib.iotools.get_psm3.html) which returns a Python dictionary of metadata and a Pandas dataframe of the timeseries weather data."
   ]
  },
  {
   "cell_type": "code",
   "execution_count": 25,
   "id": "e4ca9a61",
   "metadata": {
    "slideshow": {
     "slide_type": "subslide"
    }
   },
   "outputs": [
    {
     "data": {
      "text/plain": [
       "{'Source': 'NSRDB',\n",
       " 'Location ID': '1493571',\n",
       " 'City': '-',\n",
       " 'State': '-',\n",
       " 'Country': '-',\n",
       " 'Time Zone': -4,\n",
       " 'Local Time Zone': -4,\n",
       " 'Dew Point Units': 'c',\n",
       " 'DHI Units': 'w/m2',\n",
       " 'DNI Units': 'w/m2',\n",
       " 'GHI Units': 'w/m2',\n",
       " 'Temperature Units': 'c',\n",
       " 'Pressure Units': 'mbar',\n",
       " 'Wind Direction Units': 'Degrees',\n",
       " 'Wind Speed Units': 'm/s',\n",
       " 'Surface Albedo Units': 'N/A',\n",
       " 'Version': '3.2.0',\n",
       " 'latitude': 18.45,\n",
       " 'longitude': -66.1,\n",
       " 'altitude': 6}"
      ]
     },
     "execution_count": 25,
     "metadata": {},
     "output_type": "execute_result"
    }
   ],
   "source": [
    "import pvlib\n",
    "\n",
    "metdata, metadata = pvlib.iotools.get_psm3(\n",
    "    latitude=18.4671, longitude=-66.1185,\n",
    "    api_key=NREL_API_KEY,\n",
    "    email='silvana.ovaitt@nrel.gov',  # <-- any email works here fine\n",
    "    names='tmy', map_variables=True)\n",
    "metadata"
   ]
  },
  {
   "cell_type": "markdown",
   "id": "f90113dc",
   "metadata": {
    "slideshow": {
     "slide_type": "subslide"
    }
   },
   "source": [
    "TMY datasets from the PSM3 service of the NSRDB are timestamped using the real year that the measurements came from. The [`pvlib.iotools.read_tmy3()`](https://pvlib-python.readthedocs.io/en/stable/reference/generated/pvlib.iotools.read_tmy3.html) function had a `coerce_year` argument to force everything to align to a single dummy year, but [`pvlib.iotools.get_psm3()`](https://pvlib-python.readthedocs.io/en/stable/reference/generated/pvlib.iotools.get_psm3.html) doesn't have that feature. For convenience let's standardize the data to 1990 and then compare monthly GHI to the North Carolina location:"
   ]
  },
  {
   "cell_type": "markdown",
   "id": "9bce4d3e",
   "metadata": {},
   "source": [
    "## 2. Modeling with bifacial_radiance"
   ]
  },
  {
   "cell_type": "code",
   "execution_count": 3,
   "id": "f57bfbcc",
   "metadata": {},
   "outputs": [],
   "source": [
    "import pandas as pd\n",
    "import matplotlib.pyplot as plt\n",
    "import bifacial_radiance as br"
   ]
  },
  {
   "cell_type": "code",
   "execution_count": 6,
   "id": "187c8786",
   "metadata": {},
   "outputs": [
    {
     "data": {
      "text/plain": [
       "'0.4.2+160.g27c52cf.dirty'"
      ]
     },
     "execution_count": 6,
     "metadata": {},
     "output_type": "execute_result"
    }
   ],
   "source": [
    "br.__version__"
   ]
  },
  {
   "cell_type": "code",
   "execution_count": 5,
   "id": "45d403df",
   "metadata": {},
   "outputs": [
    {
     "name": "stdout",
     "output_type": "stream",
     "text": [
      "Your simulation will be stored in C:\\Users\\sayala\\Documents\\GitHub\\InSPIRE\\TEMP\\Tutorial_3\n"
     ]
    }
   ],
   "source": [
    "import os\n",
    "from pathlib import Path\n",
    "\n",
    "testfolder = str(Path().resolve().parent / 'TEMP' /  'Tutorial_3')\n",
    "\n",
    "if not os.path.exists(testfolder):\n",
    "    os.makedirs(testfolder)\n",
    "    \n",
    "print (\"Your simulation will be stored in %s\" % testfolder)"
   ]
  },
  {
   "cell_type": "code",
   "execution_count": 8,
   "id": "8958888b",
   "metadata": {},
   "outputs": [
    {
     "name": "stdout",
     "output_type": "stream",
     "text": [
      "path = C:\\Users\\sayala\\Documents\\GitHub\\InSPIRE\\TEMP\\Tutorial_3\n",
      "Making path: images\n",
      "Making path: objects\n",
      "Making path: results\n",
      "Making path: skies\n",
      "Making path: EPWs\n",
      "Making path: materials\n"
     ]
    }
   ],
   "source": [
    "radObj = bifacial_radiance.RadianceObj('Sim3',path=testfolder)"
   ]
  },
  {
   "cell_type": "code",
   "execution_count": 59,
   "id": "de048747",
   "metadata": {},
   "outputs": [],
   "source": [
    "# Some of the names changed internally. While bifacial_radiance updates their expected names, we are renaming the values here\n",
    "metadata['timezone'] = metadata['Time Zone']\n",
    "metadata['county'] = '-'\n",
    "metadata['elevation'] = metadata['altitude']\n",
    "metadata['state'] = metadata['State']\n",
    "metadata['country'] = metadata['Country']\n",
    "metdata['Albedo'] = metdata['albedo']"
   ]
  },
  {
   "cell_type": "markdown",
   "id": "9906d67a",
   "metadata": {},
   "source": [
    "Use NSRDBWeatherData to enter data the downloaded data in dataframe and dictionary forma for meteorological data and metadata respectively"
   ]
  },
  {
   "cell_type": "code",
   "execution_count": 102,
   "id": "54b50d1c",
   "metadata": {},
   "outputs": [
    {
     "name": "stdout",
     "output_type": "stream",
     "text": [
      "8760 line in WeatherFile. Assuming this is a standard hourly WeatherFile for the year for purposes of saving Gencumulativesky temporary weather files in EPW folder.\n",
      "Coercing year to 2021\n",
      "Filtering dates\n",
      "Saving file EPWs\\metdata_temp.csv, # points: 8760\n",
      "Calculating Sun position for center labeled data, at exact timestamp in input Weather File\n"
     ]
    },
    {
     "data": {
      "text/plain": [
       "[Timestamp('2021-11-08 09:30:00-0400', tz='pytz.FixedOffset(-240)'),\n",
       " Timestamp('2021-11-08 10:30:00-0400', tz='pytz.FixedOffset(-240)')]"
      ]
     },
     "execution_count": 102,
     "metadata": {},
     "output_type": "execute_result"
    }
   ],
   "source": [
    "#starttime can be 'MM_DD', or 'MM_DD_HH'\n",
    "metData = radObj.NSRDBWeatherData(metadata, metdata, starttime='11_08_09', endtime='11_08_11',coerce_year=2021)"
   ]
  },
  {
   "cell_type": "code",
   "execution_count": 103,
   "id": "533fee38",
   "metadata": {},
   "outputs": [
    {
     "data": {
      "text/plain": [
       "[Timestamp('2021-11-08 09:30:00-0400', tz='pytz.FixedOffset(-240)'),\n",
       " Timestamp('2021-11-08 10:30:00-0400', tz='pytz.FixedOffset(-240)')]"
      ]
     },
     "execution_count": 103,
     "metadata": {},
     "output_type": "execute_result"
    }
   ],
   "source": [
    "metData.datetime  # printing the contents of metData to see how many times got loaded."
   ]
  },
  {
   "cell_type": "code",
   "execution_count": 105,
   "id": "e3695668",
   "metadata": {},
   "outputs": [],
   "source": [
    "# -- establish tracking angles\n",
    "hub_height = 1.5\n",
    "pitch = 5\n",
    "sazm = 180  # Tracker axis azimuth\n",
    "modulename = 'PVmodule'\n",
    "fixed_tilt_angle = None\n",
    "gcr = 2 / pitch\n",
    "\n",
    "\n",
    "trackerParams = {'limit_angle':50,\n",
    "             'angledelta':5,\n",
    "             'backtrack':True,\n",
    "             'gcr':gcr,\n",
    "             'cumulativesky':False,\n",
    "             'azimuth': sazm,\n",
    "             'fixed_tilt_angle': fixed_tilt_angle\n",
    "             }"
   ]
  },
  {
   "cell_type": "code",
   "execution_count": 70,
   "id": "8b0c10bb",
   "metadata": {},
   "outputs": [],
   "source": [
    "trackerdict = radObj.set1axis(**trackerParams)"
   ]
  },
  {
   "cell_type": "code",
   "execution_count": 71,
   "id": "c36017a3",
   "metadata": {},
   "outputs": [
    {
     "data": {
      "text/plain": [
       "{'2021-11-08_0930': {'surf_azm': 90.0,\n",
       "  'surf_tilt': 45.01,\n",
       "  'theta': -45.01,\n",
       "  'dni': 793.0,\n",
       "  'ghi': 583.0,\n",
       "  'dhi': 98.0,\n",
       "  'temp_air': 28.0,\n",
       "  'wind_speed': 1.1},\n",
       " '2021-11-08_1030': {'surf_azm': 90.0,\n",
       "  'surf_tilt': 28.41,\n",
       "  'theta': -28.41,\n",
       "  'dni': 850.0,\n",
       "  'ghi': 730.0,\n",
       "  'dhi': 103.0,\n",
       "  'temp_air': 29.0,\n",
       "  'wind_speed': 0.9}}"
      ]
     },
     "execution_count": 71,
     "metadata": {},
     "output_type": "execute_result"
    }
   ],
   "source": [
    "trackerdict"
   ]
  },
  {
   "cell_type": "code",
   "execution_count": 74,
   "id": "62209111",
   "metadata": {},
   "outputs": [
    {
     "name": "stdout",
     "output_type": "stream",
     "text": [
      "Loading albedo, 1 value(s), 0.200 avg\n",
      "1 nonzero albedo values.\n"
     ]
    }
   ],
   "source": [
    "radObj.setGround(0.2) "
   ]
  },
  {
   "cell_type": "code",
   "execution_count": 75,
   "id": "192e4187",
   "metadata": {},
   "outputs": [
    {
     "name": "stdout",
     "output_type": "stream",
     "text": [
      "Creating ~2 skyfiles. \n",
      "Created 2 skyfiles in /skies/\n"
     ]
    },
    {
     "data": {
      "text/plain": [
       "{'2021-11-08_0930': {'surf_azm': 90.0,\n",
       "  'surf_tilt': 45.01,\n",
       "  'theta': -45.01,\n",
       "  'dni': 793.0,\n",
       "  'ghi': 583.0,\n",
       "  'dhi': 98.0,\n",
       "  'temp_air': 28.0,\n",
       "  'wind_speed': 1.1,\n",
       "  'skyfile': 'skies\\\\sky2_18.45_-66.1_2021-11-08_0930.rad'},\n",
       " '2021-11-08_1030': {'surf_azm': 90.0,\n",
       "  'surf_tilt': 28.41,\n",
       "  'theta': -28.41,\n",
       "  'dni': 850.0,\n",
       "  'ghi': 730.0,\n",
       "  'dhi': 103.0,\n",
       "  'temp_air': 29.0,\n",
       "  'wind_speed': 0.9,\n",
       "  'skyfile': 'skies\\\\sky2_18.45_-66.1_2021-11-08_1030.rad'}}"
      ]
     },
     "execution_count": 75,
     "metadata": {},
     "output_type": "execute_result"
    }
   ],
   "source": [
    "radObj.gendaylit1axis()"
   ]
  },
  {
   "cell_type": "code",
   "execution_count": 44,
   "id": "c009b024",
   "metadata": {},
   "outputs": [
    {
     "name": "stdout",
     "output_type": "stream",
     "text": [
      "\n",
      "Module Name: PVmodule\n",
      "Module PVmodule updated in module.json\n"
     ]
    }
   ],
   "source": [
    "module=radObj.makeModule(name=modulename, x=1,y=2)"
   ]
  },
  {
   "cell_type": "code",
   "execution_count": 46,
   "id": "c8b03c85",
   "metadata": {},
   "outputs": [],
   "source": [
    "sceneDict = {'pitch':pitch, \n",
    "             'hub_height': hub_height,\n",
    "             'nMods': 5,\n",
    "             'nRows': 2,\n",
    "             'tilt': fixed_tilt_angle,  \n",
    "             'sazm': sazm\n",
    "             }"
   ]
  },
  {
   "cell_type": "code",
   "execution_count": 76,
   "id": "25ebb961",
   "metadata": {},
   "outputs": [
    {
     "name": "stdout",
     "output_type": "stream",
     "text": [
      "\n",
      "Making ~2 .rad files for gendaylit 1-axis workflow (this takes a minute..)\n",
      "2 Radfiles created in /objects/\n"
     ]
    }
   ],
   "source": [
    "trackerdict = radObj.makeScene1axis(module=modulename,sceneDict=sceneDict)\n"
   ]
  },
  {
   "cell_type": "code",
   "execution_count": 77,
   "id": "28e47e00",
   "metadata": {},
   "outputs": [
    {
     "name": "stdout",
     "output_type": "stream",
     "text": [
      "\n",
      "Making 2 octfiles in root directory.\n",
      "Created 1axis_2021-11-08_0930.oct\n",
      "Created 1axis_2021-11-08_1030.oct\n"
     ]
    },
    {
     "data": {
      "text/plain": [
       "{'2021-11-08_0930': {'surf_azm': 90.0,\n",
       "  'surf_tilt': 45.01,\n",
       "  'theta': -45.01,\n",
       "  'dni': 793.0,\n",
       "  'ghi': 583.0,\n",
       "  'dhi': 98.0,\n",
       "  'temp_air': 28.0,\n",
       "  'wind_speed': 1.1,\n",
       "  'skyfile': 'skies\\\\sky2_18.45_-66.1_2021-11-08_0930.rad',\n",
       "  'radfile': 'objects\\\\1axis2021-11-08_0930__C_0.79277_rtr_5.00000_tilt_45.01000_5modsx2rows_origin0,0.rad',\n",
       "  'scene': {'module': {'x': 1, 'y': 2, 'z': 0.02, 'modulematerial': 'black', 'scenex': 1.01, 'sceney': 2.0, 'scenez': 0.1, 'numpanels': 1, 'bifi': 1, 'text': '! genbox black PVmodule 1 2 0.02 | xform -t -0.5 -1.0 0 -a 1 -t 0 2.0 0', 'modulefile': 'objects\\\\PVmodule.rad', 'glass': False, 'offsetfromaxis': 0, 'xgap': 0.01, 'ygap': 0.0, 'zgap': 0.1}, 'modulefile': 'objects\\\\PVmodule.rad', 'hpc': False, 'name': 'Scene0', 'gcr': 0.4, 'text': '!xform -rx 45.01 -t 0 0 1.5 -a 5 -t 1.01 0 0 -a 2 -t 0 5 0 -i 1 -t -2.02 -0.0 0 -rz 90.0 -t 0 0 0 objects\\\\PVmodule.rad', 'radfiles': 'objects\\\\1axis2021-11-08_0930__C_0.79277_rtr_5.00000_tilt_45.01000_5modsx2rows_origin0,0.rad', 'sceneDict': {'tilt': 45.01, 'pitch': 5, 'clearance_height': 0.7927698161689823, 'azimuth': 90.0, 'nMods': 5, 'nRows': 2, 'modulez': 0.02, 'axis_tilt': 0, 'originx': 0, 'originy': 0}},\n",
       "  'octfile': '1axis_2021-11-08_0930.oct'},\n",
       " '2021-11-08_1030': {'surf_azm': 90.0,\n",
       "  'surf_tilt': 28.41,\n",
       "  'theta': -28.41,\n",
       "  'dni': 850.0,\n",
       "  'ghi': 730.0,\n",
       "  'dhi': 103.0,\n",
       "  'temp_air': 29.0,\n",
       "  'wind_speed': 0.9,\n",
       "  'skyfile': 'skies\\\\sky2_18.45_-66.1_2021-11-08_1030.rad',\n",
       "  'radfile': 'objects\\\\1axis2021-11-08_1030__C_1.02422_rtr_5.00000_tilt_28.41000_5modsx2rows_origin0,0.rad',\n",
       "  'scene': {'module': {'x': 1, 'y': 2, 'z': 0.02, 'modulematerial': 'black', 'scenex': 1.01, 'sceney': 2.0, 'scenez': 0.1, 'numpanels': 1, 'bifi': 1, 'text': '! genbox black PVmodule 1 2 0.02 | xform -t -0.5 -1.0 0 -a 1 -t 0 2.0 0', 'modulefile': 'objects\\\\PVmodule.rad', 'glass': False, 'offsetfromaxis': 0, 'xgap': 0.01, 'ygap': 0.0, 'zgap': 0.1}, 'modulefile': 'objects\\\\PVmodule.rad', 'hpc': False, 'name': 'Scene0', 'gcr': 0.4, 'text': '!xform -rx 28.41 -t 0 0 1.5 -a 5 -t 1.01 0 0 -a 2 -t 0 5 0 -i 1 -t -2.02 -0.0 0 -rz 90.0 -t 0 0 0 objects\\\\PVmodule.rad', 'radfiles': 'objects\\\\1axis2021-11-08_1030__C_1.02422_rtr_5.00000_tilt_28.41000_5modsx2rows_origin0,0.rad', 'sceneDict': {'tilt': 28.41, 'pitch': 5, 'clearance_height': 1.0242222705361053, 'azimuth': 90.0, 'nMods': 5, 'nRows': 2, 'modulez': 0.02, 'axis_tilt': 0, 'originx': 0, 'originy': 0}},\n",
       "  'octfile': '1axis_2021-11-08_1030.oct'}}"
      ]
     },
     "execution_count": 77,
     "metadata": {},
     "output_type": "execute_result"
    }
   ],
   "source": [
    "trackerdict = radObj.makeOct1axis()"
   ]
  },
  {
   "cell_type": "code",
   "execution_count": 95,
   "id": "166fe660",
   "metadata": {},
   "outputs": [
    {
     "name": "stdout",
     "output_type": "stream",
     "text": [
      "Linescan in process: 1axis_2021-11-08_0930Module_Row1_Module2_Front\n",
      "Linescan in process: 1axis_2021-11-08_0930Module_Row1_Module2_Back\n",
      "Saved: results\\irr_1axis_2021-11-08_0930Module_Row1_Module2.csv\n",
      "Index: 2021-11-08_0930. Wm2Front: 821.90435. Wm2Back: 74.13197\n",
      "Linescan in process: 1axis_2021-11-08_1030Module_Row1_Module2_Front\n",
      "Linescan in process: 1axis_2021-11-08_1030Module_Row1_Module2_Back\n",
      "Saved: results\\irr_1axis_2021-11-08_1030Module_Row1_Module2.csv\n",
      "Index: 2021-11-08_1030. Wm2Front: 831.4467. Wm2Back: 93.048215\n"
     ]
    }
   ],
   "source": [
    "trackerdict = radObj.analysis1axis(customname = 'Module',\n",
    "                                   sensorsy=2, modWanted=2,\n",
    "                                   rowWanted=1)"
   ]
  },
  {
   "cell_type": "code",
   "execution_count": 98,
   "id": "7f18ec9d",
   "metadata": {},
   "outputs": [
    {
     "name": "stdout",
     "output_type": "stream",
     "text": [
      "Linescan in process: 1axis_2021-11-08_0930Ground_Row1_Module3_Front\n",
      "Linescan in process: 1axis_2021-11-08_0930Ground_Row1_Module3_Back\n",
      "Saved: results\\irr_1axis_2021-11-08_0930Ground_Row1_Module3_Front.csv\n",
      "Saved: results\\irr_1axis_2021-11-08_0930Ground_Row1_Module3_Back.csv\n",
      "Index: 2021-11-08_0930. Wm2Front: 821.935. Wm2Back: 570.2763666666666\n",
      "Linescan in process: 1axis_2021-11-08_1030Ground_Row1_Module3_Front\n",
      "Linescan in process: 1axis_2021-11-08_1030Ground_Row1_Module3_Back\n",
      "Saved: results\\irr_1axis_2021-11-08_1030Ground_Row1_Module3_Front.csv\n",
      "Saved: results\\irr_1axis_2021-11-08_1030Ground_Row1_Module3_Back.csv\n",
      "Index: 2021-11-08_1030. Wm2Front: 831.058. Wm2Back: 609.7100466666667\n"
     ]
    }
   ],
   "source": [
    "resolutionGround = 1  # use 1 for faster test runs\n",
    "numsensors = int((pitch/resolutionGround)+1)\n",
    "modscanback = {'xstart': 0, \n",
    "                'zstart': 0.05,\n",
    "                'xinc': resolutionGround,\n",
    "                'zinc': 0,\n",
    "                'Ny':numsensors,\n",
    "                'orient':'0 0 -1'}\n",
    "\n",
    "# Analysis for GROUND\n",
    "trackerdict = radObj.analysis1axis(customname = 'Ground',\n",
    "                                   modscanback=modscanback, sensorsy=1)"
   ]
  },
  {
   "cell_type": "code",
   "execution_count": 99,
   "id": "ccc40d6f",
   "metadata": {},
   "outputs": [
    {
     "data": {
      "text/plain": [
       "{'surf_azm': 90.0,\n",
       " 'surf_tilt': 45.01,\n",
       " 'theta': -45.01,\n",
       " 'dni': 793.0,\n",
       " 'ghi': 583.0,\n",
       " 'dhi': 98.0,\n",
       " 'temp_air': 28.0,\n",
       " 'wind_speed': 1.1,\n",
       " 'skyfile': 'skies\\\\sky2_18.45_-66.1_2021-11-08_0930.rad',\n",
       " 'radfile': 'objects\\\\1axis2021-11-08_0930__C_0.79277_rtr_5.00000_tilt_45.01000_5modsx2rows_origin0,0.rad',\n",
       " 'scene': {'module': {'x': 1, 'y': 2, 'z': 0.02, 'modulematerial': 'black', 'scenex': 1.01, 'sceney': 2.0, 'scenez': 0.1, 'numpanels': 1, 'bifi': 1, 'text': '! genbox black PVmodule 1 2 0.02 | xform -t -0.5 -1.0 0 -a 1 -t 0 2.0 0', 'modulefile': 'objects\\\\PVmodule.rad', 'glass': False, 'offsetfromaxis': 0, 'xgap': 0.01, 'ygap': 0.0, 'zgap': 0.1}, 'modulefile': 'objects\\\\PVmodule.rad', 'hpc': False, 'name': 'Scene0', 'gcr': 0.4, 'text': '!xform -rx 45.01 -t 0 0 1.5 -a 5 -t 1.01 0 0 -a 2 -t 0 5 0 -i 1 -t -2.02 -0.0 0 -rz 90.0 -t 0 0 0 objects\\\\PVmodule.rad', 'radfiles': 'objects\\\\1axis2021-11-08_0930__C_0.79277_rtr_5.00000_tilt_45.01000_5modsx2rows_origin0,0.rad', 'sceneDict': {'tilt': 45.01, 'pitch': 5, 'clearance_height': 0.7927698161689823, 'azimuth': 90.0, 'nMods': 5, 'nRows': 2, 'modulez': 0.02, 'axis_tilt': 0, 'originx': 0, 'originy': 0}},\n",
       " 'octfile': '1axis_2021-11-08_0930.oct',\n",
       " 'Results': [{'rowWanted': 1,\n",
       "   'modWanted': 3,\n",
       "   'AnalysisObj': {'octfile': '1axis_2021-11-08_0930.oct', 'name': '1axis_2021-11-08_0930Ground', 'hpc': False, 'modWanted': 3, 'rowWanted': 1, 'Wm2Front': [821.935], 'Wm2Back': [539.2277, 573.02, 577.169, 576.9775, 577.3217, 577.9423], 'backRatio': 0.6938208895420892, 'x': [0.0, 1.0, 2.0, 3.0, 4.0, 5.0], 'y': [-4.330536e-20, -4.333355e-17, -8.66238e-17, -1.29914e-16, -1.732043e-16, -2.164945e-16], 'z': [0.05, 0.05, 0.05, 0.05, 0.05, 0.05], 'mattype': ['a2.0.a0.PVmodule.6457'], 'rearMat': ['groundplane', 'groundplane', 'groundplane', 'groundplane', 'groundplane', 'groundplane']},\n",
       "   'Wm2Front': [821.935],\n",
       "   'Wm2Back': [539.2277, 573.02, 577.169, 576.9775, 577.3217, 577.9423],\n",
       "   'backRatio': 0.6938208895420892}]}"
      ]
     },
     "execution_count": 99,
     "metadata": {},
     "output_type": "execute_result"
    }
   ],
   "source": [
    "trackerdict['2021-11-08_0930']\n"
   ]
  },
  {
   "cell_type": "code",
   "execution_count": null,
   "id": "58138efc",
   "metadata": {},
   "outputs": [],
   "source": []
  },
  {
   "cell_type": "code",
   "execution_count": null,
   "id": "95212787",
   "metadata": {},
   "outputs": [],
   "source": []
  },
  {
   "cell_type": "code",
   "execution_count": null,
   "id": "d1c42a01",
   "metadata": {},
   "outputs": [],
   "source": []
  }
 ],
 "metadata": {
  "kernelspec": {
   "display_name": "Python 3 (ipykernel)",
   "language": "python",
   "name": "python3"
  },
  "language_info": {
   "codemirror_mode": {
    "name": "ipython",
    "version": 3
   },
   "file_extension": ".py",
   "mimetype": "text/x-python",
   "name": "python",
   "nbconvert_exporter": "python",
   "pygments_lexer": "ipython3",
   "version": "3.9.12"
  }
 },
 "nbformat": 4,
 "nbformat_minor": 5
}
