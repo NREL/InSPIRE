{
 "cells": [
  {
   "attachments": {},
   "cell_type": "markdown",
   "id": "648c9b6f",
   "metadata": {},
   "source": []
  },
  {
   "cell_type": "markdown",
   "id": "426ed74b",
   "metadata": {
    "slideshow": {
     "slide_type": "slide"
    }
   },
   "source": [
    "## 1. Solar Irradiance Data sources\n",
    "\n",
    "### Where to get _Free_ Solar Irradiance Data?\n",
    "\n",
    "There are many different sources of solar irradiance data. For your projects, these are some of the most common:\n",
    "\n",
    "- [NSRDB](https://maps.nrel.gov/nsrdb-viewer/) - National Solar Radiation Database. You can access data through the website for many locations accross the world, or you can use their [web API](https://developer.nrel.gov/docs/solar/nsrdb/) to download data programmatically. An \"API\" is an [\"application programming interface\"](https://en.wikipedia.org/wiki/API), and a \"web API\" is a programming interface that allows you to write code to interact with web services like the NSRDB.\n",
    "\n",
    "- [EPW](https://www.energy.gov/eere/buildings/downloads/energyplus-0) - Energy Plus Weather data is available for many locations accross the world. It's in its own format file ('EPW') so you can't open it easily in a spreadsheet program like Excel, but you can use [`pvlib.iotools.read_epw()`](https://pvlib-python.readthedocs.io/en/stable/reference/generated/pvlib.iotools.read_epw.html) to get it into a dataframe and use it.\n",
    "\n",
    "- [PVGIS](https://re.jrc.ec.europa.eu/pvg_tools/en/) - Free global weather data provided by the European Union and derived from many govermental agencies including the NSRDB. PVGIS also provides a web API. You can get PVGIS TMY data using [`pvlib.iotools.get_pvgis_tmy()`](https://pvlib-python.readthedocs.io/en/stable/reference/generated/pvlib.iotools.get_pvgis_tmy.html).\n",
    "\n",
    "- Perhaps another useful link: https://sam.nrel.gov/weather-data.html\n",
    "\n",
    "### Where else can you get historical irradiance data?\n",
    "\n",
    "There are several commercial providers of solar irradiance data. Data is available at different spatial and time resolutions. Each provider offers data under subscription that will provide access to irradiance (and other weather variables) via API to leverage in python.\n",
    "\n",
    "* [SolarAnywhere](https://www.solaranywhere.com/)\n",
    "* [SolarGIS](https://solargis.com/)\n",
    "* [Vaisala](https://www.vaisala.com/en)\n",
    "* [Meteonorm](https://meteonorm.com/en/)\n",
    "* [DNV Solar Resource Compass](https://src.dnv.com/)"
   ]
  },
  {
   "cell_type": "markdown",
   "id": "89be8493",
   "metadata": {
    "slideshow": {
     "slide_type": "subslide"
    }
   },
   "source": [
    "\n",
    "![NSRDB Example](images/tutorial_1_NSRDB_example.PNG)\n"
   ]
  },
  {
   "cell_type": "markdown",
   "id": "42309d68",
   "metadata": {},
   "source": [
    "### Fetching TMYs from the NSRDB\n",
    "\n",
    "At the [NREL Developer Network](https://developer.nrel.gov/), there are [APIs](https://en.wikipedia.org/wiki/API) to a lot of valuable [solar resources](https://developer.nrel.gov/docs/solar/) like [weather data from the NSRDB](https://developer.nrel.gov/docs/solar/nsrdb/), [operational data from PVDAQ](https://developer.nrel.gov/docs/solar/pvdaq-v3/), or indicative calculations using [PVWatts](https://developer.nrel.gov/docs/solar/pvwatts/). In order to use these resources from NREL, you need to [register for a free API key](https://developer.nrel.gov/signup/). You can test out the APIs using the `DEMO_KEY` but it has limited bandwidth compared to the [usage limit for registered users](https://developer.nrel.gov/docs/rate-limits/). NREL has some [API usage instructions](https://developer.nrel.gov/docs/api-key/), but pvlib has a few builtin functions, like [`pvlib.iotools.get_psm3()`](https://pvlib-python.readthedocs.io/en/stable/reference/generated/pvlib.iotools.get_psm3.html), that wrap the NREL API, and call them for you to make it much easier to use. Skip ahead to the next section to learn more. But before you do...\n",
    "\n",
    "**Please pause now to visit https://developer.nrel.gov/signup/ and get an API key.**\n",
    "\n",
    "\n",
    "<div class=\"alert alert-block alert-info\"> <b>What is an API</b> </div>\n",
    "\n",
    "What exactly is an API? Nowadays, the phrase is used interchangeably with a \"web API\" but in general an API is just a recipe for how to interface with a application programmatically, _IE_: in code. An API could be as simple as a function signature or its published documentation, _EG_: the API for the `solarposition` function is you give it an ISO8601 formatted date with a timezone, the latitude, longitude, and elevation as numbers, and it returns the zenith and azimuth as numbers.\n",
    "\n",
    "A web API is the same, except the application is a web service, that you access at its URL using web methods. We won't go into too much more detail here, but the most common web method is `GET` which is pretty self explanatory. Look over the [NREL web usage instructions](https://developer.nrel.gov/docs/api-key/) for some examples, but interacting with a web API can be as easy as entering a URL into a browser. Try the URL below to _get_ the PVWatts energy output for a fixed tilt site in [Broomfield, CO](https://goo.gl/maps/awkEcNGzSur9Has18).\n",
    "\n",
    "https://developer.nrel.gov/api/pvwatts/v6.json?api_key=DEMO_KEY&lat=40&lon=-105&system_capacity=4&azimuth=180&tilt=40&array_type=1&module_type=1&losses=10\n",
    "\n",
    "In addition to just using your browser, you can also access web APIs programmatically. The most popular Python package to interact with web APIs is [requests](https://docs.python-requests.org/en/master/). There's also free open source command-line tools like [cURL](https://curl.se/) and [HTTPie](https://httpie.io/), and a popular nagware/freemium GUI application called [Postman](https://www.postman.com/).\n",
    "\n",
    "**If you have an NREL API key please enter it in the next cell.**"
   ]
  },
  {
   "cell_type": "code",
   "execution_count": 1,
   "id": "e45586b1",
   "metadata": {},
   "outputs": [],
   "source": [
    "NREL_API_KEY = None  # <-- please set your NREL API key here\n",
    "# note you must use \"quotes\" around your key as it is a string.\n",
    "\n",
    "if NREL_API_KEY is None:\n",
    "       NREL_API_KEY = 'DEMO_KEY'  # OK for this demo, but better to get your own key"
   ]
  },
  {
   "cell_type": "markdown",
   "id": "9b3c1bf9",
   "metadata": {
    "slideshow": {
     "slide_type": "slide"
    }
   },
   "source": [
    "## Fetching TMYs from the NSRDB\n",
    "\n",
    "The example TMY dataset used here is from an airport in North Carolina, but what if we wanted to model a PV system somewhere else? The NSRDB, one of many sources of weather data intended for PV modeling, is free and easy to access using pvlib. As an example, we'll fetch a TMY dataset for San Juan, Puerto Rico at coordinates [(18.4671, -66.1185)](https://goo.gl/maps/ZuYuKFxSpJ1z9HXX8). We use [`pvlib.iotools.get_psm3()`](https://pvlib-python.readthedocs.io/en/stable/reference/generated/pvlib.iotools.get_psm3.html) which returns a Python dictionary of metadata and a Pandas dataframe of the timeseries weather data."
   ]
  },
  {
   "cell_type": "code",
   "execution_count": 25,
   "id": "e4ca9a61",
   "metadata": {
    "slideshow": {
     "slide_type": "subslide"
    }
   },
   "outputs": [
    {
     "data": {
      "text/plain": [
       "{'Source': 'NSRDB',\n",
       " 'Location ID': '1493571',\n",
       " 'City': '-',\n",
       " 'State': '-',\n",
       " 'Country': '-',\n",
       " 'Time Zone': -4,\n",
       " 'Local Time Zone': -4,\n",
       " 'Dew Point Units': 'c',\n",
       " 'DHI Units': 'w/m2',\n",
       " 'DNI Units': 'w/m2',\n",
       " 'GHI Units': 'w/m2',\n",
       " 'Temperature Units': 'c',\n",
       " 'Pressure Units': 'mbar',\n",
       " 'Wind Direction Units': 'Degrees',\n",
       " 'Wind Speed Units': 'm/s',\n",
       " 'Surface Albedo Units': 'N/A',\n",
       " 'Version': '3.2.0',\n",
       " 'latitude': 18.45,\n",
       " 'longitude': -66.1,\n",
       " 'altitude': 6}"
      ]
     },
     "execution_count": 25,
     "metadata": {},
     "output_type": "execute_result"
    }
   ],
   "source": [
    "import pvlib\n",
    "\n",
    "metdata, metadata = pvlib.iotools.get_psm3(\n",
    "    latitude=18.4671, longitude=-66.1185,\n",
    "    api_key=NREL_API_KEY,\n",
    "    email='silvana.ovaitt@nrel.gov',  # <-- any email works here fine\n",
    "    names='tmy', map_variables=True)\n",
    "metadata"
   ]
  },
  {
   "cell_type": "markdown",
   "id": "f90113dc",
   "metadata": {
    "slideshow": {
     "slide_type": "subslide"
    }
   },
   "source": [
    "TMY datasets from the PSM3 service of the NSRDB are timestamped using the real year that the measurements came from. The [`pvlib.iotools.read_tmy3()`](https://pvlib-python.readthedocs.io/en/stable/reference/generated/pvlib.iotools.read_tmy3.html) function had a `coerce_year` argument to force everything to align to a single dummy year, but [`pvlib.iotools.get_psm3()`](https://pvlib-python.readthedocs.io/en/stable/reference/generated/pvlib.iotools.get_psm3.html) doesn't have that feature. For convenience let's standardize the data to 1990 and then compare monthly GHI to the North Carolina location:"
   ]
  },
  {
   "cell_type": "code",
   "execution_count": 3,
   "id": "f57bfbcc",
   "metadata": {},
   "outputs": [],
   "source": [
    "import pandas as pd\n",
    "import matplotlib.pyplot as plt"
   ]
  },
  {
   "cell_type": "code",
   "execution_count": 6,
   "id": "1afe5b21",
   "metadata": {},
   "outputs": [
    {
     "data": {
      "text/plain": [
       "'0.4.2+160.g27c52cf.dirty'"
      ]
     },
     "execution_count": 6,
     "metadata": {},
     "output_type": "execute_result"
    }
   ],
   "source": [
    "import bifacial_radiance as br\n",
    "\n",
    "br.__version__"
   ]
  },
  {
   "cell_type": "code",
   "execution_count": 5,
   "id": "820bca3b",
   "metadata": {},
   "outputs": [
    {
     "name": "stdout",
     "output_type": "stream",
     "text": [
      "Your simulation will be stored in C:\\Users\\sayala\\Documents\\GitHub\\InSPIRE\\TEMP\\Tutorial_3\n"
     ]
    }
   ],
   "source": [
    "import os\n",
    "from pathlib import Path\n",
    "\n",
    "testfolder = str(Path().resolve().parent / 'TEMP' /  'Tutorial_3')\n",
    "\n",
    "if not os.path.exists(testfolder):\n",
    "    os.makedirs(testfolder)\n",
    "    \n",
    "print (\"Your simulation will be stored in %s\" % testfolder)"
   ]
  },
  {
   "cell_type": "code",
   "execution_count": 8,
   "id": "8475b828",
   "metadata": {},
   "outputs": [
    {
     "name": "stdout",
     "output_type": "stream",
     "text": [
      "path = C:\\Users\\sayala\\Documents\\GitHub\\InSPIRE\\TEMP\\Tutorial_3\n",
      "Making path: images\n",
      "Making path: objects\n",
      "Making path: results\n",
      "Making path: skies\n",
      "Making path: EPWs\n",
      "Making path: materials\n"
     ]
    }
   ],
   "source": [
    "radObj = bifacial_radiance.RadianceObj('Sim3',path=testfolder)"
   ]
  },
  {
   "cell_type": "code",
   "execution_count": 31,
   "id": "96181ab3",
   "metadata": {},
   "outputs": [],
   "source": [
    "metadata['timezone'] = metadata['Time Zone']\n",
    "metadata['county'] = 'Candy land'\n",
    "metadata['elevation'] = metadata['altitude']\n",
    "metadata['state'] = metadata['State']\n",
    "metadata['country'] = metadata['Country']"
   ]
  },
  {
   "cell_type": "code",
   "execution_count": 36,
   "id": "1e31d4c0",
   "metadata": {},
   "outputs": [
    {
     "name": "stdout",
     "output_type": "stream",
     "text": [
      "8760 line in WeatherFile. Assuming this is a standard hourly WeatherFile for the year for purposes of saving Gencumulativesky temporary weather files in EPW folder.\n",
      "Coercing year to 2021\n",
      "Filtering dates\n",
      "Saving file EPWs\\metdata_temp.csv, # points: 8760\n",
      "Calculating Sun position for center labeled data, at exact timestamp in input Weather File\n"
     ]
    }
   ],
   "source": [
    "metData = radObj.NSRDBWeatherData(metadata, metdata, starttime='11_08_09', endtime='11_08_11',coerce_year=2021)\n",
    "#starttime=startdatenaive, endtime=startdatenaive"
   ]
  },
  {
   "cell_type": "code",
   "execution_count": 38,
   "id": "963acb36",
   "metadata": {},
   "outputs": [],
   "source": [
    "# -- establish tracking angles\n",
    "hub_height = 1.5\n",
    "pitch = 5\n",
    "sazm = 180  # Tracker axis azimuth\n",
    "modulename = 'PVmodule'\n",
    "fixed_tilt_angle = None\n",
    "gcr = 2 / pitch\n",
    "\n",
    "\n",
    "trackerParams = {'limit_angle':50,\n",
    "             'angledelta':5,\n",
    "             'backtrack':True,\n",
    "             'gcr':gcr,\n",
    "             'cumulativesky':False,\n",
    "             'azimuth': sazm,\n",
    "             'fixed_tilt_angle': fixed_tilt_angle\n",
    "             }\n",
    "\n"
   ]
  },
  {
   "cell_type": "code",
   "execution_count": 39,
   "id": "8b0c10bb",
   "metadata": {},
   "outputs": [],
   "source": [
    "trackerdict = radObj.set1axis(**trackerParams)\n"
   ]
  },
  {
   "cell_type": "code",
   "execution_count": 40,
   "id": "ead5ac77",
   "metadata": {},
   "outputs": [
    {
     "data": {
      "text/plain": [
       "{'2021-11-08_0930': {'surf_azm': 90.0,\n",
       "  'surf_tilt': 45.01,\n",
       "  'theta': -45.01,\n",
       "  'dni': 793.0,\n",
       "  'ghi': 583.0,\n",
       "  'dhi': 98.0,\n",
       "  'temp_air': 28.0,\n",
       "  'wind_speed': 1.1},\n",
       " '2021-11-08_1030': {'surf_azm': 90.0,\n",
       "  'surf_tilt': 28.41,\n",
       "  'theta': -28.41,\n",
       "  'dni': 850.0,\n",
       "  'ghi': 730.0,\n",
       "  'dhi': 103.0,\n",
       "  'temp_air': 29.0,\n",
       "  'wind_speed': 0.9}}"
      ]
     },
     "execution_count": 40,
     "metadata": {},
     "output_type": "execute_result"
    }
   ],
   "source": [
    "trackerdict"
   ]
  },
  {
   "cell_type": "code",
   "execution_count": 42,
   "id": "78dde295",
   "metadata": {},
   "outputs": [
    {
     "name": "stdout",
     "output_type": "stream",
     "text": [
      "\n",
      "Input albedo 0-1, or string from ground.printGroundMaterials().\n",
      "Alternatively, run setGround after readWeatherData()and setGround will read metdata.albedo if available\n"
     ]
    }
   ],
   "source": [
    "radObj.setGround() "
   ]
  },
  {
   "cell_type": "code",
   "execution_count": 41,
   "id": "beaa00e3",
   "metadata": {},
   "outputs": [
    {
     "name": "stdout",
     "output_type": "stream",
     "text": [
      "Creating ~2 skyfiles. \n"
     ]
    },
    {
     "ename": "AttributeError",
     "evalue": "'RadianceObj' object has no attribute 'ground'",
     "output_type": "error",
     "traceback": [
      "\u001b[1;31m---------------------------------------------------------------------------\u001b[0m",
      "\u001b[1;31mAttributeError\u001b[0m                            Traceback (most recent call last)",
      "Cell \u001b[1;32mIn[41], line 1\u001b[0m\n\u001b[1;32m----> 1\u001b[0m trackerdict \u001b[38;5;241m=\u001b[39m radObj\u001b[38;5;241m.\u001b[39mgendaylit1axis()\n",
      "File \u001b[1;32mc:\\users\\sayala\\documents\\github\\bifacial_radiance\\bifacial_radiance\\main.py:2007\u001b[0m, in \u001b[0;36mRadianceObj.gendaylit1axis\u001b[1;34m(self, metdata, trackerdict, startdate, enddate, debug)\u001b[0m\n\u001b[0;32m   2004\u001b[0m \u001b[38;5;66;03m#check for GHI > 0\u001b[39;00m\n\u001b[0;32m   2005\u001b[0m \u001b[38;5;66;03m#if metdata.ghi[i] > 0:\u001b[39;00m\n\u001b[0;32m   2006\u001b[0m \u001b[38;5;28;01mif\u001b[39;00m (metdata\u001b[38;5;241m.\u001b[39mghi[i] \u001b[38;5;241m>\u001b[39m \u001b[38;5;241m0\u001b[39m) \u001b[38;5;241m&\u001b[39m (\u001b[38;5;241m~\u001b[39mnp\u001b[38;5;241m.\u001b[39misnan(metdata\u001b[38;5;241m.\u001b[39mtracker_theta[i])):  \n\u001b[1;32m-> 2007\u001b[0m     skyfile \u001b[38;5;241m=\u001b[39m \u001b[38;5;28mself\u001b[39m\u001b[38;5;241m.\u001b[39mgendaylit(metdata\u001b[38;5;241m=\u001b[39mmetdata,timeindex\u001b[38;5;241m=\u001b[39mi, debug\u001b[38;5;241m=\u001b[39mdebug)\n\u001b[0;32m   2008\u001b[0m     \u001b[38;5;66;03m# trackerdict2 reduces the dict to only the range specified.\u001b[39;00m\n\u001b[0;32m   2009\u001b[0m     trackerdict2[filename] \u001b[38;5;241m=\u001b[39m trackerdict[filename]  \n",
      "File \u001b[1;32mc:\\users\\sayala\\documents\\github\\bifacial_radiance\\bifacial_radiance\\main.py:1591\u001b[0m, in \u001b[0;36mRadianceObj.gendaylit\u001b[1;34m(self, timeindex, metdata, debug)\u001b[0m\n\u001b[0;32m   1587\u001b[0m         \u001b[38;5;28mprint\u001b[39m(\u001b[38;5;124m'\u001b[39m\u001b[38;5;124musage: pass metdata, or run after running \u001b[39m\u001b[38;5;124m'\u001b[39m \u001b[38;5;241m+\u001b[39m\n\u001b[0;32m   1588\u001b[0m               \u001b[38;5;124m'\u001b[39m\u001b[38;5;124mreadWeatherfile() \u001b[39m\u001b[38;5;124m'\u001b[39m) \n\u001b[0;32m   1589\u001b[0m         \u001b[38;5;28;01mreturn\u001b[39;00m\n\u001b[1;32m-> 1591\u001b[0m ground \u001b[38;5;241m=\u001b[39m \u001b[38;5;28mself\u001b[39m\u001b[38;5;241m.\u001b[39mground\n\u001b[0;32m   1593\u001b[0m locName \u001b[38;5;241m=\u001b[39m metdata\u001b[38;5;241m.\u001b[39mcity\n\u001b[0;32m   1594\u001b[0m dni \u001b[38;5;241m=\u001b[39m metdata\u001b[38;5;241m.\u001b[39mdni[timeindex]\n",
      "\u001b[1;31mAttributeError\u001b[0m: 'RadianceObj' object has no attribute 'ground'"
     ]
    }
   ],
   "source": [
    "trackerdict = radObj.gendaylit1axis()"
   ]
  },
  {
   "cell_type": "code",
   "execution_count": null,
   "id": "1fde7dff",
   "metadata": {},
   "outputs": [],
   "source": [
    "    radObj.setGround(alb) \n",
    "\n",
    "    \n",
    "    # -- generate sky   \n",
    "    trackerdict = radObj.gendaylit1axis()\n",
    "    print(trackerdict)\n",
    "    print(\"LEN TRACKERDICT\", len(trackerdict.keys()))\n",
    "    try:\n",
    "        tracazm = trackerdict[list(trackerdict.keys())[0]]['surf_azm']\n",
    "        tractilt = trackerdict[list(trackerdict.keys())[0]]['surf_tilt']\n",
    "    except:\n",
    "        print(\"Issue with tracazm/tractilt on trackerdict for \", path )\n",
    "        tracazm = np.NaN\n",
    "        tractilt = np.NaN  \n",
    "\n",
    "    sceneDict = {'pitch':pitch, \n",
    "                 'hub_height': hub_height,\n",
    "                 'nMods': 19,\n",
    "                 'nRows': 7,\n",
    "                'tilt': fixed_tilt_angle,  \n",
    "                'sazm': sazm\n",
    "                 }\n",
    "\n",
    "    modWanted = 10\n",
    "    rowWanted = 4\n",
    "\n",
    "    trackerdict = radObj.makeScene1axis(module=modulename,sceneDict=sceneDict)\n",
    "\n",
    "    # -- build oct file\n",
    "    trackerdict = radObj.makeOct1axis()\n",
    "\n",
    "    # -- run analysis\n",
    "    # Analysis for Module\n",
    "    trackerdict = radObj.analysis1axis(trackerdict, customname = 'Module',\n",
    "                                       sensorsy=9, modWanted=modWanted,\n",
    "                                       rowWanted=rowWanted)\n",
    "    try:\n",
    "        trackerdict = radObj.calculateResults(bifacialityfactor=0.7, agriPV=False)\n",
    "    except:\n",
    "        print(\"**Error on trackerdict WHY!, skipping\", gid, startdate)\n",
    "        print(\"Trackerdict error path: \" , results_path)\n",
    "        print(\"TRACKERDICT Print:\", radObj.trackerdict)\n",
    "        results = [np.NaN] * 38\n",
    "        #results = None\n",
    "        with open(results_path, \"wb\") as fp:   #Pickling\n",
    "            pickle.dump(results, fp)        \n",
    "        return results\n",
    "\n",
    "    ResultPVWm2Back = radObj.CompiledResults.iloc[0]['Grear_mean']\n",
    "    ResultPVWm2Front = radObj.CompiledResults.iloc[0]['Gfront_mean']"
   ]
  },
  {
   "cell_type": "code",
   "execution_count": null,
   "id": "58138efc",
   "metadata": {},
   "outputs": [],
   "source": []
  },
  {
   "cell_type": "code",
   "execution_count": null,
   "id": "95212787",
   "metadata": {},
   "outputs": [],
   "source": []
  },
  {
   "cell_type": "markdown",
   "id": "9b9ab256",
   "metadata": {
    "slideshow": {
     "slide_type": "notes"
    }
   },
   "source": [
    "It's not too surprising to see that Puerto Rico location is significantly sunnier than the one in North Carolina."
   ]
  },
  {
   "cell_type": "markdown",
   "id": "73b17519",
   "metadata": {},
   "source": [
    "[![Creative Commons License](https://i.creativecommons.org/l/by/4.0/88x31.png)](http://creativecommons.org/licenses/by/4.0/)\n",
    "\n",
    "This work is licensed under a [Creative Commons Attribution 4.0 International License](http://creativecommons.org/licenses/by/4.0/)."
   ]
  },
  {
   "cell_type": "code",
   "execution_count": null,
   "id": "d1c42a01",
   "metadata": {},
   "outputs": [],
   "source": []
  }
 ],
 "metadata": {
  "kernelspec": {
   "display_name": "Python 3 (ipykernel)",
   "language": "python",
   "name": "python3"
  },
  "language_info": {
   "codemirror_mode": {
    "name": "ipython",
    "version": 3
   },
   "file_extension": ".py",
   "mimetype": "text/x-python",
   "name": "python",
   "nbconvert_exporter": "python",
   "pygments_lexer": "ipython3",
   "version": "3.11.4"
  }
 },
 "nbformat": 4,
 "nbformat_minor": 5
}
