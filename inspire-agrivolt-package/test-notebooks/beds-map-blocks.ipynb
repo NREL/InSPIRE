{
 "cells": [
  {
   "cell_type": "code",
   "execution_count": 1,
   "id": "8aa8ba86-4d1a-4aea-b1ee-fb159d19547d",
   "metadata": {},
   "outputs": [],
   "source": [
    "import xarray as xr\n",
    "import dask.array as da\n",
    "import numpy as np\n",
    "\n",
    "import inspire_agrivolt"
   ]
  },
  {
   "cell_type": "code",
   "execution_count": null,
   "id": "bc4aea2b-14d3-4306-bd94-c298bb912d37",
   "metadata": {},
   "outputs": [],
   "source": [
    "model_outputs = xr.open_zarr(\"/projects/inspire/PySAM-MAPS/v0.5/colorado/08.zarr\")"
   ]
  },
  {
   "cell_type": "code",
   "execution_count": null,
   "id": "dc28a5b1-5b54-416b-96db-73e3dfa2a1a4",
   "metadata": {},
   "outputs": [],
   "source": [
    "# downselect toy problem subset\n",
    "scenario_dataset = model_outputs.isel(gid=slice(0,10))\n",
    "# set values to check binning size\n",
    "scenario_dataset.pitch[0]=3.8\n",
    "scenario_dataset.pitch[1]=3.81\n",
    "scenario_dataset.pitch[5]=10\n",
    "scenario_dataset.pitch[8]=11.5\n",
    "scenario_dataset.pitch[9]=12\n",
    "\n",
    "scenario_dataset"
   ]
  },
  {
   "cell_type": "code",
   "execution_count": null,
   "id": "eb5835f8-6a73-4a4d-8b50-df4b7745f838",
   "metadata": {},
   "outputs": [],
   "source": [
    "scenario_dataset.data_vars"
   ]
  },
  {
   "cell_type": "code",
   "execution_count": null,
   "id": "dd5f0300-0b48-482f-8c52-23c0bb5126ea",
   "metadata": {},
   "outputs": [],
   "source": [
    "def iter_beds(scenario_dataset: xr.Dataset) -> xr.DataArray:\n",
    "    \n",
    "    bins = np.array([3.8, 3.8492,  4.9491, 6.9355, 11.5465, 12.0001, np.inf ])\n",
    "    distance_index = np.arange(0, 10, dtype=int)\n",
    "    \n",
    "    slices = np.array(\n",
    "            [\n",
    "                [0, 5, 5, 7, 7, 8, 8, 10], # 3.8, 3.8492\n",
    "                [0, 4, 4, 6, 6, 8, 8, 10], # 3.8492,  4.9491\n",
    "                [0, 3, 3, 5, 5, 8, 8, 10], # 4.9491, 6.9355\n",
    "                [0, 2, 2, 5, 5, 7, 7, 10], # 6.9355, 11.5465\n",
    "                [0, 1, 1, 4, 4, 7, 7, 10], # 11.5465, 12.0\n",
    "            ],\n",
    "        dtype=int\n",
    "    )\n",
    "    \n",
    "    digitized = np.digitize(scenario_dataset.pitch, bins)\n",
    "    \n",
    "    # if anything in the range\n",
    "    if np.any(digitized == 6):\n",
    "        raise ValueError(\"Invalid pitch value above 12 provided.\")\n",
    "    \n",
    "    slice_index = digitized - 1\n",
    "    selected_slices = slices[slice_index]\n",
    "    \n",
    "    res = []\n",
    "    for i, gid in enumerate(scenario_dataset.gid):\n",
    "        # calculate mask\n",
    "        under_start= selected_slices[i,0]\n",
    "        under_end  = selected_slices[i,1]\n",
    "        beda_start = selected_slices[i,2]\n",
    "        beda_end   = selected_slices[i,3]\n",
    "        bedb_start = selected_slices[i,4]\n",
    "        bedb_end   = selected_slices[i,5]\n",
    "        bedc_start = selected_slices[i,6]\n",
    "        bedc_end   = selected_slices[i,7]\n",
    "        \n",
    "        mask_under = (distance_index >= under_start) & (distance_index < under_end)\n",
    "        mask_beda = (distance_index >= beda_start) & (distance_index < beda_end) \n",
    "        mask_bedb = (distance_index >= bedb_start) & (distance_index < bedb_end)\n",
    "        mask_bedc = (distance_index >= bedc_start) & (distance_index < bedc_end)\n",
    "        \n",
    "        single_loc_beds_ds = xr.merge(\n",
    "            [\n",
    "            scenario_dataset.ground_irradiance.isel(gid=i, distance=mask_under).mean(dim=\"distance\").rename(\"under_pannel\"),\n",
    "            scenario_dataset.ground_irradiance.isel(gid=i, distance=mask_beda).mean(dim=\"distance\").rename(\"beda\"),\n",
    "            scenario_dataset.ground_irradiance.isel(gid=i, distance=mask_bedb).mean(dim=\"distance\").rename(\"bedb\"),\n",
    "            scenario_dataset.ground_irradiance.isel(gid=i, distance=mask_bedc).mean(dim=\"distance\").rename(\"bedc\"),\n",
    "            ]\n",
    "        )\n",
    "        \n",
    "        res.append(single_loc_beds_ds)\n",
    "        \n",
    "    return xr.concat(res, dim=\"gid\")"
   ]
  },
  {
   "cell_type": "code",
   "execution_count": null,
   "id": "b9ac6576-fc2f-4830-aeff-2f954dd22eeb",
   "metadata": {},
   "outputs": [],
   "source": [
    "chunks = scenario_dataset.chunks\n",
    "\n",
    "chunks_gid = chunks[\"gid\"][0]\n",
    "chunks_time = chunks[\"time\"][0]\n",
    "\n",
    "dims = scenario_dataset.dims\n",
    "\n",
    "size_gid = chunks[\"gid\"][0]\n",
    "size_time = chunks[\"time\"][0]\n",
    "\n",
    "beds_dims = (\"gid\", \"time\")\n",
    "\n",
    "# change to lambda function?\n",
    "def beds_array():\n",
    "    return da.empty(dtype=float, shape=(size_gid, size_time), chunks=(chunks_gid, chunks_time))\n",
    "\n",
    "map_template = xr.Dataset(\n",
    "    data_vars = {\n",
    "        'under_pannel': (beds_dims, beds_array()),\n",
    "        'beda': (beds_dims, beds_array()),\n",
    "        'bedb': (beds_dims, beds_array()),\n",
    "        'bedc': (beds_dims, beds_array())\n",
    "    },\n",
    "    coords={\n",
    "        \"gid\":scenario_dataset.gid,\n",
    "        \"time\":scenario_dataset.time,\n",
    "    }\n",
    ")"
   ]
  },
  {
   "cell_type": "code",
   "execution_count": null,
   "id": "5e3360cb-bc57-4998-a6ef-1a592a1da916",
   "metadata": {},
   "outputs": [],
   "source": [
    "beds_ds = scenario_dataset.map_blocks(iter_beds, template=map_template)"
   ]
  },
  {
   "cell_type": "code",
   "execution_count": null,
   "id": "34cf4658-729e-49c0-acdf-69e7d0aa1f28",
   "metadata": {},
   "outputs": [],
   "source": [
    "beds_ds.compute()"
   ]
  },
  {
   "cell_type": "code",
   "execution_count": null,
   "id": "8652da47-97de-4a5b-ba37-9aa94f5fb1c5",
   "metadata": {},
   "outputs": [],
   "source": [
    "beds_ds.isel(gid=0).beda.plot()\n",
    "beds_ds.isel(gid=0).bedb.plot()\n",
    "beds_ds.isel(gid=0).bedc.plot()"
   ]
  },
  {
   "cell_type": "code",
   "execution_count": null,
   "id": "e4645884-c8e9-4c47-8698-9ac0eb92d61a",
   "metadata": {},
   "outputs": [],
   "source": [
    "(scenario_dataset[\"annual_energy\"]).compute()"
   ]
  },
  {
   "cell_type": "code",
   "execution_count": null,
   "id": "d47c804b-757f-46ab-8075-e24cb73b8937",
   "metadata": {},
   "outputs": [],
   "source": [
    "(scenario_dataset[\"annual_energy\"] / 80.466).compute()"
   ]
  },
  {
   "cell_type": "code",
   "execution_count": null,
   "id": "47c7d7dd-c830-4fc8-865d-da6447223574",
   "metadata": {},
   "outputs": [],
   "source": [
    "scenario_dataset"
   ]
  }
 ],
 "metadata": {
  "kernelspec": {
   "display_name": "geospatial",
   "language": "python",
   "name": "geospatial"
  },
  "language_info": {
   "codemirror_mode": {
    "name": "ipython",
    "version": 3
   },
   "file_extension": ".py",
   "mimetype": "text/x-python",
   "name": "python",
   "nbconvert_exporter": "python",
   "pygments_lexer": "ipython3",
   "version": "3.9.21"
  }
 },
 "nbformat": 4,
 "nbformat_minor": 5
}
