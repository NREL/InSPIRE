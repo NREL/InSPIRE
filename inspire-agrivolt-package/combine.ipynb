{
 "cells": [
  {
   "cell_type": "code",
   "execution_count": 1,
   "id": "4f9beadd-e946-46b3-a706-a2d13ecf2b9b",
   "metadata": {},
   "outputs": [],
   "source": [
    "from pathlib import Path\n",
    "import asyncio\n",
    "import json\n",
    "import fsspec\n",
    "from collections import defaultdict\n",
    "\n",
    "from kerchunk.combine import MultiZarrToZarr, merge_vars, auto_dask\n",
    "from kerchunk.zarr import ZarrToZarr\n",
    "\n",
    "import numpy as np\n",
    "import xarray as xr\n",
    "import pvdeg\n",
    "\n",
    "MODEL_OUTS_DIR = Path(\"/projects/inspire/PySAM-MAPS/v1.1/model-outs/\")\n",
    "POSTPROCESS_OUTS_DIR = Path(\"/projects/inspire/PySAM-MAPS/v1.1/postprocess/\")"
   ]
  },
  {
   "cell_type": "code",
   "execution_count": null,
   "id": "a0b2185c-0a99-423d-89b4-1b53f62aff22",
   "metadata": {},
   "outputs": [],
   "source": [
    "pvdeg.geospatial.start_dask(32)"
   ]
  },
  {
   "cell_type": "code",
   "execution_count": 2,
   "id": "422529d6-4921-4f07-b661-17a41bcdabfc",
   "metadata": {},
   "outputs": [],
   "source": [
    "def load_model_outs_zarrs(confs: list[str]) -> dict[str, list[xr.Dataset]]: \n",
    "    \"\"\"\n",
    "    Find and load all model outputs results zarrs.\n",
    "    \"\"\"\n",
    "    # FIND all MODEL_OUTS paths by config\n",
    "    model_outs_all_conf_zarrs_paths = {}\n",
    "    for conf in confs:\n",
    "        conf_zarrs_paths = model_outs_all_conf_zarrs_paths.get(conf, [])\n",
    "        model_outs_all_conf_zarrs_paths[conf] = conf_zarrs_paths\n",
    "\n",
    "        for dir in MODEL_OUTS_DIR.iterdir():\n",
    "            for conf_dir in dir.glob(conf):\n",
    "                model_outs_all_conf_zarrs_paths[conf] += list(conf_dir.glob(\"*.zarr\"))\n",
    "        print(f\"found {len(model_outs_all_conf_zarrs_paths[conf])} zarrs for model outs conf {conf}\")\n",
    "\n",
    "    # LOAD all MODEL_OUTS zarrs by config\n",
    "    model_outs_all_conf_zarrs = {}\n",
    "    for conf in confs:\n",
    "        print(f\"loading model outs zarrs for conf {conf}\")\n",
    "        conf_zarrs = model_outs_all_conf_zarrs.get(conf, [])\n",
    "        model_outs_all_conf_zarrs[conf] = conf_zarrs\n",
    "\n",
    "        for path in model_outs_all_conf_zarrs_paths[conf]:\n",
    "            model_outs_chunk = xr.open_zarr(path)\n",
    "            model_outs_all_conf_zarrs[conf].append(model_outs_chunk)\n",
    "        print(f\"loaded {len(model_outs_all_conf_zarrs[conf])} MODEL OUTS zarrs to for config {conf}.\")\n",
    "\n",
    "    return model_outs_all_conf_zarrs\n",
    "\n",
    "def load_postprocessing_zarrs(confs: list[str]) -> dict[str, list[xr.Dataset]]: \n",
    "    \"\"\"\n",
    "    Find and load all postprocessing results zarrs.\n",
    "    \"\"\"\n",
    "    # find all postprocessing zarrs paths\n",
    "    postprocess_all_conf_zarrs_paths = {}\n",
    "    for conf in confs:\n",
    "        conf_zarrs_paths = postprocess_all_conf_zarrs_paths.get(conf, [])\n",
    "        postprocess_all_conf_zarrs_paths[conf] = conf_zarrs_paths\n",
    "\n",
    "        for state_dir in POSTPROCESS_OUTS_DIR.iterdir():\n",
    "            for conf_zarr in state_dir.glob(\"*.zarr\"):\n",
    "\n",
    "                postprocess_all_conf_zarrs_paths[conf].append(conf_zarr)\n",
    "\n",
    "    # load all postprocessing zarrs\n",
    "    postprocess_all_conf_zarrs = {}\n",
    "    for conf in confs:\n",
    "        print(f\"loading postprocessing zarrs for conf {conf}\")\n",
    "        conf_zarrs = postprocess_all_conf_zarrs.get(conf, [])\n",
    "        postprocess_all_conf_zarrs[conf] = conf_zarrs\n",
    "\n",
    "        for path in postprocess_all_conf_zarrs_paths[conf]:\n",
    "            postprocess_state_conf = xr.open_zarr(path).drop_dims(10) # extra dim in dataset\n",
    "            postprocess_all_conf_zarrs[conf].append(postprocess_state_conf)\n",
    "\n",
    "        print(f\"loaded {len(postprocess_all_conf_zarrs[conf])} POSTPROCESS zarrs to for config {conf}.\")\n",
    "\n",
    "    return postprocess_all_conf_zarrs"
   ]
  },
  {
   "cell_type": "code",
   "execution_count": null,
   "id": "0b6fcf60-948f-47af-bf9f-d77696e5f6b4",
   "metadata": {},
   "outputs": [
    {
     "name": "stdout",
     "output_type": "stream",
     "text": [
      "found 1660 zarrs for model outs conf 01\n",
      "loading model outs zarrs for conf 01\n",
      "loaded 1660 MODEL OUTS zarrs to for config 01.\n",
      "loading postprocessing zarrs for conf 01\n"
     ]
    }
   ],
   "source": [
    "confs = [\"01\",]# \"02\", \"03\", \"04\", \"05\", \"06\", \"07\", \"08\", \"09\", \"10\"]\n",
    "\n",
    "model_outs_all_conf_zarrs = load_model_outs_zarrs(confs)\n",
    "postprocess_all_conf_zarrs = load_postprocessing_zarrs(confs)\n",
    "\n",
    "model_res = xr.concat(model_outs_all_conf_zarrs['01'], dim=\"gid\")"
   ]
  },
  {
   "cell_type": "code",
   "execution_count": null,
   "id": "f3a449c5-42cf-489b-b3d5-766b822d0839",
   "metadata": {},
   "outputs": [],
   "source": []
  }
 ],
 "metadata": {
  "kernelspec": {
   "display_name": "geospatial",
   "language": "python",
   "name": "geospatial"
  },
  "language_info": {
   "codemirror_mode": {
    "name": "ipython",
    "version": 3
   },
   "file_extension": ".py",
   "mimetype": "text/x-python",
   "name": "python",
   "nbconvert_exporter": "python",
   "pygments_lexer": "ipython3",
   "version": "3.9.21"
  }
 },
 "nbformat": 4,
 "nbformat_minor": 5
}
