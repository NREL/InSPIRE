{
 "cells": [
  {
   "cell_type": "markdown",
   "metadata": {},
   "source": [
    "# 1. Read DAT File\n",
    "Typical workflow: go to https://midcdmz.nrel.gov/apps/day.pl?BMS \n",
    "\n",
    "Get the following fields for ALL TIMES (not just sunrise):\n",
    "\n",
    "- Global CMP22 (vent/cor) [W/m^2]\n",
    "- Direct CHP1-1 [W/m^2]\n",
    "- Diffuse 8-48 (vent) [W/m^2]\n",
    "- Tower Dry Bulb Temp [deg C]\n",
    "- Avg Wind Speed @ 6ft [m/s]\n",
    "- Albedo (CMP11)\n",
    "\n",
    "Average to 1, 15 or 60 minutes and removes values out of bound (if any)\n",
    "\n",
    "Save on PSM3 format for use with bifacialVF, SAM, and PVSyst"
   ]
  },
  {
   "cell_type": "code",
   "execution_count": 1,
   "metadata": {},
   "outputs": [],
   "source": [
    "datafolder = 'Data'"
   ]
  },
  {
   "cell_type": "code",
   "execution_count": 2,
   "metadata": {},
   "outputs": [],
   "source": [
    "import numpy as np\n",
    "import pandas as pd\n",
    "import matplotlib.pyplot as plt\n",
    "from matplotlib import style\n",
    "import pvlib\n",
    "import datetime\n",
    "import pprint\n",
    "import os"
   ]
  },
  {
   "cell_type": "code",
   "execution_count": 3,
   "metadata": {},
   "outputs": [],
   "source": [
    "plt.rcParams['timezone'] = 'Etc/GMT+7'\n",
    "pd.plotting.register_matplotlib_converters()"
   ]
  },
  {
   "cell_type": "code",
   "execution_count": 4,
   "metadata": {},
   "outputs": [
    {
     "name": "stdout",
     "output_type": "stream",
     "text": [
      "Working on a  Windows 10\n",
      "Python version  3.11.4 | packaged by Anaconda, Inc. | (main, Jul  5 2023, 13:38:37) [MSC v.1916 64 bit (AMD64)]\n",
      "Pandas version  2.1.0\n"
     ]
    }
   ],
   "source": [
    "# This information helps with debugging and getting support :)\n",
    "import sys, platform\n",
    "print(\"Working on a \", platform.system(), platform.release())\n",
    "print(\"Python version \", sys.version)\n",
    "print(\"Pandas version \", pd.__version__)\n"
   ]
  },
  {
   "cell_type": "markdown",
   "metadata": {},
   "source": [
    "# Functions to Update SSRL Data and Save"
   ]
  },
  {
   "cell_type": "code",
   "execution_count": 6,
   "metadata": {},
   "outputs": [],
   "source": [
    "df = pd.read_csv(os.path.join(datafolder, 'BARNirrad.dat'), delimiter='\\t')"
   ]
  },
  {
   "cell_type": "code",
   "execution_count": null,
   "metadata": {},
   "outputs": [],
   "source": [
    "for col in df:\n",
    "    plt.figure()\n",
    "    plt.plot(df[col])\n",
    "    plt.title(col)"
   ]
  },
  {
   "cell_type": "code",
   "execution_count": 10,
   "metadata": {},
   "outputs": [],
   "source": [
    "loc_weatherdata_1T = weatherdata.tz_localize('Etc/GMT+7')\n",
    "\n",
    "weatherdata_15T = _averageSRRL(loc_weatherdata_1T, interval='15T', closed='right', label='right')\n",
    "weatherdata_60T = _averageSRRL(loc_weatherdata_1T, interval='60T', closed='right', label='right')\n",
    "\n"
   ]
  },
  {
   "cell_type": "code",
   "execution_count": 11,
   "metadata": {},
   "outputs": [],
   "source": [
    "freq='60T'\n",
    "df = weatherdata_60T.copy()\n"
   ]
  },
  {
   "cell_type": "code",
   "execution_count": 12,
   "metadata": {},
   "outputs": [],
   "source": [
    "def fillYear(df, freq):\n",
    "    import pandas as pd\n",
    "    # add zeros for the rest of the year\n",
    "    if freq is None:\n",
    "        try:\n",
    "            freq = pd.infer_freq(df.index)\n",
    "        except:\n",
    "            freq = '15T'  # 15 minute data by default\n",
    "    tzinfo = df.index.tzinfo\n",
    "    starttime = pd.to_datetime('%s-%s-%s %s:%s' % (df.index.year[0],1,1,0,0 ) ).tz_localize(tzinfo)\n",
    "    endtime = pd.to_datetime('%s-%s-%s %s:%s' % (df.index.year[-1],12,31,23,60-int(freq[:-1])) ).tz_localize(tzinfo)\n",
    "    beginning = df.index[0]\n",
    "    ending = df.index[-1]\n",
    "    df.loc[starttime] = 0  # set first datapt to zero to forward fill w zeros\n",
    "    df.loc[endtime] = 0    # set last datapt to zero to forward fill w zeros\n",
    "    df = df.sort_index()\n",
    "    # add zeroes before data series\n",
    "    df2= df[0:2].resample(freq).ffill()\n",
    "    combined = pd.concat([df,df2],sort=True)\n",
    "    combined = combined.loc[~combined.index.duplicated(keep='first')]\n",
    "    # add zeroes after data series\n",
    "    df2  = combined.resample(freq).bfill()\n",
    "    return df2"
   ]
  },
  {
   "cell_type": "code",
   "execution_count": 13,
   "metadata": {},
   "outputs": [],
   "source": [
    "TMY = fillYear(weatherdata_60T, freq='60T')"
   ]
  },
  {
   "cell_type": "code",
   "execution_count": 14,
   "metadata": {},
   "outputs": [
    {
     "data": {
      "text/html": [
       "<div>\n",
       "<style scoped>\n",
       "    .dataframe tbody tr th:only-of-type {\n",
       "        vertical-align: middle;\n",
       "    }\n",
       "\n",
       "    .dataframe tbody tr th {\n",
       "        vertical-align: top;\n",
       "    }\n",
       "\n",
       "    .dataframe thead th {\n",
       "        text-align: right;\n",
       "    }\n",
       "</style>\n",
       "<table border=\"1\" class=\"dataframe\">\n",
       "  <thead>\n",
       "    <tr style=\"text-align: right;\">\n",
       "      <th></th>\n",
       "      <th>Albedo (CMP11)</th>\n",
       "      <th>Avg Wind Speed @ 6ft [m/s]</th>\n",
       "      <th>Diffuse 8-48 (vent) [W/m^2]</th>\n",
       "      <th>Direct CHP1-1 [W/m^2]</th>\n",
       "      <th>Global CMP22 (vent/cor) [W/m^2]</th>\n",
       "      <th>Tower Dry Bulb Temp [deg C]</th>\n",
       "    </tr>\n",
       "    <tr>\n",
       "      <th>datetime</th>\n",
       "      <th></th>\n",
       "      <th></th>\n",
       "      <th></th>\n",
       "      <th></th>\n",
       "      <th></th>\n",
       "      <th></th>\n",
       "    </tr>\n",
       "  </thead>\n",
       "  <tbody>\n",
       "    <tr>\n",
       "      <th>2023-01-01 00:00:00-07:00</th>\n",
       "      <td>0.0</td>\n",
       "      <td>0.0</td>\n",
       "      <td>0.0</td>\n",
       "      <td>0.0</td>\n",
       "      <td>0.0</td>\n",
       "      <td>0.0</td>\n",
       "    </tr>\n",
       "    <tr>\n",
       "      <th>2023-01-01 01:00:00-07:00</th>\n",
       "      <td>0.0</td>\n",
       "      <td>0.0</td>\n",
       "      <td>0.0</td>\n",
       "      <td>0.0</td>\n",
       "      <td>0.0</td>\n",
       "      <td>0.0</td>\n",
       "    </tr>\n",
       "    <tr>\n",
       "      <th>2023-01-01 02:00:00-07:00</th>\n",
       "      <td>0.0</td>\n",
       "      <td>0.0</td>\n",
       "      <td>0.0</td>\n",
       "      <td>0.0</td>\n",
       "      <td>0.0</td>\n",
       "      <td>0.0</td>\n",
       "    </tr>\n",
       "    <tr>\n",
       "      <th>2023-01-01 03:00:00-07:00</th>\n",
       "      <td>0.0</td>\n",
       "      <td>0.0</td>\n",
       "      <td>0.0</td>\n",
       "      <td>0.0</td>\n",
       "      <td>0.0</td>\n",
       "      <td>0.0</td>\n",
       "    </tr>\n",
       "    <tr>\n",
       "      <th>2023-01-01 04:00:00-07:00</th>\n",
       "      <td>0.0</td>\n",
       "      <td>0.0</td>\n",
       "      <td>0.0</td>\n",
       "      <td>0.0</td>\n",
       "      <td>0.0</td>\n",
       "      <td>0.0</td>\n",
       "    </tr>\n",
       "    <tr>\n",
       "      <th>...</th>\n",
       "      <td>...</td>\n",
       "      <td>...</td>\n",
       "      <td>...</td>\n",
       "      <td>...</td>\n",
       "      <td>...</td>\n",
       "      <td>...</td>\n",
       "    </tr>\n",
       "    <tr>\n",
       "      <th>2023-12-31 19:00:00-07:00</th>\n",
       "      <td>0.0</td>\n",
       "      <td>0.0</td>\n",
       "      <td>0.0</td>\n",
       "      <td>0.0</td>\n",
       "      <td>0.0</td>\n",
       "      <td>0.0</td>\n",
       "    </tr>\n",
       "    <tr>\n",
       "      <th>2023-12-31 20:00:00-07:00</th>\n",
       "      <td>0.0</td>\n",
       "      <td>0.0</td>\n",
       "      <td>0.0</td>\n",
       "      <td>0.0</td>\n",
       "      <td>0.0</td>\n",
       "      <td>0.0</td>\n",
       "    </tr>\n",
       "    <tr>\n",
       "      <th>2023-12-31 21:00:00-07:00</th>\n",
       "      <td>0.0</td>\n",
       "      <td>0.0</td>\n",
       "      <td>0.0</td>\n",
       "      <td>0.0</td>\n",
       "      <td>0.0</td>\n",
       "      <td>0.0</td>\n",
       "    </tr>\n",
       "    <tr>\n",
       "      <th>2023-12-31 22:00:00-07:00</th>\n",
       "      <td>0.0</td>\n",
       "      <td>0.0</td>\n",
       "      <td>0.0</td>\n",
       "      <td>0.0</td>\n",
       "      <td>0.0</td>\n",
       "      <td>0.0</td>\n",
       "    </tr>\n",
       "    <tr>\n",
       "      <th>2023-12-31 23:00:00-07:00</th>\n",
       "      <td>0.0</td>\n",
       "      <td>0.0</td>\n",
       "      <td>0.0</td>\n",
       "      <td>0.0</td>\n",
       "      <td>0.0</td>\n",
       "      <td>0.0</td>\n",
       "    </tr>\n",
       "  </tbody>\n",
       "</table>\n",
       "<p>8760 rows × 6 columns</p>\n",
       "</div>"
      ],
      "text/plain": [
       "                           Albedo (CMP11)  Avg Wind Speed @ 6ft [m/s]  \\\n",
       "datetime                                                                \n",
       "2023-01-01 00:00:00-07:00             0.0                         0.0   \n",
       "2023-01-01 01:00:00-07:00             0.0                         0.0   \n",
       "2023-01-01 02:00:00-07:00             0.0                         0.0   \n",
       "2023-01-01 03:00:00-07:00             0.0                         0.0   \n",
       "2023-01-01 04:00:00-07:00             0.0                         0.0   \n",
       "...                                   ...                         ...   \n",
       "2023-12-31 19:00:00-07:00             0.0                         0.0   \n",
       "2023-12-31 20:00:00-07:00             0.0                         0.0   \n",
       "2023-12-31 21:00:00-07:00             0.0                         0.0   \n",
       "2023-12-31 22:00:00-07:00             0.0                         0.0   \n",
       "2023-12-31 23:00:00-07:00             0.0                         0.0   \n",
       "\n",
       "                           Diffuse 8-48 (vent) [W/m^2]  Direct CHP1-1 [W/m^2]  \\\n",
       "datetime                                                                        \n",
       "2023-01-01 00:00:00-07:00                          0.0                    0.0   \n",
       "2023-01-01 01:00:00-07:00                          0.0                    0.0   \n",
       "2023-01-01 02:00:00-07:00                          0.0                    0.0   \n",
       "2023-01-01 03:00:00-07:00                          0.0                    0.0   \n",
       "2023-01-01 04:00:00-07:00                          0.0                    0.0   \n",
       "...                                                ...                    ...   \n",
       "2023-12-31 19:00:00-07:00                          0.0                    0.0   \n",
       "2023-12-31 20:00:00-07:00                          0.0                    0.0   \n",
       "2023-12-31 21:00:00-07:00                          0.0                    0.0   \n",
       "2023-12-31 22:00:00-07:00                          0.0                    0.0   \n",
       "2023-12-31 23:00:00-07:00                          0.0                    0.0   \n",
       "\n",
       "                           Global CMP22 (vent/cor) [W/m^2]  \\\n",
       "datetime                                                     \n",
       "2023-01-01 00:00:00-07:00                              0.0   \n",
       "2023-01-01 01:00:00-07:00                              0.0   \n",
       "2023-01-01 02:00:00-07:00                              0.0   \n",
       "2023-01-01 03:00:00-07:00                              0.0   \n",
       "2023-01-01 04:00:00-07:00                              0.0   \n",
       "...                                                    ...   \n",
       "2023-12-31 19:00:00-07:00                              0.0   \n",
       "2023-12-31 20:00:00-07:00                              0.0   \n",
       "2023-12-31 21:00:00-07:00                              0.0   \n",
       "2023-12-31 22:00:00-07:00                              0.0   \n",
       "2023-12-31 23:00:00-07:00                              0.0   \n",
       "\n",
       "                           Tower Dry Bulb Temp [deg C]  \n",
       "datetime                                                \n",
       "2023-01-01 00:00:00-07:00                          0.0  \n",
       "2023-01-01 01:00:00-07:00                          0.0  \n",
       "2023-01-01 02:00:00-07:00                          0.0  \n",
       "2023-01-01 03:00:00-07:00                          0.0  \n",
       "2023-01-01 04:00:00-07:00                          0.0  \n",
       "...                                                ...  \n",
       "2023-12-31 19:00:00-07:00                          0.0  \n",
       "2023-12-31 20:00:00-07:00                          0.0  \n",
       "2023-12-31 21:00:00-07:00                          0.0  \n",
       "2023-12-31 22:00:00-07:00                          0.0  \n",
       "2023-12-31 23:00:00-07:00                          0.0  \n",
       "\n",
       "[8760 rows x 6 columns]"
      ]
     },
     "execution_count": 14,
     "metadata": {},
     "output_type": "execute_result"
    }
   ],
   "source": [
    "filterdates = (TMY.index >= '2023-1-1') & ~(is_leap_and_29Feb(TMY)) & (TMY.index < '2024-1-1') \n",
    "TMY = TMY[filterdates]\n",
    "TMY"
   ]
  },
  {
   "cell_type": "code",
   "execution_count": 15,
   "metadata": {},
   "outputs": [],
   "source": [
    "saveSAM_SRRLWeatherFile(weatherdata_60T, os.path.join(weatherfolder,'PSM3_60T.csv'), includeminute=False) # No minutes = sunposition T-30min\n",
    "saveSAM_SRRLWeatherFile(TMY, os.path.join(weatherfolder,'PSM3_TMY.csv'), includeminute=False) # No minutes = sunposition T-30min\n",
    "saveSAM_SRRLWeatherFile(weatherdata, os.path.join(weatherfolder,'PSM3_1T.csv'), includeminute=False) # No minutes = sunposition T-30min\n",
    "saveSAM_SRRLWeatherFile(weatherdata_15T, os.path.join(weatherfolder,'PSM3_15T.csv'), includeminute=False) # No minutes = sunposition T-30min"
   ]
  }
 ],
 "metadata": {
  "kernelspec": {
   "display_name": "Python 3 (ipykernel)",
   "language": "python",
   "name": "python3"
  },
  "language_info": {
   "codemirror_mode": {
    "name": "ipython",
    "version": 3
   },
   "file_extension": ".py",
   "mimetype": "text/x-python",
   "name": "python",
   "nbconvert_exporter": "python",
   "pygments_lexer": "ipython3",
   "version": "3.11.4"
  }
 },
 "nbformat": 4,
 "nbformat_minor": 2
}
