{
 "cells": [
  {
   "cell_type": "code",
   "execution_count": 1,
   "id": "e45586b1",
   "metadata": {},
   "outputs": [],
   "source": [
    "NREL_API_KEY = None  # <-- please set your NREL API key here\n",
    "# note you must use \"quotes\" around your key as it is a string.\n",
    "\n",
    "if NREL_API_KEY is None:\n",
    "       NREL_API_KEY = 'DEMO_KEY'  # OK for this demo, but better to get your own key"
   ]
  },
  {
   "cell_type": "code",
   "execution_count": 2,
   "id": "e4ca9a61",
   "metadata": {
    "slideshow": {
     "slide_type": "subslide"
    }
   },
   "outputs": [
    {
     "data": {
      "text/plain": [
       "{'Source': 'NSRDB',\n",
       " 'Location ID': '1493571',\n",
       " 'City': '-',\n",
       " 'State': '-',\n",
       " 'Country': '-',\n",
       " 'Time Zone': -4,\n",
       " 'Local Time Zone': -4,\n",
       " 'Dew Point Units': 'c',\n",
       " 'DHI Units': 'w/m2',\n",
       " 'DNI Units': 'w/m2',\n",
       " 'GHI Units': 'w/m2',\n",
       " 'Temperature Units': 'c',\n",
       " 'Pressure Units': 'mbar',\n",
       " 'Wind Direction Units': 'Degrees',\n",
       " 'Wind Speed Units': 'm/s',\n",
       " 'Surface Albedo Units': 'N/A',\n",
       " 'Version': '3.2.0',\n",
       " 'latitude': 18.45,\n",
       " 'longitude': -66.1,\n",
       " 'altitude': 6}"
      ]
     },
     "execution_count": 2,
     "metadata": {},
     "output_type": "execute_result"
    }
   ],
   "source": [
    "import pvlib\n",
    "\n",
    "metdata, metadata = pvlib.iotools.get_psm3(\n",
    "    latitude=18.4671, longitude=-66.1185,\n",
    "    api_key=NREL_API_KEY,\n",
    "    email='silvana.ovaitt@nrel.gov',  # <-- any email works here fine\n",
    "    names='tmy', map_variables=True)\n",
    "metadata"
   ]
  },
  {
   "cell_type": "markdown",
   "id": "9bce4d3e",
   "metadata": {},
   "source": [
    "## 2. Modeling with bifacial_radiance"
   ]
  },
  {
   "cell_type": "code",
   "execution_count": 3,
   "id": "f57bfbcc",
   "metadata": {},
   "outputs": [],
   "source": [
    "import pandas as pd\n",
    "import matplotlib.pyplot as plt\n",
    "import bifacial_radiance as br"
   ]
  },
  {
   "cell_type": "code",
   "execution_count": 4,
   "id": "187c8786",
   "metadata": {},
   "outputs": [
    {
     "data": {
      "text/plain": [
       "'0.4.2+239.g1e65c8a.dirty'"
      ]
     },
     "execution_count": 4,
     "metadata": {},
     "output_type": "execute_result"
    }
   ],
   "source": [
    "br.__version__"
   ]
  },
  {
   "cell_type": "code",
   "execution_count": 5,
   "id": "45d403df",
   "metadata": {},
   "outputs": [
    {
     "name": "stdout",
     "output_type": "stream",
     "text": [
      "Your simulation will be stored in TEMP\n"
     ]
    }
   ],
   "source": [
    "import os\n",
    "from pathlib import Path\n",
    "\n",
    "testfolder = 'TEMP'\n",
    "\n",
    "if not os.path.exists(testfolder):\n",
    "    os.makedirs(testfolder)\n",
    "    \n",
    "print (\"Your simulation will be stored in %s\" % testfolder)"
   ]
  },
  {
   "cell_type": "code",
   "execution_count": 6,
   "id": "8958888b",
   "metadata": {},
   "outputs": [
    {
     "name": "stdout",
     "output_type": "stream",
     "text": [
      "path = TEMP\n"
     ]
    }
   ],
   "source": [
    "radObj = br.RadianceObj('Sim3',path=testfolder)"
   ]
  },
  {
   "cell_type": "code",
   "execution_count": 7,
   "id": "de048747",
   "metadata": {},
   "outputs": [],
   "source": [
    "# Some of the names changed internally. While bifacial_radiance updates their expected names, we are renaming the values here\n",
    "metadata['timezone'] = metadata['Time Zone']\n",
    "metadata['county'] = '-'\n",
    "metadata['elevation'] = metadata['altitude']\n",
    "metadata['state'] = metadata['State']\n",
    "metadata['country'] = metadata['Country']\n",
    "metdata['Albedo'] = metdata['albedo']"
   ]
  },
  {
   "cell_type": "markdown",
   "id": "9906d67a",
   "metadata": {},
   "source": [
    "Use NSRDBWeatherData to enter data the downloaded data in dataframe and dictionary forma for meteorological data and metadata respectively"
   ]
  },
  {
   "cell_type": "code",
   "execution_count": 8,
   "id": "54b50d1c",
   "metadata": {},
   "outputs": [
    {
     "name": "stdout",
     "output_type": "stream",
     "text": [
      "8760 line in WeatherFile. Assuming this is a standard hourly WeatherFile for the year for purposes of saving Gencumulativesky temporary weather files in EPW folder.\n",
      "Coercing year to 2021\n",
      "Filtering dates\n",
      "Saving file EPWs\\metdata_temp.csv, # points: 8760\n",
      "Calculating Sun position for center labeled data, at exact timestamp in input Weather File\n"
     ]
    }
   ],
   "source": [
    "#starttime can be 'MM_DD', or 'MM_DD_HH'\n",
    "metData = radObj.NSRDBWeatherData(metadata, metdata, starttime='11_08_09', endtime='11_08_11',coerce_year=2021)"
   ]
  },
  {
   "cell_type": "code",
   "execution_count": 9,
   "id": "533fee38",
   "metadata": {},
   "outputs": [
    {
     "data": {
      "text/plain": [
       "[Timestamp('2021-11-08 09:30:00-0400', tz='pytz.FixedOffset(-240)'),\n",
       " Timestamp('2021-11-08 10:30:00-0400', tz='pytz.FixedOffset(-240)')]"
      ]
     },
     "execution_count": 9,
     "metadata": {},
     "output_type": "execute_result"
    }
   ],
   "source": [
    "metData.datetime  # printing the contents of metData to see how many times got loaded."
   ]
  },
  {
   "cell_type": "code",
   "execution_count": 10,
   "id": "e3695668",
   "metadata": {},
   "outputs": [],
   "source": [
    "# -- establish tracking angles\n",
    "hub_height = 1.5\n",
    "pitch = 5\n",
    "sazm = 180  # Tracker axis azimuth\n",
    "modulename = 'PVmodule'\n",
    "fixed_tilt_angle = None\n",
    "gcr = 2 / pitch\n",
    "\n",
    "\n",
    "trackerParams = {'limit_angle':50,\n",
    "             'angledelta':5,\n",
    "             'backtrack':True,\n",
    "             'gcr':gcr,\n",
    "             'cumulativesky':False,\n",
    "             'azimuth': sazm,\n",
    "             'fixed_tilt_angle': fixed_tilt_angle\n",
    "             }"
   ]
  },
  {
   "cell_type": "code",
   "execution_count": 11,
   "id": "8b0c10bb",
   "metadata": {},
   "outputs": [],
   "source": [
    "trackerdict = radObj.set1axis(**trackerParams)"
   ]
  },
  {
   "cell_type": "code",
   "execution_count": 12,
   "id": "62209111",
   "metadata": {},
   "outputs": [
    {
     "name": "stdout",
     "output_type": "stream",
     "text": [
      "Loading albedo, 1 value(s), 0.200 avg\n",
      "1 nonzero albedo values.\n"
     ]
    }
   ],
   "source": [
    "radObj.setGround(0.2) "
   ]
  },
  {
   "cell_type": "code",
   "execution_count": 13,
   "id": "192e4187",
   "metadata": {},
   "outputs": [
    {
     "name": "stdout",
     "output_type": "stream",
     "text": [
      "Creating ~2 skyfiles. \n",
      "Created 2 skyfiles in /skies/\n"
     ]
    },
    {
     "data": {
      "text/plain": [
       "{'2021-11-08_0930': {'surf_azm': 90.0,\n",
       "  'surf_tilt': 45.01,\n",
       "  'theta': -45.01,\n",
       "  'dni': 793.0,\n",
       "  'ghi': 583.0,\n",
       "  'dhi': 98.0,\n",
       "  'temp_air': 28.0,\n",
       "  'wind_speed': 1.1,\n",
       "  'skyfile': 'skies\\\\sky2_18.45_-66.1_2021-11-08_0930.rad'},\n",
       " '2021-11-08_1030': {'surf_azm': 90.0,\n",
       "  'surf_tilt': 28.41,\n",
       "  'theta': -28.41,\n",
       "  'dni': 850.0,\n",
       "  'ghi': 730.0,\n",
       "  'dhi': 103.0,\n",
       "  'temp_air': 29.0,\n",
       "  'wind_speed': 0.9,\n",
       "  'skyfile': 'skies\\\\sky2_18.45_-66.1_2021-11-08_1030.rad'}}"
      ]
     },
     "execution_count": 13,
     "metadata": {},
     "output_type": "execute_result"
    }
   ],
   "source": [
    "radObj.gendaylit1axis()"
   ]
  },
  {
   "cell_type": "code",
   "execution_count": 14,
   "id": "c009b024",
   "metadata": {},
   "outputs": [
    {
     "name": "stdout",
     "output_type": "stream",
     "text": [
      "\n",
      "Module Name: PVmodule\n",
      "Module PVmodule updated in module.json\n",
      "Pre-existing .rad file objects\\PVmodule.rad will be overwritten\n",
      "\n"
     ]
    }
   ],
   "source": [
    "module=radObj.makeModule(name=modulename, x=1,y=2)"
   ]
  },
  {
   "cell_type": "code",
   "execution_count": 15,
   "id": "c8b03c85",
   "metadata": {},
   "outputs": [],
   "source": [
    "sceneDict = {'pitch':pitch, \n",
    "             'hub_height': hub_height,\n",
    "             'nMods': 5,\n",
    "             'nRows': 2,\n",
    "             'tilt': fixed_tilt_angle,  \n",
    "             'sazm': sazm\n",
    "             }"
   ]
  },
  {
   "cell_type": "code",
   "execution_count": 16,
   "id": "25ebb961",
   "metadata": {},
   "outputs": [
    {
     "name": "stdout",
     "output_type": "stream",
     "text": [
      "\n",
      "Making ~2 .rad files for gendaylit 1-axis workflow (this takes a minute..)\n",
      "2 Radfiles created in /objects/\n"
     ]
    }
   ],
   "source": [
    "trackerdict = radObj.makeScene1axis(module=modulename,sceneDict=sceneDict)\n"
   ]
  },
  {
   "cell_type": "code",
   "execution_count": 17,
   "id": "28e47e00",
   "metadata": {},
   "outputs": [
    {
     "name": "stdout",
     "output_type": "stream",
     "text": [
      "\n",
      "Making 2 octfiles in root directory.\n",
      "Created 1axis_2021-11-08_0930.oct\n",
      "Created 1axis_2021-11-08_1030.oct\n"
     ]
    }
   ],
   "source": [
    "trackerdict = radObj.makeOct1axis()"
   ]
  },
  {
   "cell_type": "code",
   "execution_count": 18,
   "id": "166fe660",
   "metadata": {},
   "outputs": [
    {
     "name": "stdout",
     "output_type": "stream",
     "text": [
      "Linescan in process: 1axis_2021-11-08_0930Module_Row1_Module2_Front\n",
      "Linescan in process: 1axis_2021-11-08_0930Module_Row1_Module2_Back\n",
      "Saved: results\\irr_1axis_2021-11-08_0930Module_Row1_Module2.csv\n",
      "Index: 2021-11-08_0930. Wm2Front: 821.8948. Wm2Back: 74.16203999999999\n",
      "Linescan in process: 1axis_2021-11-08_1030Module_Row1_Module2_Front\n",
      "Linescan in process: 1axis_2021-11-08_1030Module_Row1_Module2_Back\n",
      "Saved: results\\irr_1axis_2021-11-08_1030Module_Row1_Module2.csv\n",
      "Index: 2021-11-08_1030. Wm2Front: 831.2946000000001. Wm2Back: 92.94554500000001\n"
     ]
    }
   ],
   "source": [
    "trackerdict = radObj.analysis1axis(customname = 'Module', \n",
    "                                   sensorsy=2, modWanted=2,\n",
    "                                   rowWanted=1)"
   ]
  },
  {
   "cell_type": "code",
   "execution_count": 19,
   "id": "db2ae664",
   "metadata": {},
   "outputs": [
    {
     "name": "stdout",
     "output_type": "stream",
     "text": [
      "No CECModule data passed; using default for Prism Solar BHC72-400\n"
     ]
    },
    {
     "name": "stderr",
     "output_type": "stream",
     "text": [
      "c:\\users\\sayala\\documents\\github\\bifacial_radiance\\bifacial_radiance\\performance.py:64: FutureWarning: Calling float on a single element Series is deprecated and will raise a TypeError in the future. Use float(ser.iloc[0]) instead\n",
      "  alpha_sc=float(CECMod.alpha_sc),\n",
      "c:\\users\\sayala\\documents\\github\\bifacial_radiance\\bifacial_radiance\\performance.py:65: FutureWarning: Calling float on a single element Series is deprecated and will raise a TypeError in the future. Use float(ser.iloc[0]) instead\n",
      "  a_ref=float(CECMod.a_ref),\n",
      "c:\\users\\sayala\\documents\\github\\bifacial_radiance\\bifacial_radiance\\performance.py:66: FutureWarning: Calling float on a single element Series is deprecated and will raise a TypeError in the future. Use float(ser.iloc[0]) instead\n",
      "  I_L_ref=float(CECMod.I_L_ref),\n",
      "c:\\users\\sayala\\documents\\github\\bifacial_radiance\\bifacial_radiance\\performance.py:67: FutureWarning: Calling float on a single element Series is deprecated and will raise a TypeError in the future. Use float(ser.iloc[0]) instead\n",
      "  I_o_ref=float(CECMod.I_o_ref),\n",
      "c:\\users\\sayala\\documents\\github\\bifacial_radiance\\bifacial_radiance\\performance.py:68: FutureWarning: Calling float on a single element Series is deprecated and will raise a TypeError in the future. Use float(ser.iloc[0]) instead\n",
      "  R_sh_ref=float(CECMod.R_sh_ref),\n",
      "c:\\users\\sayala\\documents\\github\\bifacial_radiance\\bifacial_radiance\\performance.py:69: FutureWarning: Calling float on a single element Series is deprecated and will raise a TypeError in the future. Use float(ser.iloc[0]) instead\n",
      "  R_s=float(CECMod.R_s),\n",
      "c:\\users\\sayala\\documents\\github\\bifacial_radiance\\bifacial_radiance\\performance.py:70: FutureWarning: Calling float on a single element Series is deprecated and will raise a TypeError in the future. Use float(ser.iloc[0]) instead\n",
      "  Adjust=float(CECMod.Adjust)\n",
      "c:\\users\\sayala\\documents\\github\\bifacial_radiance\\bifacial_radiance\\performance.py:64: FutureWarning: Calling float on a single element Series is deprecated and will raise a TypeError in the future. Use float(ser.iloc[0]) instead\n",
      "  alpha_sc=float(CECMod.alpha_sc),\n",
      "c:\\users\\sayala\\documents\\github\\bifacial_radiance\\bifacial_radiance\\performance.py:65: FutureWarning: Calling float on a single element Series is deprecated and will raise a TypeError in the future. Use float(ser.iloc[0]) instead\n",
      "  a_ref=float(CECMod.a_ref),\n",
      "c:\\users\\sayala\\documents\\github\\bifacial_radiance\\bifacial_radiance\\performance.py:66: FutureWarning: Calling float on a single element Series is deprecated and will raise a TypeError in the future. Use float(ser.iloc[0]) instead\n",
      "  I_L_ref=float(CECMod.I_L_ref),\n",
      "c:\\users\\sayala\\documents\\github\\bifacial_radiance\\bifacial_radiance\\performance.py:67: FutureWarning: Calling float on a single element Series is deprecated and will raise a TypeError in the future. Use float(ser.iloc[0]) instead\n",
      "  I_o_ref=float(CECMod.I_o_ref),\n",
      "c:\\users\\sayala\\documents\\github\\bifacial_radiance\\bifacial_radiance\\performance.py:68: FutureWarning: Calling float on a single element Series is deprecated and will raise a TypeError in the future. Use float(ser.iloc[0]) instead\n",
      "  R_sh_ref=float(CECMod.R_sh_ref),\n",
      "c:\\users\\sayala\\documents\\github\\bifacial_radiance\\bifacial_radiance\\performance.py:69: FutureWarning: Calling float on a single element Series is deprecated and will raise a TypeError in the future. Use float(ser.iloc[0]) instead\n",
      "  R_s=float(CECMod.R_s),\n",
      "c:\\users\\sayala\\documents\\github\\bifacial_radiance\\bifacial_radiance\\performance.py:70: FutureWarning: Calling float on a single element Series is deprecated and will raise a TypeError in the future. Use float(ser.iloc[0]) instead\n",
      "  Adjust=float(CECMod.Adjust)\n"
     ]
    }
   ],
   "source": [
    "trackerdict = radObj.calculateResults(bifacialityfactor=0.7, agriPV=False)"
   ]
  },
  {
   "cell_type": "code",
   "execution_count": 21,
   "id": "76affcff",
   "metadata": {},
   "outputs": [
    {
     "data": {
      "text/plain": [
       "74.16203999999999"
      ]
     },
     "execution_count": 21,
     "metadata": {},
     "output_type": "execute_result"
    }
   ],
   "source": [
    "ResultPVWm2Back = radObj.CompiledResults.iloc[0]['Grear_mean']\n",
    "ResultPVWm2Front = radObj.CompiledResults.iloc[0]['Gfront_mean']\n",
    "ResultPVWm2Back"
   ]
  },
  {
   "cell_type": "code",
   "execution_count": 26,
   "id": "72f02fde",
   "metadata": {},
   "outputs": [
    {
     "data": {
      "text/html": [
       "<div>\n",
       "<style scoped>\n",
       "    .dataframe tbody tr th:only-of-type {\n",
       "        vertical-align: middle;\n",
       "    }\n",
       "\n",
       "    .dataframe tbody tr th {\n",
       "        vertical-align: top;\n",
       "    }\n",
       "\n",
       "    .dataframe thead th {\n",
       "        text-align: right;\n",
       "    }\n",
       "</style>\n",
       "<table border=\"1\" class=\"dataframe\">\n",
       "  <thead>\n",
       "    <tr style=\"text-align: right;\">\n",
       "      <th></th>\n",
       "      <th>timestamp</th>\n",
       "      <th>module</th>\n",
       "      <th>row</th>\n",
       "      <th>POA_eff</th>\n",
       "      <th>Grear_mean</th>\n",
       "      <th>Gfront_mean</th>\n",
       "      <th>Pout_raw</th>\n",
       "      <th>Pout_Gfront</th>\n",
       "      <th>BGG</th>\n",
       "      <th>BGE</th>\n",
       "      <th>Mismatch</th>\n",
       "      <th>Pout</th>\n",
       "      <th>Wind Speed</th>\n",
       "      <th>DNI</th>\n",
       "      <th>DHI</th>\n",
       "      <th>GHI</th>\n",
       "    </tr>\n",
       "  </thead>\n",
       "  <tbody>\n",
       "    <tr>\n",
       "      <th>0</th>\n",
       "      <td>2021-11-08_0930</td>\n",
       "      <td>2</td>\n",
       "      <td>1</td>\n",
       "      <td>873.808228</td>\n",
       "      <td>74.162040</td>\n",
       "      <td>821.8948</td>\n",
       "      <td>314.050775</td>\n",
       "      <td>297.462232</td>\n",
       "      <td>6.316311</td>\n",
       "      <td>5.576689</td>\n",
       "      <td>0.000042</td>\n",
       "      <td>314.050643</td>\n",
       "      <td>1.1</td>\n",
       "      <td>793.0</td>\n",
       "      <td>98.0</td>\n",
       "      <td>583.0</td>\n",
       "    </tr>\n",
       "    <tr>\n",
       "      <th>1</th>\n",
       "      <td>2021-11-08_1030</td>\n",
       "      <td>2</td>\n",
       "      <td>1</td>\n",
       "      <td>896.356482</td>\n",
       "      <td>92.945545</td>\n",
       "      <td>831.2946</td>\n",
       "      <td>319.367970</td>\n",
       "      <td>298.857203</td>\n",
       "      <td>7.826573</td>\n",
       "      <td>6.863066</td>\n",
       "      <td>0.000017</td>\n",
       "      <td>319.367915</td>\n",
       "      <td>0.9</td>\n",
       "      <td>850.0</td>\n",
       "      <td>103.0</td>\n",
       "      <td>730.0</td>\n",
       "    </tr>\n",
       "  </tbody>\n",
       "</table>\n",
       "</div>"
      ],
      "text/plain": [
       "         timestamp  module  row     POA_eff  Grear_mean  Gfront_mean  \\\n",
       "0  2021-11-08_0930       2    1  873.808228   74.162040     821.8948   \n",
       "1  2021-11-08_1030       2    1  896.356482   92.945545     831.2946   \n",
       "\n",
       "     Pout_raw  Pout_Gfront       BGG       BGE  Mismatch        Pout  \\\n",
       "0  314.050775   297.462232  6.316311  5.576689  0.000042  314.050643   \n",
       "1  319.367970   298.857203  7.826573  6.863066  0.000017  319.367915   \n",
       "\n",
       "   Wind Speed    DNI    DHI    GHI  \n",
       "0         1.1  793.0   98.0  583.0  \n",
       "1         0.9  850.0  103.0  730.0  "
      ]
     },
     "execution_count": 26,
     "metadata": {},
     "output_type": "execute_result"
    }
   ],
   "source": [
    "radObj.CompiledResults"
   ]
  },
  {
   "cell_type": "code",
   "execution_count": 23,
   "id": "7f18ec9d",
   "metadata": {},
   "outputs": [
    {
     "name": "stdout",
     "output_type": "stream",
     "text": [
      "Linescan in process: 1axis_2021-11-08_0930Ground_Row1_Module3_Front\n",
      "Linescan in process: 1axis_2021-11-08_0930Ground_Row1_Module3_Back\n",
      "Saved: results\\irr_1axis_2021-11-08_0930Ground_Row1_Module3_Front.csv\n",
      "Saved: results\\irr_1axis_2021-11-08_0930Ground_Row1_Module3_Back.csv\n",
      "Index: 2021-11-08_0930. Wm2Front: 570.3255499999999. Wm2Back: 63.12785\n",
      "Linescan in process: 1axis_2021-11-08_1030Ground_Row1_Module3_Front\n",
      "Linescan in process: 1axis_2021-11-08_1030Ground_Row1_Module3_Back\n",
      "Saved: results\\irr_1axis_2021-11-08_1030Ground_Row1_Module3_Front.csv\n",
      "Saved: results\\irr_1axis_2021-11-08_1030Ground_Row1_Module3_Back.csv\n",
      "Index: 2021-11-08_1030. Wm2Front: 609.4579166666667. Wm2Back: 77.27292\n"
     ]
    }
   ],
   "source": [
    "resolutionGround = 1  #meter. use 1 for faster test runs\n",
    "numsensors = int((pitch/resolutionGround)+1)\n",
    "modscanback = {'xstart': 0, \n",
    "                'zstart': 0.05,\n",
    "                'xinc': resolutionGround,\n",
    "                'zinc': 0,\n",
    "                'Ny':numsensors,\n",
    "                'orient':'0 0 -1'}\n",
    "\n",
    "# Analysis for GROUND\n",
    "trackerdict = radObj.analysis1axis(customname = 'Ground',\n",
    "                                   modscanfront=modscanback, sensorsy=1)"
   ]
  },
  {
   "cell_type": "code",
   "execution_count": 41,
   "id": "d01e83fd",
   "metadata": {},
   "outputs": [],
   "source": [
    "keys=list(trackerdict.keys())\n",
    "\n",
    "groundIrrad = []\n",
    "moduleGfront = []\n",
    "moduleGrear = []\n",
    "\n",
    "for key in keys:\n",
    "    groundIrrad.append(c]['Results'][1]['Wm2Front'])\n",
    "    moduleGfront.append(trackerdict[keys[key]]['Results'][0]['Wm2Front'])\n",
    "    moduleGrear.append(trackerdict[keys[key]]['Results'][0]['Wm2Back'])\n",
    "    "
   ]
  },
  {
   "cell_type": "code",
   "execution_count": 58,
   "id": "de8522ba",
   "metadata": {},
   "outputs": [
    {
     "data": {
      "text/plain": [
       "[538.7146, 573.0331, 577.3693, 576.9442, 577.7593, 578.1328]"
      ]
     },
     "execution_count": 58,
     "metadata": {},
     "output_type": "execute_result"
    }
   ],
   "source": [
    "trackerdict[keys[key]]['Results'][1]['Wm2Front']"
   ]
  },
  {
   "cell_type": "code",
   "execution_count": 50,
   "id": "95212787",
   "metadata": {},
   "outputs": [
    {
     "ename": "KeyError",
     "evalue": "'sceneDict'",
     "output_type": "error",
     "traceback": [
      "\u001b[1;31m---------------------------------------------------------------------------\u001b[0m",
      "\u001b[1;31mKeyError\u001b[0m                                  Traceback (most recent call last)",
      "Cell \u001b[1;32mIn[50], line 7\u001b[0m\n\u001b[0;32m      5\u001b[0m trackerdict[keys[key]][\u001b[38;5;124m'\u001b[39m\u001b[38;5;124mtemp_air\u001b[39m\u001b[38;5;124m'\u001b[39m]\n\u001b[0;32m      6\u001b[0m trackerdict[keys[key]][\u001b[38;5;124m'\u001b[39m\u001b[38;5;124mwind_speed\u001b[39m\u001b[38;5;124m'\u001b[39m]\n\u001b[1;32m----> 7\u001b[0m trackerdict[keys[key]][\u001b[38;5;124m'\u001b[39m\u001b[38;5;124msceneDict\u001b[39m\u001b[38;5;124m'\u001b[39m][\u001b[38;5;124m'\u001b[39m\u001b[38;5;124mpitch\u001b[39m\u001b[38;5;124m'\u001b[39m]\n",
      "\u001b[1;31mKeyError\u001b[0m: 'sceneDict'"
     ]
    }
   ],
   "source": [
    "trackerdict[keys[key]]\n",
    "trackerdict[keys[key]]['dni']\n",
    "trackerdict[keys[key]]['ghi']\n",
    "trackerdict[keys[key]]['dhi']\n",
    "trackerdict[keys[key]]['temp_air']\n",
    "trackerdict[keys[key]]['wind_speed']\n",
    "trackerdict[keys[key]]['scene'].sceneDict['pitch']\n",
    "trackerdict[keys[]]\n",
    "trackerdict[]"
   ]
  },
  {
   "cell_type": "code",
   "execution_count": 56,
   "id": "a8146779",
   "metadata": {},
   "outputs": [
    {
     "data": {
      "text/plain": [
       "5"
      ]
     },
     "execution_count": 56,
     "metadata": {},
     "output_type": "execute_result"
    }
   ],
   "source": []
  },
  {
   "cell_type": "code",
   "execution_count": null,
   "id": "9bbb2d48",
   "metadata": {},
   "outputs": [],
   "source": [
    "moduleGfront = trackerdict[keys[key]]['Results'][0]['Wm2Front']\n",
    "moduleGrear = trackerdict[keys[key]]['Results'][0]['Wm2Back']"
   ]
  }
 ],
 "metadata": {
  "kernelspec": {
   "display_name": "Python 3 (ipykernel)",
   "language": "python",
   "name": "python3"
  },
  "language_info": {
   "codemirror_mode": {
    "name": "ipython",
    "version": 3
   },
   "file_extension": ".py",
   "mimetype": "text/x-python",
   "name": "python",
   "nbconvert_exporter": "python",
   "pygments_lexer": "ipython3",
   "version": "3.11.4"
  }
 },
 "nbformat": 4,
 "nbformat_minor": 5
}
