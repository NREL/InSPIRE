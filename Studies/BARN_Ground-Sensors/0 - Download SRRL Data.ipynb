{
 "cells": [
  {
   "cell_type": "markdown",
   "metadata": {},
   "source": [
    "# 0. Download SRRL DATA\n",
    "\n",
    "Typical workflow: go to https://midcdmz.nrel.gov/apps/day.pl?BMS \n",
    "\n",
    "Get the following fields for ALL TIMES (not just sunrise):\n",
    "\n",
    "- Global CMP22 (vent/cor) [W/m^2]\n",
    "- Direct CHP1-1 [W/m^2]\n",
    "- Diffuse 8-48 (vent) [W/m^2]\n",
    "- Tower Dry Bulb Temp [deg C]\n",
    "- Avg Wind Speed @ 6ft [m/s]\n",
    "- Albedo (CMP11)\n",
    "\n",
    "Average to 1, 15 or 60 minutes and removes values out of bound (if any)\n",
    "\n",
    "Save on PSM3 format for use with bifacialVF, SAM, and PVSyst"
   ]
  },
  {
   "cell_type": "code",
   "execution_count": 1,
   "metadata": {},
   "outputs": [],
   "source": [
    "weatherfolder = 'WeatherFiles'"
   ]
  },
  {
   "cell_type": "code",
   "execution_count": 2,
   "metadata": {},
   "outputs": [],
   "source": [
    "import numpy as np\n",
    "import pandas as pd\n",
    "import matplotlib.pyplot as plt\n",
    "from matplotlib import style\n",
    "import pvlib\n",
    "import datetime\n",
    "import pprint\n",
    "import os"
   ]
  },
  {
   "cell_type": "code",
   "execution_count": 3,
   "metadata": {},
   "outputs": [],
   "source": [
    "plt.rcParams['timezone'] = 'Etc/GMT+7'\n",
    "pd.plotting.register_matplotlib_converters()"
   ]
  },
  {
   "cell_type": "code",
   "execution_count": 4,
   "metadata": {},
   "outputs": [
    {
     "name": "stdout",
     "output_type": "stream",
     "text": [
      "Working on a  Windows 10\n",
      "Python version  3.11.4 | packaged by Anaconda, Inc. | (main, Jul  5 2023, 13:38:37) [MSC v.1916 64 bit (AMD64)]\n",
      "Pandas version  2.1.0\n"
     ]
    }
   ],
   "source": [
    "# This information helps with debugging and getting support :)\n",
    "import sys, platform\n",
    "print(\"Working on a \", platform.system(), platform.release())\n",
    "print(\"Python version \", sys.version)\n",
    "print(\"Pandas version \", pd.__version__)\n"
   ]
  },
  {
   "cell_type": "markdown",
   "metadata": {},
   "source": [
    "# Functions to Update SSRL Data and Save"
   ]
  },
  {
   "cell_type": "code",
   "execution_count": 5,
   "metadata": {},
   "outputs": [],
   "source": [
    "def updateSRRL(srrlfile='bifacial_MIDC_2023.txt', interval='1T', start=None, end=None):\n",
    "    '''\n",
    "    updateSRRL(srrlfile)\n",
    "    \n",
    "    keep the file in the RTC analysis folder updated with current 1-minute SRRL data\n",
    "    default file: bifacial_MIDC_2023.txt\n",
    "    \n",
    "    start: optional startdate YYYYMMDD to manually override\n",
    "    end:   optional enddate YYYYMMDD to manually override\n",
    "\n",
    "    ## SRRL API - limited to 211 days. Described here: https://midcdmz.nrel.gov/apps/data_api_doc.pl?BMS\n",
    "    # https://midc.nrel.gov/apps/data_api.pl?site=SSSSSSSS&begin=YYYYMMDD&end=YYYYMMDD\n",
    "    # NOTE:  this downloads EVERYTHING - and takes forever.  \n",
    "    # NOTE2:  SRRL changed data format in 2020. you need to query 2019 and 2020 data in SEPARATE queries \n",
    "    '''\n",
    "    \n",
    "    from datetime import datetime\n",
    "    import pandas as pd\n",
    "\n",
    "    try:\n",
    "        srrldata = pd.read_csv(srrlfile, index_col =0)\n",
    "        srrldata.set_index(pd.to_datetime(srrldata.index), inplace=True)\n",
    "        if start is None:\n",
    "            start = pd.to_datetime(srrldata.index[-1]).strftime('%Y%m%d')  # start at the most recent data point in the file\n",
    "    except FileNotFoundError: # file doesn't exist yet - start from scratch\n",
    "            # default startdate = 1/1/2019 if the file can't be read\n",
    "        if start is None:\n",
    "            start = pd.to_datetime('2023-08-28').strftime('%Y%m%d')\n",
    "        srrldata = pd.DataFrame()\n",
    "\n",
    "    if end is None:\n",
    "        end = pd.to_datetime(datetime.now()).strftime('%Y%m%d')  # today\n",
    "    \n",
    "    # if interval == '1T': # SIL Temporary fix because format changed after this...\n",
    "    #     end = '20191231'\n",
    "        \n",
    "    if (pd.to_datetime(end) - pd.to_datetime(start)).days < 200:\n",
    "        newdata = _getSRRL(start,end)\n",
    "    else: # just get the maximum increment of 200 days\n",
    "        end = (pd.to_datetime(start)+pd.to_timedelta('200d')).strftime('%Y%m%d') \n",
    "        newdata = _getSRRL(start,end)\n",
    "        \n",
    "    srrldata = _averageSRRL(srrldata, interval)\n",
    "    newdata15 = _averageSRRL(newdata, interval) # 15-minute averaged, raw\n",
    "    \n",
    "    # combine with existing srrldata\n",
    "    \n",
    "    combined = pd.concat([srrldata,newdata15],sort=True) #.drop_duplicates()\n",
    "    #de-dupe the data\n",
    "    combined = combined.loc[~combined.index.duplicated(keep='first')]\n",
    "    \n",
    "    print('Saving to file: {}'.format(srrlfile))\n",
    "    combined.to_csv(srrlfile)\n",
    "    return combined    \n",
    "    \n",
    "    \n",
    "def _getSRRL(start,end):\n",
    "    '''\n",
    "    getSRRL(start,end)\n",
    "    \n",
    "    API function to call SRRL BMS data\n",
    "    start, end:  YYYYMMDD format\n",
    "    \n",
    "    returns:  dataframe\n",
    "    \n",
    "    '''\n",
    "    import io\n",
    "    import pandas as pd\n",
    "    import requests\n",
    "    \n",
    "    \n",
    "    site = 'BMS'\n",
    "    paramlist = ['Global CMP22 (vent/cor) [W/m^2]',\n",
    "             'Direct CHP1-1 [W/m^2]',\n",
    "             'Diffuse 8-48 (vent) [W/m^2]',\n",
    "             'Tower Dry Bulb Temp [deg C]',\n",
    "             'Avg Wind Speed @ 6ft [m/s]',\n",
    "             'Albedo (CMP11)'\n",
    "            ]\n",
    "\n",
    "    url=\"https://midcdmz.nrel.gov/apps/data_api.pl?site={}&begin={}&end={}\".format(site,start,end)\n",
    "    s=requests.get(url).content\n",
    "    df=pd.read_csv(io.StringIO(s.decode('utf-8')))\n",
    "    # change Year, DOY and MST into datetime index\n",
    "    date = pd.to_datetime(df.Year, format='%Y') + pd.to_timedelta(df.DOY - 1, unit='d') \n",
    "    time = pd.to_datetime(df['MST'].apply('{:0>4}'.format),format='%H%M') #Sil is this df['MST']? ORigina lsayd \"c['MST']\"\n",
    "    df['date'] = date \n",
    "    df['time'] = time\n",
    "    df['datetime'] = pd.to_datetime({'Year':date.dt.year, 'Month':date.dt.month, 'Day':date.dt.day, 'Hour':time.dt.hour, 'Minute':time.dt.minute})\n",
    "    df = df.set_index(pd.DatetimeIndex(df.datetime))\n",
    "    \n",
    "    return df[paramlist]\n",
    "\n",
    "def _averageSRRL(df, interval='15T', closed='right', label='right'):\n",
    "    try:\n",
    "        df = df.resample(interval, closed=closed, label=label).mean() #\n",
    "    except:\n",
    "        print('Warning - unable to average')\n",
    "    return df\n",
    "\n",
    "def cleanSRRL(df):\n",
    "    #function to  remove <0 data\n",
    "    # set all fields except 'Tower Dry Bulb Temp [deg C]' >=0\n",
    "    tamb = df['Tower Dry Bulb Temp [deg C]'].copy()\n",
    "    df[df < 0] = 0\n",
    "    df['Tower Dry Bulb Temp [deg C]'] = tamb\n",
    "    return df\n"
   ]
  },
  {
   "cell_type": "code",
   "execution_count": 6,
   "metadata": {},
   "outputs": [],
   "source": [
    "# https://stackoverflow.com/questions/34966422/remove-leap-year-day-from-pandas-dataframe/34966636\n",
    "def is_leap_and_29Feb(s):\n",
    "    return (s.index.year % 4 == 0) & \\\n",
    "           ((s.index.year % 100 != 0) | (s.index.year % 400 == 0)) & \\\n",
    "           (s.index.month == 2) & (s.index.day == 29)"
   ]
  },
  {
   "cell_type": "markdown",
   "metadata": {},
   "source": [
    "## DOWNLOAD DATA"
   ]
  },
  {
   "cell_type": "code",
   "execution_count": null,
   "metadata": {},
   "outputs": [],
   "source": [
    "srrlfile = os.path.join(weatherfolder,'bifacial_MIDC_2023.txt')\n",
    "interval = '1T'\n",
    "start = pd.to_datetime('2023-08-28').strftime('%Y%m%d')\n",
    "end = pd.to_datetime('2023-11-02').strftime('%Y%m%d') # End fo experiment on 11/01\n",
    "# up to current data, or as far as it can get; if too many days have to run _getSRRl a couple times.\n",
    "# Note that format changed on 01/05/2024\n",
    "\n",
    "weatherdata = updateSRRL(srrlfile, end=end)\n",
    "weatherdata = cleanSRRL(weatherdata)\n",
    "weatherdata['Albedo (CMP11)'] = weatherdata['Albedo (CMP11)'].clip(0.0,1.0)\n"
   ]
  },
  {
   "cell_type": "markdown",
   "metadata": {},
   "source": [
    "## LOAD Data"
   ]
  },
  {
   "cell_type": "code",
   "execution_count": null,
   "metadata": {},
   "outputs": [],
   "source": [
    "def saveSAM_SRRLWeatherFile(srrl15, savefile='BARN_SamFile.csv', includeminute = True):\n",
    "    \"\"\"\n",
    "    Saves a dataframe with weather data from SRRL on SAM-friendly format.\n",
    "\n",
    "    INPUT:\n",
    "    data\n",
    "    savefile\n",
    "    includeminute  -- especially for hourly data, if SAM input does not have Minutes, it assuems it's TMY3 format and \n",
    "                      calculates the sun position 30 minutes prior to the hour (i.e. 12 timestamp means sun position at 11:30)\n",
    "                      If minutes are included, it will calculate the sun position at the time of the timestamp (12:00 at 12:00)\n",
    "                      Include minutes if resolution of data is not hourly duh. (but it will calculate at the timestamp)\n",
    "                      \n",
    "    Headers expected by SAM:\n",
    "    ************************* \n",
    "    # Source\tLocation ID\tCity\tState\tCountry\tLatitude\tLongitude\tTime Zone\tElevation\t\t\n",
    "\n",
    "    Column names\n",
    "    *************\n",
    "    # Year\tMonth\tDay\tHour\tMinute\tWspd\tTdry\tDHI\tDNI\tGHI\tAlbedo\n",
    "\n",
    "    OR\n",
    "    # Year\tMonth\tDay\tHour\tWspd\tTdry\tDHI\tDNI\tGHI\tAlbedo\n",
    "\n",
    "    \"\"\"\n",
    "\n",
    "    import pandas as pd\n",
    "\n",
    "    header = \"Source,Location ID,City,State,Country,Latitude,Longitude,Time Zone,Elevation,,,,,,,,,,\\n\" + \\\n",
    "            \"Measured,724666,DENVER/CENTENNIAL [GOLDEN - NREL],CO,USA,39.742,-105.179,-7,1829,,,,,,,,,,\\n\"\n",
    "\n",
    "    if includeminute:\n",
    "        savedata = pd.DataFrame({'Year':srrl15.index.year, 'Month':srrl15.index.month, 'Day':srrl15.index.day,\n",
    "                                 'Hour':srrl15.index.hour, 'Minute':srrl15.index.minute,\n",
    "                                 'Wspd':srrl15['Avg Wind Speed @ 6ft [m/s]'],\n",
    "                                 'Tdry':srrl15['Tower Dry Bulb Temp [deg C]'],\n",
    "                                 'DHI':srrl15['Diffuse 8-48 (vent) [W/m^2]'],\n",
    "                                 'DNI':srrl15['Direct CHP1-1 [W/m^2]'],\n",
    "                                 'GHI':srrl15['Global CMP22 (vent/cor) [W/m^2]'],\n",
    "                                 'Albedo':srrl15['Albedo (CMP11)']\n",
    "                                 })\n",
    "    else:\n",
    "         savedata = pd.DataFrame({'Year':srrl15.index.year, 'Month':srrl15.index.month, 'Day':srrl15.index.day,\n",
    "                                 'Hour':srrl15.index.hour,\n",
    "                                 'Wspd':srrl15['Avg Wind Speed @ 6ft [m/s]'],\n",
    "                                 'Tdry':srrl15['Tower Dry Bulb Temp [deg C]'],\n",
    "                                 'DHI':srrl15['Diffuse 8-48 (vent) [W/m^2]'],\n",
    "                                 'DNI':srrl15['Direct CHP1-1 [W/m^2]'],\n",
    "                                 'GHI':srrl15['Global CMP22 (vent/cor) [W/m^2]'],\n",
    "                                 'Albedo':srrl15['Albedo (CMP11)']\n",
    "                                 })\n",
    "    with open(savefile, 'w', newline='') as ict:\n",
    "        # Write the header lines, including the index variable for\n",
    "        # the last one if you're letting Pandas produce that for you.\n",
    "        # (see above).\n",
    "        for line in header:\n",
    "            ict.write(line)\n",
    "\n",
    "        savedata.to_csv(ict, index=False)\n"
   ]
  },
  {
   "cell_type": "code",
   "execution_count": null,
   "metadata": {},
   "outputs": [],
   "source": [
    "for col in weatherdata:\n",
    "    plt.figure()\n",
    "    plt.plot(weatherdata[col])\n",
    "    plt.title(col)"
   ]
  },
  {
   "cell_type": "code",
   "execution_count": null,
   "metadata": {},
   "outputs": [],
   "source": [
    "loc_weatherdata_1T = weatherdata.tz_localize('Etc/GMT+7')\n",
    "\n",
    "weatherdata_15T = _averageSRRL(loc_weatherdata_1T, interval='15T', closed='right', label='right')\n",
    "weatherdata_60T = _averageSRRL(loc_weatherdata_1T, interval='60T', closed='right', label='right')\n",
    "\n"
   ]
  },
  {
   "cell_type": "code",
   "execution_count": null,
   "metadata": {},
   "outputs": [],
   "source": [
    "freq='60T'\n",
    "df = weatherdata_60T.copy()\n"
   ]
  },
  {
   "cell_type": "code",
   "execution_count": null,
   "metadata": {},
   "outputs": [],
   "source": [
    "def fillYear(df, freq):\n",
    "    import pandas as pd\n",
    "    # add zeros for the rest of the year\n",
    "    if freq is None:\n",
    "        try:\n",
    "            freq = pd.infer_freq(df.index)\n",
    "        except:\n",
    "            freq = '15T'  # 15 minute data by default\n",
    "    tzinfo = df.index.tzinfo\n",
    "    starttime = pd.to_datetime('%s-%s-%s %s:%s' % (df.index.year[0],1,1,0,0 ) ).tz_localize(tzinfo)\n",
    "    endtime = pd.to_datetime('%s-%s-%s %s:%s' % (df.index.year[-1],12,31,23,60-int(freq[:-1])) ).tz_localize(tzinfo)\n",
    "    beginning = df.index[0]\n",
    "    ending = df.index[-1]\n",
    "    df.loc[starttime] = 0  # set first datapt to zero to forward fill w zeros\n",
    "    df.loc[endtime] = 0    # set last datapt to zero to forward fill w zeros\n",
    "    df = df.sort_index()\n",
    "    # add zeroes before data series\n",
    "    df2= df[0:2].resample(freq).ffill()\n",
    "    combined = pd.concat([df,df2],sort=True)\n",
    "    combined = combined.loc[~combined.index.duplicated(keep='first')]\n",
    "    # add zeroes after data series\n",
    "    df2  = combined.resample(freq).bfill()\n",
    "    return df2"
   ]
  },
  {
   "cell_type": "code",
   "execution_count": null,
   "metadata": {},
   "outputs": [],
   "source": [
    "TMY = fillYear(weatherdata_60T, freq='60T')"
   ]
  },
  {
   "cell_type": "code",
   "execution_count": null,
   "metadata": {},
   "outputs": [],
   "source": [
    "filterdates = (TMY.index >= '2023-1-1') & ~(is_leap_and_29Feb(TMY)) & (TMY.index < '2024-1-1') \n",
    "TMY = TMY[filterdates]\n",
    "TMY"
   ]
  },
  {
   "cell_type": "code",
   "execution_count": null,
   "metadata": {},
   "outputs": [],
   "source": [
    "saveSAM_SRRLWeatherFile(weatherdata_60T, os.path.join(weatherfolder,'PSM3_60T.csv'), includeminute=False) # No minutes = sunposition T-30min\n",
    "saveSAM_SRRLWeatherFile(TMY, os.path.join(weatherfolder,'PSM3_TMY.csv'), includeminute=False) # No minutes = sunposition T-30min\n",
    "saveSAM_SRRLWeatherFile(weatherdata, os.path.join(weatherfolder,'PSM3_1T.csv'), includeminute=True) # No minutes = sunposition T-30min\n",
    "saveSAM_SRRLWeatherFile(weatherdata_15T, os.path.join(weatherfolder,'PSM3_15T.csv'), includeminute=True) # No minutes = sunposition T-30min"
   ]
  },
  {
   "cell_type": "code",
   "execution_count": null,
   "metadata": {},
   "outputs": [],
   "source": []
  }
 ],
 "metadata": {
  "kernelspec": {
   "display_name": "Python 3 (ipykernel)",
   "language": "python",
   "name": "python3"
  },
  "language_info": {
   "codemirror_mode": {
    "name": "ipython",
    "version": 3
   },
   "file_extension": ".py",
   "mimetype": "text/x-python",
   "name": "python",
   "nbconvert_exporter": "python",
   "pygments_lexer": "ipython3",
   "version": "3.11.4"
  }
 },
 "nbformat": 4,
 "nbformat_minor": 2
}
