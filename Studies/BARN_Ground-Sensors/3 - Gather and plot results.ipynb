{
 "cells": [
  {
   "cell_type": "code",
   "execution_count": 1,
   "id": "4dc32e0c",
   "metadata": {},
   "outputs": [],
   "source": [
    "import os\n",
    "from pathlib import Path\n",
    "import numpy as np\n",
    "import pandas as pd\n",
    "import bifacial_radiance as br\n",
    "\n",
    "# testfolder = Path().resolve().parent.parent / 'TEMP' / 'bifacial_radiance'\n",
    "\n",
    "testfolder = os.path.join('TEMP', 'bifacial_radiance')\n",
    "\n",
    "# if not os.path.exists(testfolder):\n",
    "#     os.makedirs(testfolder)\n",
    "    \n",
    "# print (\"Your simulation will be stored in %s\" % testfolder)"
   ]
  },
  {
   "cell_type": "code",
   "execution_count": 2,
   "id": "7644ef30",
   "metadata": {},
   "outputs": [
    {
     "name": "stdout",
     "output_type": "stream",
     "text": [
      "TEMP\\bifacial_radiance\n"
     ]
    }
   ],
   "source": [
    "print(os.path.join('TEMP', 'bifacial_radiance'))"
   ]
  },
  {
   "cell_type": "code",
   "execution_count": 3,
   "id": "16786184",
   "metadata": {},
   "outputs": [],
   "source": [
    "# remove unwanted results, in this case all the \"fronts\"\n",
    "filesall = os.listdir(os.path.join('TEMP', 'bifacial_radiance','results'))\n",
    "filestoclean = [e for e in filesall if e.endswith('_Front.csv')]\n",
    "for cc in range(0, len(filestoclean)):\n",
    "    filetoclean = filestoclean[cc]\n",
    "    os.remove(os.path.join('results', filetoclean))"
   ]
  },
  {
   "cell_type": "code",
   "execution_count": 4,
   "id": "df8e2abb",
   "metadata": {},
   "outputs": [
    {
     "name": "stdout",
     "output_type": "stream",
     "text": [
      "TEMP\\bifacial_radiance\\results\n"
     ]
    }
   ],
   "source": [
    "from datetime import datetime\n",
    "import re\n",
    "print((os.path.join(testfolder, 'results')))\n"
   ]
  },
  {
   "cell_type": "markdown",
   "id": "6d9f4246",
   "metadata": {},
   "source": [
    "## Read in the results\n",
    "Below script reads in the results of the bifacial radiance modeling for a specific date and appends them to arrays that will then be joined into a dataframe."
   ]
  },
  {
   "cell_type": "code",
   "execution_count": 5,
   "id": "aa7b1c73",
   "metadata": {},
   "outputs": [
    {
     "name": "stdout",
     "output_type": "stream",
     "text": [
      "147 files in the directory\n",
      "47 groundscan files in the directory\n"
     ]
    }
   ],
   "source": [
    "filestarter = \"irr_1axis_2023-09-16_\" # The string your results file names start with.\n",
    "filelist = sorted(os.listdir(os.path.join(testfolder, 'results')))\n",
    "prefixed = [filename for filename in filelist if filename.startswith(filestarter)]\n",
    "# print(prefixed)\n",
    "distance = []\n",
    "groundirrad = []\n",
    "filenamed = []\n",
    "faillist = []\n",
    "Datetime = []\n",
    "Ap_1 = []\n",
    "Ap_2 = []\n",
    "Ap_3 = []\n",
    "Ap_4 = []\n",
    "Ap_5 = []\n",
    "\n",
    "print('{} files in the directory'.format(filelist.__len__()))\n",
    "print('{} groundscan files in the directory'.format(prefixed.__len__()))\n",
    "i = 0  # counter to track # files loaded.\n",
    "\n",
    "for i in range (0, len(prefixed)):\n",
    "    ind = prefixed[i].split('_')\n",
    "\n",
    "    try:\n",
    "        Datetime.append(re.search(\"([0-9]{4}\\-[0-9]{2}\\-[0-9]{2}\\_[0-9]{4})\", prefixed[i])[0])\n",
    "        resultsDF = br.load.read1Result(os.path.join(testfolder, 'results', prefixed[i]))\n",
    "        Ap_1.append(resultsDF['Wm2Back'][0])\n",
    "        Ap_2.append(resultsDF['Wm2Back'][1])\n",
    "        Ap_3.append(resultsDF['Wm2Back'][2])\n",
    "        Ap_4.append(resultsDF['Wm2Back'][3])\n",
    "        Ap_5.append(resultsDF['Wm2Back'][4])\n",
    "\n",
    "        filenamed.append(prefixed[i])\n",
    "    except:\n",
    "        print(\" FAILED \", i, prefixed[i])\n",
    "        faillist.append(prefixed[i])\n",
    "        \n",
    "\n",
    "resultsdf = pd.DataFrame(list(zip(Ap_1, Ap_2, Ap_3, Ap_4, Ap_5)), columns = ['Ap_1', 'Ap_2', 'Ap_3', 'Ap_4', 'Ap_5'])\n",
    "\n",
    "resultsdf['Datetime'] = Datetime\n",
    "resultsdf['Datetime'] = pd.to_datetime(resultsdf['Datetime'], format ='%Y-%m-%d_%H%M')"
   ]
  },
  {
   "cell_type": "code",
   "execution_count": 6,
   "id": "cc588988",
   "metadata": {},
   "outputs": [
    {
     "name": "stdout",
     "output_type": "stream",
     "text": [
      "              Datetime location  index         ghi         par\n",
      "0  2023-09-16 06:00:00       pv      0   38.265983   91.092239\n",
      "1  2023-09-16 06:15:00       pv      1   30.877190   99.422738\n",
      "2  2023-09-16 06:30:00       pv      2   22.926993   82.363319\n",
      "3  2023-09-16 06:45:00       pv      3   80.726105  210.091831\n",
      "4  2023-09-16 07:00:00       pv      4   55.949033  153.040217\n",
      "..                 ...      ...    ...         ...         ...\n",
      "89 2023-09-16 16:30:00      con     42  303.666933  563.465340\n",
      "90 2023-09-16 16:45:00      con     43  250.607267  455.401733\n",
      "91 2023-09-16 17:00:00      con     44  198.799933  344.581373\n",
      "92 2023-09-16 17:15:00      con     45  148.739067  162.476525\n",
      "93 2023-09-16 17:30:00      con     46  100.886640   73.462101\n",
      "\n",
      "[94 rows x 5 columns]\n"
     ]
    }
   ],
   "source": [
    "# Index the modeled data to the datetime column and add suffix before concatenating with the measured data. This will allow the \"inner\" join of the two dataframes using the indexed datetime and easy pivoting of the data afterwards.\n",
    "modeled = resultsdf.set_index('Datetime')\n",
    "modeled_suffix = modeled.add_suffix(\".modeled\")\n",
    "modeled['datatype']=\"modeled\"\n",
    "\n",
    "# Load the measured data\n",
    "measured = pd.read_csv(os.path.join(os.path.join(Path().resolve(), 'Data','BARNirrad_measured.csv')), header = 1) # The field pyranometer data\n",
    "srrl_weather = pd.read_csv(str(Path().resolve() / 'WeatherFiles' /  'PSM3_15T.csv'), header = 2) # Data from SRRL\n",
    "\n",
    "# Create a Datetime variable and set it as the index\n",
    "srrl_weather['date'] = srrl_weather[['Year','Month','Day']].astype(str).agg('-'.join, axis=1) # Couldn't think of a proper way to chain this process into a single command. If you think of something, please let me know\n",
    "srrl_weather['time'] = srrl_weather[['Hour','Minute']].astype(str).agg(':'.join, axis=1)\n",
    "srrl_weather['Datetime'] = pd.to_datetime(srrl_weather[['date','time']].agg(\" \".join, axis=1))\n",
    "srrl_weather.set_index('Datetime', inplace=True)\n",
    "\n",
    "# Create a Datetime variable for the measured data using the existing 'TIMESTAMP' column.\n",
    "measured['Datetime'] = pd.to_datetime(measured['TIMESTAMP'], format ='%m/%d/%Y %H:%M')\n",
    "measured = measured.drop([\"TIMESTAMP\", \"RECORD\"], axis = 'columns') # drop this column so the resample command does not confuse TIMESTAMP and Datetime columns\n",
    "measured = measured.set_index('Datetime').resample('15T', axis = 'index', label='left', closed='right').mean() # The \"label\" and the \"closed\" arguments are different from that of how the SRRL data was read-in (which was \"right\" for both arguments), but this somehow yields a better timing match.\n",
    "\n",
    "# Add suffix to the columns in the measured dataframe before concatenating it with the modeled dataframe\n",
    "measured_suffix = measured.add_suffix(\".measured\")\n",
    "measured[\"datatype\"]=\"measured\"\n",
    "\n",
    "modeledandmeasured_suffix = pd.concat([modeled_suffix, measured_suffix], axis=1, join='inner')\n",
    "modeledandmeasured_melt = pd.wide_to_long(df = modeledandmeasured_suffix.reset_index(), stubnames= [\"Ap_1\", \"Ap_2\", \"Ap_3\", \"Ap_4\", \"Ap_5\",\"ST_con\", \"ST_pv_bp\", \"ST_pv_is\", \"PAR_con\", \"PAR_pv\", \"Batt_Volt\", \"PTemp_C\"], i = \"Datetime\", j = \"datatype\", sep = \".\", suffix = \"\\D+\").reset_index().set_index('Datetime')\n",
    "\n",
    "modeledandmeasured_melt2 = modeledandmeasured_melt[['datatype', 'Ap_1', 'Ap_2', 'Ap_3', 'Ap_4', 'Ap_5']].reset_index().melt(id_vars = ['Datetime', 'datatype'], var_name = 'position', value_name= 'value').reset_index()\n",
    "modeledandmeasured_melt3 = modeledandmeasured_melt2.pivot(index=['Datetime', 'position'], columns = 'datatype', values = 'value')\n",
    "\n",
    "\n",
    "# Sum up the irradiance values and divide it by 4 to get accumulated daily radiation\n",
    "modeledandmeasured_sum = modeledandmeasured_melt2.reset_index().groupby(['position', 'datatype']).agg({\"value\":\"sum\"})['value'].transform(lambda x:x/4)\n",
    "\n",
    "# Grab just the measured\n",
    "ghipar = modeledandmeasured_melt.loc[modeledandmeasured_melt['datatype']=='measured'][['Ap_3', 'PAR_pv', 'PAR_con']]\n",
    "srrlandghipar = pd.concat([ghipar, srrl_weather], axis=1, join=\"inner\")[['Ap_3','GHI', 'PAR_pv', 'PAR_con']].rename(columns={'Ap_3':'ghi_pv','GHI':'ghi_con','PAR_pv':'par_pv','PAR_con':'par_con'}).reset_index()\n",
    "srrlandghipar = pd.wide_to_long(df = srrlandghipar.reset_index(), stubnames=['ghi','par'], i = \"Datetime\", j = \"location\", sep = \"_\", suffix = \"\\D+\").reset_index()\n",
    "print(srrlandghipar)\n"
   ]
  },
  {
   "cell_type": "code",
   "execution_count": 7,
   "id": "30010022",
   "metadata": {},
   "outputs": [],
   "source": [
    "# # Tidy the data\n",
    "# modeled_melt = resultsdf.melt(id_vars = ['Datetime'], var_name = 'position', value_name = 'value')\n",
    "# modeled_melt['datatype'] = 'modeled'\n",
    "\n",
    "# # Load the measured data\n",
    "# measured = pd.read_csv(os.path.join(os.path.join(Path().resolve(), 'Data','BARNirrad_measured.csv')), header = 1)\n",
    "# # print(resultsdf_melt.info)\n",
    "# # measured.info\n",
    "\n",
    "# measured['Datetime'] = pd.to_datetime(measured['TIMESTAMP'], format ='%m/%d/%Y %H:%M')\n",
    "# measured = measured.drop(['TIMESTAMP'], axis='columns').set_index('Datetime')\n",
    "# measured_15Tmean = measured.resample('15T', axis = 'index', label='right', closed='right').mean()\n",
    "# # measured_select = measured[['Datetime', 'Ap_1', 'Ap_2', 'Ap_3', 'Ap_4', 'Ap_5']]\n",
    "# measured_melt = measured.reset_index()[['Datetime', 'Ap_1', 'Ap_2', 'Ap_3', 'Ap_4', 'Ap_5']].melt(\n",
    "#     id_vars = ['Datetime'],\n",
    "#     var_name = 'position', \n",
    "#     value_name = 'value')\n",
    "# measured_melt['datatype'] = 'measured'\n",
    "\n",
    "# # combined = pd.merge(resultsdf_melt, measured_melt, how = 'left', on = 'Datetime')\n",
    "# measured_melt = pd.merge(modeled_melt[['Datetime']], measured_melt, how = 'left', on = 'Datetime')\n",
    "# measured_melt.drop_duplicates(inplace=True)\n",
    "# combined = pd.concat([modeled_melt, measured_melt])\n",
    "\n",
    "\n",
    "# # Make wider for another plot\n",
    "# # combined_wider = combined.pivot(index=['Datetime', 'position'], columns='datatype', values = 'value').reset_index().set_index('Datetime')\n",
    "# combined_wider = combined.pivot(index=['Datetime', 'position'], columns='datatype', values = 'value').reset_index()\n",
    "# # print(combined_wider)\n",
    "# combined_wider['time'] = pd.to_datetime(combined_wider['Datetime'], format = '%H:%M')\n",
    "# combined_wider = combined_wider.set_index(\"Datetime\")\n",
    "# # Sum up the irradiance values\n",
    "# # combined_sum = combined.groupby(['position', 'datatype']).agg(np.sum())\n",
    "# combined['totalrad'] = combined.groupby(['position', 'datatype'])['value'].transform(lambda x: x.sum() / 4)\n",
    "# combined_summary = combined[['position','datatype','totalrad']].drop_duplicates()\n",
    "# print(combined_summary)\n"
   ]
  },
  {
   "cell_type": "code",
   "execution_count": 8,
   "id": "eea7a18c",
   "metadata": {},
   "outputs": [],
   "source": [
    "# look at residuals (MBD, RMSE) based on Grear, Gpoa and Gtotal_modeled. From B. Marion Solar Energy 2016\n",
    "def MBD(meas,model):\n",
    "    # MBD=100∙[((1⁄(m)∙∑〖(y_i-x_i)]÷[(1⁄(m)∙∑〖x_i]〗)〗)\n",
    "    import pandas as pd\n",
    "    df = pd.DataFrame({'model':model,'meas':meas})\n",
    "    # rudimentary filtering of modeled irradiance\n",
    "    df = df.dropna()\n",
    "    minirr = meas.min()\n",
    "    df = df[df.model>minirr]\n",
    "    m = df.__len__()\n",
    "    out = 100*((1/m)*sum(df.model-df.meas))/df.meas.mean()\n",
    "    return out\n",
    "\n",
    "def RMSE(meas,model):\n",
    "    #RMSD=100∙〖[(1⁄(m)∙∑▒(y_i-x_i )^2 )]〗^(1⁄2)÷[(1⁄(m)∙∑▒〖x_i]〗)\n",
    "    import numpy as np\n",
    "    import pandas as pd\n",
    "    df = pd.DataFrame({'model':model,'meas':meas})\n",
    "    df = df.dropna()\n",
    "    minirr = meas.min()\n",
    "    df = df[df.model>minirr]\n",
    "    m = df.__len__()\n",
    "    out = 100*np.sqrt(1/m*sum((df.model-df.meas)**2))/df.meas.mean()\n",
    "    return out\n",
    "\n",
    "# residuals absolute output (not %) \n",
    "def MBD_abs(meas,model):\n",
    "    # MBD=100∙[((1⁄(m)∙∑〖(y_i-x_i)]÷[(1⁄(m)∙∑〖x_i]〗)〗)\n",
    "    import pandas as pd\n",
    "    df = pd.DataFrame({'model':model,'meas':meas})\n",
    "    # rudimentary filtering of modeled irradiance\n",
    "    df = df.dropna()\n",
    "    minirr = meas.min()\n",
    "    df = df[df.model>minirr]\n",
    "    m = df.__len__()\n",
    "    out = ((1/m)*sum(df.model-df.meas))\n",
    "    return out\n",
    "\n",
    "def RMSE_abs(meas,model):\n",
    "    #RMSD=100∙〖[(1⁄(m)∙∑▒(y_i-x_i )^2 )]〗^(1⁄2)÷[(1⁄(m)∙∑▒〖x_i]〗)\n",
    "    import numpy as np\n",
    "    import pandas as pd\n",
    "    df = pd.DataFrame({'model':model,'meas':meas})\n",
    "    df = df.dropna()\n",
    "    minirr = meas.min()\n",
    "    df = df[df.model>minirr]\n",
    "    m = df.__len__()\n",
    "    out = np.sqrt(1/m*sum((df.model-df.meas)**2))\n",
    "    return out"
   ]
  },
  {
   "cell_type": "code",
   "execution_count": 9,
   "id": "a381d1b7",
   "metadata": {},
   "outputs": [],
   "source": [
    "# Create the empty arrays (or lists? I don't know all the object types in python) to save the result of the looped error analysis\n",
    "MBD_result = []\n",
    "RMSE_result = []\n",
    "MBD_abs_result = []\n",
    "RMSE_abs_result = []\n",
    "faillist = []\n",
    "\n",
    "# Grab the list of column names\n",
    "colnames = list(modeledandmeasured_suffix.columns.values)\n",
    "modposition = []\n",
    "measposition = []\n",
    "\n",
    "# Setting the index to 0 prior to running the for-loop\n",
    "i = 0\n",
    "\n",
    "# For-looping the error analyses\n",
    "for i in range (0, 5): # The index range was determined after looking at the \n",
    "    try:\n",
    "        MBD_result.append(MBD(modeledandmeasured_suffix[colnames[i+5]], modeledandmeasured_suffix[colnames[i]])) # The modeled columns and the measured counterparts are five columns apart, hence \"i\" and \"i+5\"\n",
    "        RMSE_result.append(RMSE(modeledandmeasured_suffix[colnames[i+5]], modeledandmeasured_suffix[colnames[i]]))\n",
    "        MBD_abs_result.append(MBD_abs(modeledandmeasured_suffix[colnames[i+5]], modeledandmeasured_suffix[colnames[i]]))\n",
    "        RMSE_abs_result.append(RMSE_abs(modeledandmeasured_suffix[colnames[i+5]], modeledandmeasured_suffix[colnames[i]]))\n",
    "\n",
    "        modposition.append(colnames[i])\n",
    "        measposition.append(colnames[i+5])\n",
    "    except:\n",
    "        print(\" FAILED \", i, colnames[i])\n",
    "        faillist.append(colnames[i])\n",
    "\n",
    "# Join the arrays into a dataframe\n",
    "validationdf = pd.DataFrame(list(zip(modposition, measposition, MBD_result, RMSE_result, MBD_abs_result, RMSE_abs_result)), columns = ['Modeled', 'Measured', 'MBD', 'RMSE', 'MBD_abs', 'RMSE_abs'])    \n",
    "\n",
    "# Export the result into a csv\n",
    "validationdf.to_csv('out6.csv',index=False)"
   ]
  },
  {
   "cell_type": "code",
   "execution_count": 63,
   "id": "c22b464d",
   "metadata": {},
   "outputs": [],
   "source": [
    "import plotly.express as px\n",
    "import plotly.graph_objects as go"
   ]
  },
  {
   "cell_type": "markdown",
   "id": "51450800",
   "metadata": {},
   "source": [
    "## The following figures are best displayed in wide-screen."
   ]
  },
  {
   "cell_type": "code",
   "execution_count": 94,
   "id": "085d5167",
   "metadata": {},
   "outputs": [
    {
     "data": {
      "application/vnd.plotly.v1+json": {
       "config": {
        "plotlyServerURL": "https://plot.ly"
       },
       "data": [
        {
         "hovertemplate": "datatype=modeled<br>position=Ap_1<br>Datetime=%{x}<br>value=%{y}<extra></extra>",
         "legendgroup": "modeled",
         "line": {
          "color": "#636efa",
          "dash": "solid"
         },
         "marker": {
          "symbol": "circle"
         },
         "mode": "lines",
         "name": "modeled",
         "orientation": "v",
         "showlegend": true,
         "type": "scatter",
         "x": [
          "2023-09-16T06:00:00",
          "2023-09-16T06:15:00",
          "2023-09-16T06:30:00",
          "2023-09-16T06:45:00",
          "2023-09-16T07:00:00",
          "2023-09-16T07:15:00",
          "2023-09-16T07:30:00",
          "2023-09-16T07:45:00",
          "2023-09-16T08:00:00",
          "2023-09-16T08:15:00",
          "2023-09-16T08:30:00",
          "2023-09-16T08:45:00",
          "2023-09-16T09:00:00",
          "2023-09-16T09:15:00",
          "2023-09-16T09:30:00",
          "2023-09-16T09:45:00",
          "2023-09-16T10:00:00",
          "2023-09-16T10:15:00",
          "2023-09-16T10:30:00",
          "2023-09-16T10:45:00",
          "2023-09-16T11:00:00",
          "2023-09-16T11:15:00",
          "2023-09-16T11:30:00",
          "2023-09-16T11:45:00",
          "2023-09-16T12:00:00",
          "2023-09-16T12:15:00",
          "2023-09-16T12:30:00",
          "2023-09-16T12:45:00",
          "2023-09-16T13:00:00",
          "2023-09-16T13:15:00",
          "2023-09-16T13:30:00",
          "2023-09-16T13:45:00",
          "2023-09-16T14:00:00",
          "2023-09-16T14:15:00",
          "2023-09-16T14:30:00",
          "2023-09-16T14:45:00",
          "2023-09-16T15:00:00",
          "2023-09-16T15:15:00",
          "2023-09-16T15:30:00",
          "2023-09-16T15:45:00",
          "2023-09-16T16:00:00",
          "2023-09-16T16:15:00",
          "2023-09-16T16:30:00",
          "2023-09-16T16:45:00",
          "2023-09-16T17:00:00",
          "2023-09-16T17:15:00",
          "2023-09-16T17:30:00"
         ],
         "xaxis": "x",
         "y": [
          14.66802,
          10.65493,
          14.30578,
          16.4023,
          19.27554,
          21.1158,
          24.34222,
          26.95593,
          408.5863,
          458.8449,
          506.1832,
          552.9848,
          596.1387,
          636.7376,
          673.6951,
          706.4503,
          736.6663,
          762.0566,
          786.7345,
          29.54789,
          27.84795,
          26.55363,
          26.11037,
          24.55063,
          23.8831,
          24.36416,
          23.8903,
          23.33097,
          23.316099999999995,
          22.65114,
          22.77069,
          22.33078,
          22.08849,
          21.7122,
          23.03931,
          22.77611,
          23.533560000000005,
          511.93979999999993,
          466.3826000000001,
          419.5161,
          368.9591,
          21.53527,
          19.81602,
          20.33938,
          19.69274,
          18.58636,
          16.38926
         ],
         "yaxis": "y"
        },
        {
         "hovertemplate": "datatype=modeled<br>position=Ap_2<br>Datetime=%{x}<br>value=%{y}<extra></extra>",
         "legendgroup": "modeled",
         "line": {
          "color": "#636efa",
          "dash": "solid"
         },
         "marker": {
          "symbol": "circle"
         },
         "mode": "lines",
         "name": "modeled",
         "orientation": "v",
         "showlegend": false,
         "type": "scatter",
         "x": [
          "2023-09-16T06:00:00",
          "2023-09-16T06:15:00",
          "2023-09-16T06:30:00",
          "2023-09-16T06:45:00",
          "2023-09-16T07:00:00",
          "2023-09-16T07:15:00",
          "2023-09-16T07:30:00",
          "2023-09-16T07:45:00",
          "2023-09-16T08:00:00",
          "2023-09-16T08:15:00",
          "2023-09-16T08:30:00",
          "2023-09-16T08:45:00",
          "2023-09-16T09:00:00",
          "2023-09-16T09:15:00",
          "2023-09-16T09:30:00",
          "2023-09-16T09:45:00",
          "2023-09-16T10:00:00",
          "2023-09-16T10:15:00",
          "2023-09-16T10:30:00",
          "2023-09-16T10:45:00",
          "2023-09-16T11:00:00",
          "2023-09-16T11:15:00",
          "2023-09-16T11:30:00",
          "2023-09-16T11:45:00",
          "2023-09-16T12:00:00",
          "2023-09-16T12:15:00",
          "2023-09-16T12:30:00",
          "2023-09-16T12:45:00",
          "2023-09-16T13:00:00",
          "2023-09-16T13:15:00",
          "2023-09-16T13:30:00",
          "2023-09-16T13:45:00",
          "2023-09-16T14:00:00",
          "2023-09-16T14:15:00",
          "2023-09-16T14:30:00",
          "2023-09-16T14:45:00",
          "2023-09-16T15:00:00",
          "2023-09-16T15:15:00",
          "2023-09-16T15:30:00",
          "2023-09-16T15:45:00",
          "2023-09-16T16:00:00",
          "2023-09-16T16:15:00",
          "2023-09-16T16:30:00",
          "2023-09-16T16:45:00",
          "2023-09-16T17:00:00",
          "2023-09-16T17:15:00",
          "2023-09-16T17:30:00"
         ],
         "xaxis": "x2",
         "y": [
          15.6039,
          12.43125,
          16.47719,
          20.56065,
          23.92238,
          27.27283,
          28.94668,
          31.23748,
          34.10092,
          35.90514,
          37.94323,
          558.4382,
          602.9056,
          646.4209,
          685.4371,
          719.5751,
          751.975,
          779.8332,
          806.8123,
          826.7274000000001,
          845.3209,
          856.2902,
          864.1177000000001,
          869.2891,
          866.4766,
          860.3467999999999,
          849.7704,
          836.436,
          39.65027,
          36.17451,
          33.09443,
          31.34915,
          28.8005,
          27.09765,
          25.92122,
          25.30635,
          24.44811,
          23.23309,
          22.26307,
          21.74521,
          21.17019,
          20.31618,
          18.93319,
          20.5672,
          21.03864,
          20.40001,
          77.89845
         ],
         "yaxis": "y2"
        },
        {
         "hovertemplate": "datatype=modeled<br>position=Ap_3<br>Datetime=%{x}<br>value=%{y}<extra></extra>",
         "legendgroup": "modeled",
         "line": {
          "color": "#636efa",
          "dash": "solid"
         },
         "marker": {
          "symbol": "circle"
         },
         "mode": "lines",
         "name": "modeled",
         "orientation": "v",
         "showlegend": false,
         "type": "scatter",
         "x": [
          "2023-09-16T06:00:00",
          "2023-09-16T06:15:00",
          "2023-09-16T06:30:00",
          "2023-09-16T06:45:00",
          "2023-09-16T07:00:00",
          "2023-09-16T07:15:00",
          "2023-09-16T07:30:00",
          "2023-09-16T07:45:00",
          "2023-09-16T08:00:00",
          "2023-09-16T08:15:00",
          "2023-09-16T08:30:00",
          "2023-09-16T08:45:00",
          "2023-09-16T09:00:00",
          "2023-09-16T09:15:00",
          "2023-09-16T09:30:00",
          "2023-09-16T09:45:00",
          "2023-09-16T10:00:00",
          "2023-09-16T10:15:00",
          "2023-09-16T10:30:00",
          "2023-09-16T10:45:00",
          "2023-09-16T11:00:00",
          "2023-09-16T11:15:00",
          "2023-09-16T11:30:00",
          "2023-09-16T11:45:00",
          "2023-09-16T12:00:00",
          "2023-09-16T12:15:00",
          "2023-09-16T12:30:00",
          "2023-09-16T12:45:00",
          "2023-09-16T13:00:00",
          "2023-09-16T13:15:00",
          "2023-09-16T13:30:00",
          "2023-09-16T13:45:00",
          "2023-09-16T14:00:00",
          "2023-09-16T14:15:00",
          "2023-09-16T14:30:00",
          "2023-09-16T14:45:00",
          "2023-09-16T15:00:00",
          "2023-09-16T15:15:00",
          "2023-09-16T15:30:00",
          "2023-09-16T15:45:00",
          "2023-09-16T16:00:00",
          "2023-09-16T16:15:00",
          "2023-09-16T16:30:00",
          "2023-09-16T16:45:00",
          "2023-09-16T17:00:00",
          "2023-09-16T17:15:00",
          "2023-09-16T17:30:00"
         ],
         "xaxis": "x3",
         "y": [
          16.17136,
          12.51109,
          16.81896,
          20.8574,
          22.47232,
          23.10771,
          23.8473,
          24.95348,
          26.76044,
          27.930580000000003,
          29.153540000000003,
          31.67723,
          33.96452,
          36.56762,
          676.9901,
          713.3472,
          747.4175,
          777.1211,
          806.006,
          827.58,
          846.9131000000001,
          859.1961,
          868.1006000000001,
          874.4235,
          872.7695,
          867.9357,
          859.6691,
          848.1292,
          831.429,
          811.0445999999998,
          785.8741,
          756.491,
          722.6776999999998,
          687.1854,
          40.40984,
          36.92049,
          34.13161,
          32.18352,
          30.24907,
          29.19423,
          27.9183,
          26.88355,
          24.90063,
          25.6398,
          24.91926,
          22.750340000000005,
          20.00281
         ],
         "yaxis": "y3"
        },
        {
         "hovertemplate": "datatype=modeled<br>position=Ap_4<br>Datetime=%{x}<br>value=%{y}<extra></extra>",
         "legendgroup": "modeled",
         "line": {
          "color": "#636efa",
          "dash": "solid"
         },
         "marker": {
          "symbol": "circle"
         },
         "mode": "lines",
         "name": "modeled",
         "orientation": "v",
         "showlegend": false,
         "type": "scatter",
         "x": [
          "2023-09-16T06:00:00",
          "2023-09-16T06:15:00",
          "2023-09-16T06:30:00",
          "2023-09-16T06:45:00",
          "2023-09-16T07:00:00",
          "2023-09-16T07:15:00",
          "2023-09-16T07:30:00",
          "2023-09-16T07:45:00",
          "2023-09-16T08:00:00",
          "2023-09-16T08:15:00",
          "2023-09-16T08:30:00",
          "2023-09-16T08:45:00",
          "2023-09-16T09:00:00",
          "2023-09-16T09:15:00",
          "2023-09-16T09:30:00",
          "2023-09-16T09:45:00",
          "2023-09-16T10:00:00",
          "2023-09-16T10:15:00",
          "2023-09-16T10:30:00",
          "2023-09-16T10:45:00",
          "2023-09-16T11:00:00",
          "2023-09-16T11:15:00",
          "2023-09-16T11:30:00",
          "2023-09-16T11:45:00",
          "2023-09-16T12:00:00",
          "2023-09-16T12:15:00",
          "2023-09-16T12:30:00",
          "2023-09-16T12:45:00",
          "2023-09-16T13:00:00",
          "2023-09-16T13:15:00",
          "2023-09-16T13:30:00",
          "2023-09-16T13:45:00",
          "2023-09-16T14:00:00",
          "2023-09-16T14:15:00",
          "2023-09-16T14:30:00",
          "2023-09-16T14:45:00",
          "2023-09-16T15:00:00",
          "2023-09-16T15:15:00",
          "2023-09-16T15:30:00",
          "2023-09-16T15:45:00",
          "2023-09-16T16:00:00",
          "2023-09-16T16:15:00",
          "2023-09-16T16:30:00",
          "2023-09-16T16:45:00",
          "2023-09-16T17:00:00",
          "2023-09-16T17:15:00",
          "2023-09-16T17:30:00"
         ],
         "xaxis": "x4",
         "y": [
          15.57604,
          11.81129,
          15.15688,
          18.17289,
          18.75018,
          18.09979,
          18.2913,
          19.32661,
          20.09225,
          20.99389,
          21.49717,
          22.61008,
          23.67698,
          24.484940000000005,
          25.529260000000004,
          27.01002,
          29.83903,
          32.16227,
          34.88925,
          814.9501999999999,
          836.1145,
          850.6789,
          860.4742,
          868.7687,
          868.3034000000001,
          865.3822999999999,
          856.8065,
          846.9573,
          831.1597,
          811.9393,
          788.39,
          761.4026,
          729.5856,
          696.7696,
          657.468,
          618.3646,
          576.8163,
          530.2365,
          38.87191,
          37.45414,
          35.22435,
          33.23274,
          31.84453,
          29.01767,
          26.52369,
          23.83727,
          19.89236
         ],
         "yaxis": "y4"
        },
        {
         "hovertemplate": "datatype=modeled<br>position=Ap_5<br>Datetime=%{x}<br>value=%{y}<extra></extra>",
         "legendgroup": "modeled",
         "line": {
          "color": "#636efa",
          "dash": "solid"
         },
         "marker": {
          "symbol": "circle"
         },
         "mode": "lines",
         "name": "modeled",
         "orientation": "v",
         "showlegend": false,
         "type": "scatter",
         "x": [
          "2023-09-16T06:00:00",
          "2023-09-16T06:15:00",
          "2023-09-16T06:30:00",
          "2023-09-16T06:45:00",
          "2023-09-16T07:00:00",
          "2023-09-16T07:15:00",
          "2023-09-16T07:30:00",
          "2023-09-16T07:45:00",
          "2023-09-16T08:00:00",
          "2023-09-16T08:15:00",
          "2023-09-16T08:30:00",
          "2023-09-16T08:45:00",
          "2023-09-16T09:00:00",
          "2023-09-16T09:15:00",
          "2023-09-16T09:30:00",
          "2023-09-16T09:45:00",
          "2023-09-16T10:00:00",
          "2023-09-16T10:15:00",
          "2023-09-16T10:30:00",
          "2023-09-16T10:45:00",
          "2023-09-16T11:00:00",
          "2023-09-16T11:15:00",
          "2023-09-16T11:30:00",
          "2023-09-16T11:45:00",
          "2023-09-16T12:00:00",
          "2023-09-16T12:15:00",
          "2023-09-16T12:30:00",
          "2023-09-16T12:45:00",
          "2023-09-16T13:00:00",
          "2023-09-16T13:15:00",
          "2023-09-16T13:30:00",
          "2023-09-16T13:45:00",
          "2023-09-16T14:00:00",
          "2023-09-16T14:15:00",
          "2023-09-16T14:30:00",
          "2023-09-16T14:45:00",
          "2023-09-16T15:00:00",
          "2023-09-16T15:15:00",
          "2023-09-16T15:30:00",
          "2023-09-16T15:45:00",
          "2023-09-16T16:00:00",
          "2023-09-16T16:15:00",
          "2023-09-16T16:30:00",
          "2023-09-16T16:45:00",
          "2023-09-16T17:00:00",
          "2023-09-16T17:15:00",
          "2023-09-16T17:30:00"
         ],
         "xaxis": "x5",
         "y": [
          14.63485,
          10.44835,
          13.87086,
          15.89276,
          17.53202,
          17.00869,
          18.22185,
          349.3046,
          399.5334,
          448.575,
          493.9174,
          21.3484,
          21.02254,
          20.67933,
          20.33216,
          19.94195,
          20.91946,
          21.2339,
          22.12119,
          22.45153,
          22.991,
          23.73107,
          24.2574,
          24.97031,
          25.68208,
          27.154350000000004,
          28.599550000000004,
          30.39514,
          33.0119,
          793.141,
          771.8758000000001,
          746.3876,
          716.7684,
          686.0315,
          648.781,
          612.3682,
          572.1847,
          527.1554,
          478.9946,
          430.5403,
          32.40108,
          30.36623,
          27.5905,
          24.73016,
          22.52315,
          20.14845,
          17.0355
         ],
         "yaxis": "y5"
        },
        {
         "hovertemplate": "datatype=measured<br>position=Ap_1<br>Datetime=%{x}<br>value=%{y}<extra></extra>",
         "legendgroup": "measured",
         "line": {
          "color": "#EF553B",
          "dash": "solid"
         },
         "marker": {
          "symbol": "circle"
         },
         "mode": "lines",
         "name": "measured",
         "orientation": "v",
         "showlegend": true,
         "type": "scatter",
         "x": [
          "2023-09-16T06:00:00",
          "2023-09-16T06:15:00",
          "2023-09-16T06:30:00",
          "2023-09-16T06:45:00",
          "2023-09-16T07:00:00",
          "2023-09-16T07:15:00",
          "2023-09-16T07:30:00",
          "2023-09-16T07:45:00",
          "2023-09-16T08:00:00",
          "2023-09-16T08:15:00",
          "2023-09-16T08:30:00",
          "2023-09-16T08:45:00",
          "2023-09-16T09:00:00",
          "2023-09-16T09:15:00",
          "2023-09-16T09:30:00",
          "2023-09-16T09:45:00",
          "2023-09-16T10:00:00",
          "2023-09-16T10:15:00",
          "2023-09-16T10:30:00",
          "2023-09-16T10:45:00",
          "2023-09-16T11:00:00",
          "2023-09-16T11:15:00",
          "2023-09-16T11:30:00",
          "2023-09-16T11:45:00",
          "2023-09-16T12:00:00",
          "2023-09-16T12:15:00",
          "2023-09-16T12:30:00",
          "2023-09-16T12:45:00",
          "2023-09-16T13:00:00",
          "2023-09-16T13:15:00",
          "2023-09-16T13:30:00",
          "2023-09-16T13:45:00",
          "2023-09-16T14:00:00",
          "2023-09-16T14:15:00",
          "2023-09-16T14:30:00",
          "2023-09-16T14:45:00",
          "2023-09-16T15:00:00",
          "2023-09-16T15:15:00",
          "2023-09-16T15:30:00",
          "2023-09-16T15:45:00",
          "2023-09-16T16:00:00",
          "2023-09-16T16:15:00",
          "2023-09-16T16:30:00",
          "2023-09-16T16:45:00",
          "2023-09-16T17:00:00",
          "2023-09-16T17:15:00",
          "2023-09-16T17:30:00"
         ],
         "xaxis": "x",
         "y": [
          34.933782666666666,
          16.896433333333334,
          57.77022266666666,
          24.483247333333335,
          26.25462866666667,
          31.628364,
          36.044554,
          225.6348,
          476.6759666666667,
          526.4212533333333,
          572.93362,
          617.0348266666667,
          658.643,
          695.5417533333333,
          732.4777733333333,
          760.8285733333333,
          789.5831533333334,
          799.6956933333333,
          745.475414,
          45.185386666666666,
          44.04248,
          43.129582666666664,
          42.29507533333333,
          41.19249066666667,
          40.542020666666666,
          40.10842,
          39.602544,
          39.42187666666666,
          39.11561666666667,
          39.044716666666666,
          38.87188533333334,
          38.09742133333334,
          37.43016866666667,
          36.945589999999996,
          36.879149999999996,
          37.07993466666667,
          37.477934,
          434.11525666666665,
          455.47285999999997,
          402.12274,
          153.835896,
          24.644892666666667,
          21.625831333333334,
          19.565848,
          17.306855333333335,
          14.522322666666666,
          11.610701466666667
         ],
         "yaxis": "y"
        },
        {
         "hovertemplate": "datatype=measured<br>position=Ap_2<br>Datetime=%{x}<br>value=%{y}<extra></extra>",
         "legendgroup": "measured",
         "line": {
          "color": "#EF553B",
          "dash": "solid"
         },
         "marker": {
          "symbol": "circle"
         },
         "mode": "lines",
         "name": "measured",
         "orientation": "v",
         "showlegend": false,
         "type": "scatter",
         "x": [
          "2023-09-16T06:00:00",
          "2023-09-16T06:15:00",
          "2023-09-16T06:30:00",
          "2023-09-16T06:45:00",
          "2023-09-16T07:00:00",
          "2023-09-16T07:15:00",
          "2023-09-16T07:30:00",
          "2023-09-16T07:45:00",
          "2023-09-16T08:00:00",
          "2023-09-16T08:15:00",
          "2023-09-16T08:30:00",
          "2023-09-16T08:45:00",
          "2023-09-16T09:00:00",
          "2023-09-16T09:15:00",
          "2023-09-16T09:30:00",
          "2023-09-16T09:45:00",
          "2023-09-16T10:00:00",
          "2023-09-16T10:15:00",
          "2023-09-16T10:30:00",
          "2023-09-16T10:45:00",
          "2023-09-16T11:00:00",
          "2023-09-16T11:15:00",
          "2023-09-16T11:30:00",
          "2023-09-16T11:45:00",
          "2023-09-16T12:00:00",
          "2023-09-16T12:15:00",
          "2023-09-16T12:30:00",
          "2023-09-16T12:45:00",
          "2023-09-16T13:00:00",
          "2023-09-16T13:15:00",
          "2023-09-16T13:30:00",
          "2023-09-16T13:45:00",
          "2023-09-16T14:00:00",
          "2023-09-16T14:15:00",
          "2023-09-16T14:30:00",
          "2023-09-16T14:45:00",
          "2023-09-16T15:00:00",
          "2023-09-16T15:15:00",
          "2023-09-16T15:30:00",
          "2023-09-16T15:45:00",
          "2023-09-16T16:00:00",
          "2023-09-16T16:15:00",
          "2023-09-16T16:30:00",
          "2023-09-16T16:45:00",
          "2023-09-16T17:00:00",
          "2023-09-16T17:15:00",
          "2023-09-16T17:30:00"
         ],
         "xaxis": "x2",
         "y": [
          23.687603333333335,
          25.190716000000002,
          30.696089999999998,
          54.05628266666667,
          27.28677466666667,
          27.410058,
          29.744453333333336,
          32.096936,
          34.77102,
          83.540082,
          501.1585533333334,
          549.3139266666667,
          593.7246733333334,
          635.51192,
          675.1288933333334,
          711.0760266666667,
          745.2562466666667,
          778.0141133333333,
          804.6891599999999,
          830.25388,
          849.5839066666667,
          863.838,
          875.5495866666666,
          882.1877400000001,
          882.8368733333333,
          880.7049999999999,
          872.5568533333334,
          860.9759933333333,
          386.10847333333334,
          42.098181999999994,
          40.353732666666666,
          38.151638000000005,
          36.67108266666667,
          35.58994333333333,
          34.167436,
          32.99408733333333,
          31.584152,
          30.372880000000002,
          29.12582533333333,
          27.409676666666666,
          25.331668,
          22.692110666666668,
          20.830232,
          19.330773999999998,
          17.505784,
          15.299982666666667,
          13.111774666666665
         ],
         "yaxis": "y2"
        },
        {
         "hovertemplate": "datatype=measured<br>position=Ap_3<br>Datetime=%{x}<br>value=%{y}<extra></extra>",
         "legendgroup": "measured",
         "line": {
          "color": "#EF553B",
          "dash": "solid"
         },
         "marker": {
          "symbol": "circle"
         },
         "mode": "lines",
         "name": "measured",
         "orientation": "v",
         "showlegend": false,
         "type": "scatter",
         "x": [
          "2023-09-16T06:00:00",
          "2023-09-16T06:15:00",
          "2023-09-16T06:30:00",
          "2023-09-16T06:45:00",
          "2023-09-16T07:00:00",
          "2023-09-16T07:15:00",
          "2023-09-16T07:30:00",
          "2023-09-16T07:45:00",
          "2023-09-16T08:00:00",
          "2023-09-16T08:15:00",
          "2023-09-16T08:30:00",
          "2023-09-16T08:45:00",
          "2023-09-16T09:00:00",
          "2023-09-16T09:15:00",
          "2023-09-16T09:30:00",
          "2023-09-16T09:45:00",
          "2023-09-16T10:00:00",
          "2023-09-16T10:15:00",
          "2023-09-16T10:30:00",
          "2023-09-16T10:45:00",
          "2023-09-16T11:00:00",
          "2023-09-16T11:15:00",
          "2023-09-16T11:30:00",
          "2023-09-16T11:45:00",
          "2023-09-16T12:00:00",
          "2023-09-16T12:15:00",
          "2023-09-16T12:30:00",
          "2023-09-16T12:45:00",
          "2023-09-16T13:00:00",
          "2023-09-16T13:15:00",
          "2023-09-16T13:30:00",
          "2023-09-16T13:45:00",
          "2023-09-16T14:00:00",
          "2023-09-16T14:15:00",
          "2023-09-16T14:30:00",
          "2023-09-16T14:45:00",
          "2023-09-16T15:00:00",
          "2023-09-16T15:15:00",
          "2023-09-16T15:30:00",
          "2023-09-16T15:45:00",
          "2023-09-16T16:00:00",
          "2023-09-16T16:15:00",
          "2023-09-16T16:30:00",
          "2023-09-16T16:45:00",
          "2023-09-16T17:00:00",
          "2023-09-16T17:15:00",
          "2023-09-16T17:30:00"
         ],
         "xaxis": "x3",
         "y": [
          38.265982666666666,
          30.87719,
          22.926992666666667,
          80.72610466666667,
          55.94903266666667,
          35.394524000000004,
          27.173720666666668,
          29.653008,
          31.657748,
          33.42731466666666,
          35.36269933333334,
          37.226593333333334,
          39.22583533333333,
          456.2068673333333,
          721.0297,
          757.46472,
          786.0926933333333,
          811.8300466666666,
          829.7099266666667,
          848.0028266666667,
          859.7587066666666,
          867.21688,
          876.9226800000001,
          882.5852133333334,
          786.5405666666667,
          757.1638399999999,
          837.0193266666668,
          864.3002933333333,
          843.2530933333333,
          816.7950266666667,
          764.65978,
          756.8518866666667,
          722.4148933333333,
          606.32596,
          48.213544,
          38.652802,
          36.555898666666664,
          34.531072,
          32.75977133333333,
          30.70028333333333,
          28.640513333333335,
          26.543446666666664,
          24.464671333333335,
          22.459139333333333,
          20.290793333333333,
          17.741463333333336,
          16.204346
         ],
         "yaxis": "y3"
        },
        {
         "hovertemplate": "datatype=measured<br>position=Ap_4<br>Datetime=%{x}<br>value=%{y}<extra></extra>",
         "legendgroup": "measured",
         "line": {
          "color": "#EF553B",
          "dash": "solid"
         },
         "marker": {
          "symbol": "circle"
         },
         "mode": "lines",
         "name": "measured",
         "orientation": "v",
         "showlegend": false,
         "type": "scatter",
         "x": [
          "2023-09-16T06:00:00",
          "2023-09-16T06:15:00",
          "2023-09-16T06:30:00",
          "2023-09-16T06:45:00",
          "2023-09-16T07:00:00",
          "2023-09-16T07:15:00",
          "2023-09-16T07:30:00",
          "2023-09-16T07:45:00",
          "2023-09-16T08:00:00",
          "2023-09-16T08:15:00",
          "2023-09-16T08:30:00",
          "2023-09-16T08:45:00",
          "2023-09-16T09:00:00",
          "2023-09-16T09:15:00",
          "2023-09-16T09:30:00",
          "2023-09-16T09:45:00",
          "2023-09-16T10:00:00",
          "2023-09-16T10:15:00",
          "2023-09-16T10:30:00",
          "2023-09-16T10:45:00",
          "2023-09-16T11:00:00",
          "2023-09-16T11:15:00",
          "2023-09-16T11:30:00",
          "2023-09-16T11:45:00",
          "2023-09-16T12:00:00",
          "2023-09-16T12:15:00",
          "2023-09-16T12:30:00",
          "2023-09-16T12:45:00",
          "2023-09-16T13:00:00",
          "2023-09-16T13:15:00",
          "2023-09-16T13:30:00",
          "2023-09-16T13:45:00",
          "2023-09-16T14:00:00",
          "2023-09-16T14:15:00",
          "2023-09-16T14:30:00",
          "2023-09-16T14:45:00",
          "2023-09-16T15:00:00",
          "2023-09-16T15:15:00",
          "2023-09-16T15:30:00",
          "2023-09-16T15:45:00",
          "2023-09-16T16:00:00",
          "2023-09-16T16:15:00",
          "2023-09-16T16:30:00",
          "2023-09-16T16:45:00",
          "2023-09-16T17:00:00",
          "2023-09-16T17:15:00",
          "2023-09-16T17:30:00"
         ],
         "xaxis": "x4",
         "y": [
          18.01924,
          25.679680666666666,
          20.210525333333333,
          23.48711866666667,
          33.24347266666666,
          138.46387466666667,
          56.64673066666666,
          29.653007333333335,
          31.531051333333334,
          32.93866666666667,
          34.222552,
          35.561621333333335,
          36.964229333333336,
          38.65126,
          40.60177866666667,
          42.69928733333333,
          44.742864,
          47.233459333333336,
          50.077236000000006,
          440.870844,
          889.16238,
          905.9376466666666,
          920.1933733333334,
          930.4082266666666,
          933.3337399999999,
          932.0690466666667,
          927.2994266666666,
          916.9651600000001,
          645.6721533333333,
          880.1772333333333,
          855.4342133333334,
          828.9261333333333,
          797.45598,
          521.86868,
          723.3914466666666,
          684.2341133333333,
          635.6965866666667,
          142.73446133333334,
          36.35755866666667,
          33.701603999999996,
          31.497332666666665,
          29.581117333333335,
          27.393922,
          24.122760000000003,
          20.562058666666665,
          17.108487999999998,
          17.144778
         ],
         "yaxis": "y4"
        },
        {
         "hovertemplate": "datatype=measured<br>position=Ap_5<br>Datetime=%{x}<br>value=%{y}<extra></extra>",
         "legendgroup": "measured",
         "line": {
          "color": "#EF553B",
          "dash": "solid"
         },
         "marker": {
          "symbol": "circle"
         },
         "mode": "lines",
         "name": "measured",
         "orientation": "v",
         "showlegend": false,
         "type": "scatter",
         "x": [
          "2023-09-16T06:00:00",
          "2023-09-16T06:15:00",
          "2023-09-16T06:30:00",
          "2023-09-16T06:45:00",
          "2023-09-16T07:00:00",
          "2023-09-16T07:15:00",
          "2023-09-16T07:30:00",
          "2023-09-16T07:45:00",
          "2023-09-16T08:00:00",
          "2023-09-16T08:15:00",
          "2023-09-16T08:30:00",
          "2023-09-16T08:45:00",
          "2023-09-16T09:00:00",
          "2023-09-16T09:15:00",
          "2023-09-16T09:30:00",
          "2023-09-16T09:45:00",
          "2023-09-16T10:00:00",
          "2023-09-16T10:15:00",
          "2023-09-16T10:30:00",
          "2023-09-16T10:45:00",
          "2023-09-16T11:00:00",
          "2023-09-16T11:15:00",
          "2023-09-16T11:30:00",
          "2023-09-16T11:45:00",
          "2023-09-16T12:00:00",
          "2023-09-16T12:15:00",
          "2023-09-16T12:30:00",
          "2023-09-16T12:45:00",
          "2023-09-16T13:00:00",
          "2023-09-16T13:15:00",
          "2023-09-16T13:30:00",
          "2023-09-16T13:45:00",
          "2023-09-16T14:00:00",
          "2023-09-16T14:15:00",
          "2023-09-16T14:30:00",
          "2023-09-16T14:45:00",
          "2023-09-16T15:00:00",
          "2023-09-16T15:15:00",
          "2023-09-16T15:30:00",
          "2023-09-16T15:45:00",
          "2023-09-16T16:00:00",
          "2023-09-16T16:15:00",
          "2023-09-16T16:30:00",
          "2023-09-16T16:45:00",
          "2023-09-16T17:00:00",
          "2023-09-16T17:15:00",
          "2023-09-16T17:30:00"
         ],
         "xaxis": "x5",
         "y": [
          30.677983333333334,
          30.22524,
          28.432368666666665,
          24.483054666666668,
          29.187938,
          34.86902133333333,
          211.86770466666667,
          417.82124,
          468.51264000000003,
          518.38568,
          538.07774,
          46.43822533333333,
          45.486146,
          46.37429533333333,
          47.67317933333334,
          49.15572333333333,
          51.090778666666665,
          53.12862066666666,
          54.633037333333334,
          56.210588666666666,
          57.54254466666667,
          58.59621933333334,
          59.38654866666667,
          60.090445333333335,
          60.21683133333334,
          60.72270666666667,
          60.95757333333333,
          61.22857333333334,
          60.832462,
          222.24500466666666,
          811.3577399999999,
          781.2139933333333,
          695.77442,
          717.2031733333333,
          678.3048133333333,
          632.4921400000001,
          578.2955066666667,
          533.85762,
          481.10938666666664,
          189.329946,
          35.764494,
          29.689589333333334,
          28.370336666666667,
          21.356056666666667,
          18.192994666666667,
          15.299980666666668,
          14.016036666666666
         ],
         "yaxis": "y5"
        }
       ],
       "layout": {
        "annotations": [
         {
          "font": {},
          "showarrow": false,
          "text": "position=Ap_1",
          "x": 0.09200000000000001,
          "xanchor": "center",
          "xref": "paper",
          "y": 1,
          "yanchor": "bottom",
          "yref": "paper"
         },
         {
          "font": {},
          "showarrow": false,
          "text": "position=Ap_2",
          "x": 0.29600000000000004,
          "xanchor": "center",
          "xref": "paper",
          "y": 1,
          "yanchor": "bottom",
          "yref": "paper"
         },
         {
          "font": {},
          "showarrow": false,
          "text": "position=Ap_3",
          "x": 0.5,
          "xanchor": "center",
          "xref": "paper",
          "y": 1,
          "yanchor": "bottom",
          "yref": "paper"
         },
         {
          "font": {},
          "showarrow": false,
          "text": "position=Ap_4",
          "x": 0.7040000000000002,
          "xanchor": "center",
          "xref": "paper",
          "y": 1,
          "yanchor": "bottom",
          "yref": "paper"
         },
         {
          "font": {},
          "showarrow": false,
          "text": "position=Ap_5",
          "x": 0.908,
          "xanchor": "center",
          "xref": "paper",
          "y": 1,
          "yanchor": "bottom",
          "yref": "paper"
         }
        ],
        "height": 400,
        "legend": {
         "orientation": "h",
         "title": {
          "text": "Data type"
         },
         "tracegroupgap": 0,
         "x": 0.5,
         "xanchor": "center",
         "y": 1.2,
         "yanchor": "top"
        },
        "margin": {
         "t": 60
        },
        "plot_bgcolor": "white",
        "template": {
         "data": {
          "bar": [
           {
            "error_x": {
             "color": "#2a3f5f"
            },
            "error_y": {
             "color": "#2a3f5f"
            },
            "marker": {
             "line": {
              "color": "#E5ECF6",
              "width": 0.5
             },
             "pattern": {
              "fillmode": "overlay",
              "size": 10,
              "solidity": 0.2
             }
            },
            "type": "bar"
           }
          ],
          "barpolar": [
           {
            "marker": {
             "line": {
              "color": "#E5ECF6",
              "width": 0.5
             },
             "pattern": {
              "fillmode": "overlay",
              "size": 10,
              "solidity": 0.2
             }
            },
            "type": "barpolar"
           }
          ],
          "carpet": [
           {
            "aaxis": {
             "endlinecolor": "#2a3f5f",
             "gridcolor": "white",
             "linecolor": "white",
             "minorgridcolor": "white",
             "startlinecolor": "#2a3f5f"
            },
            "baxis": {
             "endlinecolor": "#2a3f5f",
             "gridcolor": "white",
             "linecolor": "white",
             "minorgridcolor": "white",
             "startlinecolor": "#2a3f5f"
            },
            "type": "carpet"
           }
          ],
          "choropleth": [
           {
            "colorbar": {
             "outlinewidth": 0,
             "ticks": ""
            },
            "type": "choropleth"
           }
          ],
          "contour": [
           {
            "colorbar": {
             "outlinewidth": 0,
             "ticks": ""
            },
            "colorscale": [
             [
              0,
              "#0d0887"
             ],
             [
              0.1111111111111111,
              "#46039f"
             ],
             [
              0.2222222222222222,
              "#7201a8"
             ],
             [
              0.3333333333333333,
              "#9c179e"
             ],
             [
              0.4444444444444444,
              "#bd3786"
             ],
             [
              0.5555555555555556,
              "#d8576b"
             ],
             [
              0.6666666666666666,
              "#ed7953"
             ],
             [
              0.7777777777777778,
              "#fb9f3a"
             ],
             [
              0.8888888888888888,
              "#fdca26"
             ],
             [
              1,
              "#f0f921"
             ]
            ],
            "type": "contour"
           }
          ],
          "contourcarpet": [
           {
            "colorbar": {
             "outlinewidth": 0,
             "ticks": ""
            },
            "type": "contourcarpet"
           }
          ],
          "heatmap": [
           {
            "colorbar": {
             "outlinewidth": 0,
             "ticks": ""
            },
            "colorscale": [
             [
              0,
              "#0d0887"
             ],
             [
              0.1111111111111111,
              "#46039f"
             ],
             [
              0.2222222222222222,
              "#7201a8"
             ],
             [
              0.3333333333333333,
              "#9c179e"
             ],
             [
              0.4444444444444444,
              "#bd3786"
             ],
             [
              0.5555555555555556,
              "#d8576b"
             ],
             [
              0.6666666666666666,
              "#ed7953"
             ],
             [
              0.7777777777777778,
              "#fb9f3a"
             ],
             [
              0.8888888888888888,
              "#fdca26"
             ],
             [
              1,
              "#f0f921"
             ]
            ],
            "type": "heatmap"
           }
          ],
          "heatmapgl": [
           {
            "colorbar": {
             "outlinewidth": 0,
             "ticks": ""
            },
            "colorscale": [
             [
              0,
              "#0d0887"
             ],
             [
              0.1111111111111111,
              "#46039f"
             ],
             [
              0.2222222222222222,
              "#7201a8"
             ],
             [
              0.3333333333333333,
              "#9c179e"
             ],
             [
              0.4444444444444444,
              "#bd3786"
             ],
             [
              0.5555555555555556,
              "#d8576b"
             ],
             [
              0.6666666666666666,
              "#ed7953"
             ],
             [
              0.7777777777777778,
              "#fb9f3a"
             ],
             [
              0.8888888888888888,
              "#fdca26"
             ],
             [
              1,
              "#f0f921"
             ]
            ],
            "type": "heatmapgl"
           }
          ],
          "histogram": [
           {
            "marker": {
             "pattern": {
              "fillmode": "overlay",
              "size": 10,
              "solidity": 0.2
             }
            },
            "type": "histogram"
           }
          ],
          "histogram2d": [
           {
            "colorbar": {
             "outlinewidth": 0,
             "ticks": ""
            },
            "colorscale": [
             [
              0,
              "#0d0887"
             ],
             [
              0.1111111111111111,
              "#46039f"
             ],
             [
              0.2222222222222222,
              "#7201a8"
             ],
             [
              0.3333333333333333,
              "#9c179e"
             ],
             [
              0.4444444444444444,
              "#bd3786"
             ],
             [
              0.5555555555555556,
              "#d8576b"
             ],
             [
              0.6666666666666666,
              "#ed7953"
             ],
             [
              0.7777777777777778,
              "#fb9f3a"
             ],
             [
              0.8888888888888888,
              "#fdca26"
             ],
             [
              1,
              "#f0f921"
             ]
            ],
            "type": "histogram2d"
           }
          ],
          "histogram2dcontour": [
           {
            "colorbar": {
             "outlinewidth": 0,
             "ticks": ""
            },
            "colorscale": [
             [
              0,
              "#0d0887"
             ],
             [
              0.1111111111111111,
              "#46039f"
             ],
             [
              0.2222222222222222,
              "#7201a8"
             ],
             [
              0.3333333333333333,
              "#9c179e"
             ],
             [
              0.4444444444444444,
              "#bd3786"
             ],
             [
              0.5555555555555556,
              "#d8576b"
             ],
             [
              0.6666666666666666,
              "#ed7953"
             ],
             [
              0.7777777777777778,
              "#fb9f3a"
             ],
             [
              0.8888888888888888,
              "#fdca26"
             ],
             [
              1,
              "#f0f921"
             ]
            ],
            "type": "histogram2dcontour"
           }
          ],
          "mesh3d": [
           {
            "colorbar": {
             "outlinewidth": 0,
             "ticks": ""
            },
            "type": "mesh3d"
           }
          ],
          "parcoords": [
           {
            "line": {
             "colorbar": {
              "outlinewidth": 0,
              "ticks": ""
             }
            },
            "type": "parcoords"
           }
          ],
          "pie": [
           {
            "automargin": true,
            "type": "pie"
           }
          ],
          "scatter": [
           {
            "fillpattern": {
             "fillmode": "overlay",
             "size": 10,
             "solidity": 0.2
            },
            "type": "scatter"
           }
          ],
          "scatter3d": [
           {
            "line": {
             "colorbar": {
              "outlinewidth": 0,
              "ticks": ""
             }
            },
            "marker": {
             "colorbar": {
              "outlinewidth": 0,
              "ticks": ""
             }
            },
            "type": "scatter3d"
           }
          ],
          "scattercarpet": [
           {
            "marker": {
             "colorbar": {
              "outlinewidth": 0,
              "ticks": ""
             }
            },
            "type": "scattercarpet"
           }
          ],
          "scattergeo": [
           {
            "marker": {
             "colorbar": {
              "outlinewidth": 0,
              "ticks": ""
             }
            },
            "type": "scattergeo"
           }
          ],
          "scattergl": [
           {
            "marker": {
             "colorbar": {
              "outlinewidth": 0,
              "ticks": ""
             }
            },
            "type": "scattergl"
           }
          ],
          "scattermapbox": [
           {
            "marker": {
             "colorbar": {
              "outlinewidth": 0,
              "ticks": ""
             }
            },
            "type": "scattermapbox"
           }
          ],
          "scatterpolar": [
           {
            "marker": {
             "colorbar": {
              "outlinewidth": 0,
              "ticks": ""
             }
            },
            "type": "scatterpolar"
           }
          ],
          "scatterpolargl": [
           {
            "marker": {
             "colorbar": {
              "outlinewidth": 0,
              "ticks": ""
             }
            },
            "type": "scatterpolargl"
           }
          ],
          "scatterternary": [
           {
            "marker": {
             "colorbar": {
              "outlinewidth": 0,
              "ticks": ""
             }
            },
            "type": "scatterternary"
           }
          ],
          "surface": [
           {
            "colorbar": {
             "outlinewidth": 0,
             "ticks": ""
            },
            "colorscale": [
             [
              0,
              "#0d0887"
             ],
             [
              0.1111111111111111,
              "#46039f"
             ],
             [
              0.2222222222222222,
              "#7201a8"
             ],
             [
              0.3333333333333333,
              "#9c179e"
             ],
             [
              0.4444444444444444,
              "#bd3786"
             ],
             [
              0.5555555555555556,
              "#d8576b"
             ],
             [
              0.6666666666666666,
              "#ed7953"
             ],
             [
              0.7777777777777778,
              "#fb9f3a"
             ],
             [
              0.8888888888888888,
              "#fdca26"
             ],
             [
              1,
              "#f0f921"
             ]
            ],
            "type": "surface"
           }
          ],
          "table": [
           {
            "cells": {
             "fill": {
              "color": "#EBF0F8"
             },
             "line": {
              "color": "white"
             }
            },
            "header": {
             "fill": {
              "color": "#C8D4E3"
             },
             "line": {
              "color": "white"
             }
            },
            "type": "table"
           }
          ]
         },
         "layout": {
          "annotationdefaults": {
           "arrowcolor": "#2a3f5f",
           "arrowhead": 0,
           "arrowwidth": 1
          },
          "autotypenumbers": "strict",
          "coloraxis": {
           "colorbar": {
            "outlinewidth": 0,
            "ticks": ""
           }
          },
          "colorscale": {
           "diverging": [
            [
             0,
             "#8e0152"
            ],
            [
             0.1,
             "#c51b7d"
            ],
            [
             0.2,
             "#de77ae"
            ],
            [
             0.3,
             "#f1b6da"
            ],
            [
             0.4,
             "#fde0ef"
            ],
            [
             0.5,
             "#f7f7f7"
            ],
            [
             0.6,
             "#e6f5d0"
            ],
            [
             0.7,
             "#b8e186"
            ],
            [
             0.8,
             "#7fbc41"
            ],
            [
             0.9,
             "#4d9221"
            ],
            [
             1,
             "#276419"
            ]
           ],
           "sequential": [
            [
             0,
             "#0d0887"
            ],
            [
             0.1111111111111111,
             "#46039f"
            ],
            [
             0.2222222222222222,
             "#7201a8"
            ],
            [
             0.3333333333333333,
             "#9c179e"
            ],
            [
             0.4444444444444444,
             "#bd3786"
            ],
            [
             0.5555555555555556,
             "#d8576b"
            ],
            [
             0.6666666666666666,
             "#ed7953"
            ],
            [
             0.7777777777777778,
             "#fb9f3a"
            ],
            [
             0.8888888888888888,
             "#fdca26"
            ],
            [
             1,
             "#f0f921"
            ]
           ],
           "sequentialminus": [
            [
             0,
             "#0d0887"
            ],
            [
             0.1111111111111111,
             "#46039f"
            ],
            [
             0.2222222222222222,
             "#7201a8"
            ],
            [
             0.3333333333333333,
             "#9c179e"
            ],
            [
             0.4444444444444444,
             "#bd3786"
            ],
            [
             0.5555555555555556,
             "#d8576b"
            ],
            [
             0.6666666666666666,
             "#ed7953"
            ],
            [
             0.7777777777777778,
             "#fb9f3a"
            ],
            [
             0.8888888888888888,
             "#fdca26"
            ],
            [
             1,
             "#f0f921"
            ]
           ]
          },
          "colorway": [
           "#636efa",
           "#EF553B",
           "#00cc96",
           "#ab63fa",
           "#FFA15A",
           "#19d3f3",
           "#FF6692",
           "#B6E880",
           "#FF97FF",
           "#FECB52"
          ],
          "font": {
           "color": "#2a3f5f"
          },
          "geo": {
           "bgcolor": "white",
           "lakecolor": "white",
           "landcolor": "#E5ECF6",
           "showlakes": true,
           "showland": true,
           "subunitcolor": "white"
          },
          "hoverlabel": {
           "align": "left"
          },
          "hovermode": "closest",
          "mapbox": {
           "style": "light"
          },
          "paper_bgcolor": "white",
          "plot_bgcolor": "#E5ECF6",
          "polar": {
           "angularaxis": {
            "gridcolor": "white",
            "linecolor": "white",
            "ticks": ""
           },
           "bgcolor": "#E5ECF6",
           "radialaxis": {
            "gridcolor": "white",
            "linecolor": "white",
            "ticks": ""
           }
          },
          "scene": {
           "xaxis": {
            "backgroundcolor": "#E5ECF6",
            "gridcolor": "white",
            "gridwidth": 2,
            "linecolor": "white",
            "showbackground": true,
            "ticks": "",
            "zerolinecolor": "white"
           },
           "yaxis": {
            "backgroundcolor": "#E5ECF6",
            "gridcolor": "white",
            "gridwidth": 2,
            "linecolor": "white",
            "showbackground": true,
            "ticks": "",
            "zerolinecolor": "white"
           },
           "zaxis": {
            "backgroundcolor": "#E5ECF6",
            "gridcolor": "white",
            "gridwidth": 2,
            "linecolor": "white",
            "showbackground": true,
            "ticks": "",
            "zerolinecolor": "white"
           }
          },
          "shapedefaults": {
           "line": {
            "color": "#2a3f5f"
           }
          },
          "ternary": {
           "aaxis": {
            "gridcolor": "white",
            "linecolor": "white",
            "ticks": ""
           },
           "baxis": {
            "gridcolor": "white",
            "linecolor": "white",
            "ticks": ""
           },
           "bgcolor": "#E5ECF6",
           "caxis": {
            "gridcolor": "white",
            "linecolor": "white",
            "ticks": ""
           }
          },
          "title": {
           "x": 0.05
          },
          "xaxis": {
           "automargin": true,
           "gridcolor": "white",
           "linecolor": "white",
           "ticks": "",
           "title": {
            "standoff": 15
           },
           "zerolinecolor": "white",
           "zerolinewidth": 2
          },
          "yaxis": {
           "automargin": true,
           "gridcolor": "white",
           "linecolor": "white",
           "ticks": "",
           "title": {
            "standoff": 15
           },
           "zerolinecolor": "white",
           "zerolinewidth": 2
          }
         }
        },
        "width": 1000,
        "xaxis": {
         "anchor": "y",
         "domain": [
          0,
          0.18400000000000002
         ],
         "gridcolor": "lightgrey",
         "linecolor": "black",
         "mirror": true,
         "showline": true,
         "ticks": "outside",
         "title": {
          "text": " "
         }
        },
        "xaxis2": {
         "anchor": "y2",
         "domain": [
          0.20400000000000001,
          0.388
         ],
         "gridcolor": "lightgrey",
         "linecolor": "black",
         "matches": "x",
         "mirror": true,
         "showline": true,
         "ticks": "outside",
         "title": {
          "text": " "
         }
        },
        "xaxis3": {
         "anchor": "y3",
         "domain": [
          0.40800000000000003,
          0.5920000000000001
         ],
         "gridcolor": "lightgrey",
         "linecolor": "black",
         "matches": "x",
         "mirror": true,
         "showline": true,
         "ticks": "outside",
         "title": {
          "text": " "
         }
        },
        "xaxis4": {
         "anchor": "y4",
         "domain": [
          0.6120000000000001,
          0.7960000000000002
         ],
         "gridcolor": "lightgrey",
         "linecolor": "black",
         "matches": "x",
         "mirror": true,
         "showline": true,
         "ticks": "outside",
         "title": {
          "text": " "
         }
        },
        "xaxis5": {
         "anchor": "y5",
         "domain": [
          0.8160000000000001,
          1
         ],
         "gridcolor": "lightgrey",
         "linecolor": "black",
         "matches": "x",
         "mirror": true,
         "showline": true,
         "ticks": "outside",
         "title": {
          "text": " "
         }
        },
        "yaxis": {
         "anchor": "x",
         "domain": [
          0,
          1
         ],
         "gridcolor": "lightgrey",
         "linecolor": "black",
         "mirror": true,
         "showline": true,
         "ticks": "outside",
         "title": {
          "text": "15-min average irradiance (W/m<sup>2</sup>)"
         }
        },
        "yaxis2": {
         "anchor": "x2",
         "domain": [
          0,
          1
         ],
         "gridcolor": "lightgrey",
         "linecolor": "black",
         "matches": "y",
         "mirror": true,
         "showline": true,
         "showticklabels": false,
         "ticks": "outside"
        },
        "yaxis3": {
         "anchor": "x3",
         "domain": [
          0,
          1
         ],
         "gridcolor": "lightgrey",
         "linecolor": "black",
         "matches": "y",
         "mirror": true,
         "showline": true,
         "showticklabels": false,
         "ticks": "outside"
        },
        "yaxis4": {
         "anchor": "x4",
         "domain": [
          0,
          1
         ],
         "gridcolor": "lightgrey",
         "linecolor": "black",
         "matches": "y",
         "mirror": true,
         "showline": true,
         "showticklabels": false,
         "ticks": "outside"
        },
        "yaxis5": {
         "anchor": "x5",
         "domain": [
          0,
          1
         ],
         "gridcolor": "lightgrey",
         "linecolor": "black",
         "matches": "y",
         "mirror": true,
         "showline": true,
         "showticklabels": false,
         "ticks": "outside"
        }
       }
      }
     },
     "metadata": {},
     "output_type": "display_data"
    },
    {
     "data": {
      "application/vnd.plotly.v1+json": {
       "config": {
        "plotlyServerURL": "https://plot.ly"
       },
       "data": [
        {
         "hovertemplate": "position=Ap_1<br>measured=%{x}<br>modeled=%{y}<extra></extra>",
         "legendgroup": "",
         "marker": {
          "color": "rgba(135, 206, 250, 0.5)",
          "line": {
           "color": "DarkSlateGrey",
           "width": 2
          },
          "size": 6,
          "symbol": "circle"
         },
         "mode": "markers",
         "name": "",
         "orientation": "v",
         "showlegend": false,
         "type": "scatter",
         "x": [
          34.933782666666666,
          16.896433333333334,
          57.77022266666666,
          24.483247333333335,
          26.25462866666667,
          31.628364,
          36.044554,
          225.6348,
          476.6759666666667,
          526.4212533333333,
          572.93362,
          617.0348266666667,
          658.643,
          695.5417533333333,
          732.4777733333333,
          760.8285733333333,
          789.5831533333334,
          799.6956933333333,
          745.475414,
          45.185386666666666,
          44.04248,
          43.129582666666664,
          42.29507533333333,
          41.19249066666667,
          40.542020666666666,
          40.10842,
          39.602544,
          39.42187666666666,
          39.11561666666667,
          39.044716666666666,
          38.87188533333334,
          38.09742133333334,
          37.43016866666667,
          36.945589999999996,
          36.879149999999996,
          37.07993466666667,
          37.477934,
          434.11525666666665,
          455.47285999999997,
          402.12274,
          153.835896,
          24.644892666666667,
          21.625831333333334,
          19.565848,
          17.306855333333335,
          14.522322666666666,
          11.610701466666667
         ],
         "xaxis": "x",
         "y": [
          14.66802,
          10.65493,
          14.30578,
          16.4023,
          19.27554,
          21.1158,
          24.34222,
          26.95593,
          408.5863,
          458.8449,
          506.1832,
          552.9848,
          596.1387,
          636.7376,
          673.6951,
          706.4503,
          736.6663,
          762.0566,
          786.7345,
          29.54789,
          27.84795,
          26.55363,
          26.11037,
          24.55063,
          23.8831,
          24.36416,
          23.8903,
          23.33097,
          23.316099999999995,
          22.65114,
          22.77069,
          22.33078,
          22.08849,
          21.7122,
          23.03931,
          22.77611,
          23.533560000000005,
          511.93979999999993,
          466.3826000000001,
          419.5161,
          368.9591,
          21.53527,
          19.81602,
          20.33938,
          19.69274,
          18.58636,
          16.38926
         ],
         "yaxis": "y"
        },
        {
         "hovertemplate": "<b>OLS trendline</b><br>modeled = 0.95485 * measured + -7.5311<br>R<sup>2</sup>=0.965648<br><br>position=Ap_1<br>measured=%{x}<br>modeled=%{y} <b>(trend)</b><extra></extra>",
         "legendgroup": "",
         "line": {
          "color": "black"
         },
         "marker": {
          "color": "#636efa",
          "symbol": "circle"
         },
         "mode": "lines",
         "name": "",
         "showlegend": false,
         "type": "scatter",
         "x": [
          11.610701466666667,
          14.522322666666666,
          16.896433333333334,
          17.306855333333335,
          19.565848,
          21.625831333333334,
          24.483247333333335,
          24.644892666666667,
          26.25462866666667,
          31.628364,
          34.933782666666666,
          36.044554,
          36.879149999999996,
          36.945589999999996,
          37.07993466666667,
          37.43016866666667,
          37.477934,
          38.09742133333334,
          38.87188533333334,
          39.044716666666666,
          39.11561666666667,
          39.42187666666666,
          39.602544,
          40.10842,
          40.542020666666666,
          41.19249066666667,
          42.29507533333333,
          43.129582666666664,
          44.04248,
          45.185386666666666,
          57.77022266666666,
          153.835896,
          225.6348,
          402.12274,
          434.11525666666665,
          455.47285999999997,
          476.6759666666667,
          526.4212533333333,
          572.93362,
          617.0348266666667,
          658.643,
          695.5417533333333,
          732.4777733333333,
          745.475414,
          760.8285733333333,
          789.5831533333334,
          799.6956933333333
         ],
         "xaxis": "x",
         "y": [
          3.5553774105104994,
          6.3355382931781365,
          8.602457357577947,
          8.994348716861296,
          11.151347383480331,
          13.118322030553458,
          15.846725089546375,
          16.001072101650525,
          17.53812817838945,
          22.66923821685952,
          25.825416526698064,
          26.88603629774586,
          27.68295011058349,
          27.74639033043229,
          27.87466930678461,
          28.209090167087524,
          28.25469888544722,
          28.846216233734637,
          29.585713019179913,
          29.750740981001528,
          29.818439830900388,
          30.11087212666942,
          30.283382291422043,
          30.76641788227444,
          31.18044138648758,
          31.801542527442606,
          32.854345261567424,
          33.65117441105727,
          34.52285423535067,
          35.61415842258723,
          47.63078639671637,
          139.35907411781858,
          207.91624230961807,
          376.43571422807815,
          406.98376195309095,
          427.3770649469231,
          447.6228468314953,
          495.12212320980797,
          539.5344466147072,
          581.6444744071646,
          621.374029852285,
          656.6067966134747,
          691.8751474433936,
          704.2859418655653,
          718.9459027848967,
          746.4022073733979,
          756.0581640385066
         ],
         "yaxis": "y"
        },
        {
         "hovertemplate": "position=Ap_2<br>measured=%{x}<br>modeled=%{y}<extra></extra>",
         "legendgroup": "",
         "marker": {
          "color": "rgba(135, 206, 250, 0.5)",
          "line": {
           "color": "DarkSlateGrey",
           "width": 2
          },
          "size": 6,
          "symbol": "circle"
         },
         "mode": "markers",
         "name": "",
         "orientation": "v",
         "showlegend": false,
         "type": "scatter",
         "x": [
          23.687603333333335,
          25.190716000000002,
          30.696089999999998,
          54.05628266666667,
          27.28677466666667,
          27.410058,
          29.744453333333336,
          32.096936,
          34.77102,
          83.540082,
          501.1585533333334,
          549.3139266666667,
          593.7246733333334,
          635.51192,
          675.1288933333334,
          711.0760266666667,
          745.2562466666667,
          778.0141133333333,
          804.6891599999999,
          830.25388,
          849.5839066666667,
          863.838,
          875.5495866666666,
          882.1877400000001,
          882.8368733333333,
          880.7049999999999,
          872.5568533333334,
          860.9759933333333,
          386.10847333333334,
          42.098181999999994,
          40.353732666666666,
          38.151638000000005,
          36.67108266666667,
          35.58994333333333,
          34.167436,
          32.99408733333333,
          31.584152,
          30.372880000000002,
          29.12582533333333,
          27.409676666666666,
          25.331668,
          22.692110666666668,
          20.830232,
          19.330773999999998,
          17.505784,
          15.299982666666667,
          13.111774666666665
         ],
         "xaxis": "x2",
         "y": [
          15.6039,
          12.43125,
          16.47719,
          20.56065,
          23.92238,
          27.27283,
          28.94668,
          31.23748,
          34.10092,
          35.90514,
          37.94323,
          558.4382,
          602.9056,
          646.4209,
          685.4371,
          719.5751,
          751.975,
          779.8332,
          806.8123,
          826.7274000000001,
          845.3209,
          856.2902,
          864.1177000000001,
          869.2891,
          866.4766,
          860.3467999999999,
          849.7704,
          836.436,
          39.65027,
          36.17451,
          33.09443,
          31.34915,
          28.8005,
          27.09765,
          25.92122,
          25.30635,
          24.44811,
          23.23309,
          22.26307,
          21.74521,
          21.17019,
          20.31618,
          18.93319,
          20.5672,
          21.03864,
          20.40001,
          77.89845
         ],
         "yaxis": "y2"
        },
        {
         "hovertemplate": "<b>OLS trendline</b><br>modeled = 0.98054 * measured + -15.2452<br>R<sup>2</sup>=0.948720<br><br>position=Ap_2<br>measured=%{x}<br>modeled=%{y} <b>(trend)</b><extra></extra>",
         "legendgroup": "",
         "line": {
          "color": "black"
         },
         "marker": {
          "color": "#636efa",
          "symbol": "circle"
         },
         "mode": "lines",
         "name": "",
         "showlegend": false,
         "type": "scatter",
         "x": [
          13.111774666666665,
          15.299982666666667,
          17.505784,
          19.330773999999998,
          20.830232,
          22.692110666666668,
          23.687603333333335,
          25.190716000000002,
          25.331668,
          27.28677466666667,
          27.409676666666666,
          27.410058,
          29.12582533333333,
          29.744453333333336,
          30.372880000000002,
          30.696089999999998,
          31.584152,
          32.096936,
          32.99408733333333,
          34.167436,
          34.77102,
          35.58994333333333,
          36.67108266666667,
          38.151638000000005,
          40.353732666666666,
          42.098181999999994,
          54.05628266666667,
          83.540082,
          386.10847333333334,
          501.1585533333334,
          549.3139266666667,
          593.7246733333334,
          635.51192,
          675.1288933333334,
          711.0760266666667,
          745.2562466666667,
          778.0141133333333,
          804.6891599999999,
          830.25388,
          849.5839066666667,
          860.9759933333333,
          863.838,
          872.5568533333334,
          875.5495866666666,
          880.7049999999999,
          882.1877400000001,
          882.8368733333333
         ],
         "xaxis": "x2",
         "y": [
          -2.388626437411526,
          -0.24300148319059467,
          1.919874433931449,
          3.7093496964310173,
          5.17962788872636,
          7.005273955705183,
          7.981394099377058,
          9.455255837660422,
          9.593464878367405,
          11.51052470639276,
          11.631035004373414,
          11.631408916869793,
          13.313787011656531,
          13.920376364304817,
          14.536573699246409,
          14.853493956120408,
          15.72427405933516,
          16.22707916128398,
          17.10677171725333,
          18.25728674105448,
          18.849124853504705,
          19.652111744875988,
          20.712211850802753,
          22.163955226800326,
          24.323196609866656,
          26.03369854614239,
          37.75909174253229,
          66.66912935999937,
          363.34946815927424,
          476.1606463622213,
          523.3789047288049,
          566.9254077502654,
          607.8994647028884,
          646.7454823550975,
          681.9930759626097,
          715.5081407886048,
          747.628531613902,
          773.7844755566204,
          798.851700052496,
          817.8055598234849,
          828.9759537863291,
          831.7822651256289,
          840.3314475087445,
          843.2659415428257,
          848.3210293120519,
          849.7749148405858,
          850.4114158855579
         ],
         "yaxis": "y2"
        },
        {
         "hovertemplate": "position=Ap_3<br>measured=%{x}<br>modeled=%{y}<extra></extra>",
         "legendgroup": "",
         "marker": {
          "color": "rgba(135, 206, 250, 0.5)",
          "line": {
           "color": "DarkSlateGrey",
           "width": 2
          },
          "size": 6,
          "symbol": "circle"
         },
         "mode": "markers",
         "name": "",
         "orientation": "v",
         "showlegend": false,
         "type": "scatter",
         "x": [
          38.265982666666666,
          30.87719,
          22.926992666666667,
          80.72610466666667,
          55.94903266666667,
          35.394524000000004,
          27.173720666666668,
          29.653008,
          31.657748,
          33.42731466666666,
          35.36269933333334,
          37.226593333333334,
          39.22583533333333,
          456.2068673333333,
          721.0297,
          757.46472,
          786.0926933333333,
          811.8300466666666,
          829.7099266666667,
          848.0028266666667,
          859.7587066666666,
          867.21688,
          876.9226800000001,
          882.5852133333334,
          786.5405666666667,
          757.1638399999999,
          837.0193266666668,
          864.3002933333333,
          843.2530933333333,
          816.7950266666667,
          764.65978,
          756.8518866666667,
          722.4148933333333,
          606.32596,
          48.213544,
          38.652802,
          36.555898666666664,
          34.531072,
          32.75977133333333,
          30.70028333333333,
          28.640513333333335,
          26.543446666666664,
          24.464671333333335,
          22.459139333333333,
          20.290793333333333,
          17.741463333333336,
          16.204346
         ],
         "xaxis": "x3",
         "y": [
          16.17136,
          12.51109,
          16.81896,
          20.8574,
          22.47232,
          23.10771,
          23.8473,
          24.95348,
          26.76044,
          27.930580000000003,
          29.153540000000003,
          31.67723,
          33.96452,
          36.56762,
          676.9901,
          713.3472,
          747.4175,
          777.1211,
          806.006,
          827.58,
          846.9131000000001,
          859.1961,
          868.1006000000001,
          874.4235,
          872.7695,
          867.9357,
          859.6691,
          848.1292,
          831.429,
          811.0445999999998,
          785.8741,
          756.491,
          722.6776999999998,
          687.1854,
          40.40984,
          36.92049,
          34.13161,
          32.18352,
          30.24907,
          29.19423,
          27.9183,
          26.88355,
          24.90063,
          25.6398,
          24.91926,
          22.750340000000005,
          20.00281
         ],
         "yaxis": "y3"
        },
        {
         "hovertemplate": "<b>OLS trendline</b><br>modeled = 1.00295 * measured + -13.1002<br>R<sup>2</sup>=0.969814<br><br>position=Ap_3<br>measured=%{x}<br>modeled=%{y} <b>(trend)</b><extra></extra>",
         "legendgroup": "",
         "line": {
          "color": "black"
         },
         "marker": {
          "color": "#636efa",
          "symbol": "circle"
         },
         "mode": "lines",
         "name": "",
         "showlegend": false,
         "type": "scatter",
         "x": [
          16.204346,
          17.741463333333336,
          20.290793333333333,
          22.459139333333333,
          22.926992666666667,
          24.464671333333335,
          26.543446666666664,
          27.173720666666668,
          28.640513333333335,
          29.653008,
          30.70028333333333,
          30.87719,
          31.657748,
          32.75977133333333,
          33.42731466666666,
          34.531072,
          35.36269933333334,
          35.394524000000004,
          36.555898666666664,
          37.226593333333334,
          38.265982666666666,
          38.652802,
          39.22583533333333,
          48.213544,
          55.94903266666667,
          80.72610466666667,
          456.2068673333333,
          606.32596,
          721.0297,
          722.4148933333333,
          756.8518866666667,
          757.1638399999999,
          757.46472,
          764.65978,
          786.0926933333333,
          786.5405666666667,
          811.8300466666666,
          816.7950266666667,
          829.7099266666667,
          837.0193266666668,
          843.2530933333333,
          848.0028266666667,
          859.7587066666666,
          864.3002933333333,
          867.21688,
          876.9226800000001,
          882.5852133333334
         ],
         "xaxis": "x3",
         "y": [
          3.151971029612021,
          4.69362467012353,
          7.250478197266027,
          9.425223372729903,
          9.894457424625383,
          11.436674055064927,
          13.521584224862536,
          14.15371827575678,
          15.62483970897783,
          16.64032242784107,
          17.690688457316526,
          17.868117207082815,
          18.650978772842954,
          19.756254373422973,
          20.425767746094923,
          21.532782464017966,
          22.366864077815098,
          22.398782664744527,
          23.56358475501946,
          24.236258761171012,
          25.27871551765512,
          25.666676423775645,
          26.241400880595098,
          35.25563387722396,
          43.01395134947647,
          67.86414490443546,
          444.45301821562754,
          595.015139077265,
          710.0573902551964,
          711.4466715409097,
          745.9852945785377,
          746.2981685417503,
          746.5999364922499,
          753.8162303965313,
          775.3123960766404,
          775.7615911639954,
          801.1257049262778,
          806.1053374670599,
          819.058351638506,
          826.389322980504,
          832.6414866035145,
          837.405237246358,
          849.1958109432367,
          853.7508006415064,
          856.6759946751871,
          866.4104382206442,
          872.0896826989563
         ],
         "yaxis": "y3"
        },
        {
         "hovertemplate": "position=Ap_4<br>measured=%{x}<br>modeled=%{y}<extra></extra>",
         "legendgroup": "",
         "marker": {
          "color": "rgba(135, 206, 250, 0.5)",
          "line": {
           "color": "DarkSlateGrey",
           "width": 2
          },
          "size": 6,
          "symbol": "circle"
         },
         "mode": "markers",
         "name": "",
         "orientation": "v",
         "showlegend": false,
         "type": "scatter",
         "x": [
          18.01924,
          25.679680666666666,
          20.210525333333333,
          23.48711866666667,
          33.24347266666666,
          138.46387466666667,
          56.64673066666666,
          29.653007333333335,
          31.531051333333334,
          32.93866666666667,
          34.222552,
          35.561621333333335,
          36.964229333333336,
          38.65126,
          40.60177866666667,
          42.69928733333333,
          44.742864,
          47.233459333333336,
          50.077236000000006,
          440.870844,
          889.16238,
          905.9376466666666,
          920.1933733333334,
          930.4082266666666,
          933.3337399999999,
          932.0690466666667,
          927.2994266666666,
          916.9651600000001,
          645.6721533333333,
          880.1772333333333,
          855.4342133333334,
          828.9261333333333,
          797.45598,
          521.86868,
          723.3914466666666,
          684.2341133333333,
          635.6965866666667,
          142.73446133333334,
          36.35755866666667,
          33.701603999999996,
          31.497332666666665,
          29.581117333333335,
          27.393922,
          24.122760000000003,
          20.562058666666665,
          17.108487999999998,
          17.144778
         ],
         "xaxis": "x4",
         "y": [
          15.57604,
          11.81129,
          15.15688,
          18.17289,
          18.75018,
          18.09979,
          18.2913,
          19.32661,
          20.09225,
          20.99389,
          21.49717,
          22.61008,
          23.67698,
          24.484940000000005,
          25.529260000000004,
          27.01002,
          29.83903,
          32.16227,
          34.88925,
          814.9501999999999,
          836.1145,
          850.6789,
          860.4742,
          868.7687,
          868.3034000000001,
          865.3822999999999,
          856.8065,
          846.9573,
          831.1597,
          811.9393,
          788.39,
          761.4026,
          729.5856,
          696.7696,
          657.468,
          618.3646,
          576.8163,
          530.2365,
          38.87191,
          37.45414,
          35.22435,
          33.23274,
          31.84453,
          29.01767,
          26.52369,
          23.83727,
          19.89236
         ],
         "yaxis": "y4"
        },
        {
         "hovertemplate": "<b>OLS trendline</b><br>modeled = 0.94729 * measured + 13.8956<br>R<sup>2</sup>=0.936191<br><br>position=Ap_4<br>measured=%{x}<br>modeled=%{y} <b>(trend)</b><extra></extra>",
         "legendgroup": "",
         "line": {
          "color": "black"
         },
         "marker": {
          "color": "#636efa",
          "symbol": "circle"
         },
         "mode": "lines",
         "name": "",
         "showlegend": false,
         "type": "scatter",
         "x": [
          17.108487999999998,
          17.144778,
          18.01924,
          20.210525333333333,
          20.562058666666665,
          23.48711866666667,
          24.122760000000003,
          25.679680666666666,
          27.393922,
          29.581117333333335,
          29.653007333333335,
          31.497332666666665,
          31.531051333333334,
          32.93866666666667,
          33.24347266666666,
          33.701603999999996,
          34.222552,
          35.561621333333335,
          36.35755866666667,
          36.964229333333336,
          38.65126,
          40.60177866666667,
          42.69928733333333,
          44.742864,
          47.233459333333336,
          50.077236000000006,
          56.64673066666666,
          138.46387466666667,
          142.73446133333334,
          440.870844,
          521.86868,
          635.6965866666667,
          645.6721533333333,
          684.2341133333333,
          723.3914466666666,
          797.45598,
          828.9261333333333,
          855.4342133333334,
          880.1772333333333,
          889.16238,
          905.9376466666666,
          916.9651600000001,
          920.1933733333334,
          927.2994266666666,
          930.4082266666666,
          932.0690466666667,
          933.3337399999999
         ],
         "xaxis": "x4",
         "y": [
          30.102263892234372,
          30.136641045961568,
          30.965010144958253,
          33.04079280586059,
          33.37379681358263,
          36.14467687093361,
          36.746813543057016,
          38.22166890538949,
          39.84555256043248,
          41.917460805276846,
          41.98556148263832,
          43.73267240870496,
          43.764613764105235,
          45.0980336787582,
          45.38677335136693,
          45.820756577413896,
          46.31424540298222,
          47.582732377999335,
          48.33671584631604,
          48.9114088959104,
          50.509516158806264,
          52.35722296651532,
          54.34417192981435,
          56.28003164938744,
          58.63934767711497,
          61.333228846467634,
          67.55644538176611,
          145.06100688102157,
          149.10649088061666,
          431.5281017541791,
          508.2565409865313,
          616.084577523448,
          625.534331968636,
          662.0636906608904,
          699.1570405519619,
          769.3176315724329,
          799.1289928002745,
          824.2398316311582,
          847.6786467927739,
          856.1901862863365,
          872.0812284746714,
          882.5274814669197,
          885.5855356422896,
          892.3170288314226,
          895.261963951486,
          896.8352421122246,
          898.0332734469656
         ],
         "yaxis": "y4"
        },
        {
         "hovertemplate": "position=Ap_5<br>measured=%{x}<br>modeled=%{y}<extra></extra>",
         "legendgroup": "",
         "marker": {
          "color": "rgba(135, 206, 250, 0.5)",
          "line": {
           "color": "DarkSlateGrey",
           "width": 2
          },
          "size": 6,
          "symbol": "circle"
         },
         "mode": "markers",
         "name": "",
         "orientation": "v",
         "showlegend": false,
         "type": "scatter",
         "x": [
          30.677983333333334,
          30.22524,
          28.432368666666665,
          24.483054666666668,
          29.187938,
          34.86902133333333,
          211.86770466666667,
          417.82124,
          468.51264000000003,
          518.38568,
          538.07774,
          46.43822533333333,
          45.486146,
          46.37429533333333,
          47.67317933333334,
          49.15572333333333,
          51.090778666666665,
          53.12862066666666,
          54.633037333333334,
          56.210588666666666,
          57.54254466666667,
          58.59621933333334,
          59.38654866666667,
          60.090445333333335,
          60.21683133333334,
          60.72270666666667,
          60.95757333333333,
          61.22857333333334,
          60.832462,
          222.24500466666666,
          811.3577399999999,
          781.2139933333333,
          695.77442,
          717.2031733333333,
          678.3048133333333,
          632.4921400000001,
          578.2955066666667,
          533.85762,
          481.10938666666664,
          189.329946,
          35.764494,
          29.689589333333334,
          28.370336666666667,
          21.356056666666667,
          18.192994666666667,
          15.299980666666668,
          14.016036666666666
         ],
         "xaxis": "x5",
         "y": [
          14.63485,
          10.44835,
          13.87086,
          15.89276,
          17.53202,
          17.00869,
          18.22185,
          349.3046,
          399.5334,
          448.575,
          493.9174,
          21.3484,
          21.02254,
          20.67933,
          20.33216,
          19.94195,
          20.91946,
          21.2339,
          22.12119,
          22.45153,
          22.991,
          23.73107,
          24.2574,
          24.97031,
          25.68208,
          27.154350000000004,
          28.599550000000004,
          30.39514,
          33.0119,
          793.141,
          771.8758000000001,
          746.3876,
          716.7684,
          686.0315,
          648.781,
          612.3682,
          572.1847,
          527.1554,
          478.9946,
          430.5403,
          32.40108,
          30.36623,
          27.5905,
          24.73016,
          22.52315,
          20.14845,
          17.0355
         ],
         "yaxis": "y5"
        },
        {
         "hovertemplate": "<b>OLS trendline</b><br>modeled = 0.985802 * measured + -5.91789<br>R<sup>2</sup>=0.867221<br><br>position=Ap_5<br>measured=%{x}<br>modeled=%{y} <b>(trend)</b><extra></extra>",
         "legendgroup": "",
         "line": {
          "color": "black"
         },
         "marker": {
          "color": "#636efa",
          "symbol": "circle"
         },
         "mode": "lines",
         "name": "",
         "showlegend": false,
         "type": "scatter",
         "x": [
          14.016036666666666,
          15.299980666666668,
          18.192994666666667,
          21.356056666666667,
          24.483054666666668,
          28.370336666666667,
          28.432368666666665,
          29.187938,
          29.689589333333334,
          30.22524,
          30.677983333333334,
          34.86902133333333,
          35.764494,
          45.486146,
          46.37429533333333,
          46.43822533333333,
          47.67317933333334,
          49.15572333333333,
          51.090778666666665,
          53.12862066666666,
          54.633037333333334,
          56.210588666666666,
          57.54254466666667,
          58.59621933333334,
          59.38654866666667,
          60.090445333333335,
          60.21683133333334,
          60.72270666666667,
          60.832462,
          60.95757333333333,
          61.22857333333334,
          189.329946,
          211.86770466666667,
          222.24500466666666,
          417.82124,
          468.51264000000003,
          481.10938666666664,
          518.38568,
          533.85762,
          538.07774,
          578.2955066666667,
          632.4921400000001,
          678.3048133333333,
          695.77442,
          717.2031733333333,
          781.2139933333333,
          811.3577399999999
         ],
         "xaxis": "x5",
         "y": [
          7.899142940802562,
          9.164857139961093,
          12.016795307174316,
          15.13494725633937,
          18.217547252398642,
          22.04963652072605,
          22.110787772807292,
          22.855629318582455,
          23.350158064093794,
          23.878203410766805,
          24.324518565924944,
          28.456051020465768,
          29.338809512392483,
          38.922430741727965,
          39.79796987908378,
          39.860992182823054,
          41.07841195588763,
          42.53990637595368,
          44.44748724517963,
          46.45639538684438,
          47.93945191925603,
          49.494604731607254,
          50.807649242780954,
          51.84636353786986,
          52.625471551312415,
          53.31937409358868,
          53.443965629337015,
          53.94265840129907,
          54.05085539729997,
          54.17419036446026,
          54.44134262964626,
          180.72389569730214,
          202.94165687817,
          213.1716170313603,
          405.9710055400259,
          455.94267467452454,
          468.3605691615137,
          505.1076031162644,
          520.3598681266768,
          524.5200696667384,
          564.1668130826854,
          617.5939472541045,
          662.7561592660079,
          679.9777275055218,
          701.1022293251227,
          764.204205559118,
          793.9199627664709
         ],
         "yaxis": "y5"
        }
       ],
       "layout": {
        "annotations": [
         {
          "showarrow": false,
          "text": "position=Ap_1",
          "x": 0.09200000000000001,
          "xanchor": "center",
          "xref": "paper",
          "y": 1,
          "yanchor": "bottom",
          "yref": "paper"
         },
         {
          "showarrow": false,
          "text": "position=Ap_2",
          "x": 0.29600000000000004,
          "xanchor": "center",
          "xref": "paper",
          "y": 1,
          "yanchor": "bottom",
          "yref": "paper"
         },
         {
          "showarrow": false,
          "text": "position=Ap_3",
          "x": 0.5,
          "xanchor": "center",
          "xref": "paper",
          "y": 1,
          "yanchor": "bottom",
          "yref": "paper"
         },
         {
          "showarrow": false,
          "text": "position=Ap_4",
          "x": 0.7040000000000002,
          "xanchor": "center",
          "xref": "paper",
          "y": 1,
          "yanchor": "bottom",
          "yref": "paper"
         },
         {
          "showarrow": false,
          "text": "position=Ap_5",
          "x": 0.908,
          "xanchor": "center",
          "xref": "paper",
          "y": 1,
          "yanchor": "bottom",
          "yref": "paper"
         },
         {
          "font": {
           "size": 12
          },
          "showarrow": false,
          "text": "R<sup>2</sup>: 0.9656",
          "x": 10,
          "xanchor": "left",
          "xref": "x",
          "y": 800,
          "yanchor": "bottom",
          "yref": "y"
         },
         {
          "font": {
           "size": 12
          },
          "showarrow": false,
          "text": "R<sup>2</sup>: 0.9487",
          "x": 10,
          "xanchor": "left",
          "xref": "x2",
          "y": 800,
          "yanchor": "bottom",
          "yref": "y2"
         },
         {
          "font": {
           "size": 12
          },
          "showarrow": false,
          "text": "R<sup>2</sup>: 0.9698",
          "x": 10,
          "xanchor": "left",
          "xref": "x3",
          "y": 800,
          "yanchor": "bottom",
          "yref": "y3"
         },
         {
          "font": {
           "size": 12
          },
          "showarrow": false,
          "text": "R<sup>2</sup>: 0.9362",
          "x": 10,
          "xanchor": "left",
          "xref": "x4",
          "y": 800,
          "yanchor": "bottom",
          "yref": "y4"
         },
         {
          "font": {
           "size": 12
          },
          "showarrow": false,
          "text": "R<sup>2</sup>: 0.8672",
          "x": 10,
          "xanchor": "left",
          "xref": "x5",
          "y": 800,
          "yanchor": "bottom",
          "yref": "y5"
         }
        ],
        "height": 400,
        "legend": {
         "tracegroupgap": 0
        },
        "margin": {
         "t": 60
        },
        "plot_bgcolor": "white",
        "template": {
         "data": {
          "bar": [
           {
            "error_x": {
             "color": "#2a3f5f"
            },
            "error_y": {
             "color": "#2a3f5f"
            },
            "marker": {
             "line": {
              "color": "#E5ECF6",
              "width": 0.5
             },
             "pattern": {
              "fillmode": "overlay",
              "size": 10,
              "solidity": 0.2
             }
            },
            "type": "bar"
           }
          ],
          "barpolar": [
           {
            "marker": {
             "line": {
              "color": "#E5ECF6",
              "width": 0.5
             },
             "pattern": {
              "fillmode": "overlay",
              "size": 10,
              "solidity": 0.2
             }
            },
            "type": "barpolar"
           }
          ],
          "carpet": [
           {
            "aaxis": {
             "endlinecolor": "#2a3f5f",
             "gridcolor": "white",
             "linecolor": "white",
             "minorgridcolor": "white",
             "startlinecolor": "#2a3f5f"
            },
            "baxis": {
             "endlinecolor": "#2a3f5f",
             "gridcolor": "white",
             "linecolor": "white",
             "minorgridcolor": "white",
             "startlinecolor": "#2a3f5f"
            },
            "type": "carpet"
           }
          ],
          "choropleth": [
           {
            "colorbar": {
             "outlinewidth": 0,
             "ticks": ""
            },
            "type": "choropleth"
           }
          ],
          "contour": [
           {
            "colorbar": {
             "outlinewidth": 0,
             "ticks": ""
            },
            "colorscale": [
             [
              0,
              "#0d0887"
             ],
             [
              0.1111111111111111,
              "#46039f"
             ],
             [
              0.2222222222222222,
              "#7201a8"
             ],
             [
              0.3333333333333333,
              "#9c179e"
             ],
             [
              0.4444444444444444,
              "#bd3786"
             ],
             [
              0.5555555555555556,
              "#d8576b"
             ],
             [
              0.6666666666666666,
              "#ed7953"
             ],
             [
              0.7777777777777778,
              "#fb9f3a"
             ],
             [
              0.8888888888888888,
              "#fdca26"
             ],
             [
              1,
              "#f0f921"
             ]
            ],
            "type": "contour"
           }
          ],
          "contourcarpet": [
           {
            "colorbar": {
             "outlinewidth": 0,
             "ticks": ""
            },
            "type": "contourcarpet"
           }
          ],
          "heatmap": [
           {
            "colorbar": {
             "outlinewidth": 0,
             "ticks": ""
            },
            "colorscale": [
             [
              0,
              "#0d0887"
             ],
             [
              0.1111111111111111,
              "#46039f"
             ],
             [
              0.2222222222222222,
              "#7201a8"
             ],
             [
              0.3333333333333333,
              "#9c179e"
             ],
             [
              0.4444444444444444,
              "#bd3786"
             ],
             [
              0.5555555555555556,
              "#d8576b"
             ],
             [
              0.6666666666666666,
              "#ed7953"
             ],
             [
              0.7777777777777778,
              "#fb9f3a"
             ],
             [
              0.8888888888888888,
              "#fdca26"
             ],
             [
              1,
              "#f0f921"
             ]
            ],
            "type": "heatmap"
           }
          ],
          "heatmapgl": [
           {
            "colorbar": {
             "outlinewidth": 0,
             "ticks": ""
            },
            "colorscale": [
             [
              0,
              "#0d0887"
             ],
             [
              0.1111111111111111,
              "#46039f"
             ],
             [
              0.2222222222222222,
              "#7201a8"
             ],
             [
              0.3333333333333333,
              "#9c179e"
             ],
             [
              0.4444444444444444,
              "#bd3786"
             ],
             [
              0.5555555555555556,
              "#d8576b"
             ],
             [
              0.6666666666666666,
              "#ed7953"
             ],
             [
              0.7777777777777778,
              "#fb9f3a"
             ],
             [
              0.8888888888888888,
              "#fdca26"
             ],
             [
              1,
              "#f0f921"
             ]
            ],
            "type": "heatmapgl"
           }
          ],
          "histogram": [
           {
            "marker": {
             "pattern": {
              "fillmode": "overlay",
              "size": 10,
              "solidity": 0.2
             }
            },
            "type": "histogram"
           }
          ],
          "histogram2d": [
           {
            "colorbar": {
             "outlinewidth": 0,
             "ticks": ""
            },
            "colorscale": [
             [
              0,
              "#0d0887"
             ],
             [
              0.1111111111111111,
              "#46039f"
             ],
             [
              0.2222222222222222,
              "#7201a8"
             ],
             [
              0.3333333333333333,
              "#9c179e"
             ],
             [
              0.4444444444444444,
              "#bd3786"
             ],
             [
              0.5555555555555556,
              "#d8576b"
             ],
             [
              0.6666666666666666,
              "#ed7953"
             ],
             [
              0.7777777777777778,
              "#fb9f3a"
             ],
             [
              0.8888888888888888,
              "#fdca26"
             ],
             [
              1,
              "#f0f921"
             ]
            ],
            "type": "histogram2d"
           }
          ],
          "histogram2dcontour": [
           {
            "colorbar": {
             "outlinewidth": 0,
             "ticks": ""
            },
            "colorscale": [
             [
              0,
              "#0d0887"
             ],
             [
              0.1111111111111111,
              "#46039f"
             ],
             [
              0.2222222222222222,
              "#7201a8"
             ],
             [
              0.3333333333333333,
              "#9c179e"
             ],
             [
              0.4444444444444444,
              "#bd3786"
             ],
             [
              0.5555555555555556,
              "#d8576b"
             ],
             [
              0.6666666666666666,
              "#ed7953"
             ],
             [
              0.7777777777777778,
              "#fb9f3a"
             ],
             [
              0.8888888888888888,
              "#fdca26"
             ],
             [
              1,
              "#f0f921"
             ]
            ],
            "type": "histogram2dcontour"
           }
          ],
          "mesh3d": [
           {
            "colorbar": {
             "outlinewidth": 0,
             "ticks": ""
            },
            "type": "mesh3d"
           }
          ],
          "parcoords": [
           {
            "line": {
             "colorbar": {
              "outlinewidth": 0,
              "ticks": ""
             }
            },
            "type": "parcoords"
           }
          ],
          "pie": [
           {
            "automargin": true,
            "type": "pie"
           }
          ],
          "scatter": [
           {
            "fillpattern": {
             "fillmode": "overlay",
             "size": 10,
             "solidity": 0.2
            },
            "type": "scatter"
           }
          ],
          "scatter3d": [
           {
            "line": {
             "colorbar": {
              "outlinewidth": 0,
              "ticks": ""
             }
            },
            "marker": {
             "colorbar": {
              "outlinewidth": 0,
              "ticks": ""
             }
            },
            "type": "scatter3d"
           }
          ],
          "scattercarpet": [
           {
            "marker": {
             "colorbar": {
              "outlinewidth": 0,
              "ticks": ""
             }
            },
            "type": "scattercarpet"
           }
          ],
          "scattergeo": [
           {
            "marker": {
             "colorbar": {
              "outlinewidth": 0,
              "ticks": ""
             }
            },
            "type": "scattergeo"
           }
          ],
          "scattergl": [
           {
            "marker": {
             "colorbar": {
              "outlinewidth": 0,
              "ticks": ""
             }
            },
            "type": "scattergl"
           }
          ],
          "scattermapbox": [
           {
            "marker": {
             "colorbar": {
              "outlinewidth": 0,
              "ticks": ""
             }
            },
            "type": "scattermapbox"
           }
          ],
          "scatterpolar": [
           {
            "marker": {
             "colorbar": {
              "outlinewidth": 0,
              "ticks": ""
             }
            },
            "type": "scatterpolar"
           }
          ],
          "scatterpolargl": [
           {
            "marker": {
             "colorbar": {
              "outlinewidth": 0,
              "ticks": ""
             }
            },
            "type": "scatterpolargl"
           }
          ],
          "scatterternary": [
           {
            "marker": {
             "colorbar": {
              "outlinewidth": 0,
              "ticks": ""
             }
            },
            "type": "scatterternary"
           }
          ],
          "surface": [
           {
            "colorbar": {
             "outlinewidth": 0,
             "ticks": ""
            },
            "colorscale": [
             [
              0,
              "#0d0887"
             ],
             [
              0.1111111111111111,
              "#46039f"
             ],
             [
              0.2222222222222222,
              "#7201a8"
             ],
             [
              0.3333333333333333,
              "#9c179e"
             ],
             [
              0.4444444444444444,
              "#bd3786"
             ],
             [
              0.5555555555555556,
              "#d8576b"
             ],
             [
              0.6666666666666666,
              "#ed7953"
             ],
             [
              0.7777777777777778,
              "#fb9f3a"
             ],
             [
              0.8888888888888888,
              "#fdca26"
             ],
             [
              1,
              "#f0f921"
             ]
            ],
            "type": "surface"
           }
          ],
          "table": [
           {
            "cells": {
             "fill": {
              "color": "#EBF0F8"
             },
             "line": {
              "color": "white"
             }
            },
            "header": {
             "fill": {
              "color": "#C8D4E3"
             },
             "line": {
              "color": "white"
             }
            },
            "type": "table"
           }
          ]
         },
         "layout": {
          "annotationdefaults": {
           "arrowcolor": "#2a3f5f",
           "arrowhead": 0,
           "arrowwidth": 1
          },
          "autotypenumbers": "strict",
          "coloraxis": {
           "colorbar": {
            "outlinewidth": 0,
            "ticks": ""
           }
          },
          "colorscale": {
           "diverging": [
            [
             0,
             "#8e0152"
            ],
            [
             0.1,
             "#c51b7d"
            ],
            [
             0.2,
             "#de77ae"
            ],
            [
             0.3,
             "#f1b6da"
            ],
            [
             0.4,
             "#fde0ef"
            ],
            [
             0.5,
             "#f7f7f7"
            ],
            [
             0.6,
             "#e6f5d0"
            ],
            [
             0.7,
             "#b8e186"
            ],
            [
             0.8,
             "#7fbc41"
            ],
            [
             0.9,
             "#4d9221"
            ],
            [
             1,
             "#276419"
            ]
           ],
           "sequential": [
            [
             0,
             "#0d0887"
            ],
            [
             0.1111111111111111,
             "#46039f"
            ],
            [
             0.2222222222222222,
             "#7201a8"
            ],
            [
             0.3333333333333333,
             "#9c179e"
            ],
            [
             0.4444444444444444,
             "#bd3786"
            ],
            [
             0.5555555555555556,
             "#d8576b"
            ],
            [
             0.6666666666666666,
             "#ed7953"
            ],
            [
             0.7777777777777778,
             "#fb9f3a"
            ],
            [
             0.8888888888888888,
             "#fdca26"
            ],
            [
             1,
             "#f0f921"
            ]
           ],
           "sequentialminus": [
            [
             0,
             "#0d0887"
            ],
            [
             0.1111111111111111,
             "#46039f"
            ],
            [
             0.2222222222222222,
             "#7201a8"
            ],
            [
             0.3333333333333333,
             "#9c179e"
            ],
            [
             0.4444444444444444,
             "#bd3786"
            ],
            [
             0.5555555555555556,
             "#d8576b"
            ],
            [
             0.6666666666666666,
             "#ed7953"
            ],
            [
             0.7777777777777778,
             "#fb9f3a"
            ],
            [
             0.8888888888888888,
             "#fdca26"
            ],
            [
             1,
             "#f0f921"
            ]
           ]
          },
          "colorway": [
           "#636efa",
           "#EF553B",
           "#00cc96",
           "#ab63fa",
           "#FFA15A",
           "#19d3f3",
           "#FF6692",
           "#B6E880",
           "#FF97FF",
           "#FECB52"
          ],
          "font": {
           "color": "#2a3f5f"
          },
          "geo": {
           "bgcolor": "white",
           "lakecolor": "white",
           "landcolor": "#E5ECF6",
           "showlakes": true,
           "showland": true,
           "subunitcolor": "white"
          },
          "hoverlabel": {
           "align": "left"
          },
          "hovermode": "closest",
          "mapbox": {
           "style": "light"
          },
          "paper_bgcolor": "white",
          "plot_bgcolor": "#E5ECF6",
          "polar": {
           "angularaxis": {
            "gridcolor": "white",
            "linecolor": "white",
            "ticks": ""
           },
           "bgcolor": "#E5ECF6",
           "radialaxis": {
            "gridcolor": "white",
            "linecolor": "white",
            "ticks": ""
           }
          },
          "scene": {
           "xaxis": {
            "backgroundcolor": "#E5ECF6",
            "gridcolor": "white",
            "gridwidth": 2,
            "linecolor": "white",
            "showbackground": true,
            "ticks": "",
            "zerolinecolor": "white"
           },
           "yaxis": {
            "backgroundcolor": "#E5ECF6",
            "gridcolor": "white",
            "gridwidth": 2,
            "linecolor": "white",
            "showbackground": true,
            "ticks": "",
            "zerolinecolor": "white"
           },
           "zaxis": {
            "backgroundcolor": "#E5ECF6",
            "gridcolor": "white",
            "gridwidth": 2,
            "linecolor": "white",
            "showbackground": true,
            "ticks": "",
            "zerolinecolor": "white"
           }
          },
          "shapedefaults": {
           "line": {
            "color": "#2a3f5f"
           }
          },
          "ternary": {
           "aaxis": {
            "gridcolor": "white",
            "linecolor": "white",
            "ticks": ""
           },
           "baxis": {
            "gridcolor": "white",
            "linecolor": "white",
            "ticks": ""
           },
           "bgcolor": "#E5ECF6",
           "caxis": {
            "gridcolor": "white",
            "linecolor": "white",
            "ticks": ""
           }
          },
          "title": {
           "x": 0.05
          },
          "xaxis": {
           "automargin": true,
           "gridcolor": "white",
           "linecolor": "white",
           "ticks": "",
           "title": {
            "standoff": 15
           },
           "zerolinecolor": "white",
           "zerolinewidth": 2
          },
          "yaxis": {
           "automargin": true,
           "gridcolor": "white",
           "linecolor": "white",
           "ticks": "",
           "title": {
            "standoff": 15
           },
           "zerolinecolor": "white",
           "zerolinewidth": 2
          }
         }
        },
        "width": 1000,
        "xaxis": {
         "anchor": "y",
         "domain": [
          0,
          0.18400000000000002
         ],
         "gridcolor": "lightgrey",
         "linecolor": "black",
         "mirror": true,
         "showline": true,
         "ticks": "outside",
         "title": {
          "text": "Measured irradiance (W/m<sup>2</sup>)"
         }
        },
        "xaxis2": {
         "anchor": "y2",
         "domain": [
          0.20400000000000001,
          0.388
         ],
         "gridcolor": "lightgrey",
         "linecolor": "black",
         "matches": "x",
         "mirror": true,
         "showline": true,
         "ticks": "outside",
         "title": {
          "text": "measured"
         }
        },
        "xaxis3": {
         "anchor": "y3",
         "domain": [
          0.40800000000000003,
          0.5920000000000001
         ],
         "gridcolor": "lightgrey",
         "linecolor": "black",
         "matches": "x",
         "mirror": true,
         "showline": true,
         "ticks": "outside",
         "title": {
          "text": "measured"
         }
        },
        "xaxis4": {
         "anchor": "y4",
         "domain": [
          0.6120000000000001,
          0.7960000000000002
         ],
         "gridcolor": "lightgrey",
         "linecolor": "black",
         "matches": "x",
         "mirror": true,
         "showline": true,
         "ticks": "outside",
         "title": {
          "text": "measured"
         }
        },
        "xaxis5": {
         "anchor": "y5",
         "domain": [
          0.8160000000000001,
          1
         ],
         "gridcolor": "lightgrey",
         "linecolor": "black",
         "matches": "x",
         "mirror": true,
         "showline": true,
         "ticks": "outside",
         "title": {
          "text": "measured"
         }
        },
        "yaxis": {
         "anchor": "x",
         "domain": [
          0,
          1
         ],
         "gridcolor": "lightgrey",
         "linecolor": "black",
         "mirror": true,
         "showline": true,
         "ticks": "outside",
         "title": {
          "text": "Modeled irradiance (W/m<sup>2</sup>)"
         }
        },
        "yaxis2": {
         "anchor": "x2",
         "domain": [
          0,
          1
         ],
         "gridcolor": "lightgrey",
         "linecolor": "black",
         "matches": "y",
         "mirror": true,
         "showline": true,
         "showticklabels": false,
         "ticks": "outside"
        },
        "yaxis3": {
         "anchor": "x3",
         "domain": [
          0,
          1
         ],
         "gridcolor": "lightgrey",
         "linecolor": "black",
         "matches": "y",
         "mirror": true,
         "showline": true,
         "showticklabels": false,
         "ticks": "outside"
        },
        "yaxis4": {
         "anchor": "x4",
         "domain": [
          0,
          1
         ],
         "gridcolor": "lightgrey",
         "linecolor": "black",
         "matches": "y",
         "mirror": true,
         "showline": true,
         "showticklabels": false,
         "ticks": "outside"
        },
        "yaxis5": {
         "anchor": "x5",
         "domain": [
          0,
          1
         ],
         "gridcolor": "lightgrey",
         "linecolor": "black",
         "matches": "y",
         "mirror": true,
         "showline": true,
         "showticklabels": false,
         "ticks": "outside"
        }
       }
      }
     },
     "metadata": {},
     "output_type": "display_data"
    },
    {
     "data": {
      "application/vnd.plotly.v1+json": {
       "config": {
        "plotlyServerURL": "https://plot.ly"
       },
       "data": [
        {
         "alignmentgroup": "True",
         "hovertemplate": "datatype=measured<br>position=%{x}<br>value=%{y}<extra></extra>",
         "legendgroup": "measured",
         "marker": {
          "color": "#636efa",
          "pattern": {
           "shape": ""
          }
         },
         "name": "measured",
         "offsetgroup": "measured",
         "orientation": "v",
         "showlegend": true,
         "textposition": "auto",
         "type": "bar",
         "x": [
          "Ap_1",
          "Ap_2",
          "Ap_3",
          "Ap_4",
          "Ap_5"
         ],
         "xaxis": "x",
         "y": [
          2525.0606395333334,
          3764.8926995,
          4331.9423545,
          3882.482030166667,
          2451.5445856666665
         ],
         "yaxis": "y"
        },
        {
         "alignmentgroup": "True",
         "hovertemplate": "datatype=modeled<br>position=%{x}<br>value=%{y}<extra></extra>",
         "legendgroup": "modeled",
         "marker": {
          "color": "#EF553B",
          "pattern": {
           "shape": ""
          }
         },
         "name": "modeled",
         "offsetgroup": "modeled",
         "orientation": "v",
         "showlegend": true,
         "textposition": "auto",
         "type": "bar",
         "x": [
          "Ap_1",
          "Ap_2",
          "Ap_3",
          "Ap_4",
          "Ap_5"
         ],
         "xaxis": "x",
         "y": [
          2322.5632075,
          3512.4953925,
          4190.799375,
          3841.109245,
          2347.2016525
         ],
         "yaxis": "y"
        }
       ],
       "layout": {
        "barmode": "group",
        "height": 400,
        "legend": {
         "orientation": "h",
         "title": {
          "text": "Data type"
         },
         "tracegroupgap": 0,
         "x": 0.01,
         "xanchor": "left",
         "y": 0.95,
         "yanchor": "top"
        },
        "margin": {
         "t": 60
        },
        "plot_bgcolor": "white",
        "template": {
         "data": {
          "bar": [
           {
            "error_x": {
             "color": "#2a3f5f"
            },
            "error_y": {
             "color": "#2a3f5f"
            },
            "marker": {
             "line": {
              "color": "#E5ECF6",
              "width": 0.5
             },
             "pattern": {
              "fillmode": "overlay",
              "size": 10,
              "solidity": 0.2
             }
            },
            "type": "bar"
           }
          ],
          "barpolar": [
           {
            "marker": {
             "line": {
              "color": "#E5ECF6",
              "width": 0.5
             },
             "pattern": {
              "fillmode": "overlay",
              "size": 10,
              "solidity": 0.2
             }
            },
            "type": "barpolar"
           }
          ],
          "carpet": [
           {
            "aaxis": {
             "endlinecolor": "#2a3f5f",
             "gridcolor": "white",
             "linecolor": "white",
             "minorgridcolor": "white",
             "startlinecolor": "#2a3f5f"
            },
            "baxis": {
             "endlinecolor": "#2a3f5f",
             "gridcolor": "white",
             "linecolor": "white",
             "minorgridcolor": "white",
             "startlinecolor": "#2a3f5f"
            },
            "type": "carpet"
           }
          ],
          "choropleth": [
           {
            "colorbar": {
             "outlinewidth": 0,
             "ticks": ""
            },
            "type": "choropleth"
           }
          ],
          "contour": [
           {
            "colorbar": {
             "outlinewidth": 0,
             "ticks": ""
            },
            "colorscale": [
             [
              0,
              "#0d0887"
             ],
             [
              0.1111111111111111,
              "#46039f"
             ],
             [
              0.2222222222222222,
              "#7201a8"
             ],
             [
              0.3333333333333333,
              "#9c179e"
             ],
             [
              0.4444444444444444,
              "#bd3786"
             ],
             [
              0.5555555555555556,
              "#d8576b"
             ],
             [
              0.6666666666666666,
              "#ed7953"
             ],
             [
              0.7777777777777778,
              "#fb9f3a"
             ],
             [
              0.8888888888888888,
              "#fdca26"
             ],
             [
              1,
              "#f0f921"
             ]
            ],
            "type": "contour"
           }
          ],
          "contourcarpet": [
           {
            "colorbar": {
             "outlinewidth": 0,
             "ticks": ""
            },
            "type": "contourcarpet"
           }
          ],
          "heatmap": [
           {
            "colorbar": {
             "outlinewidth": 0,
             "ticks": ""
            },
            "colorscale": [
             [
              0,
              "#0d0887"
             ],
             [
              0.1111111111111111,
              "#46039f"
             ],
             [
              0.2222222222222222,
              "#7201a8"
             ],
             [
              0.3333333333333333,
              "#9c179e"
             ],
             [
              0.4444444444444444,
              "#bd3786"
             ],
             [
              0.5555555555555556,
              "#d8576b"
             ],
             [
              0.6666666666666666,
              "#ed7953"
             ],
             [
              0.7777777777777778,
              "#fb9f3a"
             ],
             [
              0.8888888888888888,
              "#fdca26"
             ],
             [
              1,
              "#f0f921"
             ]
            ],
            "type": "heatmap"
           }
          ],
          "heatmapgl": [
           {
            "colorbar": {
             "outlinewidth": 0,
             "ticks": ""
            },
            "colorscale": [
             [
              0,
              "#0d0887"
             ],
             [
              0.1111111111111111,
              "#46039f"
             ],
             [
              0.2222222222222222,
              "#7201a8"
             ],
             [
              0.3333333333333333,
              "#9c179e"
             ],
             [
              0.4444444444444444,
              "#bd3786"
             ],
             [
              0.5555555555555556,
              "#d8576b"
             ],
             [
              0.6666666666666666,
              "#ed7953"
             ],
             [
              0.7777777777777778,
              "#fb9f3a"
             ],
             [
              0.8888888888888888,
              "#fdca26"
             ],
             [
              1,
              "#f0f921"
             ]
            ],
            "type": "heatmapgl"
           }
          ],
          "histogram": [
           {
            "marker": {
             "pattern": {
              "fillmode": "overlay",
              "size": 10,
              "solidity": 0.2
             }
            },
            "type": "histogram"
           }
          ],
          "histogram2d": [
           {
            "colorbar": {
             "outlinewidth": 0,
             "ticks": ""
            },
            "colorscale": [
             [
              0,
              "#0d0887"
             ],
             [
              0.1111111111111111,
              "#46039f"
             ],
             [
              0.2222222222222222,
              "#7201a8"
             ],
             [
              0.3333333333333333,
              "#9c179e"
             ],
             [
              0.4444444444444444,
              "#bd3786"
             ],
             [
              0.5555555555555556,
              "#d8576b"
             ],
             [
              0.6666666666666666,
              "#ed7953"
             ],
             [
              0.7777777777777778,
              "#fb9f3a"
             ],
             [
              0.8888888888888888,
              "#fdca26"
             ],
             [
              1,
              "#f0f921"
             ]
            ],
            "type": "histogram2d"
           }
          ],
          "histogram2dcontour": [
           {
            "colorbar": {
             "outlinewidth": 0,
             "ticks": ""
            },
            "colorscale": [
             [
              0,
              "#0d0887"
             ],
             [
              0.1111111111111111,
              "#46039f"
             ],
             [
              0.2222222222222222,
              "#7201a8"
             ],
             [
              0.3333333333333333,
              "#9c179e"
             ],
             [
              0.4444444444444444,
              "#bd3786"
             ],
             [
              0.5555555555555556,
              "#d8576b"
             ],
             [
              0.6666666666666666,
              "#ed7953"
             ],
             [
              0.7777777777777778,
              "#fb9f3a"
             ],
             [
              0.8888888888888888,
              "#fdca26"
             ],
             [
              1,
              "#f0f921"
             ]
            ],
            "type": "histogram2dcontour"
           }
          ],
          "mesh3d": [
           {
            "colorbar": {
             "outlinewidth": 0,
             "ticks": ""
            },
            "type": "mesh3d"
           }
          ],
          "parcoords": [
           {
            "line": {
             "colorbar": {
              "outlinewidth": 0,
              "ticks": ""
             }
            },
            "type": "parcoords"
           }
          ],
          "pie": [
           {
            "automargin": true,
            "type": "pie"
           }
          ],
          "scatter": [
           {
            "fillpattern": {
             "fillmode": "overlay",
             "size": 10,
             "solidity": 0.2
            },
            "type": "scatter"
           }
          ],
          "scatter3d": [
           {
            "line": {
             "colorbar": {
              "outlinewidth": 0,
              "ticks": ""
             }
            },
            "marker": {
             "colorbar": {
              "outlinewidth": 0,
              "ticks": ""
             }
            },
            "type": "scatter3d"
           }
          ],
          "scattercarpet": [
           {
            "marker": {
             "colorbar": {
              "outlinewidth": 0,
              "ticks": ""
             }
            },
            "type": "scattercarpet"
           }
          ],
          "scattergeo": [
           {
            "marker": {
             "colorbar": {
              "outlinewidth": 0,
              "ticks": ""
             }
            },
            "type": "scattergeo"
           }
          ],
          "scattergl": [
           {
            "marker": {
             "colorbar": {
              "outlinewidth": 0,
              "ticks": ""
             }
            },
            "type": "scattergl"
           }
          ],
          "scattermapbox": [
           {
            "marker": {
             "colorbar": {
              "outlinewidth": 0,
              "ticks": ""
             }
            },
            "type": "scattermapbox"
           }
          ],
          "scatterpolar": [
           {
            "marker": {
             "colorbar": {
              "outlinewidth": 0,
              "ticks": ""
             }
            },
            "type": "scatterpolar"
           }
          ],
          "scatterpolargl": [
           {
            "marker": {
             "colorbar": {
              "outlinewidth": 0,
              "ticks": ""
             }
            },
            "type": "scatterpolargl"
           }
          ],
          "scatterternary": [
           {
            "marker": {
             "colorbar": {
              "outlinewidth": 0,
              "ticks": ""
             }
            },
            "type": "scatterternary"
           }
          ],
          "surface": [
           {
            "colorbar": {
             "outlinewidth": 0,
             "ticks": ""
            },
            "colorscale": [
             [
              0,
              "#0d0887"
             ],
             [
              0.1111111111111111,
              "#46039f"
             ],
             [
              0.2222222222222222,
              "#7201a8"
             ],
             [
              0.3333333333333333,
              "#9c179e"
             ],
             [
              0.4444444444444444,
              "#bd3786"
             ],
             [
              0.5555555555555556,
              "#d8576b"
             ],
             [
              0.6666666666666666,
              "#ed7953"
             ],
             [
              0.7777777777777778,
              "#fb9f3a"
             ],
             [
              0.8888888888888888,
              "#fdca26"
             ],
             [
              1,
              "#f0f921"
             ]
            ],
            "type": "surface"
           }
          ],
          "table": [
           {
            "cells": {
             "fill": {
              "color": "#EBF0F8"
             },
             "line": {
              "color": "white"
             }
            },
            "header": {
             "fill": {
              "color": "#C8D4E3"
             },
             "line": {
              "color": "white"
             }
            },
            "type": "table"
           }
          ]
         },
         "layout": {
          "annotationdefaults": {
           "arrowcolor": "#2a3f5f",
           "arrowhead": 0,
           "arrowwidth": 1
          },
          "autotypenumbers": "strict",
          "coloraxis": {
           "colorbar": {
            "outlinewidth": 0,
            "ticks": ""
           }
          },
          "colorscale": {
           "diverging": [
            [
             0,
             "#8e0152"
            ],
            [
             0.1,
             "#c51b7d"
            ],
            [
             0.2,
             "#de77ae"
            ],
            [
             0.3,
             "#f1b6da"
            ],
            [
             0.4,
             "#fde0ef"
            ],
            [
             0.5,
             "#f7f7f7"
            ],
            [
             0.6,
             "#e6f5d0"
            ],
            [
             0.7,
             "#b8e186"
            ],
            [
             0.8,
             "#7fbc41"
            ],
            [
             0.9,
             "#4d9221"
            ],
            [
             1,
             "#276419"
            ]
           ],
           "sequential": [
            [
             0,
             "#0d0887"
            ],
            [
             0.1111111111111111,
             "#46039f"
            ],
            [
             0.2222222222222222,
             "#7201a8"
            ],
            [
             0.3333333333333333,
             "#9c179e"
            ],
            [
             0.4444444444444444,
             "#bd3786"
            ],
            [
             0.5555555555555556,
             "#d8576b"
            ],
            [
             0.6666666666666666,
             "#ed7953"
            ],
            [
             0.7777777777777778,
             "#fb9f3a"
            ],
            [
             0.8888888888888888,
             "#fdca26"
            ],
            [
             1,
             "#f0f921"
            ]
           ],
           "sequentialminus": [
            [
             0,
             "#0d0887"
            ],
            [
             0.1111111111111111,
             "#46039f"
            ],
            [
             0.2222222222222222,
             "#7201a8"
            ],
            [
             0.3333333333333333,
             "#9c179e"
            ],
            [
             0.4444444444444444,
             "#bd3786"
            ],
            [
             0.5555555555555556,
             "#d8576b"
            ],
            [
             0.6666666666666666,
             "#ed7953"
            ],
            [
             0.7777777777777778,
             "#fb9f3a"
            ],
            [
             0.8888888888888888,
             "#fdca26"
            ],
            [
             1,
             "#f0f921"
            ]
           ]
          },
          "colorway": [
           "#636efa",
           "#EF553B",
           "#00cc96",
           "#ab63fa",
           "#FFA15A",
           "#19d3f3",
           "#FF6692",
           "#B6E880",
           "#FF97FF",
           "#FECB52"
          ],
          "font": {
           "color": "#2a3f5f"
          },
          "geo": {
           "bgcolor": "white",
           "lakecolor": "white",
           "landcolor": "#E5ECF6",
           "showlakes": true,
           "showland": true,
           "subunitcolor": "white"
          },
          "hoverlabel": {
           "align": "left"
          },
          "hovermode": "closest",
          "mapbox": {
           "style": "light"
          },
          "paper_bgcolor": "white",
          "plot_bgcolor": "#E5ECF6",
          "polar": {
           "angularaxis": {
            "gridcolor": "white",
            "linecolor": "white",
            "ticks": ""
           },
           "bgcolor": "#E5ECF6",
           "radialaxis": {
            "gridcolor": "white",
            "linecolor": "white",
            "ticks": ""
           }
          },
          "scene": {
           "xaxis": {
            "backgroundcolor": "#E5ECF6",
            "gridcolor": "white",
            "gridwidth": 2,
            "linecolor": "white",
            "showbackground": true,
            "ticks": "",
            "zerolinecolor": "white"
           },
           "yaxis": {
            "backgroundcolor": "#E5ECF6",
            "gridcolor": "white",
            "gridwidth": 2,
            "linecolor": "white",
            "showbackground": true,
            "ticks": "",
            "zerolinecolor": "white"
           },
           "zaxis": {
            "backgroundcolor": "#E5ECF6",
            "gridcolor": "white",
            "gridwidth": 2,
            "linecolor": "white",
            "showbackground": true,
            "ticks": "",
            "zerolinecolor": "white"
           }
          },
          "shapedefaults": {
           "line": {
            "color": "#2a3f5f"
           }
          },
          "ternary": {
           "aaxis": {
            "gridcolor": "white",
            "linecolor": "white",
            "ticks": ""
           },
           "baxis": {
            "gridcolor": "white",
            "linecolor": "white",
            "ticks": ""
           },
           "bgcolor": "#E5ECF6",
           "caxis": {
            "gridcolor": "white",
            "linecolor": "white",
            "ticks": ""
           }
          },
          "title": {
           "x": 0.05
          },
          "xaxis": {
           "automargin": true,
           "gridcolor": "white",
           "linecolor": "white",
           "ticks": "",
           "title": {
            "standoff": 15
           },
           "zerolinecolor": "white",
           "zerolinewidth": 2
          },
          "yaxis": {
           "automargin": true,
           "gridcolor": "white",
           "linecolor": "white",
           "ticks": "",
           "title": {
            "standoff": 15
           },
           "zerolinecolor": "white",
           "zerolinewidth": 2
          }
         }
        },
        "width": 1000,
        "xaxis": {
         "anchor": "y",
         "domain": [
          0,
          1
         ],
         "gridcolor": "lightgrey",
         "linecolor": "black",
         "mirror": true,
         "showline": true,
         "ticks": "outside",
         "title": {
          "text": ""
         }
        },
        "yaxis": {
         "anchor": "x",
         "domain": [
          0,
          1
         ],
         "gridcolor": "lightgrey",
         "linecolor": "black",
         "mirror": true,
         "showline": true,
         "ticks": "outside",
         "title": {
          "text": "Daily total radiation (Wh/m<sup>2</sup>)"
         }
        }
       }
      }
     },
     "metadata": {},
     "output_type": "display_data"
    },
    {
     "data": {
      "application/vnd.plotly.v1+json": {
       "config": {
        "plotlyServerURL": "https://plot.ly"
       },
       "data": [
        {
         "hovertemplate": "location=pv<br>ghi=%{x}<br>par=%{y}<extra></extra>",
         "legendgroup": "pv",
         "marker": {
          "color": "rgb(133, 92, 117)",
          "line": {
           "color": "DarkSlateGrey",
           "width": 2
          },
          "size": 6,
          "symbol": "circle"
         },
         "mode": "markers",
         "name": "pv",
         "orientation": "v",
         "showlegend": true,
         "type": "scatter",
         "x": [
          38.265982666666666,
          30.87719,
          22.926992666666667,
          80.72610466666667,
          55.94903266666667,
          35.394524000000004,
          27.173720666666668,
          29.653008,
          31.657748,
          33.42731466666666,
          35.36269933333334,
          37.226593333333334,
          39.22583533333333,
          456.2068673333333,
          721.0297,
          757.46472,
          786.0926933333333,
          811.8300466666666,
          829.7099266666667,
          848.0028266666667,
          859.7587066666666,
          867.21688,
          876.9226800000001,
          882.5852133333334,
          786.5405666666667,
          757.1638399999999,
          837.0193266666668,
          864.3002933333333,
          843.2530933333333,
          816.7950266666667,
          764.65978,
          756.8518866666667,
          722.4148933333333,
          606.32596,
          48.213544,
          38.652802,
          36.555898666666664,
          34.531072,
          32.75977133333333,
          30.70028333333333,
          28.640513333333335,
          26.543446666666664,
          24.464671333333335,
          22.459139333333333,
          20.290793333333333,
          17.741463333333336,
          16.204346
         ],
         "xaxis": "x",
         "y": [
          91.09223933333334,
          99.42273800000001,
          82.36331866666667,
          210.09183133333335,
          153.04021733333332,
          161.01894866666666,
          98.99128666666667,
          104.70880666666667,
          111.57141999999999,
          116.62460666666666,
          122.26734666666667,
          127.18934,
          132.26066,
          970.2846599999999,
          1865.2220666666667,
          1949.0840666666666,
          2020.3374000000001,
          2094.3307333333332,
          1859.7512666666667,
          2209.926,
          2245.4244666666664,
          2269.768,
          2284.7651333333333,
          2288.242866666667,
          2276.3517333333334,
          2255.1048,
          2051.5274,
          2179.8746,
          2128.5394666666666,
          2059.8838,
          1986.6760666666667,
          1905.4493333333335,
          1512.460733333333,
          1710.9558,
          308.72612,
          132.08482666666666,
          127.13209333333333,
          119.68361333333334,
          114.15298666666666,
          108.48154666666667,
          101.72444133333335,
          96.048242,
          140.38660266666665,
          84.55632133333333,
          79.64414333333333,
          66.842462,
          53.38753066666667
         ],
         "yaxis": "y"
        },
        {
         "hovertemplate": "<b>OLS trendline</b><br>par = 2.52203 * ghi + 33.3271<br>R<sup>2</sup>=0.989060<br><br>location=pv<br>ghi=%{x}<br>par=%{y} <b>(trend)</b><extra></extra>",
         "legendgroup": "pv",
         "marker": {
          "color": "rgb(133, 92, 117)",
          "symbol": "circle"
         },
         "mode": "lines",
         "name": "pv",
         "showlegend": false,
         "type": "scatter",
         "x": [
          16.204346,
          17.741463333333336,
          20.290793333333333,
          22.459139333333333,
          22.926992666666667,
          24.464671333333335,
          26.543446666666664,
          27.173720666666668,
          28.640513333333335,
          29.653008,
          30.70028333333333,
          30.87719,
          31.657748,
          32.75977133333333,
          33.42731466666666,
          34.531072,
          35.36269933333334,
          35.394524000000004,
          36.555898666666664,
          37.226593333333334,
          38.265982666666666,
          38.652802,
          39.22583533333333,
          48.213544,
          55.94903266666667,
          80.72610466666667,
          456.2068673333333,
          606.32596,
          721.0297,
          722.4148933333333,
          756.8518866666667,
          757.1638399999999,
          757.46472,
          764.65978,
          786.0926933333333,
          786.5405666666667,
          811.8300466666666,
          816.7950266666667,
          829.7099266666667,
          837.0193266666668,
          843.2530933333333,
          848.0028266666667,
          859.7587066666666,
          864.3002933333333,
          867.21688,
          876.9226800000001,
          882.5852133333334
         ],
         "xaxis": "x",
         "y": [
          74.19492136544315,
          78.07157064533547,
          84.5010461930975,
          89.96967033594586,
          91.14960842423011,
          95.0276734011647,
          100.27039802879531,
          101.85996519796925,
          105.55925386752949,
          108.11279134662118,
          110.75404655777118,
          111.20020970164404,
          113.16879696755707,
          115.9481280367909,
          117.63168941909065,
          120.41539368073184,
          122.51277911318556,
          122.59304173754137,
          125.52205838941602,
          127.21356751508738,
          129.8349340322787,
          130.81050229730062,
          132.25570703922074,
          154.92293846973087,
          174.43203899117128,
          236.92044911035543,
          1183.8925485327047,
          1562.4967447538913,
          1851.7825145706101,
          1855.2760076317632,
          1942.1269867420044,
          1942.913741037725,
          1943.6725681031937,
          1961.8186936870452,
          2015.8730500057522,
          2017.0025980223534,
          2080.7833142401896,
          2093.3051209521996,
          2125.876829499854,
          2144.3113234919274,
          2160.033042670608,
          2172.0119917768666,
          2201.660622202282,
          2213.114620084618,
          2220.4703263510733,
          2244.948602514406,
          2259.2296565972647
         ],
         "yaxis": "y"
        },
        {
         "hovertemplate": "location=con<br>ghi=%{x}<br>par=%{y}<extra></extra>",
         "legendgroup": "con",
         "marker": {
          "color": "rgb(217, 175, 107)",
          "line": {
           "color": "DarkSlateGrey",
           "width": 2
          },
          "size": 6,
          "symbol": "circle"
         },
         "mode": "markers",
         "name": "con",
         "orientation": "v",
         "showlegend": true,
         "type": "scatter",
         "x": [
          17.947021333333335,
          50.88041333333333,
          94.3456,
          143.05493333333334,
          194.3658,
          246.2884,
          299.649,
          352.47093333333333,
          403.7284,
          453.2644666666666,
          502.1618666666666,
          549.3545333333333,
          592.8503999999999,
          635.1033333333332,
          673.4318666666666,
          709.1066,
          742.3624666666667,
          772.6328,
          800.2495333333334,
          822.5102,
          842.7548,
          855.7103333333333,
          865.8979333333334,
          873.221,
          873.6818,
          870.7896000000001,
          862.9159333333333,
          853.7905333333333,
          839.0202,
          820.4233333333334,
          798.3831333333333,
          772.3402666666666,
          743.2045333333333,
          711.1923333333333,
          674.6072666666666,
          637.2032,
          598.5337999999999,
          554.8596666666667,
          508.5285333333333,
          460.7596,
          409.8254,
          355.8432666666667,
          303.6669333333333,
          250.60726666666667,
          198.7999333333333,
          148.73906666666667,
          100.88664
         ],
         "xaxis": "x",
         "y": [
          60.70401,
          113.94678933333333,
          177.29481333333334,
          387.4182333333334,
          512.19902,
          691.7322666666666,
          731.8983400000001,
          890.9283333333334,
          1074.73168,
          1268.1381999999999,
          1391.4878,
          1506.5458,
          1616.6181333333334,
          1715.4138,
          1809.3020666666666,
          1890.7410666666667,
          1967.6009333333334,
          2039.2494,
          2091.892066666667,
          2140.7741333333333,
          2178.1228,
          2202.9865999999997,
          2219.1815333333334,
          2223.491,
          2214.7434,
          2197.3632666666667,
          2174.2379333333333,
          2138.1398,
          2095.007,
          2034.4443333333331,
          1972.0382,
          1899.1237999999998,
          1817.8301999999999,
          1724.4037333333335,
          1629.9852,
          1526.8759333333333,
          1412.4823999999999,
          1292.5106666666666,
          1154.6192,
          1031.36956,
          887.42224,
          318.7388,
          563.4653400000001,
          455.40173333333337,
          344.5813733333333,
          162.47652533333334,
          73.46210133333332
         ],
         "yaxis": "y"
        },
        {
         "hovertemplate": "<b>OLS trendline</b><br>par = 2.67788 * ghi + -110.179<br>R<sup>2</sup>=0.974036<br><br>location=con<br>ghi=%{x}<br>par=%{y} <b>(trend)</b><extra></extra>",
         "legendgroup": "con",
         "marker": {
          "color": "rgb(217, 175, 107)",
          "symbol": "circle"
         },
         "mode": "lines",
         "name": "con",
         "showlegend": false,
         "type": "scatter",
         "x": [
          17.947021333333335,
          50.88041333333333,
          94.3456,
          100.88664,
          143.05493333333334,
          148.73906666666667,
          194.3658,
          198.7999333333333,
          246.2884,
          250.60726666666667,
          299.649,
          303.6669333333333,
          352.47093333333333,
          355.8432666666667,
          403.7284,
          409.8254,
          453.2644666666666,
          460.7596,
          502.1618666666666,
          508.5285333333333,
          549.3545333333333,
          554.8596666666667,
          592.8503999999999,
          598.5337999999999,
          635.1033333333332,
          637.2032,
          673.4318666666666,
          674.6072666666666,
          709.1066,
          711.1923333333333,
          742.3624666666667,
          743.2045333333333,
          772.3402666666666,
          772.6328,
          798.3831333333333,
          800.2495333333334,
          820.4233333333334,
          822.5102,
          839.0202,
          842.7548,
          853.7905333333333,
          855.7103333333333,
          862.9159333333333,
          865.8979333333334,
          870.7896000000001,
          873.221,
          873.6818
         ],
         "xaxis": "x",
         "y": [
          -62.11872047992384,
          26.072809860058186,
          142.46717727433236,
          159.98326937972604,
          272.90471764390514,
          288.1261202046608,
          410.3088409241341,
          422.1828988528829,
          549.3511100360055,
          560.9164981584215,
          692.2441644125375,
          703.0036904726132,
          833.6947364089834,
          842.7254259135204,
          970.9558611265333,
          987.2828693036098,
          1103.6072906044533,
          1123.6783260680604,
          1234.548450131727,
          1251.597592124082,
          1360.9245456811313,
          1375.6666084905842,
          1477.4010703220533,
          1492.6205091072916,
          1590.549173985955,
          1596.1723559176326,
          1693.1882222307781,
          1696.3357973351472,
          1788.720723928066,
          1794.306058549771,
          1877.7758013435882,
          1880.0307512127547,
          1958.052623671088,
          1958.8359915775013,
          2027.7921836220776,
          2032.79017083902,
          2086.813099748764,
          2092.4014692962687,
          2136.6131971958152,
          2146.6139918059694,
          2176.1663139928432,
          2181.307299772465,
          2200.6030009567758,
          2208.5884263108915,
          2221.6877016374783,
          2228.198688628087,
          2229.43265375323
         ],
         "yaxis": "y"
        }
       ],
       "layout": {
        "height": 400,
        "legend": {
         "orientation": "h",
         "title": {
          "text": "Location"
         },
         "tracegroupgap": 0,
         "x": 0.01,
         "xanchor": "left",
         "y": 0.95,
         "yanchor": "top"
        },
        "margin": {
         "t": 60
        },
        "plot_bgcolor": "white",
        "template": {
         "data": {
          "bar": [
           {
            "error_x": {
             "color": "#2a3f5f"
            },
            "error_y": {
             "color": "#2a3f5f"
            },
            "marker": {
             "line": {
              "color": "#E5ECF6",
              "width": 0.5
             },
             "pattern": {
              "fillmode": "overlay",
              "size": 10,
              "solidity": 0.2
             }
            },
            "type": "bar"
           }
          ],
          "barpolar": [
           {
            "marker": {
             "line": {
              "color": "#E5ECF6",
              "width": 0.5
             },
             "pattern": {
              "fillmode": "overlay",
              "size": 10,
              "solidity": 0.2
             }
            },
            "type": "barpolar"
           }
          ],
          "carpet": [
           {
            "aaxis": {
             "endlinecolor": "#2a3f5f",
             "gridcolor": "white",
             "linecolor": "white",
             "minorgridcolor": "white",
             "startlinecolor": "#2a3f5f"
            },
            "baxis": {
             "endlinecolor": "#2a3f5f",
             "gridcolor": "white",
             "linecolor": "white",
             "minorgridcolor": "white",
             "startlinecolor": "#2a3f5f"
            },
            "type": "carpet"
           }
          ],
          "choropleth": [
           {
            "colorbar": {
             "outlinewidth": 0,
             "ticks": ""
            },
            "type": "choropleth"
           }
          ],
          "contour": [
           {
            "colorbar": {
             "outlinewidth": 0,
             "ticks": ""
            },
            "colorscale": [
             [
              0,
              "#0d0887"
             ],
             [
              0.1111111111111111,
              "#46039f"
             ],
             [
              0.2222222222222222,
              "#7201a8"
             ],
             [
              0.3333333333333333,
              "#9c179e"
             ],
             [
              0.4444444444444444,
              "#bd3786"
             ],
             [
              0.5555555555555556,
              "#d8576b"
             ],
             [
              0.6666666666666666,
              "#ed7953"
             ],
             [
              0.7777777777777778,
              "#fb9f3a"
             ],
             [
              0.8888888888888888,
              "#fdca26"
             ],
             [
              1,
              "#f0f921"
             ]
            ],
            "type": "contour"
           }
          ],
          "contourcarpet": [
           {
            "colorbar": {
             "outlinewidth": 0,
             "ticks": ""
            },
            "type": "contourcarpet"
           }
          ],
          "heatmap": [
           {
            "colorbar": {
             "outlinewidth": 0,
             "ticks": ""
            },
            "colorscale": [
             [
              0,
              "#0d0887"
             ],
             [
              0.1111111111111111,
              "#46039f"
             ],
             [
              0.2222222222222222,
              "#7201a8"
             ],
             [
              0.3333333333333333,
              "#9c179e"
             ],
             [
              0.4444444444444444,
              "#bd3786"
             ],
             [
              0.5555555555555556,
              "#d8576b"
             ],
             [
              0.6666666666666666,
              "#ed7953"
             ],
             [
              0.7777777777777778,
              "#fb9f3a"
             ],
             [
              0.8888888888888888,
              "#fdca26"
             ],
             [
              1,
              "#f0f921"
             ]
            ],
            "type": "heatmap"
           }
          ],
          "heatmapgl": [
           {
            "colorbar": {
             "outlinewidth": 0,
             "ticks": ""
            },
            "colorscale": [
             [
              0,
              "#0d0887"
             ],
             [
              0.1111111111111111,
              "#46039f"
             ],
             [
              0.2222222222222222,
              "#7201a8"
             ],
             [
              0.3333333333333333,
              "#9c179e"
             ],
             [
              0.4444444444444444,
              "#bd3786"
             ],
             [
              0.5555555555555556,
              "#d8576b"
             ],
             [
              0.6666666666666666,
              "#ed7953"
             ],
             [
              0.7777777777777778,
              "#fb9f3a"
             ],
             [
              0.8888888888888888,
              "#fdca26"
             ],
             [
              1,
              "#f0f921"
             ]
            ],
            "type": "heatmapgl"
           }
          ],
          "histogram": [
           {
            "marker": {
             "pattern": {
              "fillmode": "overlay",
              "size": 10,
              "solidity": 0.2
             }
            },
            "type": "histogram"
           }
          ],
          "histogram2d": [
           {
            "colorbar": {
             "outlinewidth": 0,
             "ticks": ""
            },
            "colorscale": [
             [
              0,
              "#0d0887"
             ],
             [
              0.1111111111111111,
              "#46039f"
             ],
             [
              0.2222222222222222,
              "#7201a8"
             ],
             [
              0.3333333333333333,
              "#9c179e"
             ],
             [
              0.4444444444444444,
              "#bd3786"
             ],
             [
              0.5555555555555556,
              "#d8576b"
             ],
             [
              0.6666666666666666,
              "#ed7953"
             ],
             [
              0.7777777777777778,
              "#fb9f3a"
             ],
             [
              0.8888888888888888,
              "#fdca26"
             ],
             [
              1,
              "#f0f921"
             ]
            ],
            "type": "histogram2d"
           }
          ],
          "histogram2dcontour": [
           {
            "colorbar": {
             "outlinewidth": 0,
             "ticks": ""
            },
            "colorscale": [
             [
              0,
              "#0d0887"
             ],
             [
              0.1111111111111111,
              "#46039f"
             ],
             [
              0.2222222222222222,
              "#7201a8"
             ],
             [
              0.3333333333333333,
              "#9c179e"
             ],
             [
              0.4444444444444444,
              "#bd3786"
             ],
             [
              0.5555555555555556,
              "#d8576b"
             ],
             [
              0.6666666666666666,
              "#ed7953"
             ],
             [
              0.7777777777777778,
              "#fb9f3a"
             ],
             [
              0.8888888888888888,
              "#fdca26"
             ],
             [
              1,
              "#f0f921"
             ]
            ],
            "type": "histogram2dcontour"
           }
          ],
          "mesh3d": [
           {
            "colorbar": {
             "outlinewidth": 0,
             "ticks": ""
            },
            "type": "mesh3d"
           }
          ],
          "parcoords": [
           {
            "line": {
             "colorbar": {
              "outlinewidth": 0,
              "ticks": ""
             }
            },
            "type": "parcoords"
           }
          ],
          "pie": [
           {
            "automargin": true,
            "type": "pie"
           }
          ],
          "scatter": [
           {
            "fillpattern": {
             "fillmode": "overlay",
             "size": 10,
             "solidity": 0.2
            },
            "type": "scatter"
           }
          ],
          "scatter3d": [
           {
            "line": {
             "colorbar": {
              "outlinewidth": 0,
              "ticks": ""
             }
            },
            "marker": {
             "colorbar": {
              "outlinewidth": 0,
              "ticks": ""
             }
            },
            "type": "scatter3d"
           }
          ],
          "scattercarpet": [
           {
            "marker": {
             "colorbar": {
              "outlinewidth": 0,
              "ticks": ""
             }
            },
            "type": "scattercarpet"
           }
          ],
          "scattergeo": [
           {
            "marker": {
             "colorbar": {
              "outlinewidth": 0,
              "ticks": ""
             }
            },
            "type": "scattergeo"
           }
          ],
          "scattergl": [
           {
            "marker": {
             "colorbar": {
              "outlinewidth": 0,
              "ticks": ""
             }
            },
            "type": "scattergl"
           }
          ],
          "scattermapbox": [
           {
            "marker": {
             "colorbar": {
              "outlinewidth": 0,
              "ticks": ""
             }
            },
            "type": "scattermapbox"
           }
          ],
          "scatterpolar": [
           {
            "marker": {
             "colorbar": {
              "outlinewidth": 0,
              "ticks": ""
             }
            },
            "type": "scatterpolar"
           }
          ],
          "scatterpolargl": [
           {
            "marker": {
             "colorbar": {
              "outlinewidth": 0,
              "ticks": ""
             }
            },
            "type": "scatterpolargl"
           }
          ],
          "scatterternary": [
           {
            "marker": {
             "colorbar": {
              "outlinewidth": 0,
              "ticks": ""
             }
            },
            "type": "scatterternary"
           }
          ],
          "surface": [
           {
            "colorbar": {
             "outlinewidth": 0,
             "ticks": ""
            },
            "colorscale": [
             [
              0,
              "#0d0887"
             ],
             [
              0.1111111111111111,
              "#46039f"
             ],
             [
              0.2222222222222222,
              "#7201a8"
             ],
             [
              0.3333333333333333,
              "#9c179e"
             ],
             [
              0.4444444444444444,
              "#bd3786"
             ],
             [
              0.5555555555555556,
              "#d8576b"
             ],
             [
              0.6666666666666666,
              "#ed7953"
             ],
             [
              0.7777777777777778,
              "#fb9f3a"
             ],
             [
              0.8888888888888888,
              "#fdca26"
             ],
             [
              1,
              "#f0f921"
             ]
            ],
            "type": "surface"
           }
          ],
          "table": [
           {
            "cells": {
             "fill": {
              "color": "#EBF0F8"
             },
             "line": {
              "color": "white"
             }
            },
            "header": {
             "fill": {
              "color": "#C8D4E3"
             },
             "line": {
              "color": "white"
             }
            },
            "type": "table"
           }
          ]
         },
         "layout": {
          "annotationdefaults": {
           "arrowcolor": "#2a3f5f",
           "arrowhead": 0,
           "arrowwidth": 1
          },
          "autotypenumbers": "strict",
          "coloraxis": {
           "colorbar": {
            "outlinewidth": 0,
            "ticks": ""
           }
          },
          "colorscale": {
           "diverging": [
            [
             0,
             "#8e0152"
            ],
            [
             0.1,
             "#c51b7d"
            ],
            [
             0.2,
             "#de77ae"
            ],
            [
             0.3,
             "#f1b6da"
            ],
            [
             0.4,
             "#fde0ef"
            ],
            [
             0.5,
             "#f7f7f7"
            ],
            [
             0.6,
             "#e6f5d0"
            ],
            [
             0.7,
             "#b8e186"
            ],
            [
             0.8,
             "#7fbc41"
            ],
            [
             0.9,
             "#4d9221"
            ],
            [
             1,
             "#276419"
            ]
           ],
           "sequential": [
            [
             0,
             "#0d0887"
            ],
            [
             0.1111111111111111,
             "#46039f"
            ],
            [
             0.2222222222222222,
             "#7201a8"
            ],
            [
             0.3333333333333333,
             "#9c179e"
            ],
            [
             0.4444444444444444,
             "#bd3786"
            ],
            [
             0.5555555555555556,
             "#d8576b"
            ],
            [
             0.6666666666666666,
             "#ed7953"
            ],
            [
             0.7777777777777778,
             "#fb9f3a"
            ],
            [
             0.8888888888888888,
             "#fdca26"
            ],
            [
             1,
             "#f0f921"
            ]
           ],
           "sequentialminus": [
            [
             0,
             "#0d0887"
            ],
            [
             0.1111111111111111,
             "#46039f"
            ],
            [
             0.2222222222222222,
             "#7201a8"
            ],
            [
             0.3333333333333333,
             "#9c179e"
            ],
            [
             0.4444444444444444,
             "#bd3786"
            ],
            [
             0.5555555555555556,
             "#d8576b"
            ],
            [
             0.6666666666666666,
             "#ed7953"
            ],
            [
             0.7777777777777778,
             "#fb9f3a"
            ],
            [
             0.8888888888888888,
             "#fdca26"
            ],
            [
             1,
             "#f0f921"
            ]
           ]
          },
          "colorway": [
           "#636efa",
           "#EF553B",
           "#00cc96",
           "#ab63fa",
           "#FFA15A",
           "#19d3f3",
           "#FF6692",
           "#B6E880",
           "#FF97FF",
           "#FECB52"
          ],
          "font": {
           "color": "#2a3f5f"
          },
          "geo": {
           "bgcolor": "white",
           "lakecolor": "white",
           "landcolor": "#E5ECF6",
           "showlakes": true,
           "showland": true,
           "subunitcolor": "white"
          },
          "hoverlabel": {
           "align": "left"
          },
          "hovermode": "closest",
          "mapbox": {
           "style": "light"
          },
          "paper_bgcolor": "white",
          "plot_bgcolor": "#E5ECF6",
          "polar": {
           "angularaxis": {
            "gridcolor": "white",
            "linecolor": "white",
            "ticks": ""
           },
           "bgcolor": "#E5ECF6",
           "radialaxis": {
            "gridcolor": "white",
            "linecolor": "white",
            "ticks": ""
           }
          },
          "scene": {
           "xaxis": {
            "backgroundcolor": "#E5ECF6",
            "gridcolor": "white",
            "gridwidth": 2,
            "linecolor": "white",
            "showbackground": true,
            "ticks": "",
            "zerolinecolor": "white"
           },
           "yaxis": {
            "backgroundcolor": "#E5ECF6",
            "gridcolor": "white",
            "gridwidth": 2,
            "linecolor": "white",
            "showbackground": true,
            "ticks": "",
            "zerolinecolor": "white"
           },
           "zaxis": {
            "backgroundcolor": "#E5ECF6",
            "gridcolor": "white",
            "gridwidth": 2,
            "linecolor": "white",
            "showbackground": true,
            "ticks": "",
            "zerolinecolor": "white"
           }
          },
          "shapedefaults": {
           "line": {
            "color": "#2a3f5f"
           }
          },
          "ternary": {
           "aaxis": {
            "gridcolor": "white",
            "linecolor": "white",
            "ticks": ""
           },
           "baxis": {
            "gridcolor": "white",
            "linecolor": "white",
            "ticks": ""
           },
           "bgcolor": "#E5ECF6",
           "caxis": {
            "gridcolor": "white",
            "linecolor": "white",
            "ticks": ""
           }
          },
          "title": {
           "x": 0.05
          },
          "xaxis": {
           "automargin": true,
           "gridcolor": "white",
           "linecolor": "white",
           "ticks": "",
           "title": {
            "standoff": 15
           },
           "zerolinecolor": "white",
           "zerolinewidth": 2
          },
          "yaxis": {
           "automargin": true,
           "gridcolor": "white",
           "linecolor": "white",
           "ticks": "",
           "title": {
            "standoff": 15
           },
           "zerolinecolor": "white",
           "zerolinewidth": 2
          }
         }
        },
        "width": 1000,
        "xaxis": {
         "anchor": "y",
         "domain": [
          0,
          1
         ],
         "gridcolor": "lightgrey",
         "linecolor": "black",
         "mirror": true,
         "showline": true,
         "ticks": "outside",
         "title": {
          "text": "Measured global horizontal irradiance (W/m<sup>2</sup>)"
         }
        },
        "yaxis": {
         "anchor": "x",
         "domain": [
          0,
          1
         ],
         "gridcolor": "lightgrey",
         "linecolor": "black",
         "mirror": true,
         "showline": true,
         "ticks": "outside",
         "title": {
          "text": "Measured photoactive radiation (umol m<sup>-2</sup> s<sup>-1</sup>)"
         }
        }
       }
      }
     },
     "metadata": {},
     "output_type": "display_data"
    }
   ],
   "source": [
    "# Set the size for each figure, in pixels\n",
    "figwidth = 1000\n",
    "figheight = 400\n",
    "\n",
    "# Simple line graph of the measured vs modeled irradiance values\n",
    "fig1 = px.line(modeledandmeasured_melt2, x = 'Datetime', y = 'value', color = 'datatype', facet_col = 'position', facet_col_wrap = 5, width = figwidth, height = figheight)\n",
    "fig1.update_layout(\n",
    "    plot_bgcolor='white',\n",
    "    xaxis_title = \"\",\n",
    "    yaxis_title = \"15-min average irradiance (W/m<sup>2</sup>)\",\n",
    "    legend=dict(\n",
    "        yanchor=\"top\",\n",
    "        y=1.2,\n",
    "        xanchor=\"center\",\n",
    "        x=0.5\n",
    "    ),\n",
    "    legend_title=dict(\n",
    "        text = \"Data type\"\n",
    "    ),\n",
    "    legend_orientation=\"h\"\n",
    ")\n",
    "fig1.update_xaxes(\n",
    "    mirror=True,\n",
    "    ticks='outside',\n",
    "    showline=True,\n",
    "    linecolor='black',\n",
    "    gridcolor='lightgrey',\n",
    "    title = \" \"\n",
    ")\n",
    "fig1.update_yaxes(\n",
    "    mirror=True,\n",
    "    ticks='outside',\n",
    "    showline=True,\n",
    "    linecolor='black',\n",
    "    gridcolor='lightgrey'\n",
    ")\n",
    "# for axis in fig1.layout:\n",
    "#    if axis.startswith(\"xaxis\"):\n",
    "#       fig1.layout[axis].title = \"\"\n",
    "fig1.show()\n",
    "\n",
    "rsqval = []\n",
    "# 1-to-1 plot of the measured vs modeled irradiance values\n",
    "fig2 = px.scatter(modeledandmeasured_melt3.reset_index(), x = 'measured', y = 'modeled', facet_col = 'position', facet_col_wrap=5, trendline=\"ols\", trendline_color_override=\"black\", width = figwidth, height = figheight)\n",
    "    # Accessing the R-squared values and annotating each facet\n",
    "for i in range(len(np.unique(modeledandmeasured_melt3.reset_index()['position']))): #'position' can be replaced with whatever column is being used for the facets\n",
    "    # Accessing R-squared value\n",
    "    rsqval=round(px.get_trendline_results(fig2).iloc[i][\"px_fit_results\"].rsquared, 4)\n",
    "\n",
    "    # Annotating each facet with the R-squared value\n",
    "    fig2.add_annotation(\n",
    "        xref='paper', yref='paper',\n",
    "        x=10, y=800,\n",
    "        xanchor='left', yanchor='bottom',\n",
    "        text=f'R<sup>2</sup>: {rsqval:.4f}',\n",
    "        showarrow=False,\n",
    "        font=dict(size=12),\n",
    "        row= 1, col=i+1 # only works when the facets are in a single row\n",
    "    )\n",
    "\n",
    "fig2.update_layout(\n",
    "    plot_bgcolor='white',\n",
    "    xaxis_title = \"Measured irradiance (W/m<sup>2</sup>)\",\n",
    "    yaxis_title = \"Modeled irradiance (W/m<sup>2</sup>)\"\n",
    ")\n",
    "fig2.update_xaxes(\n",
    "    mirror=True,\n",
    "    ticks='outside',\n",
    "    showline=True,\n",
    "    linecolor='black',\n",
    "    gridcolor='lightgrey'\n",
    ")\n",
    "fig2.update_yaxes(\n",
    "    mirror=True,\n",
    "    ticks='outside',\n",
    "    showline=True,\n",
    "    linecolor='black',\n",
    "    gridcolor='lightgrey'\n",
    ")\n",
    "fig2.update_traces(marker=dict(size=6,\n",
    "                                color='rgba(135, 206, 250, 0.5)',\n",
    "                                line=dict(width=2,\n",
    "                                    color='DarkSlateGrey')),\n",
    "                  selector=dict(mode='markers'))\n",
    "fig2.show()\n",
    "\n",
    "# side-by-side barcharts\n",
    "fig3 = px.bar(modeledandmeasured_sum.reset_index(), x='position', y='value', color='datatype', barmode='group', width = figwidth, height = figheight)\n",
    "fig3.update_layout(\n",
    "    plot_bgcolor='white',\n",
    "    xaxis_title = \"\",\n",
    "    yaxis_title = \"Daily total radiation (Wh/m<sup>2</sup>)\",\n",
    "    legend=dict(\n",
    "        yanchor=\"top\",\n",
    "        y=0.95,\n",
    "        xanchor=\"left\",\n",
    "        x=0.01\n",
    "    ),\n",
    "    legend_title=dict(\n",
    "        text = \"Data type\"\n",
    "    ),\n",
    "    legend_orientation=\"h\"\n",
    ")\n",
    "fig3.update_xaxes(\n",
    "    mirror=True,\n",
    "    ticks='outside',\n",
    "    showline=True,\n",
    "    linecolor='black',\n",
    "    gridcolor='lightgrey'\n",
    ")\n",
    "fig3.update_yaxes(\n",
    "    mirror=True,\n",
    "    ticks='outside',\n",
    "    showline=True,\n",
    "    linecolor='black',\n",
    "    gridcolor='lightgrey'\n",
    ")\n",
    "fig3.show()\n",
    "\n",
    "# GHI vs PAR inside an array vs \n",
    "fig4 = px.scatter(srrlandghipar, x = 'ghi', y = 'par', color = 'location', trendline=\"ols\",color_discrete_sequence=px.colors.qualitative.Antique, width = figwidth, height = figheight)\n",
    "\n",
    "fig4.update_layout(\n",
    "    legend=dict(\n",
    "        yanchor=\"top\",\n",
    "        y=0.95,\n",
    "        xanchor=\"left\",\n",
    "        x=0.01\n",
    "        ),\n",
    "    legend_title=dict(\n",
    "        text = \"Location\"\n",
    "        ),\n",
    "    legend_orientation=\"h\",\n",
    "    plot_bgcolor='white',\n",
    "    yaxis_title = \"Measured photoactive radiation (umol m<sup>-2</sup> s<sup>-1</sup>)\",\n",
    "    xaxis_title = \"Measured global horizontal irradiance (W/m<sup>2</sup>)\"\n",
    ")\n",
    "fig4.update_xaxes(\n",
    "    mirror=True,\n",
    "    ticks='outside',\n",
    "    showline=True,\n",
    "    linecolor='black',\n",
    "    gridcolor='lightgrey'\n",
    ")\n",
    "fig4.update_yaxes(\n",
    "    mirror=True,\n",
    "    ticks='outside',\n",
    "    showline=True,\n",
    "    linecolor='black',\n",
    "    gridcolor='lightgrey'\n",
    ")\n",
    "fig4.update_traces(marker=dict(size=6,\n",
    "                                # color='rgba(135, 206, 250, 0.5)',\n",
    "                                line=dict(width=2,\n",
    "                                    color='DarkSlateGrey')),\n",
    "                  selector=dict(mode='markers'))\n"
   ]
  },
  {
   "cell_type": "markdown",
   "id": "5298d3b9",
   "metadata": {},
   "source": [
    "## Stitch all the figures into a single HTML\n",
    "Function below taken from https://stackoverflow.com/questions/45577255/plot-multiple-figures-as-subplots"
   ]
  },
  {
   "cell_type": "code",
   "execution_count": 95,
   "id": "a02a72bc",
   "metadata": {},
   "outputs": [],
   "source": [
    "def figures_to_html(figs, filename=\"dashboard.html\"):\n",
    "    with open(filename, 'w') as dashboard:\n",
    "        dashboard.write(\"<html><head></head><body>\" + \"\\n\")\n",
    "        for fig in figs:\n",
    "            inner_html = fig.to_html().split('<body>')[1].split('</body>')[0]\n",
    "            dashboard.write(inner_html)\n",
    "        dashboard.write(\"</body></html>\" + \"\\n\")\n",
    "\n",
    "\n",
    "figures_to_html([fig1, fig2, fig3, fig4], 'BARN_validation.html')"
   ]
  },
  {
   "cell_type": "code",
   "execution_count": 85,
   "id": "f03a453b",
   "metadata": {},
   "outputs": [
    {
     "data": {
      "text/plain": [
       "plotly.graph_objs._layout.Layout"
      ]
     },
     "execution_count": 85,
     "metadata": {},
     "output_type": "execute_result"
    }
   ],
   "source": [
    "type(fig1.layout)"
   ]
  },
  {
   "cell_type": "markdown",
   "id": "474c59e2",
   "metadata": {},
   "source": [
    "Next steps:<br>\n",
    "Divide the data by AM and PM and <br>\n",
    "Implement 15-minute averaging to the data: dataframe.resample(freq='15T', label='right', closed='right').mean() <br>\n",
    "Keep the data in wide form to avoid repeating indices <br>\n",
    "Look for the script MBD_RMSE_functions.py and perform error analysis to annotatet the scatterplot (also ) <br>\n",
    "Plot Irradiance sensor 3 vs PAR sensor (for within row and in control (GHI from SRRL)) and use the time of the day as a gradient and point shape as the data type <br>\n",
    "Superimpose some of the figures with a side-view of an agrivoltaics row"
   ]
  },
  {
   "cell_type": "markdown",
   "id": "829e8a50",
   "metadata": {},
   "source": []
  }
 ],
 "metadata": {
  "kernelspec": {
   "display_name": "Python 3 (ipykernel)",
   "language": "python",
   "name": "python3"
  },
  "language_info": {
   "codemirror_mode": {
    "name": "ipython",
    "version": 3
   },
   "file_extension": ".py",
   "mimetype": "text/x-python",
   "name": "python",
   "nbconvert_exporter": "python",
   "pygments_lexer": "ipython3",
   "version": "3.11.5"
  }
 },
 "nbformat": 4,
 "nbformat_minor": 5
}
