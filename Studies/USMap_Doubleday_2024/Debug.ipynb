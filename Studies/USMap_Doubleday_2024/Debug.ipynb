{
 "cells": [
  {
   "cell_type": "code",
   "execution_count": 3,
   "id": "b53736ce",
   "metadata": {},
   "outputs": [],
   "source": [
    "import sys, platform\n",
    "import pvlib\n",
    "import PySAM\n",
    "import bifacial_radiance as br\n",
    "import pandas as pd"
   ]
  },
  {
   "cell_type": "code",
   "execution_count": 4,
   "id": "f619eba5",
   "metadata": {},
   "outputs": [
    {
     "name": "stdout",
     "output_type": "stream",
     "text": [
      "Working on a  Windows 10\n",
      "Python version  3.11.7 | packaged by Anaconda, Inc. | (main, Dec 15 2023, 18:05:47) [MSC v.1916 64 bit (AMD64)]\n",
      "Pandas version  2.1.0\n",
      "Pvlib version:  0.10.4.dev9+ge92ee94\n",
      "PySAM version:  5.1.0\n",
      "bifacial_radiance version:  0.4.2+340.g7909811\n"
     ]
    }
   ],
   "source": [
    "print(\"Working on a \", platform.system(), platform.release())\n",
    "print(\"Python version \", sys.version)\n",
    "print(\"Pandas version \", pd.__version__)\n",
    "print(\"Pvlib version: \", pvlib.__version__)\n",
    "print(\"PySAM version: \", PySAM.__version__)\n",
    "print(\"bifacial_radiance version: \", br.__version__)"
   ]
  },
  {
   "cell_type": "code",
   "execution_count": 5,
   "id": "e45586b1",
   "metadata": {},
   "outputs": [],
   "source": [
    "NREL_API_KEY = None  # <-- please set your NREL API key here\n",
    "# note you must use \"quotes\" around your key as it is a string.\n",
    "\n",
    "if NREL_API_KEY is None:\n",
    "       NREL_API_KEY = 'DEMO_KEY'  # OK for this demo, but better to get your own key"
   ]
  },
  {
   "cell_type": "code",
   "execution_count": 6,
   "id": "e4ca9a61",
   "metadata": {
    "slideshow": {
     "slide_type": "subslide"
    }
   },
   "outputs": [
    {
     "data": {
      "text/plain": [
       "{'Source': 'NSRDB',\n",
       " 'Location ID': '200667',\n",
       " 'City': '-',\n",
       " 'State': '-',\n",
       " 'Country': '-',\n",
       " 'Time Zone': -7,\n",
       " 'Local Time Zone': -7,\n",
       " 'Dew Point Units': 'c',\n",
       " 'DHI Units': 'w/m2',\n",
       " 'DNI Units': 'w/m2',\n",
       " 'GHI Units': 'w/m2',\n",
       " 'Temperature Units': 'c',\n",
       " 'Pressure Units': 'mbar',\n",
       " 'Wind Direction Units': 'Degrees',\n",
       " 'Wind Speed Units': 'm/s',\n",
       " 'Surface Albedo Units': 'N/A',\n",
       " 'Version': '3.2.0',\n",
       " 'latitude': 44.25,\n",
       " 'longitude': -117.34,\n",
       " 'altitude': 979}"
      ]
     },
     "execution_count": 6,
     "metadata": {},
     "output_type": "execute_result"
    }
   ],
   "source": [
    "import pvlib\n",
    "\n",
    "metdata, metadata = pvlib.iotools.get_psm3(\n",
    "    latitude=44.25, longitude=-117.33999633789062,\n",
    "    api_key=NREL_API_KEY,\n",
    "    email='silvana.ovaitt@nrel.gov',  # <-- any email works here fine\n",
    "    names='tmy', map_variables=True)\n",
    "metadata"
   ]
  },
  {
   "cell_type": "markdown",
   "id": "9bce4d3e",
   "metadata": {},
   "source": [
    "## 2. Modeling with bifacial_radiance"
   ]
  },
  {
   "cell_type": "code",
   "execution_count": 7,
   "id": "f57bfbcc",
   "metadata": {},
   "outputs": [],
   "source": [
    "import pandas as pd\n",
    "import matplotlib.pyplot as plt\n",
    "import bifacial_radiance as br"
   ]
  },
  {
   "cell_type": "code",
   "execution_count": 8,
   "id": "187c8786",
   "metadata": {},
   "outputs": [
    {
     "data": {
      "text/plain": [
       "'0.4.2+340.g7909811'"
      ]
     },
     "execution_count": 8,
     "metadata": {},
     "output_type": "execute_result"
    }
   ],
   "source": [
    "br.__version__"
   ]
  },
  {
   "cell_type": "code",
   "execution_count": 9,
   "id": "45d403df",
   "metadata": {},
   "outputs": [
    {
     "name": "stdout",
     "output_type": "stream",
     "text": [
      "Your simulation will be stored in TEMP\n"
     ]
    }
   ],
   "source": [
    "import os\n",
    "from pathlib import Path\n",
    "\n",
    "testfolder = 'TEMP'\n",
    "\n",
    "if not os.path.exists(testfolder):\n",
    "    os.makedirs(testfolder)\n",
    "    \n",
    "print (\"Your simulation will be stored in %s\" % testfolder)"
   ]
  },
  {
   "cell_type": "code",
   "execution_count": 11,
   "id": "8958888b",
   "metadata": {},
   "outputs": [
    {
     "name": "stdout",
     "output_type": "stream",
     "text": [
      "path = TEMP\n",
      "Making path: images\n",
      "Making path: objects\n",
      "Making path: results\n",
      "Making path: skies\n",
      "Making path: EPWs\n",
      "Making path: materials\n"
     ]
    }
   ],
   "source": [
    "radObj = br.RadianceObj('Sim3',path=testfolder, hpc=True)"
   ]
  },
  {
   "cell_type": "code",
   "execution_count": 12,
   "id": "de048747",
   "metadata": {},
   "outputs": [],
   "source": [
    "# Some of the names changed internally. While bifacial_radiance updates their expected names, we are renaming the values here\n",
    "metadata['timezone'] = metadata['Time Zone']\n",
    "metadata['county'] = '-'\n",
    "metadata['elevation'] = metadata['altitude']\n",
    "metadata['state'] = metadata['State']\n",
    "metadata['country'] = metadata['Country']\n",
    "metdata['Albedo'] = metdata['albedo']"
   ]
  },
  {
   "cell_type": "markdown",
   "id": "9906d67a",
   "metadata": {},
   "source": [
    "Use NSRDBWeatherData to enter data the downloaded data in dataframe and dictionary forma for meteorological data and metadata respectively"
   ]
  },
  {
   "cell_type": "code",
   "execution_count": 19,
   "id": "54b50d1c",
   "metadata": {},
   "outputs": [
    {
     "name": "stdout",
     "output_type": "stream",
     "text": [
      "8760 line in WeatherFile. Assuming this is a standard hourly WeatherFile for the year for purposes of saving Gencumulativesky temporary weather files in EPW folder.\n",
      "Coercing year to 2021\n",
      "Filtering dates\n",
      "Saving file EPWs\\metdata_temp.csv, # points: 8760\n",
      "Calculating Sun position for center labeled data, at exact timestamp in input Weather File\n"
     ]
    }
   ],
   "source": [
    "#starttime can be 'MM_DD', or 'MM_DD_HH'\n",
    "metData = radObj.readWeatherData(metadata, metdata, starttime='11_08_09', endtime='11_08_11',coerce_year=2021, label='center')"
   ]
  },
  {
   "cell_type": "code",
   "execution_count": null,
   "id": "e3695668",
   "metadata": {},
   "outputs": [],
   "source": [
    "# -- establish tracking angles\n",
    "hub_height = 1.5\n",
    "pitch = 5\n",
    "sazm = 180  # Tracker axis azimuth\n",
    "modulename = 'PVmodule'\n",
    "fixed_tilt_angle = None\n",
    "gcr = 2 / pitch\n",
    "\n",
    "\n",
    "trackerParams = {'limit_angle':50,\n",
    "             'angledelta':5,\n",
    "             'backtrack':True,\n",
    "             'gcr':gcr,\n",
    "             'cumulativesky':False,\n",
    "             'azimuth': sazm,\n",
    "             'fixed_tilt_angle': fixed_tilt_angle\n",
    "             }"
   ]
  },
  {
   "cell_type": "code",
   "execution_count": null,
   "id": "8b0c10bb",
   "metadata": {},
   "outputs": [],
   "source": [
    "trackerdict = radObj.set1axis(**trackerParams)"
   ]
  },
  {
   "cell_type": "code",
   "execution_count": null,
   "id": "62209111",
   "metadata": {},
   "outputs": [],
   "source": [
    "radObj.setGround(0.2) "
   ]
  },
  {
   "cell_type": "code",
   "execution_count": null,
   "id": "192e4187",
   "metadata": {},
   "outputs": [],
   "source": [
    "radObj.gendaylit1axis()"
   ]
  },
  {
   "cell_type": "code",
   "execution_count": null,
   "id": "c009b024",
   "metadata": {},
   "outputs": [],
   "source": [
    "module=radObj.makeModule(name=modulename, x=1,y=2)"
   ]
  },
  {
   "cell_type": "code",
   "execution_count": null,
   "id": "c8b03c85",
   "metadata": {},
   "outputs": [],
   "source": [
    "sceneDict = {'pitch':pitch, \n",
    "             'hub_height': hub_height,\n",
    "             'nMods': 5,\n",
    "             'nRows': 2,\n",
    "             'tilt': fixed_tilt_angle,  \n",
    "             'sazm': sazm\n",
    "             }"
   ]
  },
  {
   "cell_type": "code",
   "execution_count": null,
   "id": "25ebb961",
   "metadata": {},
   "outputs": [],
   "source": [
    "trackerdict = radObj.makeScene1axis(module=modulename,sceneDict=sceneDict)\n"
   ]
  },
  {
   "cell_type": "code",
   "execution_count": null,
   "id": "28e47e00",
   "metadata": {},
   "outputs": [],
   "source": [
    "trackerdict = radObj.makeOct1axis()"
   ]
  },
  {
   "cell_type": "code",
   "execution_count": null,
   "id": "166fe660",
   "metadata": {},
   "outputs": [],
   "source": [
    "trackerdict = radObj.analysis1axis(customname = 'Module', \n",
    "                                   sensorsy=2, modWanted=2,\n",
    "                                   rowWanted=1)"
   ]
  },
  {
   "cell_type": "code",
   "execution_count": null,
   "id": "db2ae664",
   "metadata": {},
   "outputs": [],
   "source": [
    "trackerdict = radObj.calculateResults(bifacialityfactor=0.7, agriPV=False)"
   ]
  },
  {
   "cell_type": "code",
   "execution_count": null,
   "id": "8973e2c6",
   "metadata": {},
   "outputs": [],
   "source": [
    "radObj.CompiledResults"
   ]
  },
  {
   "cell_type": "code",
   "execution_count": null,
   "id": "7f18ec9d",
   "metadata": {},
   "outputs": [],
   "source": [
    "resolutionGround = 1  #meter. use 1 for faster test runs\n",
    "numsensors = int((pitch/resolutionGround)+1)\n",
    "modscanback = {'xstart': 0, \n",
    "                'zstart': 0.05,\n",
    "                'xinc': resolutionGround,\n",
    "                'zinc': 0,\n",
    "                'Ny':numsensors,\n",
    "                'orient':'0 0 -1'}\n",
    "\n",
    "# Analysis for GROUND\n",
    "trackerdict = radObj.analysis1axis(customname = 'Ground', \n",
    "                                   modscanfront=modscanback, sensorsy=1)"
   ]
  },
  {
   "cell_type": "code",
   "execution_count": null,
   "id": "dc8ea0ea",
   "metadata": {},
   "outputs": [],
   "source": [
    "trackerdict = radObj.calculateResults(bifacialityfactor=0.7, agriPV=True)"
   ]
  },
  {
   "cell_type": "code",
   "execution_count": null,
   "id": "bef50891",
   "metadata": {},
   "outputs": [],
   "source": [
    "radObj.CompiledResults"
   ]
  },
  {
   "cell_type": "markdown",
   "id": "bb653b5e",
   "metadata": {},
   "source": [
    "##  Eploring Accessing the results directly since CompiledResults is failing for agriPV = False\n",
    "\n",
    "## THIS WORKED WITH dev branch up to 4/22, and in the HPC versions we have.\n"
   ]
  },
  {
   "cell_type": "code",
   "execution_count": null,
   "id": "e4aece26",
   "metadata": {},
   "outputs": [],
   "source": [
    "ResultPVWm2Back = list(radObj.CompiledResults['Grear_mean'])\n",
    "ResultPVWm2Front = list(radObj.CompiledResults['Gfront_mean'])\n",
    "ResultGHI = list(radObj.CompiledResults['GHI'])\n",
    "ResultDHI = list(radObj.CompiledResults['DHI'])\n",
    "ResultDNI = list(radObj.CompiledResults['DNI'])\n",
    "ResultPout = list(radObj.CompiledResults['Pout'])\n",
    "ResultWindSpeed = list(radObj.CompiledResults['Wind Speed'])\n",
    "ResultPVWm2Back\n"
   ]
  },
  {
   "cell_type": "code",
   "execution_count": null,
   "id": "e1dabe13",
   "metadata": {},
   "outputs": [],
   "source": [
    "# In another wranch?? Thsi hsould have worked\n",
    "#list(radObj.CompiledResults['Module_temp'])\n"
   ]
  },
  {
   "cell_type": "code",
   "execution_count": null,
   "id": "d01e83fd",
   "metadata": {},
   "outputs": [],
   "source": [
    "keys=list(trackerdict.keys())\n",
    "\n",
    "groundIrrad = []\n",
    "temp_air = []\n",
    "pitch= []\n",
    "for key in keys:\n",
    "    groundIrrad.append(trackerdict[key]['Results'][1]['Wm2Front'])\n",
    "    temp_air.append(trackerdict[key]['temp_air'])\n",
    "    pitch.append(trackerdict[key]['scene'].sceneDict['pitch'])\n",
    "    "
   ]
  },
  {
   "cell_type": "code",
   "execution_count": null,
   "id": "1980eb0c",
   "metadata": {},
   "outputs": [],
   "source": [
    "results = pd.DataFrame(list(zip(ResultPVWm2Back, ResultPVWm2Front)), columns = [\"Back\",\"Front\"])"
   ]
  },
  {
   "cell_type": "code",
   "execution_count": null,
   "id": "9f8277f9",
   "metadata": {},
   "outputs": [],
   "source": [
    "results['pitch']=trackerdict[key]['scene'].sceneDict['pitch']"
   ]
  },
  {
   "cell_type": "code",
   "execution_count": null,
   "id": "a7b42872",
   "metadata": {},
   "outputs": [],
   "source": [
    "results.to_pickle(results_path)"
   ]
  }
 ],
 "metadata": {
  "kernelspec": {
   "display_name": "Python (base)",
   "language": "python",
   "name": "base"
  },
  "language_info": {
   "codemirror_mode": {
    "name": "ipython",
    "version": 3
   },
   "file_extension": ".py",
   "mimetype": "text/x-python",
   "name": "python",
   "nbconvert_exporter": "python",
   "pygments_lexer": "ipython3",
   "version": "3.11.7"
  }
 },
 "nbformat": 4,
 "nbformat_minor": 5
}
