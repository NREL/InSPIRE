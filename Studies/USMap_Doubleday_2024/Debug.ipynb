{
 "cells": [
  {
   "cell_type": "code",
   "execution_count": 1,
   "id": "e45586b1",
   "metadata": {},
   "outputs": [],
   "source": [
    "NREL_API_KEY = None  # <-- please set your NREL API key here\n",
    "# note you must use \"quotes\" around your key as it is a string.\n",
    "\n",
    "if NREL_API_KEY is None:\n",
    "       NREL_API_KEY = 'DEMO_KEY'  # OK for this demo, but better to get your own key"
   ]
  },
  {
   "cell_type": "code",
   "execution_count": 2,
   "id": "e4ca9a61",
   "metadata": {
    "slideshow": {
     "slide_type": "subslide"
    }
   },
   "outputs": [
    {
     "data": {
      "text/plain": [
       "{'Source': 'NSRDB',\n",
       " 'Location ID': '1493571',\n",
       " 'City': '-',\n",
       " 'State': '-',\n",
       " 'Country': '-',\n",
       " 'Latitude': 18.45,\n",
       " 'Longitude': -66.1,\n",
       " 'Time Zone': -4,\n",
       " 'Elevation': 6,\n",
       " 'Local Time Zone': -4,\n",
       " 'Dew Point Units': 'c',\n",
       " 'DHI Units': 'w/m2',\n",
       " 'DNI Units': 'w/m2',\n",
       " 'GHI Units': 'w/m2',\n",
       " 'Temperature Units': 'c',\n",
       " 'Pressure Units': 'mbar',\n",
       " 'Wind Direction Units': 'Degrees',\n",
       " 'Wind Speed Units': 'm/s',\n",
       " 'Surface Albedo Units': 'N/A',\n",
       " 'Version': '3.2.0'}"
      ]
     },
     "execution_count": 2,
     "metadata": {},
     "output_type": "execute_result"
    }
   ],
   "source": [
    "import pvlib\n",
    "\n",
    "metdata, metadata = pvlib.iotools.get_psm3(\n",
    "    latitude=18.4671, longitude=-66.1185,\n",
    "    api_key=NREL_API_KEY,\n",
    "    email='silvana.ovaitt@nrel.gov',  # <-- any email works here fine\n",
    "    names='tmy', map_variables=False)\n",
    "metadata"
   ]
  },
  {
   "cell_type": "code",
   "execution_count": 3,
   "id": "c3e5e331",
   "metadata": {},
   "outputs": [
    {
     "data": {
      "text/plain": [
       "{'Source': 'NSRDB',\n",
       " 'Location ID': '1493571',\n",
       " 'City': '-',\n",
       " 'State': '-',\n",
       " 'Country': '-',\n",
       " 'Time Zone': -4,\n",
       " 'Local Time Zone': -4,\n",
       " 'Dew Point Units': 'c',\n",
       " 'DHI Units': 'w/m2',\n",
       " 'DNI Units': 'w/m2',\n",
       " 'GHI Units': 'w/m2',\n",
       " 'Temperature Units': 'c',\n",
       " 'Pressure Units': 'mbar',\n",
       " 'Wind Direction Units': 'Degrees',\n",
       " 'Wind Speed Units': 'm/s',\n",
       " 'Surface Albedo Units': 'N/A',\n",
       " 'Version': '3.2.0',\n",
       " 'latitude': 18.45,\n",
       " 'longitude': -66.1,\n",
       " 'altitude': 6}"
      ]
     },
     "execution_count": 3,
     "metadata": {},
     "output_type": "execute_result"
    }
   ],
   "source": [
    "import pvlib\n",
    "\n",
    "metdata, metadata = pvlib.iotools.get_psm3(\n",
    "    latitude=18.4671, longitude=-66.1185,\n",
    "    api_key=NREL_API_KEY,\n",
    "    email='silvana.ovaitt@nrel.gov',  # <-- any email works here fine\n",
    "    names='tmy', map_variables=True)\n",
    "metadata"
   ]
  },
  {
   "cell_type": "markdown",
   "id": "9bce4d3e",
   "metadata": {},
   "source": [
    "## 2. Modeling with bifacial_radiance"
   ]
  },
  {
   "cell_type": "code",
   "execution_count": 4,
   "id": "f57bfbcc",
   "metadata": {},
   "outputs": [],
   "source": [
    "import pandas as pd\n",
    "import matplotlib.pyplot as plt\n",
    "import bifacial_radiance as br"
   ]
  },
  {
   "cell_type": "code",
   "execution_count": 5,
   "id": "187c8786",
   "metadata": {},
   "outputs": [
    {
     "data": {
      "text/plain": [
       "'0.4.2+293.ge3c2e14.dirty'"
      ]
     },
     "execution_count": 5,
     "metadata": {},
     "output_type": "execute_result"
    }
   ],
   "source": [
    "br.__version__"
   ]
  },
  {
   "cell_type": "code",
   "execution_count": 6,
   "id": "45d403df",
   "metadata": {},
   "outputs": [
    {
     "name": "stdout",
     "output_type": "stream",
     "text": [
      "Your simulation will be stored in TEMP\n"
     ]
    }
   ],
   "source": [
    "import os\n",
    "from pathlib import Path\n",
    "\n",
    "testfolder = 'TEMP'\n",
    "\n",
    "if not os.path.exists(testfolder):\n",
    "    os.makedirs(testfolder)\n",
    "    \n",
    "print (\"Your simulation will be stored in %s\" % testfolder)"
   ]
  },
  {
   "cell_type": "code",
   "execution_count": 7,
   "id": "8958888b",
   "metadata": {},
   "outputs": [
    {
     "name": "stdout",
     "output_type": "stream",
     "text": [
      "path = TEMP\n"
     ]
    }
   ],
   "source": [
    "radObj = br.RadianceObj('Sim3',path=testfolder)"
   ]
  },
  {
   "cell_type": "code",
   "execution_count": 8,
   "id": "de048747",
   "metadata": {},
   "outputs": [],
   "source": [
    "# Some of the names changed internally. While bifacial_radiance updates their expected names, we are renaming the values here\n",
    "metadata['timezone'] = metadata['Time Zone']\n",
    "metadata['county'] = '-'\n",
    "metadata['elevation'] = metadata['altitude']\n",
    "metadata['state'] = metadata['State']\n",
    "metadata['country'] = metadata['Country']\n",
    "metdata['Albedo'] = metdata['albedo']"
   ]
  },
  {
   "cell_type": "markdown",
   "id": "9906d67a",
   "metadata": {},
   "source": [
    "Use NSRDBWeatherData to enter data the downloaded data in dataframe and dictionary forma for meteorological data and metadata respectively"
   ]
  },
  {
   "cell_type": "code",
   "execution_count": 9,
   "id": "54b50d1c",
   "metadata": {},
   "outputs": [
    {
     "name": "stdout",
     "output_type": "stream",
     "text": [
      "8760 line in WeatherFile. Assuming this is a standard hourly WeatherFile for the year for purposes of saving Gencumulativesky temporary weather files in EPW folder.\n",
      "Coercing year to 2021\n",
      "Filtering dates\n",
      "Saving file EPWs\\metdata_temp.csv, # points: 8760\n",
      "Calculating Sun position for center labeled data, at exact timestamp in input Weather File\n"
     ]
    }
   ],
   "source": [
    "#starttime can be 'MM_DD', or 'MM_DD_HH'\n",
    "metData = radObj.NSRDBWeatherData(metadata, metdata, starttime='11_08_09', endtime='11_08_11',coerce_year=2021)"
   ]
  },
  {
   "cell_type": "code",
   "execution_count": 10,
   "id": "533fee38",
   "metadata": {},
   "outputs": [
    {
     "data": {
      "text/plain": [
       "[Timestamp('2021-11-08 09:30:00-0400', tz='pytz.FixedOffset(-240)'),\n",
       " Timestamp('2021-11-08 10:30:00-0400', tz='pytz.FixedOffset(-240)')]"
      ]
     },
     "execution_count": 10,
     "metadata": {},
     "output_type": "execute_result"
    }
   ],
   "source": [
    "metData.datetime  # printing the contents of metData to see how many times got loaded."
   ]
  },
  {
   "cell_type": "code",
   "execution_count": 11,
   "id": "e3695668",
   "metadata": {},
   "outputs": [],
   "source": [
    "# -- establish tracking angles\n",
    "hub_height = 1.5\n",
    "pitch = 5\n",
    "sazm = 180  # Tracker axis azimuth\n",
    "modulename = 'PVmodule'\n",
    "fixed_tilt_angle = None\n",
    "gcr = 2 / pitch\n",
    "\n",
    "\n",
    "trackerParams = {'limit_angle':50,\n",
    "             'angledelta':5,\n",
    "             'backtrack':True,\n",
    "             'gcr':gcr,\n",
    "             'cumulativesky':False,\n",
    "             'azimuth': sazm,\n",
    "             'fixed_tilt_angle': fixed_tilt_angle\n",
    "             }"
   ]
  },
  {
   "cell_type": "code",
   "execution_count": 12,
   "id": "8b0c10bb",
   "metadata": {},
   "outputs": [],
   "source": [
    "trackerdict = radObj.set1axis(**trackerParams)"
   ]
  },
  {
   "cell_type": "code",
   "execution_count": 13,
   "id": "62209111",
   "metadata": {},
   "outputs": [
    {
     "name": "stdout",
     "output_type": "stream",
     "text": [
      "Loading albedo, 1 value(s), 0.200 avg\n",
      "1 nonzero albedo values.\n"
     ]
    }
   ],
   "source": [
    "radObj.setGround(0.2) "
   ]
  },
  {
   "cell_type": "code",
   "execution_count": 14,
   "id": "192e4187",
   "metadata": {},
   "outputs": [
    {
     "name": "stdout",
     "output_type": "stream",
     "text": [
      "Creating ~2 skyfiles. \n",
      "Created 2 skyfiles in /skies/\n"
     ]
    },
    {
     "data": {
      "text/plain": [
       "{'2021-11-08_0930': {'surf_azm': 90.0,\n",
       "  'surf_tilt': 45.01,\n",
       "  'theta': -45.01,\n",
       "  'dni': 793.0,\n",
       "  'ghi': 583.0,\n",
       "  'dhi': 98.0,\n",
       "  'temp_air': 28.0,\n",
       "  'wind_speed': 1.1,\n",
       "  'skyfile': 'skies\\\\sky2_18.45_-66.1_2021-11-08_0930.rad'},\n",
       " '2021-11-08_1030': {'surf_azm': 90.0,\n",
       "  'surf_tilt': 28.41,\n",
       "  'theta': -28.41,\n",
       "  'dni': 850.0,\n",
       "  'ghi': 730.0,\n",
       "  'dhi': 103.0,\n",
       "  'temp_air': 29.0,\n",
       "  'wind_speed': 0.9,\n",
       "  'skyfile': 'skies\\\\sky2_18.45_-66.1_2021-11-08_1030.rad'}}"
      ]
     },
     "execution_count": 14,
     "metadata": {},
     "output_type": "execute_result"
    }
   ],
   "source": [
    "radObj.gendaylit1axis()"
   ]
  },
  {
   "cell_type": "code",
   "execution_count": 15,
   "id": "c009b024",
   "metadata": {},
   "outputs": [
    {
     "name": "stdout",
     "output_type": "stream",
     "text": [
      "\n",
      "Module Name: PVmodule\n",
      "Module PVmodule updated in module.json\n",
      "Pre-existing .rad file objects\\PVmodule.rad will be overwritten\n",
      "\n"
     ]
    }
   ],
   "source": [
    "module=radObj.makeModule(name=modulename, x=1,y=2)"
   ]
  },
  {
   "cell_type": "code",
   "execution_count": 16,
   "id": "c8b03c85",
   "metadata": {},
   "outputs": [],
   "source": [
    "sceneDict = {'pitch':pitch, \n",
    "             'hub_height': hub_height,\n",
    "             'nMods': 5,\n",
    "             'nRows': 2,\n",
    "             'tilt': fixed_tilt_angle,  \n",
    "             'sazm': sazm\n",
    "             }"
   ]
  },
  {
   "cell_type": "code",
   "execution_count": 17,
   "id": "25ebb961",
   "metadata": {},
   "outputs": [
    {
     "name": "stdout",
     "output_type": "stream",
     "text": [
      "\n",
      "Making ~2 .rad files for gendaylit 1-axis workflow (this takes a minute..)\n",
      "2 Radfiles created in /objects/\n"
     ]
    }
   ],
   "source": [
    "trackerdict = radObj.makeScene1axis(module=modulename,sceneDict=sceneDict)\n"
   ]
  },
  {
   "cell_type": "code",
   "execution_count": 18,
   "id": "28e47e00",
   "metadata": {},
   "outputs": [
    {
     "name": "stdout",
     "output_type": "stream",
     "text": [
      "\n",
      "Making 2 octfiles in root directory.\n",
      "Created 1axis_2021-11-08_0930.oct\n",
      "Created 1axis_2021-11-08_1030.oct\n"
     ]
    }
   ],
   "source": [
    "trackerdict = radObj.makeOct1axis()"
   ]
  },
  {
   "cell_type": "code",
   "execution_count": 19,
   "id": "166fe660",
   "metadata": {},
   "outputs": [
    {
     "name": "stdout",
     "output_type": "stream",
     "text": [
      "Linescan in process: 1axis_2021-11-08_0930Module_Scene0_Row1_Module2_Front\n",
      "Linescan in process: 1axis_2021-11-08_0930Module_Scene0_Row1_Module2_Back\n",
      "Saved: results\\irr_1axis_2021-11-08_0930Module_Scene0_Row1_Module2.csv\n",
      "Index: 2021-11-08_0930. Wm2Front: 821.8620000000001. Wm2Back: 74.025875\n",
      "Linescan in process: 1axis_2021-11-08_1030Module_Scene0_Row1_Module2_Front\n",
      "Linescan in process: 1axis_2021-11-08_1030Module_Scene0_Row1_Module2_Back\n",
      "Saved: results\\irr_1axis_2021-11-08_1030Module_Scene0_Row1_Module2.csv\n",
      "Index: 2021-11-08_1030. Wm2Front: 831.51245. Wm2Back: 93.31043\n"
     ]
    }
   ],
   "source": [
    "trackerdict = radObj.analysis1axis(customname = 'Module', \n",
    "                                   sensorsy=2, modWanted=2,\n",
    "                                   rowWanted=1)"
   ]
  },
  {
   "cell_type": "code",
   "execution_count": 20,
   "id": "db2ae664",
   "metadata": {},
   "outputs": [
    {
     "name": "stdout",
     "output_type": "stream",
     "text": [
      "No CECModule data passed; using default for Prism Solar BHC72-400\n"
     ]
    },
    {
     "name": "stderr",
     "output_type": "stream",
     "text": [
      "c:\\users\\sayala\\documents\\github\\bifacial_radiance\\bifacial_radiance\\performance.py:64: FutureWarning: Calling float on a single element Series is deprecated and will raise a TypeError in the future. Use float(ser.iloc[0]) instead\n",
      "  alpha_sc=float(CECMod.alpha_sc),\n",
      "c:\\users\\sayala\\documents\\github\\bifacial_radiance\\bifacial_radiance\\performance.py:65: FutureWarning: Calling float on a single element Series is deprecated and will raise a TypeError in the future. Use float(ser.iloc[0]) instead\n",
      "  a_ref=float(CECMod.a_ref),\n",
      "c:\\users\\sayala\\documents\\github\\bifacial_radiance\\bifacial_radiance\\performance.py:66: FutureWarning: Calling float on a single element Series is deprecated and will raise a TypeError in the future. Use float(ser.iloc[0]) instead\n",
      "  I_L_ref=float(CECMod.I_L_ref),\n",
      "c:\\users\\sayala\\documents\\github\\bifacial_radiance\\bifacial_radiance\\performance.py:67: FutureWarning: Calling float on a single element Series is deprecated and will raise a TypeError in the future. Use float(ser.iloc[0]) instead\n",
      "  I_o_ref=float(CECMod.I_o_ref),\n",
      "c:\\users\\sayala\\documents\\github\\bifacial_radiance\\bifacial_radiance\\performance.py:68: FutureWarning: Calling float on a single element Series is deprecated and will raise a TypeError in the future. Use float(ser.iloc[0]) instead\n",
      "  R_sh_ref=float(CECMod.R_sh_ref),\n",
      "c:\\users\\sayala\\documents\\github\\bifacial_radiance\\bifacial_radiance\\performance.py:69: FutureWarning: Calling float on a single element Series is deprecated and will raise a TypeError in the future. Use float(ser.iloc[0]) instead\n",
      "  R_s=float(CECMod.R_s),\n",
      "c:\\users\\sayala\\documents\\github\\bifacial_radiance\\bifacial_radiance\\performance.py:70: FutureWarning: Calling float on a single element Series is deprecated and will raise a TypeError in the future. Use float(ser.iloc[0]) instead\n",
      "  Adjust=float(CECMod.Adjust)\n",
      "c:\\users\\sayala\\documents\\github\\bifacial_radiance\\bifacial_radiance\\performance.py:64: FutureWarning: Calling float on a single element Series is deprecated and will raise a TypeError in the future. Use float(ser.iloc[0]) instead\n",
      "  alpha_sc=float(CECMod.alpha_sc),\n",
      "c:\\users\\sayala\\documents\\github\\bifacial_radiance\\bifacial_radiance\\performance.py:65: FutureWarning: Calling float on a single element Series is deprecated and will raise a TypeError in the future. Use float(ser.iloc[0]) instead\n",
      "  a_ref=float(CECMod.a_ref),\n",
      "c:\\users\\sayala\\documents\\github\\bifacial_radiance\\bifacial_radiance\\performance.py:66: FutureWarning: Calling float on a single element Series is deprecated and will raise a TypeError in the future. Use float(ser.iloc[0]) instead\n",
      "  I_L_ref=float(CECMod.I_L_ref),\n",
      "c:\\users\\sayala\\documents\\github\\bifacial_radiance\\bifacial_radiance\\performance.py:67: FutureWarning: Calling float on a single element Series is deprecated and will raise a TypeError in the future. Use float(ser.iloc[0]) instead\n",
      "  I_o_ref=float(CECMod.I_o_ref),\n",
      "c:\\users\\sayala\\documents\\github\\bifacial_radiance\\bifacial_radiance\\performance.py:68: FutureWarning: Calling float on a single element Series is deprecated and will raise a TypeError in the future. Use float(ser.iloc[0]) instead\n",
      "  R_sh_ref=float(CECMod.R_sh_ref),\n",
      "c:\\users\\sayala\\documents\\github\\bifacial_radiance\\bifacial_radiance\\performance.py:69: FutureWarning: Calling float on a single element Series is deprecated and will raise a TypeError in the future. Use float(ser.iloc[0]) instead\n",
      "  R_s=float(CECMod.R_s),\n",
      "c:\\users\\sayala\\documents\\github\\bifacial_radiance\\bifacial_radiance\\performance.py:70: FutureWarning: Calling float on a single element Series is deprecated and will raise a TypeError in the future. Use float(ser.iloc[0]) instead\n",
      "  Adjust=float(CECMod.Adjust)\n",
      "c:\\users\\sayala\\documents\\github\\bifacial_radiance\\bifacial_radiance\\mismatch.py:200: FutureWarning: Calling float on a single element Series is deprecated and will raise a TypeError in the future. Use float(ser.iloc[0]) instead\n",
      "  fit3 = float(fit3)\n",
      "c:\\users\\sayala\\documents\\github\\bifacial_radiance\\bifacial_radiance\\performance.py:64: FutureWarning: Calling float on a single element Series is deprecated and will raise a TypeError in the future. Use float(ser.iloc[0]) instead\n",
      "  alpha_sc=float(CECMod.alpha_sc),\n",
      "c:\\users\\sayala\\documents\\github\\bifacial_radiance\\bifacial_radiance\\performance.py:65: FutureWarning: Calling float on a single element Series is deprecated and will raise a TypeError in the future. Use float(ser.iloc[0]) instead\n",
      "  a_ref=float(CECMod.a_ref),\n",
      "c:\\users\\sayala\\documents\\github\\bifacial_radiance\\bifacial_radiance\\performance.py:66: FutureWarning: Calling float on a single element Series is deprecated and will raise a TypeError in the future. Use float(ser.iloc[0]) instead\n",
      "  I_L_ref=float(CECMod.I_L_ref),\n",
      "c:\\users\\sayala\\documents\\github\\bifacial_radiance\\bifacial_radiance\\performance.py:67: FutureWarning: Calling float on a single element Series is deprecated and will raise a TypeError in the future. Use float(ser.iloc[0]) instead\n",
      "  I_o_ref=float(CECMod.I_o_ref),\n",
      "c:\\users\\sayala\\documents\\github\\bifacial_radiance\\bifacial_radiance\\performance.py:68: FutureWarning: Calling float on a single element Series is deprecated and will raise a TypeError in the future. Use float(ser.iloc[0]) instead\n",
      "  R_sh_ref=float(CECMod.R_sh_ref),\n",
      "c:\\users\\sayala\\documents\\github\\bifacial_radiance\\bifacial_radiance\\performance.py:69: FutureWarning: Calling float on a single element Series is deprecated and will raise a TypeError in the future. Use float(ser.iloc[0]) instead\n",
      "  R_s=float(CECMod.R_s),\n",
      "c:\\users\\sayala\\documents\\github\\bifacial_radiance\\bifacial_radiance\\performance.py:70: FutureWarning: Calling float on a single element Series is deprecated and will raise a TypeError in the future. Use float(ser.iloc[0]) instead\n",
      "  Adjust=float(CECMod.Adjust)\n",
      "c:\\users\\sayala\\documents\\github\\bifacial_radiance\\bifacial_radiance\\performance.py:64: FutureWarning: Calling float on a single element Series is deprecated and will raise a TypeError in the future. Use float(ser.iloc[0]) instead\n",
      "  alpha_sc=float(CECMod.alpha_sc),\n",
      "c:\\users\\sayala\\documents\\github\\bifacial_radiance\\bifacial_radiance\\performance.py:65: FutureWarning: Calling float on a single element Series is deprecated and will raise a TypeError in the future. Use float(ser.iloc[0]) instead\n",
      "  a_ref=float(CECMod.a_ref),\n",
      "c:\\users\\sayala\\documents\\github\\bifacial_radiance\\bifacial_radiance\\performance.py:66: FutureWarning: Calling float on a single element Series is deprecated and will raise a TypeError in the future. Use float(ser.iloc[0]) instead\n",
      "  I_L_ref=float(CECMod.I_L_ref),\n",
      "c:\\users\\sayala\\documents\\github\\bifacial_radiance\\bifacial_radiance\\performance.py:67: FutureWarning: Calling float on a single element Series is deprecated and will raise a TypeError in the future. Use float(ser.iloc[0]) instead\n",
      "  I_o_ref=float(CECMod.I_o_ref),\n",
      "c:\\users\\sayala\\documents\\github\\bifacial_radiance\\bifacial_radiance\\performance.py:68: FutureWarning: Calling float on a single element Series is deprecated and will raise a TypeError in the future. Use float(ser.iloc[0]) instead\n",
      "  R_sh_ref=float(CECMod.R_sh_ref),\n",
      "c:\\users\\sayala\\documents\\github\\bifacial_radiance\\bifacial_radiance\\performance.py:69: FutureWarning: Calling float on a single element Series is deprecated and will raise a TypeError in the future. Use float(ser.iloc[0]) instead\n",
      "  R_s=float(CECMod.R_s),\n",
      "c:\\users\\sayala\\documents\\github\\bifacial_radiance\\bifacial_radiance\\performance.py:70: FutureWarning: Calling float on a single element Series is deprecated and will raise a TypeError in the future. Use float(ser.iloc[0]) instead\n",
      "  Adjust=float(CECMod.Adjust)\n",
      "c:\\users\\sayala\\documents\\github\\bifacial_radiance\\bifacial_radiance\\mismatch.py:200: FutureWarning: Calling float on a single element Series is deprecated and will raise a TypeError in the future. Use float(ser.iloc[0]) instead\n",
      "  fit3 = float(fit3)\n"
     ]
    }
   ],
   "source": [
    "trackerdict = radObj.calculateResults(bifacialityfactor=0.7, agriPV=False)"
   ]
  },
  {
   "cell_type": "code",
   "execution_count": 21,
   "id": "8973e2c6",
   "metadata": {},
   "outputs": [
    {
     "data": {
      "text/html": [
       "<div>\n",
       "<style scoped>\n",
       "    .dataframe tbody tr th:only-of-type {\n",
       "        vertical-align: middle;\n",
       "    }\n",
       "\n",
       "    .dataframe tbody tr th {\n",
       "        vertical-align: top;\n",
       "    }\n",
       "\n",
       "    .dataframe thead th {\n",
       "        text-align: right;\n",
       "    }\n",
       "</style>\n",
       "<table border=\"1\" class=\"dataframe\">\n",
       "  <thead>\n",
       "    <tr style=\"text-align: right;\">\n",
       "      <th></th>\n",
       "      <th>timestamp</th>\n",
       "      <th>name</th>\n",
       "      <th>modNum</th>\n",
       "      <th>rowNum</th>\n",
       "      <th>sceneNum</th>\n",
       "      <th>mattype</th>\n",
       "      <th>rearMat</th>\n",
       "      <th>Wm2Front</th>\n",
       "      <th>Wm2Back</th>\n",
       "      <th>backRatio</th>\n",
       "      <th>...</th>\n",
       "      <th>Pout_raw</th>\n",
       "      <th>Pout_Gfront</th>\n",
       "      <th>BGG</th>\n",
       "      <th>BGE</th>\n",
       "      <th>Mismatch</th>\n",
       "      <th>Pout</th>\n",
       "      <th>Wind Speed</th>\n",
       "      <th>DNI</th>\n",
       "      <th>DHI</th>\n",
       "      <th>GHI</th>\n",
       "    </tr>\n",
       "  </thead>\n",
       "  <tbody>\n",
       "    <tr>\n",
       "      <th>0</th>\n",
       "      <td>2021-11-08_0930</td>\n",
       "      <td>1axis_2021-11-08_0930Module_Scene0</td>\n",
       "      <td>2</td>\n",
       "      <td>1</td>\n",
       "      <td>0</td>\n",
       "      <td>[a1.0.a0.PVmodule.6457, a1.0.a0.PVmodule.6457]</td>\n",
       "      <td>[a1.0.a0.PVmodule.2310, a1.0.a0.PVmodule.2310]</td>\n",
       "      <td>[821.7087, 822.0153]</td>\n",
       "      <td>[74.92898, 73.12277]</td>\n",
       "      <td>[0.09118668064889583, 0.08895537716222902]</td>\n",
       "      <td>...</td>\n",
       "      <td>314.010225</td>\n",
       "      <td>297.451652</td>\n",
       "      <td>6.304965</td>\n",
       "      <td>5.566812</td>\n",
       "      <td>0.000039</td>\n",
       "      <td>314.010102</td>\n",
       "      <td>1.1</td>\n",
       "      <td>793.0</td>\n",
       "      <td>98.0</td>\n",
       "      <td>583.0</td>\n",
       "    </tr>\n",
       "    <tr>\n",
       "      <th>1</th>\n",
       "      <td>2021-11-08_1030</td>\n",
       "      <td>1axis_2021-11-08_1030Module_Scene0</td>\n",
       "      <td>2</td>\n",
       "      <td>1</td>\n",
       "      <td>0</td>\n",
       "      <td>[a1.0.a0.PVmodule.6457, a1.0.a0.PVmodule.6457]</td>\n",
       "      <td>[a1.0.a0.PVmodule.2310, a1.0.a0.PVmodule.2310]</td>\n",
       "      <td>[831.4995, 831.5254]</td>\n",
       "      <td>[93.92001999999998, 92.70084000000001]</td>\n",
       "      <td>[0.11295245162209762, 0.11148273825100444]</td>\n",
       "      <td>...</td>\n",
       "      <td>319.515332</td>\n",
       "      <td>298.926714</td>\n",
       "      <td>7.855240</td>\n",
       "      <td>6.887514</td>\n",
       "      <td>0.000026</td>\n",
       "      <td>319.515250</td>\n",
       "      <td>0.9</td>\n",
       "      <td>850.0</td>\n",
       "      <td>103.0</td>\n",
       "      <td>730.0</td>\n",
       "    </tr>\n",
       "  </tbody>\n",
       "</table>\n",
       "<p>2 rows × 26 columns</p>\n",
       "</div>"
      ],
      "text/plain": [
       "         timestamp                                name modNum rowNum sceneNum  \\\n",
       "0  2021-11-08_0930  1axis_2021-11-08_0930Module_Scene0      2      1        0   \n",
       "1  2021-11-08_1030  1axis_2021-11-08_1030Module_Scene0      2      1        0   \n",
       "\n",
       "                                          mattype  \\\n",
       "0  [a1.0.a0.PVmodule.6457, a1.0.a0.PVmodule.6457]   \n",
       "1  [a1.0.a0.PVmodule.6457, a1.0.a0.PVmodule.6457]   \n",
       "\n",
       "                                          rearMat              Wm2Front  \\\n",
       "0  [a1.0.a0.PVmodule.2310, a1.0.a0.PVmodule.2310]  [821.7087, 822.0153]   \n",
       "1  [a1.0.a0.PVmodule.2310, a1.0.a0.PVmodule.2310]  [831.4995, 831.5254]   \n",
       "\n",
       "                                  Wm2Back  \\\n",
       "0                    [74.92898, 73.12277]   \n",
       "1  [93.92001999999998, 92.70084000000001]   \n",
       "\n",
       "                                    backRatio  ...    Pout_raw Pout_Gfront  \\\n",
       "0  [0.09118668064889583, 0.08895537716222902]  ...  314.010225  297.451652   \n",
       "1  [0.11295245162209762, 0.11148273825100444]  ...  319.515332  298.926714   \n",
       "\n",
       "        BGG       BGE  Mismatch        Pout  Wind Speed    DNI    DHI    GHI  \n",
       "0  6.304965  5.566812  0.000039  314.010102         1.1  793.0   98.0  583.0  \n",
       "1  7.855240  6.887514  0.000026  319.515250         0.9  850.0  103.0  730.0  \n",
       "\n",
       "[2 rows x 26 columns]"
      ]
     },
     "execution_count": 21,
     "metadata": {},
     "output_type": "execute_result"
    }
   ],
   "source": [
    "radObj.CompiledResults"
   ]
  },
  {
   "cell_type": "code",
   "execution_count": 22,
   "id": "7f18ec9d",
   "metadata": {},
   "outputs": [
    {
     "name": "stdout",
     "output_type": "stream",
     "text": [
      "Linescan in process: 1axis_2021-11-08_0930Ground_Scene0_Row1_Module3_Front\n",
      "Linescan in process: 1axis_2021-11-08_0930Ground_Scene0_Row1_Module3_Back\n",
      "Saved: results\\irr_1axis_2021-11-08_0930Ground_Scene0_Row1_Module3_Front.csv\n",
      "Saved: results\\irr_1axis_2021-11-08_0930Ground_Scene0_Row1_Module3_Back.csv\n",
      "Index: 2021-11-08_0930. Wm2Front: 570.1754000000001. Wm2Back: 62.71045999999999\n",
      "Linescan in process: 1axis_2021-11-08_1030Ground_Scene0_Row1_Module3_Front\n",
      "Linescan in process: 1axis_2021-11-08_1030Ground_Scene0_Row1_Module3_Back\n",
      "Saved: results\\irr_1axis_2021-11-08_1030Ground_Scene0_Row1_Module3_Front.csv\n",
      "Saved: results\\irr_1axis_2021-11-08_1030Ground_Scene0_Row1_Module3_Back.csv\n",
      "Index: 2021-11-08_1030. Wm2Front: 609.348505. Wm2Back: 76.79039\n"
     ]
    }
   ],
   "source": [
    "resolutionGround = 1  #meter. use 1 for faster test runs\n",
    "numsensors = int((pitch/resolutionGround)+1)\n",
    "modscanback = {'xstart': 0, \n",
    "                'zstart': 0.05,\n",
    "                'xinc': resolutionGround,\n",
    "                'zinc': 0,\n",
    "                'Ny':numsensors,\n",
    "                'orient':'0 0 -1'}\n",
    "\n",
    "# Analysis for GROUND\n",
    "trackerdict = radObj.analysis1axis(customname = 'Ground', \n",
    "                                   modscanfront=modscanback, sensorsy=1)"
   ]
  },
  {
   "cell_type": "code",
   "execution_count": 24,
   "id": "dc8ea0ea",
   "metadata": {
    "scrolled": false
   },
   "outputs": [
    {
     "name": "stdout",
     "output_type": "stream",
     "text": [
      "No CECModule data passed; using default for Prism Solar BHC72-400\n"
     ]
    },
    {
     "name": "stderr",
     "output_type": "stream",
     "text": [
      "c:\\users\\sayala\\documents\\github\\bifacial_radiance\\bifacial_radiance\\performance.py:64: FutureWarning: Calling float on a single element Series is deprecated and will raise a TypeError in the future. Use float(ser.iloc[0]) instead\n",
      "  alpha_sc=float(CECMod.alpha_sc),\n",
      "c:\\users\\sayala\\documents\\github\\bifacial_radiance\\bifacial_radiance\\performance.py:65: FutureWarning: Calling float on a single element Series is deprecated and will raise a TypeError in the future. Use float(ser.iloc[0]) instead\n",
      "  a_ref=float(CECMod.a_ref),\n",
      "c:\\users\\sayala\\documents\\github\\bifacial_radiance\\bifacial_radiance\\performance.py:66: FutureWarning: Calling float on a single element Series is deprecated and will raise a TypeError in the future. Use float(ser.iloc[0]) instead\n",
      "  I_L_ref=float(CECMod.I_L_ref),\n",
      "c:\\users\\sayala\\documents\\github\\bifacial_radiance\\bifacial_radiance\\performance.py:67: FutureWarning: Calling float on a single element Series is deprecated and will raise a TypeError in the future. Use float(ser.iloc[0]) instead\n",
      "  I_o_ref=float(CECMod.I_o_ref),\n",
      "c:\\users\\sayala\\documents\\github\\bifacial_radiance\\bifacial_radiance\\performance.py:68: FutureWarning: Calling float on a single element Series is deprecated and will raise a TypeError in the future. Use float(ser.iloc[0]) instead\n",
      "  R_sh_ref=float(CECMod.R_sh_ref),\n",
      "c:\\users\\sayala\\documents\\github\\bifacial_radiance\\bifacial_radiance\\performance.py:69: FutureWarning: Calling float on a single element Series is deprecated and will raise a TypeError in the future. Use float(ser.iloc[0]) instead\n",
      "  R_s=float(CECMod.R_s),\n",
      "c:\\users\\sayala\\documents\\github\\bifacial_radiance\\bifacial_radiance\\performance.py:70: FutureWarning: Calling float on a single element Series is deprecated and will raise a TypeError in the future. Use float(ser.iloc[0]) instead\n",
      "  Adjust=float(CECMod.Adjust)\n",
      "c:\\users\\sayala\\documents\\github\\bifacial_radiance\\bifacial_radiance\\performance.py:64: FutureWarning: Calling float on a single element Series is deprecated and will raise a TypeError in the future. Use float(ser.iloc[0]) instead\n",
      "  alpha_sc=float(CECMod.alpha_sc),\n",
      "c:\\users\\sayala\\documents\\github\\bifacial_radiance\\bifacial_radiance\\performance.py:65: FutureWarning: Calling float on a single element Series is deprecated and will raise a TypeError in the future. Use float(ser.iloc[0]) instead\n",
      "  a_ref=float(CECMod.a_ref),\n",
      "c:\\users\\sayala\\documents\\github\\bifacial_radiance\\bifacial_radiance\\performance.py:66: FutureWarning: Calling float on a single element Series is deprecated and will raise a TypeError in the future. Use float(ser.iloc[0]) instead\n",
      "  I_L_ref=float(CECMod.I_L_ref),\n",
      "c:\\users\\sayala\\documents\\github\\bifacial_radiance\\bifacial_radiance\\performance.py:67: FutureWarning: Calling float on a single element Series is deprecated and will raise a TypeError in the future. Use float(ser.iloc[0]) instead\n",
      "  I_o_ref=float(CECMod.I_o_ref),\n",
      "c:\\users\\sayala\\documents\\github\\bifacial_radiance\\bifacial_radiance\\performance.py:68: FutureWarning: Calling float on a single element Series is deprecated and will raise a TypeError in the future. Use float(ser.iloc[0]) instead\n",
      "  R_sh_ref=float(CECMod.R_sh_ref),\n",
      "c:\\users\\sayala\\documents\\github\\bifacial_radiance\\bifacial_radiance\\performance.py:69: FutureWarning: Calling float on a single element Series is deprecated and will raise a TypeError in the future. Use float(ser.iloc[0]) instead\n",
      "  R_s=float(CECMod.R_s),\n",
      "c:\\users\\sayala\\documents\\github\\bifacial_radiance\\bifacial_radiance\\performance.py:70: FutureWarning: Calling float on a single element Series is deprecated and will raise a TypeError in the future. Use float(ser.iloc[0]) instead\n",
      "  Adjust=float(CECMod.Adjust)\n",
      "c:\\users\\sayala\\documents\\github\\bifacial_radiance\\bifacial_radiance\\mismatch.py:200: FutureWarning: Calling float on a single element Series is deprecated and will raise a TypeError in the future. Use float(ser.iloc[0]) instead\n",
      "  fit3 = float(fit3)\n",
      "c:\\users\\sayala\\documents\\github\\bifacial_radiance\\bifacial_radiance\\performance.py:64: FutureWarning: Calling float on a single element Series is deprecated and will raise a TypeError in the future. Use float(ser.iloc[0]) instead\n",
      "  alpha_sc=float(CECMod.alpha_sc),\n",
      "c:\\users\\sayala\\documents\\github\\bifacial_radiance\\bifacial_radiance\\performance.py:65: FutureWarning: Calling float on a single element Series is deprecated and will raise a TypeError in the future. Use float(ser.iloc[0]) instead\n",
      "  a_ref=float(CECMod.a_ref),\n",
      "c:\\users\\sayala\\documents\\github\\bifacial_radiance\\bifacial_radiance\\performance.py:66: FutureWarning: Calling float on a single element Series is deprecated and will raise a TypeError in the future. Use float(ser.iloc[0]) instead\n",
      "  I_L_ref=float(CECMod.I_L_ref),\n",
      "c:\\users\\sayala\\documents\\github\\bifacial_radiance\\bifacial_radiance\\performance.py:67: FutureWarning: Calling float on a single element Series is deprecated and will raise a TypeError in the future. Use float(ser.iloc[0]) instead\n",
      "  I_o_ref=float(CECMod.I_o_ref),\n",
      "c:\\users\\sayala\\documents\\github\\bifacial_radiance\\bifacial_radiance\\performance.py:68: FutureWarning: Calling float on a single element Series is deprecated and will raise a TypeError in the future. Use float(ser.iloc[0]) instead\n",
      "  R_sh_ref=float(CECMod.R_sh_ref),\n",
      "c:\\users\\sayala\\documents\\github\\bifacial_radiance\\bifacial_radiance\\performance.py:69: FutureWarning: Calling float on a single element Series is deprecated and will raise a TypeError in the future. Use float(ser.iloc[0]) instead\n",
      "  R_s=float(CECMod.R_s),\n",
      "c:\\users\\sayala\\documents\\github\\bifacial_radiance\\bifacial_radiance\\performance.py:70: FutureWarning: Calling float on a single element Series is deprecated and will raise a TypeError in the future. Use float(ser.iloc[0]) instead\n",
      "  Adjust=float(CECMod.Adjust)\n",
      "c:\\users\\sayala\\documents\\github\\bifacial_radiance\\bifacial_radiance\\performance.py:64: FutureWarning: Calling float on a single element Series is deprecated and will raise a TypeError in the future. Use float(ser.iloc[0]) instead\n",
      "  alpha_sc=float(CECMod.alpha_sc),\n",
      "c:\\users\\sayala\\documents\\github\\bifacial_radiance\\bifacial_radiance\\performance.py:65: FutureWarning: Calling float on a single element Series is deprecated and will raise a TypeError in the future. Use float(ser.iloc[0]) instead\n",
      "  a_ref=float(CECMod.a_ref),\n",
      "c:\\users\\sayala\\documents\\github\\bifacial_radiance\\bifacial_radiance\\performance.py:66: FutureWarning: Calling float on a single element Series is deprecated and will raise a TypeError in the future. Use float(ser.iloc[0]) instead\n",
      "  I_L_ref=float(CECMod.I_L_ref),\n",
      "c:\\users\\sayala\\documents\\github\\bifacial_radiance\\bifacial_radiance\\performance.py:67: FutureWarning: Calling float on a single element Series is deprecated and will raise a TypeError in the future. Use float(ser.iloc[0]) instead\n",
      "  I_o_ref=float(CECMod.I_o_ref),\n",
      "c:\\users\\sayala\\documents\\github\\bifacial_radiance\\bifacial_radiance\\performance.py:68: FutureWarning: Calling float on a single element Series is deprecated and will raise a TypeError in the future. Use float(ser.iloc[0]) instead\n",
      "  R_sh_ref=float(CECMod.R_sh_ref),\n",
      "c:\\users\\sayala\\documents\\github\\bifacial_radiance\\bifacial_radiance\\performance.py:69: FutureWarning: Calling float on a single element Series is deprecated and will raise a TypeError in the future. Use float(ser.iloc[0]) instead\n",
      "  R_s=float(CECMod.R_s),\n",
      "c:\\users\\sayala\\documents\\github\\bifacial_radiance\\bifacial_radiance\\performance.py:70: FutureWarning: Calling float on a single element Series is deprecated and will raise a TypeError in the future. Use float(ser.iloc[0]) instead\n",
      "  Adjust=float(CECMod.Adjust)\n",
      "c:\\users\\sayala\\documents\\github\\bifacial_radiance\\bifacial_radiance\\mismatch.py:200: FutureWarning: Calling float on a single element Series is deprecated and will raise a TypeError in the future. Use float(ser.iloc[0]) instead\n",
      "  fit3 = float(fit3)\n"
     ]
    },
    {
     "ename": "InvalidIndexError",
     "evalue": "Reindexing only valid with uniquely valued Index objects",
     "output_type": "error",
     "traceback": [
      "\u001b[1;31m---------------------------------------------------------------------------\u001b[0m",
      "\u001b[1;31mInvalidIndexError\u001b[0m                         Traceback (most recent call last)",
      "Cell \u001b[1;32mIn[24], line 1\u001b[0m\n\u001b[1;32m----> 1\u001b[0m trackerdict \u001b[38;5;241m=\u001b[39m radObj\u001b[38;5;241m.\u001b[39mcalculateResults(bifacialityfactor\u001b[38;5;241m=\u001b[39m\u001b[38;5;241m0.7\u001b[39m, agriPV\u001b[38;5;241m=\u001b[39m\u001b[38;5;28;01mTrue\u001b[39;00m)\n",
      "File \u001b[1;32mc:\\users\\sayala\\documents\\github\\bifacial_radiance\\bifacial_radiance\\main.py:3055\u001b[0m, in \u001b[0;36mRadianceObj.calculateResults\u001b[1;34m(self, CECMod, glassglass, bifacialityfactor, CECMod2, agriPV)\u001b[0m\n\u001b[0;32m   3050\u001b[0m             bifi_factor_internal \u001b[38;5;241m=\u001b[39m bifacialityfactor\n\u001b[0;32m   3051\u001b[0m         power_data \u001b[38;5;241m=\u001b[39m analysis\u001b[38;5;241m.\u001b[39mcalc_performance(meteo_data\u001b[38;5;241m=\u001b[39mmeteo_data, CECMod\u001b[38;5;241m=\u001b[39mCECMod, \n\u001b[0;32m   3052\u001b[0m                                       cumulativesky\u001b[38;5;241m=\u001b[39m\u001b[38;5;28mself\u001b[39m\u001b[38;5;241m.\u001b[39mcumulativesky,  glassglass\u001b[38;5;241m=\u001b[39mglassglass, \n\u001b[0;32m   3053\u001b[0m                                       bifacialityfactor\u001b[38;5;241m=\u001b[39mbifi_factor_internal, CECMod2\u001b[38;5;241m=\u001b[39mCECMod2, \n\u001b[0;32m   3054\u001b[0m                                       agriPV\u001b[38;5;241m=\u001b[39magriPV)\n\u001b[1;32m-> 3055\u001b[0m         \u001b[38;5;28mself\u001b[39m\u001b[38;5;241m.\u001b[39mCompiledResults \u001b[38;5;241m=\u001b[39m pd\u001b[38;5;241m.\u001b[39mconcat([\u001b[38;5;28mself\u001b[39m\u001b[38;5;241m.\u001b[39mCompiledResults, \n\u001b[0;32m   3056\u001b[0m                                           _printRow(analysis, key)], ignore_index\u001b[38;5;241m=\u001b[39m\u001b[38;5;28;01mTrue\u001b[39;00m)\n\u001b[0;32m   3057\u001b[0m \u001b[38;5;28;01mexcept\u001b[39;00m \u001b[38;5;167;01mKeyError\u001b[39;00m:\n\u001b[0;32m   3058\u001b[0m     \u001b[38;5;28;01mpass\u001b[39;00m\n",
      "File \u001b[1;32m~\\AppData\\Roaming\\Python\\Python311\\site-packages\\pandas\\core\\reshape\\concat.py:393\u001b[0m, in \u001b[0;36mconcat\u001b[1;34m(objs, axis, join, ignore_index, keys, levels, names, verify_integrity, sort, copy)\u001b[0m\n\u001b[0;32m    378\u001b[0m     copy \u001b[38;5;241m=\u001b[39m \u001b[38;5;28;01mFalse\u001b[39;00m\n\u001b[0;32m    380\u001b[0m op \u001b[38;5;241m=\u001b[39m _Concatenator(\n\u001b[0;32m    381\u001b[0m     objs,\n\u001b[0;32m    382\u001b[0m     axis\u001b[38;5;241m=\u001b[39maxis,\n\u001b[1;32m   (...)\u001b[0m\n\u001b[0;32m    390\u001b[0m     sort\u001b[38;5;241m=\u001b[39msort,\n\u001b[0;32m    391\u001b[0m )\n\u001b[1;32m--> 393\u001b[0m \u001b[38;5;28;01mreturn\u001b[39;00m op\u001b[38;5;241m.\u001b[39mget_result()\n",
      "File \u001b[1;32m~\\AppData\\Roaming\\Python\\Python311\\site-packages\\pandas\\core\\reshape\\concat.py:676\u001b[0m, in \u001b[0;36m_Concatenator.get_result\u001b[1;34m(self)\u001b[0m\n\u001b[0;32m    674\u001b[0m         obj_labels \u001b[38;5;241m=\u001b[39m obj\u001b[38;5;241m.\u001b[39maxes[\u001b[38;5;241m1\u001b[39m \u001b[38;5;241m-\u001b[39m ax]\n\u001b[0;32m    675\u001b[0m         \u001b[38;5;28;01mif\u001b[39;00m \u001b[38;5;129;01mnot\u001b[39;00m new_labels\u001b[38;5;241m.\u001b[39mequals(obj_labels):\n\u001b[1;32m--> 676\u001b[0m             indexers[ax] \u001b[38;5;241m=\u001b[39m obj_labels\u001b[38;5;241m.\u001b[39mget_indexer(new_labels)\n\u001b[0;32m    678\u001b[0m     mgrs_indexers\u001b[38;5;241m.\u001b[39mappend((obj\u001b[38;5;241m.\u001b[39m_mgr, indexers))\n\u001b[0;32m    680\u001b[0m new_data \u001b[38;5;241m=\u001b[39m concatenate_managers(\n\u001b[0;32m    681\u001b[0m     mgrs_indexers, \u001b[38;5;28mself\u001b[39m\u001b[38;5;241m.\u001b[39mnew_axes, concat_axis\u001b[38;5;241m=\u001b[39m\u001b[38;5;28mself\u001b[39m\u001b[38;5;241m.\u001b[39mbm_axis, copy\u001b[38;5;241m=\u001b[39m\u001b[38;5;28mself\u001b[39m\u001b[38;5;241m.\u001b[39mcopy\n\u001b[0;32m    682\u001b[0m )\n",
      "File \u001b[1;32m~\\AppData\\Roaming\\Python\\Python311\\site-packages\\pandas\\core\\indexes\\base.py:3874\u001b[0m, in \u001b[0;36mIndex.get_indexer\u001b[1;34m(self, target, method, limit, tolerance)\u001b[0m\n\u001b[0;32m   3871\u001b[0m \u001b[38;5;28mself\u001b[39m\u001b[38;5;241m.\u001b[39m_check_indexing_method(method, limit, tolerance)\n\u001b[0;32m   3873\u001b[0m \u001b[38;5;28;01mif\u001b[39;00m \u001b[38;5;129;01mnot\u001b[39;00m \u001b[38;5;28mself\u001b[39m\u001b[38;5;241m.\u001b[39m_index_as_unique:\n\u001b[1;32m-> 3874\u001b[0m     \u001b[38;5;28;01mraise\u001b[39;00m InvalidIndexError(\u001b[38;5;28mself\u001b[39m\u001b[38;5;241m.\u001b[39m_requires_unique_msg)\n\u001b[0;32m   3876\u001b[0m \u001b[38;5;28;01mif\u001b[39;00m \u001b[38;5;28mlen\u001b[39m(target) \u001b[38;5;241m==\u001b[39m \u001b[38;5;241m0\u001b[39m:\n\u001b[0;32m   3877\u001b[0m     \u001b[38;5;28;01mreturn\u001b[39;00m np\u001b[38;5;241m.\u001b[39marray([], dtype\u001b[38;5;241m=\u001b[39mnp\u001b[38;5;241m.\u001b[39mintp)\n",
      "\u001b[1;31mInvalidIndexError\u001b[0m: Reindexing only valid with uniquely valued Index objects"
     ]
    }
   ],
   "source": [
    "trackerdict = radObj.calculateResults(bifacialityfactor=0.7, agriPV=True)"
   ]
  },
  {
   "cell_type": "code",
   "execution_count": 25,
   "id": "bef50891",
   "metadata": {},
   "outputs": [
    {
     "data": {
      "text/html": [
       "<div>\n",
       "<style scoped>\n",
       "    .dataframe tbody tr th:only-of-type {\n",
       "        vertical-align: middle;\n",
       "    }\n",
       "\n",
       "    .dataframe tbody tr th {\n",
       "        vertical-align: top;\n",
       "    }\n",
       "\n",
       "    .dataframe thead th {\n",
       "        text-align: right;\n",
       "    }\n",
       "</style>\n",
       "<table border=\"1\" class=\"dataframe\">\n",
       "  <thead>\n",
       "    <tr style=\"text-align: right;\">\n",
       "      <th></th>\n",
       "      <th>timestamp</th>\n",
       "      <th>name</th>\n",
       "      <th>modNum</th>\n",
       "      <th>rowNum</th>\n",
       "      <th>sceneNum</th>\n",
       "      <th>mattype</th>\n",
       "      <th>rearMat</th>\n",
       "      <th>Wm2Front</th>\n",
       "      <th>Wm2Back</th>\n",
       "      <th>backRatio</th>\n",
       "      <th>...</th>\n",
       "      <th>Pout_raw</th>\n",
       "      <th>Pout_Gfront</th>\n",
       "      <th>BGG</th>\n",
       "      <th>BGE</th>\n",
       "      <th>Mismatch</th>\n",
       "      <th>Pout</th>\n",
       "      <th>Wind Speed</th>\n",
       "      <th>DNI</th>\n",
       "      <th>DHI</th>\n",
       "      <th>GHI</th>\n",
       "    </tr>\n",
       "  </thead>\n",
       "  <tbody>\n",
       "    <tr>\n",
       "      <th>0</th>\n",
       "      <td>2021-11-08_0930</td>\n",
       "      <td>1axis_2021-11-08_0930Module_Scene0</td>\n",
       "      <td>2</td>\n",
       "      <td>1</td>\n",
       "      <td>0</td>\n",
       "      <td>[a1.0.a0.PVmodule.6457, a1.0.a0.PVmodule.6457]</td>\n",
       "      <td>[a1.0.a0.PVmodule.2310, a1.0.a0.PVmodule.2310]</td>\n",
       "      <td>[821.7087, 822.0153]</td>\n",
       "      <td>[74.92898, 73.12277]</td>\n",
       "      <td>[0.09118668064889583, 0.08895537716222902]</td>\n",
       "      <td>...</td>\n",
       "      <td>314.010225</td>\n",
       "      <td>297.451652</td>\n",
       "      <td>6.304965</td>\n",
       "      <td>5.566812</td>\n",
       "      <td>0.000039</td>\n",
       "      <td>314.010102</td>\n",
       "      <td>1.1</td>\n",
       "      <td>793.0</td>\n",
       "      <td>98.0</td>\n",
       "      <td>583.0</td>\n",
       "    </tr>\n",
       "  </tbody>\n",
       "</table>\n",
       "<p>1 rows × 26 columns</p>\n",
       "</div>"
      ],
      "text/plain": [
       "         timestamp                                name modNum rowNum sceneNum  \\\n",
       "0  2021-11-08_0930  1axis_2021-11-08_0930Module_Scene0      2      1        0   \n",
       "\n",
       "                                          mattype  \\\n",
       "0  [a1.0.a0.PVmodule.6457, a1.0.a0.PVmodule.6457]   \n",
       "\n",
       "                                          rearMat              Wm2Front  \\\n",
       "0  [a1.0.a0.PVmodule.2310, a1.0.a0.PVmodule.2310]  [821.7087, 822.0153]   \n",
       "\n",
       "                Wm2Back                                   backRatio  ...  \\\n",
       "0  [74.92898, 73.12277]  [0.09118668064889583, 0.08895537716222902]  ...   \n",
       "\n",
       "     Pout_raw Pout_Gfront       BGG       BGE  Mismatch        Pout  \\\n",
       "0  314.010225  297.451652  6.304965  5.566812  0.000039  314.010102   \n",
       "\n",
       "   Wind Speed    DNI   DHI    GHI  \n",
       "0         1.1  793.0  98.0  583.0  \n",
       "\n",
       "[1 rows x 26 columns]"
      ]
     },
     "execution_count": 25,
     "metadata": {},
     "output_type": "execute_result"
    }
   ],
   "source": [
    "radObj.CompiledResults"
   ]
  },
  {
   "cell_type": "markdown",
   "id": "bb653b5e",
   "metadata": {},
   "source": [
    "##  Eploring Accessing the results directly since CompiledResults is failing for agriPV = False\n",
    "\n",
    "## THIS WORKED WITH dev branch up to 4/22, and in the HPC versions we have.\n"
   ]
  },
  {
   "cell_type": "code",
   "execution_count": 26,
   "id": "e4aece26",
   "metadata": {},
   "outputs": [
    {
     "data": {
      "text/plain": [
       "[74.025875]"
      ]
     },
     "execution_count": 26,
     "metadata": {},
     "output_type": "execute_result"
    }
   ],
   "source": [
    "ResultPVWm2Back = list(radObj.CompiledResults['Grear_mean'])\n",
    "ResultPVWm2Front = list(radObj.CompiledResults['Gfront_mean'])\n",
    "ResultGHI = list(radObj.CompiledResults['GHI'])\n",
    "ResultDHI = list(radObj.CompiledResults['DHI'])\n",
    "ResultDNI = list(radObj.CompiledResults['DNI'])\n",
    "ResultPout = list(radObj.CompiledResults['Pout'])\n",
    "ResultWindSpeed = list(radObj.CompiledResults['Wind Speed'])\n",
    "ResultPVWm2Back\n"
   ]
  },
  {
   "cell_type": "code",
   "execution_count": 28,
   "id": "e1dabe13",
   "metadata": {},
   "outputs": [],
   "source": [
    "# In another wranch?? Thsi hsould have worked\n",
    "#list(radObj.CompiledResults['Module_temp'])\n"
   ]
  },
  {
   "cell_type": "code",
   "execution_count": 30,
   "id": "d01e83fd",
   "metadata": {},
   "outputs": [
    {
     "ename": "KeyError",
     "evalue": "'Results'",
     "output_type": "error",
     "traceback": [
      "\u001b[1;31m---------------------------------------------------------------------------\u001b[0m",
      "\u001b[1;31mKeyError\u001b[0m                                  Traceback (most recent call last)",
      "Cell \u001b[1;32mIn[30], line 7\u001b[0m\n\u001b[0;32m      5\u001b[0m pitch\u001b[38;5;241m=\u001b[39m []\n\u001b[0;32m      6\u001b[0m \u001b[38;5;28;01mfor\u001b[39;00m key \u001b[38;5;129;01min\u001b[39;00m keys:\n\u001b[1;32m----> 7\u001b[0m     groundIrrad\u001b[38;5;241m.\u001b[39mappend(trackerdict[key][\u001b[38;5;124m'\u001b[39m\u001b[38;5;124mResults\u001b[39m\u001b[38;5;124m'\u001b[39m][\u001b[38;5;241m1\u001b[39m][\u001b[38;5;124m'\u001b[39m\u001b[38;5;124mWm2Front\u001b[39m\u001b[38;5;124m'\u001b[39m])\n\u001b[0;32m      8\u001b[0m     temp_air\u001b[38;5;241m.\u001b[39mappend(trackerdict[key][\u001b[38;5;124m'\u001b[39m\u001b[38;5;124mtemp_air\u001b[39m\u001b[38;5;124m'\u001b[39m])\n\u001b[0;32m      9\u001b[0m     pitch\u001b[38;5;241m.\u001b[39mappend(trackerdict[key][\u001b[38;5;124m'\u001b[39m\u001b[38;5;124mscene\u001b[39m\u001b[38;5;124m'\u001b[39m]\u001b[38;5;241m.\u001b[39msceneDict[\u001b[38;5;124m'\u001b[39m\u001b[38;5;124mpitch\u001b[39m\u001b[38;5;124m'\u001b[39m])\n",
      "\u001b[1;31mKeyError\u001b[0m: 'Results'"
     ]
    }
   ],
   "source": [
    "keys=list(trackerdict.keys())\n",
    "\n",
    "groundIrrad = []\n",
    "temp_air = []\n",
    "pitch= []\n",
    "for key in keys:\n",
    "    groundIrrad.append(trackerdict[key]['Results'][1]['Wm2Front'])\n",
    "    temp_air.append(trackerdict[key]['temp_air'])\n",
    "    pitch.append(trackerdict[key]['scene'].sceneDict['pitch'])\n",
    "    "
   ]
  },
  {
   "cell_type": "code",
   "execution_count": 31,
   "id": "1980eb0c",
   "metadata": {},
   "outputs": [],
   "source": [
    "results = pd.DataFrame(list(zip(ResultPVWm2Back, ResultPVWm2Front)), columns = [\"Back\",\"Front\"])"
   ]
  },
  {
   "cell_type": "code",
   "execution_count": 32,
   "id": "9f8277f9",
   "metadata": {},
   "outputs": [
    {
     "ename": "KeyError",
     "evalue": "'scene'",
     "output_type": "error",
     "traceback": [
      "\u001b[1;31m---------------------------------------------------------------------------\u001b[0m",
      "\u001b[1;31mKeyError\u001b[0m                                  Traceback (most recent call last)",
      "Cell \u001b[1;32mIn[32], line 1\u001b[0m\n\u001b[1;32m----> 1\u001b[0m results[\u001b[38;5;124m'\u001b[39m\u001b[38;5;124mpitch\u001b[39m\u001b[38;5;124m'\u001b[39m]\u001b[38;5;241m=\u001b[39mtrackerdict[key][\u001b[38;5;124m'\u001b[39m\u001b[38;5;124mscene\u001b[39m\u001b[38;5;124m'\u001b[39m]\u001b[38;5;241m.\u001b[39msceneDict[\u001b[38;5;124m'\u001b[39m\u001b[38;5;124mpitch\u001b[39m\u001b[38;5;124m'\u001b[39m]\n",
      "\u001b[1;31mKeyError\u001b[0m: 'scene'"
     ]
    }
   ],
   "source": [
    "results['pitch']=trackerdict[key]['scene'].sceneDict['pitch']"
   ]
  },
  {
   "cell_type": "code",
   "execution_count": 33,
   "id": "a7b42872",
   "metadata": {},
   "outputs": [
    {
     "ename": "NameError",
     "evalue": "name 'results_path' is not defined",
     "output_type": "error",
     "traceback": [
      "\u001b[1;31m---------------------------------------------------------------------------\u001b[0m",
      "\u001b[1;31mNameError\u001b[0m                                 Traceback (most recent call last)",
      "Cell \u001b[1;32mIn[33], line 1\u001b[0m\n\u001b[1;32m----> 1\u001b[0m results\u001b[38;5;241m.\u001b[39mto_pickle(results_path)\n",
      "\u001b[1;31mNameError\u001b[0m: name 'results_path' is not defined"
     ]
    }
   ],
   "source": [
    "results.to_pickle(results_path)"
   ]
  }
 ],
 "metadata": {
  "kernelspec": {
   "display_name": "Python 3 (ipykernel)",
   "language": "python",
   "name": "python3"
  },
  "language_info": {
   "codemirror_mode": {
    "name": "ipython",
    "version": 3
   },
   "file_extension": ".py",
   "mimetype": "text/x-python",
   "name": "python",
   "nbconvert_exporter": "python",
   "pygments_lexer": "ipython3",
   "version": "3.11.4"
  }
 },
 "nbformat": 4,
 "nbformat_minor": 5
}
