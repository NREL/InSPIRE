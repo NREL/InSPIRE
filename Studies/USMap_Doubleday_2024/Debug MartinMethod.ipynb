{
 "cells": [
  {
   "cell_type": "code",
   "execution_count": 1,
   "id": "b53736ce",
   "metadata": {},
   "outputs": [],
   "source": [
    "import sys, platform\n",
    "import pvlib\n",
    "import PySAM\n",
    "import bifacial_radiance as br\n",
    "import pandas as pd"
   ]
  },
  {
   "cell_type": "code",
   "execution_count": 2,
   "id": "f619eba5",
   "metadata": {},
   "outputs": [
    {
     "name": "stdout",
     "output_type": "stream",
     "text": [
      "Working on a  Windows 10\n",
      "Python version  3.11.7 | packaged by Anaconda, Inc. | (main, Dec 15 2023, 18:05:47) [MSC v.1916 64 bit (AMD64)]\n",
      "Pandas version  2.1.0\n",
      "Pvlib version:  0.10.4.dev9+ge92ee94\n",
      "PySAM version:  5.1.0\n",
      "bifacial_radiance version:  0.4.2+340.g7909811.dirty\n"
     ]
    }
   ],
   "source": [
    "print(\"Working on a \", platform.system(), platform.release())\n",
    "print(\"Python version \", sys.version)\n",
    "print(\"Pandas version \", pd.__version__)\n",
    "print(\"Pvlib version: \", pvlib.__version__)\n",
    "print(\"PySAM version: \", PySAM.__version__)\n",
    "print(\"bifacial_radiance version: \", br.__version__)"
   ]
  },
  {
   "cell_type": "code",
   "execution_count": 3,
   "id": "e45586b1",
   "metadata": {},
   "outputs": [],
   "source": [
    "NREL_API_KEY = None  # <-- please set your NREL API key here\n",
    "# note you must use \"quotes\" around your key as it is a string.\n",
    "\n",
    "if NREL_API_KEY is None:\n",
    "       NREL_API_KEY = 'DEMO_KEY'  # OK for this demo, but better to get your own key"
   ]
  },
  {
   "cell_type": "code",
   "execution_count": 4,
   "id": "e4ca9a61",
   "metadata": {
    "slideshow": {
     "slide_type": "subslide"
    }
   },
   "outputs": [
    {
     "data": {
      "text/plain": [
       "{'Source': 'NSRDB',\n",
       " 'Location ID': '200667',\n",
       " 'City': '-',\n",
       " 'State': '-',\n",
       " 'Country': '-',\n",
       " 'Time Zone': -7,\n",
       " 'Local Time Zone': -7,\n",
       " 'Dew Point Units': 'c',\n",
       " 'DHI Units': 'w/m2',\n",
       " 'DNI Units': 'w/m2',\n",
       " 'GHI Units': 'w/m2',\n",
       " 'Temperature Units': 'c',\n",
       " 'Pressure Units': 'mbar',\n",
       " 'Wind Direction Units': 'Degrees',\n",
       " 'Wind Speed Units': 'm/s',\n",
       " 'Surface Albedo Units': 'N/A',\n",
       " 'Version': '3.2.0',\n",
       " 'latitude': 44.25,\n",
       " 'longitude': -117.34,\n",
       " 'altitude': 979}"
      ]
     },
     "execution_count": 4,
     "metadata": {},
     "output_type": "execute_result"
    }
   ],
   "source": [
    "import pvlib\n",
    "\n",
    "metdata, metadata = pvlib.iotools.get_psm3(\n",
    "    latitude=44.25, longitude=-117.33999633789062,\n",
    "    api_key=NREL_API_KEY,\n",
    "    email='silvana.ovaitt@nrel.gov',  # <-- any email works here fine\n",
    "    names='tmy', map_variables=True)\n",
    "metadata"
   ]
  },
  {
   "cell_type": "code",
   "execution_count": 5,
   "id": "45d403df",
   "metadata": {},
   "outputs": [
    {
     "name": "stdout",
     "output_type": "stream",
     "text": [
      "Your simulation will be stored in TEMP\n"
     ]
    }
   ],
   "source": [
    "import os\n",
    "from pathlib import Path\n",
    "\n",
    "testfolder = 'TEMP'\n",
    "\n",
    "if not os.path.exists(testfolder):\n",
    "    os.makedirs(testfolder)\n",
    "    \n",
    "print (\"Your simulation will be stored in %s\" % testfolder)"
   ]
  },
  {
   "cell_type": "code",
   "execution_count": 6,
   "id": "8958888b",
   "metadata": {},
   "outputs": [
    {
     "name": "stdout",
     "output_type": "stream",
     "text": [
      "path = TEMP\n",
      "Making path: images\n",
      "Making path: objects\n",
      "Making path: results\n",
      "Making path: skies\n",
      "Making path: EPWs\n",
      "Making path: materials\n"
     ]
    }
   ],
   "source": [
    "radObj = br.RadianceObj('Sim3',path=testfolder, hpc=True)"
   ]
  },
  {
   "cell_type": "code",
   "execution_count": 7,
   "id": "de048747",
   "metadata": {},
   "outputs": [],
   "source": [
    "# Some of the names changed internally. While bifacial_radiance updates their expected names, we are renaming the values here\n",
    "metadata['timezone'] = metadata['Time Zone']\n",
    "metadata['county'] = '-'\n",
    "metadata['elevation'] = metadata['altitude']\n",
    "metadata['state'] = metadata['State']\n",
    "metadata['country'] = metadata['Country']\n",
    "metdata['Albedo'] = metdata['albedo']"
   ]
  },
  {
   "cell_type": "markdown",
   "id": "9906d67a",
   "metadata": {},
   "source": [
    "Use NSRDBWeatherData to enter data the downloaded data in dataframe and dictionary forma for meteorological data and metadata respectively"
   ]
  },
  {
   "cell_type": "code",
   "execution_count": 8,
   "id": "54b50d1c",
   "metadata": {},
   "outputs": [
    {
     "name": "stdout",
     "output_type": "stream",
     "text": [
      "8760 line in WeatherFile. Assuming this is a standard hourly WeatherFile for the year for purposes of saving Gencumulativesky temporary weather files in EPW folder.\n",
      "Coercing year to 2021\n",
      "Filtering dates\n",
      "Saving file EPWs\\metdata_temp.csv, # points: 8760\n",
      "Calculating Sun position for center labeled data, at exact timestamp in input Weather File\n"
     ]
    }
   ],
   "source": [
    "#starttime can be 'MM_DD', or 'MM_DD_HH'\n",
    "metData = radObj.readWeatherData(metadata, metdata, starttime='11_08_09', endtime='11_08_11',coerce_year=2021, label='center')"
   ]
  },
  {
   "cell_type": "code",
   "execution_count": 9,
   "id": "132b8368-c14f-4f11-a91b-51855c24a936",
   "metadata": {},
   "outputs": [
    {
     "name": "stdout",
     "output_type": "stream",
     "text": [
      "Loading albedo, 1 value(s), 0.200 avg\n",
      "1 nonzero albedo values.\n"
     ]
    }
   ],
   "source": [
    "alb = 0.2\n",
    "radObj.setGround(alb) \n"
   ]
  },
  {
   "cell_type": "code",
   "execution_count": 10,
   "id": "98294e0d-e840-4afe-ad4e-5aa3e9674a20",
   "metadata": {},
   "outputs": [],
   "source": [
    "import numpy as np\n",
    "import bifacialvf"
   ]
  },
  {
   "cell_type": "code",
   "execution_count": 11,
   "id": "60ef8184-8e51-4c7c-be6a-7b737de2aa1b",
   "metadata": {},
   "outputs": [
    {
     "name": "stdout",
     "output_type": "stream",
     "text": [
      "Cannot find ideal pitch for location, setting D to 3.725\n",
      "PITCH_temp  8.888679600677303\n"
     ]
    }
   ],
   "source": [
    "y=2\n",
    "solposAzi = metData.solpos['azimuth'].iloc[0]\n",
    "solposZen = metData.solpos['zenith'].iloc[0]\n",
    "timezonesave = metData.timezone\n",
    "\n",
    "tilt = np.round(metData.latitude)\n",
    "if tilt > 40.0:\n",
    "    tilt = 40.0\n",
    "\n",
    "DD = bifacialvf.vf.rowSpacing(beta = tilt, \n",
    "                              sazm=180, lat = metData.latitude, \n",
    "                              lng = metData.longitude, \n",
    "                              tz = metData.timezone, \n",
    "                              hour = 9, \n",
    "                              minute = 0.0)\n",
    "if (DD <= 0) or (DD > 3.725):\n",
    "    DD = 3.725\n",
    "    print(\"Cannot find ideal pitch for location, setting D to 3.725\")\n",
    "\n",
    "normalized_pitch = DD + np.cos(np.round(metData.latitude) / 180.0 * np.pi)\n",
    "pitch_temp = normalized_pitch*y\n",
    "print(\"PITCH_temp \", pitch_temp)\n"
   ]
  },
  {
   "cell_type": "code",
   "execution_count": 12,
   "id": "e3695668",
   "metadata": {},
   "outputs": [],
   "source": [
    "# -- establish tracking angles\n",
    "hub_height = 1.5\n",
    "pitch = 5\n",
    "sazm = 180  # Tracker axis azimuth\n",
    "modulename = 'PVmodule'\n",
    "fixed_tilt_angle = None\n",
    "gcr = 2 / pitch\n",
    "\n",
    "\n",
    "trackerParams = {'limit_angle':50,\n",
    "             'angledelta':5,\n",
    "             'backtrack':True,\n",
    "             'gcr':gcr,\n",
    "             'cumulativesky':False,\n",
    "             'azimuth': sazm,\n",
    "             'fixed_tilt_angle': fixed_tilt_angle\n",
    "             }"
   ]
  },
  {
   "cell_type": "code",
   "execution_count": 13,
   "id": "51e6abe1-4add-4821-ab0d-a928640c7cd9",
   "metadata": {},
   "outputs": [],
   "source": [
    "\n",
    "setup = 1\n",
    "\n",
    "if setup == 1:\n",
    "    hub_height = 1.5\n",
    "    pitch = 5\n",
    "    sazm = 180  # Tracker axis azimuth\n",
    "    modulename = 'PVmodule'\n",
    "    bedsWanted = 3\n",
    "    fixed_tilt_angle = None\n",
    "if setup == 2:\n",
    "    hub_height = 2.4\n",
    "    pitch = 5\n",
    "    sazm = 180\n",
    "    modulename = 'PVmodule'\n",
    "    bedsWanted = 3\n",
    "    fixed_tilt_angle = None\n",
    "if setup == 3:\n",
    "    hub_height = 2.4\n",
    "    pitch = 5\n",
    "    sazm = 180\n",
    "    modulename = 'PVmodule_1mxgap'\n",
    "    bedsWanted = 3\n",
    "    fixed_tilt_angle = None\n",
    "if setup == 4:\n",
    "    hub_height = 1.5\n",
    "    pitch = 8\n",
    "    sazm = 180\n",
    "    modulename = 'PVmodule'\n",
    "    bedsWanted = 6\n",
    "    fixed_tilt_angle = None\n",
    "if setup == 5:\n",
    "    hub_height = 1.5\n",
    "    pitch = 11\n",
    "    sazm = 180\n",
    "    modulename = 'PVmodule'\n",
    "    bedsWanted = 9\n",
    "    fixed_tilt_angle = None\n",
    "if setup == 6:\n",
    "    hub_height = 1.5\n",
    "    #tilt = None # fixed\n",
    "    sazm = 180\n",
    "    pitchfactor = 1\n",
    "    modulename = 'PVmodule'\n",
    "    pitch = pitch_temp * pitchfactor\n",
    "    bedsWanted = 3\n",
    "    fixed_tilt_angle = tilt\n",
    "if setup == 7:\n",
    "    hub_height = 2.4 \n",
    "    sazm = 180\n",
    "    pitchfactor = 1\n",
    "    pitch = pitch_temp * pitchfactor\n",
    "    modulename = 'PVmodule'\n",
    "    bedsWanted = 3\n",
    "    fixed_tilt_angle = tilt\n",
    "if setup == 8:\n",
    "    hub_height = 2.4 \n",
    "    sazm = 180\n",
    "    pitchfactor = 1\n",
    "    pitch = pitch_temp * pitchfactor\n",
    "    modulename = 'PVmodule_1mxgap'\n",
    "    bedsWanted = 3\n",
    "    fixed_tilt_angle = tilt\n",
    "if setup == 9:\n",
    "    hub_height = 1.5 \n",
    "    sazm = 180\n",
    "    pitchfactor = 2\n",
    "    pitch = pitch_temp * pitchfactor\n",
    "    modulename = 'PVmodule'\n",
    "    bedsWanted = 6\n",
    "    fixed_tilt_angle = tilt\n",
    "if setup == 10:\n",
    "    hub_height = 2 \n",
    "    sazm = 90\n",
    "    pitch = 8.6 \n",
    "    modulename = 'PVmodule'\n",
    "    bedsWanted = 7\n",
    "    xp = 8\n",
    "    fixed_tilt_angle = 90\n"
   ]
  },
  {
   "cell_type": "code",
   "execution_count": 14,
   "id": "5b787406-cc29-46a2-b1d0-8ce0ac710d12",
   "metadata": {},
   "outputs": [],
   "source": [
    "gcr = 2/pitch\n",
    "\n",
    "# -- establish tracking angles\n",
    "trackerParams = {'limit_angle':50,\n",
    "                 'angledelta':5,\n",
    "                 'backtrack':True,\n",
    "                 'gcr':gcr,\n",
    "                 'cumulativesky':False,\n",
    "                 'azimuth': sazm,\n",
    "                 'fixed_tilt_angle': fixed_tilt_angle,\n",
    "                 }\n",
    "\n"
   ]
  },
  {
   "cell_type": "code",
   "execution_count": 15,
   "id": "8e82f2c4-bff0-4963-93d1-eb41e30e7a3e",
   "metadata": {},
   "outputs": [],
   "source": [
    "trackerdict = radObj.set1axis(**trackerParams)\n"
   ]
  },
  {
   "cell_type": "code",
   "execution_count": 16,
   "id": "e2a9fe16-4a5e-4115-99c5-d99c0dadf71d",
   "metadata": {},
   "outputs": [
    {
     "name": "stdout",
     "output_type": "stream",
     "text": [
      "Creating ~2 skyfiles. \n",
      "Created 2 skyfiles in /skies/\n",
      "{'2021-11-08_0930': {'surf_azm': 90.0, 'surf_tilt': 47.37, 'theta': -47.37, 'dni': 778.0, 'ghi': 271.0, 'dhi': 55.0, 'temp_air': -1.0, 'wind_speed': 2.5, 'skyfile': 'skies\\\\sky2_44.25_-117.34_2021-11-08_0930.rad'}, '2021-11-08_1030': {'surf_azm': 90.0, 'surf_tilt': 50.0, 'theta': -50.0, 'dni': 876.0, 'ghi': 405.0, 'dhi': 65.0, 'temp_air': 1.0, 'wind_speed': 2.5, 'skyfile': 'skies\\\\sky2_44.25_-117.34_2021-11-08_1030.rad'}}\n",
      "LEN TRACKERDICT 2\n"
     ]
    }
   ],
   "source": [
    "# -- generate sky   \n",
    "trackerdict = radObj.gendaylit1axis()\n",
    "print(trackerdict)\n",
    "print(\"LEN TRACKERDICT\", len(trackerdict.keys()))\n"
   ]
  },
  {
   "cell_type": "code",
   "execution_count": 17,
   "id": "f1cb397f-557d-47a3-a8f5-274195b7e345",
   "metadata": {},
   "outputs": [],
   "source": [
    "sceneDict = {'pitch':pitch, \n",
    "             'hub_height': hub_height,\n",
    "             'nMods': 19,\n",
    "             'nRows': 7,\n",
    "            'tilt': fixed_tilt_angle,  \n",
    "            'sazm': sazm\n",
    "             }\n",
    "\n"
   ]
  },
  {
   "cell_type": "code",
   "execution_count": 18,
   "id": "77de4c7e-e158-4715-9e4f-2d606041caaa",
   "metadata": {},
   "outputs": [
    {
     "name": "stdout",
     "output_type": "stream",
     "text": [
      "\n",
      "Making ~2 .rad files for gendaylit 1-axis workflow (this takes a minute..)\n",
      "2 Radfiles created in /objects/\n"
     ]
    }
   ],
   "source": [
    "trackerdict = radObj.makeScene1axis(module=modulename,sceneDict=sceneDict)\n"
   ]
  },
  {
   "cell_type": "code",
   "execution_count": 19,
   "id": "9b5ea9c6-4aaa-4530-b23b-d6bbf6c18f6b",
   "metadata": {},
   "outputs": [
    {
     "name": "stdout",
     "output_type": "stream",
     "text": [
      "\n",
      "Making 2 octfiles in root directory.\n",
      "Created 1axis_2021-11-08_0930.oct\n",
      "Created 1axis_2021-11-08_1030.oct\n"
     ]
    }
   ],
   "source": [
    "trackerdict = radObj.makeOct1axis()\n"
   ]
  },
  {
   "cell_type": "code",
   "execution_count": 21,
   "id": "8e6738f0-950b-4603-bb79-15f1d7e2ad43",
   "metadata": {},
   "outputs": [
    {
     "name": "stdout",
     "output_type": "stream",
     "text": [
      "Linescan in process: 1axis_2021-11-08_0930Module_Scene0_Row4_Module10_Front\n",
      "Linescan in process: 1axis_2021-11-08_0930Module_Scene0_Row4_Module10_Back\n",
      "Saved: results\\irr_1axis_2021-11-08_0930Module_Scene0_Row4_Module10.csv\n",
      "Index: 2021-11-08_0930. Wm2Front: 601.1345666666667. Wm2Back: 13.30378\n",
      "Linescan in process: 1axis_2021-11-08_1030Module_Scene0_Row4_Module10_Front\n",
      "Linescan in process: 1axis_2021-11-08_1030Module_Scene0_Row4_Module10_Back\n",
      "Saved: results\\irr_1axis_2021-11-08_1030Module_Scene0_Row4_Module10.csv\n",
      "Index: 2021-11-08_1030. Wm2Front: 617.2475444444444. Wm2Back: 35.205977777777775\n"
     ]
    }
   ],
   "source": [
    "trackerdict = radObj.analysis1axis(trackerdict, customname = 'Module',\n",
    "                                   sensorsy=9)"
   ]
  },
  {
   "cell_type": "code",
   "execution_count": 24,
   "id": "8214efa6-8c85-4977-adc1-84671be5ab40",
   "metadata": {},
   "outputs": [
    {
     "name": "stdout",
     "output_type": "stream",
     "text": [
      "No CECModule data passed; using default for Prism Solar BHC72-400\n"
     ]
    },
    {
     "name": "stderr",
     "output_type": "stream",
     "text": [
      "c:\\users\\sayala\\documents\\github\\bifacial_radiance\\bifacial_radiance\\performance.py:64: FutureWarning: Calling float on a single element Series is deprecated and will raise a TypeError in the future. Use float(ser.iloc[0]) instead\n",
      "  alpha_sc=float(CECMod.alpha_sc),\n",
      "c:\\users\\sayala\\documents\\github\\bifacial_radiance\\bifacial_radiance\\performance.py:65: FutureWarning: Calling float on a single element Series is deprecated and will raise a TypeError in the future. Use float(ser.iloc[0]) instead\n",
      "  a_ref=float(CECMod.a_ref),\n",
      "c:\\users\\sayala\\documents\\github\\bifacial_radiance\\bifacial_radiance\\performance.py:66: FutureWarning: Calling float on a single element Series is deprecated and will raise a TypeError in the future. Use float(ser.iloc[0]) instead\n",
      "  I_L_ref=float(CECMod.I_L_ref),\n",
      "c:\\users\\sayala\\documents\\github\\bifacial_radiance\\bifacial_radiance\\performance.py:67: FutureWarning: Calling float on a single element Series is deprecated and will raise a TypeError in the future. Use float(ser.iloc[0]) instead\n",
      "  I_o_ref=float(CECMod.I_o_ref),\n",
      "c:\\users\\sayala\\documents\\github\\bifacial_radiance\\bifacial_radiance\\performance.py:68: FutureWarning: Calling float on a single element Series is deprecated and will raise a TypeError in the future. Use float(ser.iloc[0]) instead\n",
      "  R_sh_ref=float(CECMod.R_sh_ref),\n",
      "c:\\users\\sayala\\documents\\github\\bifacial_radiance\\bifacial_radiance\\performance.py:69: FutureWarning: Calling float on a single element Series is deprecated and will raise a TypeError in the future. Use float(ser.iloc[0]) instead\n",
      "  R_s=float(CECMod.R_s),\n",
      "c:\\users\\sayala\\documents\\github\\bifacial_radiance\\bifacial_radiance\\performance.py:70: FutureWarning: Calling float on a single element Series is deprecated and will raise a TypeError in the future. Use float(ser.iloc[0]) instead\n",
      "  Adjust=float(CECMod.Adjust)\n",
      "c:\\users\\sayala\\documents\\github\\bifacial_radiance\\bifacial_radiance\\performance.py:64: FutureWarning: Calling float on a single element Series is deprecated and will raise a TypeError in the future. Use float(ser.iloc[0]) instead\n",
      "  alpha_sc=float(CECMod.alpha_sc),\n",
      "c:\\users\\sayala\\documents\\github\\bifacial_radiance\\bifacial_radiance\\performance.py:65: FutureWarning: Calling float on a single element Series is deprecated and will raise a TypeError in the future. Use float(ser.iloc[0]) instead\n",
      "  a_ref=float(CECMod.a_ref),\n",
      "c:\\users\\sayala\\documents\\github\\bifacial_radiance\\bifacial_radiance\\performance.py:66: FutureWarning: Calling float on a single element Series is deprecated and will raise a TypeError in the future. Use float(ser.iloc[0]) instead\n",
      "  I_L_ref=float(CECMod.I_L_ref),\n",
      "c:\\users\\sayala\\documents\\github\\bifacial_radiance\\bifacial_radiance\\performance.py:67: FutureWarning: Calling float on a single element Series is deprecated and will raise a TypeError in the future. Use float(ser.iloc[0]) instead\n",
      "  I_o_ref=float(CECMod.I_o_ref),\n",
      "c:\\users\\sayala\\documents\\github\\bifacial_radiance\\bifacial_radiance\\performance.py:68: FutureWarning: Calling float on a single element Series is deprecated and will raise a TypeError in the future. Use float(ser.iloc[0]) instead\n",
      "  R_sh_ref=float(CECMod.R_sh_ref),\n",
      "c:\\users\\sayala\\documents\\github\\bifacial_radiance\\bifacial_radiance\\performance.py:69: FutureWarning: Calling float on a single element Series is deprecated and will raise a TypeError in the future. Use float(ser.iloc[0]) instead\n",
      "  R_s=float(CECMod.R_s),\n",
      "c:\\users\\sayala\\documents\\github\\bifacial_radiance\\bifacial_radiance\\performance.py:70: FutureWarning: Calling float on a single element Series is deprecated and will raise a TypeError in the future. Use float(ser.iloc[0]) instead\n",
      "  Adjust=float(CECMod.Adjust)\n",
      "c:\\users\\sayala\\documents\\github\\bifacial_radiance\\bifacial_radiance\\mismatch.py:200: FutureWarning: Calling float on a single element Series is deprecated and will raise a TypeError in the future. Use float(ser.iloc[0]) instead\n",
      "  fit3 = float(fit3)\n",
      "c:\\users\\sayala\\documents\\github\\bifacial_radiance\\bifacial_radiance\\performance.py:64: FutureWarning: Calling float on a single element Series is deprecated and will raise a TypeError in the future. Use float(ser.iloc[0]) instead\n",
      "  alpha_sc=float(CECMod.alpha_sc),\n",
      "c:\\users\\sayala\\documents\\github\\bifacial_radiance\\bifacial_radiance\\performance.py:65: FutureWarning: Calling float on a single element Series is deprecated and will raise a TypeError in the future. Use float(ser.iloc[0]) instead\n",
      "  a_ref=float(CECMod.a_ref),\n",
      "c:\\users\\sayala\\documents\\github\\bifacial_radiance\\bifacial_radiance\\performance.py:66: FutureWarning: Calling float on a single element Series is deprecated and will raise a TypeError in the future. Use float(ser.iloc[0]) instead\n",
      "  I_L_ref=float(CECMod.I_L_ref),\n",
      "c:\\users\\sayala\\documents\\github\\bifacial_radiance\\bifacial_radiance\\performance.py:67: FutureWarning: Calling float on a single element Series is deprecated and will raise a TypeError in the future. Use float(ser.iloc[0]) instead\n",
      "  I_o_ref=float(CECMod.I_o_ref),\n",
      "c:\\users\\sayala\\documents\\github\\bifacial_radiance\\bifacial_radiance\\performance.py:68: FutureWarning: Calling float on a single element Series is deprecated and will raise a TypeError in the future. Use float(ser.iloc[0]) instead\n",
      "  R_sh_ref=float(CECMod.R_sh_ref),\n",
      "c:\\users\\sayala\\documents\\github\\bifacial_radiance\\bifacial_radiance\\performance.py:69: FutureWarning: Calling float on a single element Series is deprecated and will raise a TypeError in the future. Use float(ser.iloc[0]) instead\n",
      "  R_s=float(CECMod.R_s),\n",
      "c:\\users\\sayala\\documents\\github\\bifacial_radiance\\bifacial_radiance\\performance.py:70: FutureWarning: Calling float on a single element Series is deprecated and will raise a TypeError in the future. Use float(ser.iloc[0]) instead\n",
      "  Adjust=float(CECMod.Adjust)\n",
      "c:\\users\\sayala\\documents\\github\\bifacial_radiance\\bifacial_radiance\\performance.py:64: FutureWarning: Calling float on a single element Series is deprecated and will raise a TypeError in the future. Use float(ser.iloc[0]) instead\n",
      "  alpha_sc=float(CECMod.alpha_sc),\n",
      "c:\\users\\sayala\\documents\\github\\bifacial_radiance\\bifacial_radiance\\performance.py:65: FutureWarning: Calling float on a single element Series is deprecated and will raise a TypeError in the future. Use float(ser.iloc[0]) instead\n",
      "  a_ref=float(CECMod.a_ref),\n",
      "c:\\users\\sayala\\documents\\github\\bifacial_radiance\\bifacial_radiance\\performance.py:66: FutureWarning: Calling float on a single element Series is deprecated and will raise a TypeError in the future. Use float(ser.iloc[0]) instead\n",
      "  I_L_ref=float(CECMod.I_L_ref),\n",
      "c:\\users\\sayala\\documents\\github\\bifacial_radiance\\bifacial_radiance\\performance.py:67: FutureWarning: Calling float on a single element Series is deprecated and will raise a TypeError in the future. Use float(ser.iloc[0]) instead\n",
      "  I_o_ref=float(CECMod.I_o_ref),\n",
      "c:\\users\\sayala\\documents\\github\\bifacial_radiance\\bifacial_radiance\\performance.py:68: FutureWarning: Calling float on a single element Series is deprecated and will raise a TypeError in the future. Use float(ser.iloc[0]) instead\n",
      "  R_sh_ref=float(CECMod.R_sh_ref),\n",
      "c:\\users\\sayala\\documents\\github\\bifacial_radiance\\bifacial_radiance\\performance.py:69: FutureWarning: Calling float on a single element Series is deprecated and will raise a TypeError in the future. Use float(ser.iloc[0]) instead\n",
      "  R_s=float(CECMod.R_s),\n",
      "c:\\users\\sayala\\documents\\github\\bifacial_radiance\\bifacial_radiance\\performance.py:70: FutureWarning: Calling float on a single element Series is deprecated and will raise a TypeError in the future. Use float(ser.iloc[0]) instead\n",
      "  Adjust=float(CECMod.Adjust)\n",
      "c:\\users\\sayala\\documents\\github\\bifacial_radiance\\bifacial_radiance\\mismatch.py:200: FutureWarning: Calling float on a single element Series is deprecated and will raise a TypeError in the future. Use float(ser.iloc[0]) instead\n",
      "  fit3 = float(fit3)\n"
     ]
    }
   ],
   "source": [
    "compiledresults = radObj.calculateResults(bifacialityfactor=0.7, agriPV=False)\n"
   ]
  },
  {
   "cell_type": "code",
   "execution_count": 32,
   "id": "adcd9825-16b5-4e7a-90b9-1f76ae35c3f4",
   "metadata": {},
   "outputs": [
    {
     "data": {
      "text/plain": [
       "Index(['timestamp', 'name', 'modNum', 'rowNum', 'sceneNum', 'x', 'y', 'z',\n",
       "       'mattype', 'rearMat', 'Wm2Front', 'Wm2Back', 'backRatio', 'module',\n",
       "       'row', 'sceneNum', 'POA_eff', 'Grear_mean', 'Gfront_mean', 'Pout_raw',\n",
       "       'Pout_Gfront', 'BGG', 'BGE', 'Mismatch', 'Pout', 'Wind Speed', 'DNI',\n",
       "       'DHI', 'GHI'],\n",
       "      dtype='object')"
      ]
     },
     "execution_count": 32,
     "metadata": {},
     "output_type": "execute_result"
    }
   ],
   "source": [
    "compiledresults.keys()"
   ]
  },
  {
   "cell_type": "code",
   "execution_count": 33,
   "id": "a3cc4ad3-00d2-42a6-bc9c-8a609ff5e0f2",
   "metadata": {},
   "outputs": [],
   "source": [
    "ResultDatetime = list(radObj.CompiledResults['timestamp']) \n",
    "ResultPVWm2Back = list(radObj.CompiledResults['Grear_mean'])\n",
    "ResultPVWm2Front = list(radObj.CompiledResults['Gfront_mean'])\n",
    "ResultGHI = list(radObj.CompiledResults['GHI'])\n",
    "ResultDNI = list(radObj.CompiledResults['DNI'])\n",
    "ResultDHI = list(radObj.CompiledResults['DHI'])\n",
    "ResultPout = list(radObj.CompiledResults['Pout'])\n",
    "ResultWindSpeed = list(radObj.CompiledResults['Wind Speed'])\n"
   ]
  },
  {
   "cell_type": "code",
   "execution_count": 31,
   "id": "a5dc114e-6d28-49e0-9d34-8c205a51b48a",
   "metadata": {},
   "outputs": [
    {
     "ename": "KeyError",
     "evalue": "'Module_temp'",
     "output_type": "error",
     "traceback": [
      "\u001b[1;31m---------------------------------------------------------------------------\u001b[0m",
      "\u001b[1;31mKeyError\u001b[0m                                  Traceback (most recent call last)",
      "File \u001b[1;32m~\\AppData\\Roaming\\Python\\Python311\\site-packages\\pandas\\core\\indexes\\base.py:3790\u001b[0m, in \u001b[0;36mIndex.get_loc\u001b[1;34m(self, key)\u001b[0m\n\u001b[0;32m   3789\u001b[0m \u001b[38;5;28;01mtry\u001b[39;00m:\n\u001b[1;32m-> 3790\u001b[0m     \u001b[38;5;28;01mreturn\u001b[39;00m \u001b[38;5;28mself\u001b[39m\u001b[38;5;241m.\u001b[39m_engine\u001b[38;5;241m.\u001b[39mget_loc(casted_key)\n\u001b[0;32m   3791\u001b[0m \u001b[38;5;28;01mexcept\u001b[39;00m \u001b[38;5;167;01mKeyError\u001b[39;00m \u001b[38;5;28;01mas\u001b[39;00m err:\n",
      "File \u001b[1;32mindex.pyx:152\u001b[0m, in \u001b[0;36mpandas._libs.index.IndexEngine.get_loc\u001b[1;34m()\u001b[0m\n",
      "File \u001b[1;32mindex.pyx:176\u001b[0m, in \u001b[0;36mpandas._libs.index.IndexEngine.get_loc\u001b[1;34m()\u001b[0m\n",
      "File \u001b[1;32mindex.pyx:219\u001b[0m, in \u001b[0;36mpandas._libs.index.IndexEngine._get_loc_duplicates\u001b[1;34m()\u001b[0m\n",
      "File \u001b[1;32mindex.pyx:227\u001b[0m, in \u001b[0;36mpandas._libs.index.IndexEngine._maybe_get_bool_indexer\u001b[1;34m()\u001b[0m\n",
      "File \u001b[1;32mindex.pyx:119\u001b[0m, in \u001b[0;36mpandas._libs.index._unpack_bool_indexer\u001b[1;34m()\u001b[0m\n",
      "\u001b[1;31mKeyError\u001b[0m: 'Module_temp'",
      "\nThe above exception was the direct cause of the following exception:\n",
      "\u001b[1;31mKeyError\u001b[0m                                  Traceback (most recent call last)",
      "Cell \u001b[1;32mIn[31], line 1\u001b[0m\n\u001b[1;32m----> 1\u001b[0m ResultModuleTemp \u001b[38;5;241m=\u001b[39m \u001b[38;5;28mlist\u001b[39m(radObj\u001b[38;5;241m.\u001b[39mCompiledResults[\u001b[38;5;124m'\u001b[39m\u001b[38;5;124mModule_temp\u001b[39m\u001b[38;5;124m'\u001b[39m])\n\u001b[0;32m      2\u001b[0m ResultModuleTemp\n",
      "File \u001b[1;32m~\\AppData\\Roaming\\Python\\Python311\\site-packages\\pandas\\core\\frame.py:3896\u001b[0m, in \u001b[0;36mDataFrame.__getitem__\u001b[1;34m(self, key)\u001b[0m\n\u001b[0;32m   3894\u001b[0m \u001b[38;5;28;01mif\u001b[39;00m \u001b[38;5;28mself\u001b[39m\u001b[38;5;241m.\u001b[39mcolumns\u001b[38;5;241m.\u001b[39mnlevels \u001b[38;5;241m>\u001b[39m \u001b[38;5;241m1\u001b[39m:\n\u001b[0;32m   3895\u001b[0m     \u001b[38;5;28;01mreturn\u001b[39;00m \u001b[38;5;28mself\u001b[39m\u001b[38;5;241m.\u001b[39m_getitem_multilevel(key)\n\u001b[1;32m-> 3896\u001b[0m indexer \u001b[38;5;241m=\u001b[39m \u001b[38;5;28mself\u001b[39m\u001b[38;5;241m.\u001b[39mcolumns\u001b[38;5;241m.\u001b[39mget_loc(key)\n\u001b[0;32m   3897\u001b[0m \u001b[38;5;28;01mif\u001b[39;00m is_integer(indexer):\n\u001b[0;32m   3898\u001b[0m     indexer \u001b[38;5;241m=\u001b[39m [indexer]\n",
      "File \u001b[1;32m~\\AppData\\Roaming\\Python\\Python311\\site-packages\\pandas\\core\\indexes\\base.py:3797\u001b[0m, in \u001b[0;36mIndex.get_loc\u001b[1;34m(self, key)\u001b[0m\n\u001b[0;32m   3792\u001b[0m     \u001b[38;5;28;01mif\u001b[39;00m \u001b[38;5;28misinstance\u001b[39m(casted_key, \u001b[38;5;28mslice\u001b[39m) \u001b[38;5;129;01mor\u001b[39;00m (\n\u001b[0;32m   3793\u001b[0m         \u001b[38;5;28misinstance\u001b[39m(casted_key, abc\u001b[38;5;241m.\u001b[39mIterable)\n\u001b[0;32m   3794\u001b[0m         \u001b[38;5;129;01mand\u001b[39;00m \u001b[38;5;28many\u001b[39m(\u001b[38;5;28misinstance\u001b[39m(x, \u001b[38;5;28mslice\u001b[39m) \u001b[38;5;28;01mfor\u001b[39;00m x \u001b[38;5;129;01min\u001b[39;00m casted_key)\n\u001b[0;32m   3795\u001b[0m     ):\n\u001b[0;32m   3796\u001b[0m         \u001b[38;5;28;01mraise\u001b[39;00m InvalidIndexError(key)\n\u001b[1;32m-> 3797\u001b[0m     \u001b[38;5;28;01mraise\u001b[39;00m \u001b[38;5;167;01mKeyError\u001b[39;00m(key) \u001b[38;5;28;01mfrom\u001b[39;00m \u001b[38;5;21;01merr\u001b[39;00m\n\u001b[0;32m   3798\u001b[0m \u001b[38;5;28;01mexcept\u001b[39;00m \u001b[38;5;167;01mTypeError\u001b[39;00m:\n\u001b[0;32m   3799\u001b[0m     \u001b[38;5;66;03m# If we have a listlike key, _check_indexing_error will raise\u001b[39;00m\n\u001b[0;32m   3800\u001b[0m     \u001b[38;5;66;03m#  InvalidIndexError. Otherwise we fall through and re-raise\u001b[39;00m\n\u001b[0;32m   3801\u001b[0m     \u001b[38;5;66;03m#  the TypeError.\u001b[39;00m\n\u001b[0;32m   3802\u001b[0m     \u001b[38;5;28mself\u001b[39m\u001b[38;5;241m.\u001b[39m_check_indexing_error(key)\n",
      "\u001b[1;31mKeyError\u001b[0m: 'Module_temp'"
     ]
    }
   ],
   "source": [
    "# NOT WORKING\n",
    "ResultModuleTemp = list(radObj.CompiledResults['Module_temp'])\n",
    "ResultModuleTemp"
   ]
  },
  {
   "cell_type": "code",
   "execution_count": 36,
   "id": "a6813b51-c845-4d2e-9d65-3eb810b6e87d",
   "metadata": {},
   "outputs": [
    {
     "name": "stdout",
     "output_type": "stream",
     "text": [
      "Linescan in process: 1axis_2021-11-08_0930Ground_Scene0_Row4_Module10_Front\n",
      "Linescan in process: 1axis_2021-11-08_0930Ground_Scene0_Row4_Module10_Back\n",
      "Saved: results\\irr_1axis_2021-11-08_0930Ground_Scene0_Row4_Module10_Front.csv\n",
      "Saved: results\\irr_1axis_2021-11-08_0930Ground_Scene0_Row4_Module10_Back.csv\n",
      "Index: 2021-11-08_0930. Wm2Front: 26.987325098039214. Wm2Back: 13.040820000000002\n",
      "Linescan in process: 1axis_2021-11-08_1030Ground_Scene0_Row4_Module10_Front\n",
      "Linescan in process: 1axis_2021-11-08_1030Ground_Scene0_Row4_Module10_Back\n",
      "Saved: results\\irr_1axis_2021-11-08_1030Ground_Scene0_Row4_Module10_Front.csv\n",
      "Saved: results\\irr_1axis_2021-11-08_1030Ground_Scene0_Row4_Module10_Back.csv\n",
      "Index: 2021-11-08_1030. Wm2Front: 154.44611588235293. Wm2Back: 32.49606\n"
     ]
    }
   ],
   "source": [
    "# Modify modscanfront for Ground\n",
    "resolutionGround = 0.1  # use 1 for faster test runs\n",
    "numsensors = int((pitch/resolutionGround)+1)\n",
    "modscanfront = {'xstart': 0, \n",
    "                'zstart': 0.05,\n",
    "                'xinc': resolutionGround,\n",
    "                'zinc': 0,\n",
    "                'Ny':numsensors,\n",
    "                'orient':'0 0 -1'}\n",
    "\n",
    "# Analysis for GROUND\n",
    "trackerdict = radObj.analysis1axis(customname = 'Ground',\n",
    "                                   modscanfront=modscanfront, sensorsy=1)\n",
    "\n"
   ]
  },
  {
   "cell_type": "code",
   "execution_count": 38,
   "id": "355349b3-4a32-44ba-addd-f4f4b331b09f",
   "metadata": {
    "scrolled": true
   },
   "outputs": [
    {
     "name": "stdout",
     "output_type": "stream",
     "text": [
      "No CECModule data passed; using default for Prism Solar BHC72-400\n"
     ]
    },
    {
     "name": "stderr",
     "output_type": "stream",
     "text": [
      "c:\\users\\sayala\\documents\\github\\bifacial_radiance\\bifacial_radiance\\performance.py:64: FutureWarning: Calling float on a single element Series is deprecated and will raise a TypeError in the future. Use float(ser.iloc[0]) instead\n",
      "  alpha_sc=float(CECMod.alpha_sc),\n",
      "c:\\users\\sayala\\documents\\github\\bifacial_radiance\\bifacial_radiance\\performance.py:65: FutureWarning: Calling float on a single element Series is deprecated and will raise a TypeError in the future. Use float(ser.iloc[0]) instead\n",
      "  a_ref=float(CECMod.a_ref),\n",
      "c:\\users\\sayala\\documents\\github\\bifacial_radiance\\bifacial_radiance\\performance.py:66: FutureWarning: Calling float on a single element Series is deprecated and will raise a TypeError in the future. Use float(ser.iloc[0]) instead\n",
      "  I_L_ref=float(CECMod.I_L_ref),\n",
      "c:\\users\\sayala\\documents\\github\\bifacial_radiance\\bifacial_radiance\\performance.py:67: FutureWarning: Calling float on a single element Series is deprecated and will raise a TypeError in the future. Use float(ser.iloc[0]) instead\n",
      "  I_o_ref=float(CECMod.I_o_ref),\n",
      "c:\\users\\sayala\\documents\\github\\bifacial_radiance\\bifacial_radiance\\performance.py:68: FutureWarning: Calling float on a single element Series is deprecated and will raise a TypeError in the future. Use float(ser.iloc[0]) instead\n",
      "  R_sh_ref=float(CECMod.R_sh_ref),\n",
      "c:\\users\\sayala\\documents\\github\\bifacial_radiance\\bifacial_radiance\\performance.py:69: FutureWarning: Calling float on a single element Series is deprecated and will raise a TypeError in the future. Use float(ser.iloc[0]) instead\n",
      "  R_s=float(CECMod.R_s),\n",
      "c:\\users\\sayala\\documents\\github\\bifacial_radiance\\bifacial_radiance\\performance.py:70: FutureWarning: Calling float on a single element Series is deprecated and will raise a TypeError in the future. Use float(ser.iloc[0]) instead\n",
      "  Adjust=float(CECMod.Adjust)\n",
      "c:\\users\\sayala\\documents\\github\\bifacial_radiance\\bifacial_radiance\\performance.py:64: FutureWarning: Calling float on a single element Series is deprecated and will raise a TypeError in the future. Use float(ser.iloc[0]) instead\n",
      "  alpha_sc=float(CECMod.alpha_sc),\n",
      "c:\\users\\sayala\\documents\\github\\bifacial_radiance\\bifacial_radiance\\performance.py:65: FutureWarning: Calling float on a single element Series is deprecated and will raise a TypeError in the future. Use float(ser.iloc[0]) instead\n",
      "  a_ref=float(CECMod.a_ref),\n",
      "c:\\users\\sayala\\documents\\github\\bifacial_radiance\\bifacial_radiance\\performance.py:66: FutureWarning: Calling float on a single element Series is deprecated and will raise a TypeError in the future. Use float(ser.iloc[0]) instead\n",
      "  I_L_ref=float(CECMod.I_L_ref),\n",
      "c:\\users\\sayala\\documents\\github\\bifacial_radiance\\bifacial_radiance\\performance.py:67: FutureWarning: Calling float on a single element Series is deprecated and will raise a TypeError in the future. Use float(ser.iloc[0]) instead\n",
      "  I_o_ref=float(CECMod.I_o_ref),\n",
      "c:\\users\\sayala\\documents\\github\\bifacial_radiance\\bifacial_radiance\\performance.py:68: FutureWarning: Calling float on a single element Series is deprecated and will raise a TypeError in the future. Use float(ser.iloc[0]) instead\n",
      "  R_sh_ref=float(CECMod.R_sh_ref),\n",
      "c:\\users\\sayala\\documents\\github\\bifacial_radiance\\bifacial_radiance\\performance.py:69: FutureWarning: Calling float on a single element Series is deprecated and will raise a TypeError in the future. Use float(ser.iloc[0]) instead\n",
      "  R_s=float(CECMod.R_s),\n",
      "c:\\users\\sayala\\documents\\github\\bifacial_radiance\\bifacial_radiance\\performance.py:70: FutureWarning: Calling float on a single element Series is deprecated and will raise a TypeError in the future. Use float(ser.iloc[0]) instead\n",
      "  Adjust=float(CECMod.Adjust)\n",
      "c:\\users\\sayala\\documents\\github\\bifacial_radiance\\bifacial_radiance\\mismatch.py:200: FutureWarning: Calling float on a single element Series is deprecated and will raise a TypeError in the future. Use float(ser.iloc[0]) instead\n",
      "  fit3 = float(fit3)\n",
      "c:\\users\\sayala\\documents\\github\\bifacial_radiance\\bifacial_radiance\\performance.py:64: FutureWarning: Calling float on a single element Series is deprecated and will raise a TypeError in the future. Use float(ser.iloc[0]) instead\n",
      "  alpha_sc=float(CECMod.alpha_sc),\n",
      "c:\\users\\sayala\\documents\\github\\bifacial_radiance\\bifacial_radiance\\performance.py:65: FutureWarning: Calling float on a single element Series is deprecated and will raise a TypeError in the future. Use float(ser.iloc[0]) instead\n",
      "  a_ref=float(CECMod.a_ref),\n",
      "c:\\users\\sayala\\documents\\github\\bifacial_radiance\\bifacial_radiance\\performance.py:66: FutureWarning: Calling float on a single element Series is deprecated and will raise a TypeError in the future. Use float(ser.iloc[0]) instead\n",
      "  I_L_ref=float(CECMod.I_L_ref),\n",
      "c:\\users\\sayala\\documents\\github\\bifacial_radiance\\bifacial_radiance\\performance.py:67: FutureWarning: Calling float on a single element Series is deprecated and will raise a TypeError in the future. Use float(ser.iloc[0]) instead\n",
      "  I_o_ref=float(CECMod.I_o_ref),\n",
      "c:\\users\\sayala\\documents\\github\\bifacial_radiance\\bifacial_radiance\\performance.py:68: FutureWarning: Calling float on a single element Series is deprecated and will raise a TypeError in the future. Use float(ser.iloc[0]) instead\n",
      "  R_sh_ref=float(CECMod.R_sh_ref),\n",
      "c:\\users\\sayala\\documents\\github\\bifacial_radiance\\bifacial_radiance\\performance.py:69: FutureWarning: Calling float on a single element Series is deprecated and will raise a TypeError in the future. Use float(ser.iloc[0]) instead\n",
      "  R_s=float(CECMod.R_s),\n",
      "c:\\users\\sayala\\documents\\github\\bifacial_radiance\\bifacial_radiance\\performance.py:70: FutureWarning: Calling float on a single element Series is deprecated and will raise a TypeError in the future. Use float(ser.iloc[0]) instead\n",
      "  Adjust=float(CECMod.Adjust)\n",
      "c:\\users\\sayala\\documents\\github\\bifacial_radiance\\bifacial_radiance\\performance.py:64: FutureWarning: Calling float on a single element Series is deprecated and will raise a TypeError in the future. Use float(ser.iloc[0]) instead\n",
      "  alpha_sc=float(CECMod.alpha_sc),\n",
      "c:\\users\\sayala\\documents\\github\\bifacial_radiance\\bifacial_radiance\\performance.py:65: FutureWarning: Calling float on a single element Series is deprecated and will raise a TypeError in the future. Use float(ser.iloc[0]) instead\n",
      "  a_ref=float(CECMod.a_ref),\n",
      "c:\\users\\sayala\\documents\\github\\bifacial_radiance\\bifacial_radiance\\performance.py:66: FutureWarning: Calling float on a single element Series is deprecated and will raise a TypeError in the future. Use float(ser.iloc[0]) instead\n",
      "  I_L_ref=float(CECMod.I_L_ref),\n",
      "c:\\users\\sayala\\documents\\github\\bifacial_radiance\\bifacial_radiance\\performance.py:67: FutureWarning: Calling float on a single element Series is deprecated and will raise a TypeError in the future. Use float(ser.iloc[0]) instead\n",
      "  I_o_ref=float(CECMod.I_o_ref),\n",
      "c:\\users\\sayala\\documents\\github\\bifacial_radiance\\bifacial_radiance\\performance.py:68: FutureWarning: Calling float on a single element Series is deprecated and will raise a TypeError in the future. Use float(ser.iloc[0]) instead\n",
      "  R_sh_ref=float(CECMod.R_sh_ref),\n",
      "c:\\users\\sayala\\documents\\github\\bifacial_radiance\\bifacial_radiance\\performance.py:69: FutureWarning: Calling float on a single element Series is deprecated and will raise a TypeError in the future. Use float(ser.iloc[0]) instead\n",
      "  R_s=float(CECMod.R_s),\n",
      "c:\\users\\sayala\\documents\\github\\bifacial_radiance\\bifacial_radiance\\performance.py:70: FutureWarning: Calling float on a single element Series is deprecated and will raise a TypeError in the future. Use float(ser.iloc[0]) instead\n",
      "  Adjust=float(CECMod.Adjust)\n",
      "c:\\users\\sayala\\documents\\github\\bifacial_radiance\\bifacial_radiance\\mismatch.py:200: FutureWarning: Calling float on a single element Series is deprecated and will raise a TypeError in the future. Use float(ser.iloc[0]) instead\n",
      "  fit3 = float(fit3)\n"
     ]
    },
    {
     "ename": "InvalidIndexError",
     "evalue": "Reindexing only valid with uniquely valued Index objects",
     "output_type": "error",
     "traceback": [
      "\u001b[1;31m---------------------------------------------------------------------------\u001b[0m",
      "\u001b[1;31mInvalidIndexError\u001b[0m                         Traceback (most recent call last)",
      "Cell \u001b[1;32mIn[38], line 1\u001b[0m\n\u001b[1;32m----> 1\u001b[0m compiled2 \u001b[38;5;241m=\u001b[39m radObj\u001b[38;5;241m.\u001b[39mcalculateResults(bifacialityfactor\u001b[38;5;241m=\u001b[39m\u001b[38;5;241m0.7\u001b[39m, agriPV\u001b[38;5;241m=\u001b[39m\u001b[38;5;28;01mTrue\u001b[39;00m)\n",
      "File \u001b[1;32mc:\\users\\sayala\\documents\\github\\bifacial_radiance\\bifacial_radiance\\main.py:3103\u001b[0m, in \u001b[0;36mRadianceObj.calculateResults\u001b[1;34m(self, CECMod, glassglass, bifacialityfactor, CECMod2, agriPV)\u001b[0m\n\u001b[0;32m   3098\u001b[0m             bifi_factor_internal \u001b[38;5;241m=\u001b[39m bifacialityfactor\n\u001b[0;32m   3099\u001b[0m         power_data \u001b[38;5;241m=\u001b[39m analysis\u001b[38;5;241m.\u001b[39mcalc_performance(meteo_data\u001b[38;5;241m=\u001b[39mmeteo_data, CECMod\u001b[38;5;241m=\u001b[39mCECMod, \n\u001b[0;32m   3100\u001b[0m                                       cumulativesky\u001b[38;5;241m=\u001b[39m\u001b[38;5;28mself\u001b[39m\u001b[38;5;241m.\u001b[39mcumulativesky,  glassglass\u001b[38;5;241m=\u001b[39mglassglass, \n\u001b[0;32m   3101\u001b[0m                                       bifacialityfactor\u001b[38;5;241m=\u001b[39mbifi_factor_internal, CECMod2\u001b[38;5;241m=\u001b[39mCECMod2, \n\u001b[0;32m   3102\u001b[0m                                       agriPV\u001b[38;5;241m=\u001b[39magriPV)\n\u001b[1;32m-> 3103\u001b[0m         \u001b[38;5;28mself\u001b[39m\u001b[38;5;241m.\u001b[39mCompiledResults \u001b[38;5;241m=\u001b[39m pd\u001b[38;5;241m.\u001b[39mconcat([\u001b[38;5;28mself\u001b[39m\u001b[38;5;241m.\u001b[39mCompiledResults, \n\u001b[0;32m   3104\u001b[0m                                           _printRow(analysis, key)], ignore_index\u001b[38;5;241m=\u001b[39m\u001b[38;5;28;01mTrue\u001b[39;00m)\n\u001b[0;32m   3105\u001b[0m \u001b[38;5;28;01mexcept\u001b[39;00m \u001b[38;5;167;01mKeyError\u001b[39;00m:\n\u001b[0;32m   3106\u001b[0m     \u001b[38;5;28;01mpass\u001b[39;00m\n",
      "File \u001b[1;32m~\\AppData\\Roaming\\Python\\Python311\\site-packages\\pandas\\core\\reshape\\concat.py:393\u001b[0m, in \u001b[0;36mconcat\u001b[1;34m(objs, axis, join, ignore_index, keys, levels, names, verify_integrity, sort, copy)\u001b[0m\n\u001b[0;32m    378\u001b[0m     copy \u001b[38;5;241m=\u001b[39m \u001b[38;5;28;01mFalse\u001b[39;00m\n\u001b[0;32m    380\u001b[0m op \u001b[38;5;241m=\u001b[39m _Concatenator(\n\u001b[0;32m    381\u001b[0m     objs,\n\u001b[0;32m    382\u001b[0m     axis\u001b[38;5;241m=\u001b[39maxis,\n\u001b[1;32m   (...)\u001b[0m\n\u001b[0;32m    390\u001b[0m     sort\u001b[38;5;241m=\u001b[39msort,\n\u001b[0;32m    391\u001b[0m )\n\u001b[1;32m--> 393\u001b[0m \u001b[38;5;28;01mreturn\u001b[39;00m op\u001b[38;5;241m.\u001b[39mget_result()\n",
      "File \u001b[1;32m~\\AppData\\Roaming\\Python\\Python311\\site-packages\\pandas\\core\\reshape\\concat.py:676\u001b[0m, in \u001b[0;36m_Concatenator.get_result\u001b[1;34m(self)\u001b[0m\n\u001b[0;32m    674\u001b[0m         obj_labels \u001b[38;5;241m=\u001b[39m obj\u001b[38;5;241m.\u001b[39maxes[\u001b[38;5;241m1\u001b[39m \u001b[38;5;241m-\u001b[39m ax]\n\u001b[0;32m    675\u001b[0m         \u001b[38;5;28;01mif\u001b[39;00m \u001b[38;5;129;01mnot\u001b[39;00m new_labels\u001b[38;5;241m.\u001b[39mequals(obj_labels):\n\u001b[1;32m--> 676\u001b[0m             indexers[ax] \u001b[38;5;241m=\u001b[39m obj_labels\u001b[38;5;241m.\u001b[39mget_indexer(new_labels)\n\u001b[0;32m    678\u001b[0m     mgrs_indexers\u001b[38;5;241m.\u001b[39mappend((obj\u001b[38;5;241m.\u001b[39m_mgr, indexers))\n\u001b[0;32m    680\u001b[0m new_data \u001b[38;5;241m=\u001b[39m concatenate_managers(\n\u001b[0;32m    681\u001b[0m     mgrs_indexers, \u001b[38;5;28mself\u001b[39m\u001b[38;5;241m.\u001b[39mnew_axes, concat_axis\u001b[38;5;241m=\u001b[39m\u001b[38;5;28mself\u001b[39m\u001b[38;5;241m.\u001b[39mbm_axis, copy\u001b[38;5;241m=\u001b[39m\u001b[38;5;28mself\u001b[39m\u001b[38;5;241m.\u001b[39mcopy\n\u001b[0;32m    682\u001b[0m )\n",
      "File \u001b[1;32m~\\AppData\\Roaming\\Python\\Python311\\site-packages\\pandas\\core\\indexes\\base.py:3874\u001b[0m, in \u001b[0;36mIndex.get_indexer\u001b[1;34m(self, target, method, limit, tolerance)\u001b[0m\n\u001b[0;32m   3871\u001b[0m \u001b[38;5;28mself\u001b[39m\u001b[38;5;241m.\u001b[39m_check_indexing_method(method, limit, tolerance)\n\u001b[0;32m   3873\u001b[0m \u001b[38;5;28;01mif\u001b[39;00m \u001b[38;5;129;01mnot\u001b[39;00m \u001b[38;5;28mself\u001b[39m\u001b[38;5;241m.\u001b[39m_index_as_unique:\n\u001b[1;32m-> 3874\u001b[0m     \u001b[38;5;28;01mraise\u001b[39;00m InvalidIndexError(\u001b[38;5;28mself\u001b[39m\u001b[38;5;241m.\u001b[39m_requires_unique_msg)\n\u001b[0;32m   3876\u001b[0m \u001b[38;5;28;01mif\u001b[39;00m \u001b[38;5;28mlen\u001b[39m(target) \u001b[38;5;241m==\u001b[39m \u001b[38;5;241m0\u001b[39m:\n\u001b[0;32m   3877\u001b[0m     \u001b[38;5;28;01mreturn\u001b[39;00m np\u001b[38;5;241m.\u001b[39marray([], dtype\u001b[38;5;241m=\u001b[39mnp\u001b[38;5;241m.\u001b[39mintp)\n",
      "\u001b[1;31mInvalidIndexError\u001b[0m: Reindexing only valid with uniquely valued Index objects"
     ]
    }
   ],
   "source": [
    "compiled2 = radObj.calculateResults(bifacialityfactor=0.7, agriPV=True)\n"
   ]
  },
  {
   "cell_type": "code",
   "execution_count": 41,
   "id": "b8915296-399f-4b26-ad6d-5a39780e2806",
   "metadata": {},
   "outputs": [
    {
     "data": {
      "text/plain": [
       "{'2021-11-08_0930': {'surf_azm': 90.0,\n",
       "  'surf_tilt': 47.37,\n",
       "  'theta': -47.37,\n",
       "  'dni': 778.0,\n",
       "  'ghi': 271.0,\n",
       "  'dhi': 55.0,\n",
       "  'temp_air': -1.0,\n",
       "  'wind_speed': 2.5,\n",
       "  'skyfile': 'skies\\\\sky2_44.25_-117.34_2021-11-08_0930.rad',\n",
       "  'scenes': [{'module': {'x': 1, 'y': 2, 'z': 0.02, 'modulematerial': 'black', 'scenex': 1.01, 'sceney': 2.0, 'scenez': 0.1, 'numpanels': 1, 'bifi': 1, 'text': '! genbox black PVmodule 1 2 0.02 | xform -t -0.5 -1.0 0 -a 1 -t 0 2.0 0', 'modulefile': 'objects\\\\PVmodule.rad', 'glass': False, 'offsetfromaxis': 0, 'xgap': 0.01, 'ygap': 0.0, 'zgap': 0.1}, 'modulefile': 'objects\\\\PVmodule.rad', 'hpc': True, 'name': 'Scene0', 'gcr': 0.4, 'text': '!xform -rx 47.37 -t 0 0 1.5 -a 19 -t 1.01 0 0 -a 7 -t 0 5 0 -i 1 -t -9.09 -15.0 0 -rz 90.0 -t 0 0 0 \"C:\\\\Users\\\\sayala\\\\Documents\\\\GitHub\\\\InSPIRE\\\\Studies\\\\USMap_Doubleday_2024\\\\TEMP\\\\objects\\\\PVmodule.rad\"', 'radfiles': 'C:\\\\Users\\\\sayala\\\\Documents\\\\GitHub\\\\InSPIRE\\\\Studies\\\\USMap_Doubleday_2024\\\\TEMP\\\\objects\\\\1axis2021-11-08_0930__C_0.76426_rtr_5.00000_tilt_47.37000_19modsx7rows_origin0,0.rad', 'sceneDict': {'pitch': 5, 'nMods': 19, 'nRows': 7, 'tilt': 47.37, 'sazm': 180, 'clearance_height': 0.7642574251956251, 'azimuth': 90.0, 'modulez': 0.02, 'axis_tilt': 0, 'originx': 0, 'originy': 0}}],\n",
       "  'octfile': '1axis_2021-11-08_0930.oct',\n",
       "  'AnalysisObj': [{'octfile': '1axis_2021-11-08_0930.oct', 'name': '1axis_2021-11-08_0930Module_Scene0', 'hpc': False, 'modWanted': 10, 'rowWanted': 4, 'sceneNum': 0, 'power_data':   module row sceneNum     POA_eff  Grear_mean  Gfront_mean    Pout_raw  \\\n",
       "   0     10   4        0  610.447213    13.30378   601.134567  254.332527   \n",
       "   \n",
       "      Pout_Gfront       BGG       BGE  Mismatch        Pout  Wind Speed    DNI  \\\n",
       "   0   250.670589  1.549178  1.460856  0.000106  254.332257         2.5  778.0   \n",
       "   \n",
       "       DHI    GHI  \n",
       "   0  55.0  271.0  , 'columns': ['hpc', 'modWanted', 'name', 'octfile', 'power_data', 'rowWanted', 'sceneNum'], 'methods': ['analysis', 'analyzeField', 'analyzeRow', 'calc_performance', 'getResults', 'groundAnalysis', 'makeFalseColor', 'makeImage', 'moduleAnalysis'], 'x': array([ 0.5572596 ,  0.4218074 ,  0.2863551 ,  0.1509029 ,  0.01545059,\n",
       "          -0.1200017 , -0.2554539 , -0.3909062 , -0.5263584 ]), 'y': array([ 3.412231e-17,  2.582825e-17,  1.753419e-17,  9.240135e-18,\n",
       "           9.460760e-19, -7.347983e-18, -1.564204e-17, -2.393610e-17,\n",
       "          -3.223016e-17]), 'z': array([0.9256284, 1.072777 , 1.219925 , 1.367074 , 1.514222 , 1.661371 ,\n",
       "          1.80852  , 1.955668 , 2.102817 ]), 'rearZ': array([0.9107287, 1.057877 , 1.205026 , 1.352174 , 1.499323 , 1.646471 ,\n",
       "          1.79362  , 1.940768 , 2.087917 ]), 'mattype': array(['a9.3.a0.PVmodule.6457', 'a9.3.a0.PVmodule.6457',\n",
       "          'a9.3.a0.PVmodule.6457', 'a9.3.a0.PVmodule.6457',\n",
       "          'a9.3.a0.PVmodule.6457', 'a9.3.a0.PVmodule.6457',\n",
       "          'a9.3.a0.PVmodule.6457', 'a9.3.a0.PVmodule.6457',\n",
       "          'a9.3.a0.PVmodule.6457'], dtype=object), 'rearMat': array(['a9.3.a0.PVmodule.2310', 'a9.3.a0.PVmodule.2310',\n",
       "          'a9.3.a0.PVmodule.2310', 'a9.3.a0.PVmodule.2310',\n",
       "          'a9.3.a0.PVmodule.2310', 'a9.3.a0.PVmodule.2310',\n",
       "          'a9.3.a0.PVmodule.2310', 'a9.3.a0.PVmodule.2310',\n",
       "          'a9.3.a0.PVmodule.2310'], dtype=object), 'Wm2Front': array([588.4921, 591.1831, 595.5181, 598.132 , 601.9855, 603.8569,\n",
       "          608.1597, 610.0594, 612.8243]), 'Wm2Back': array([11.36342, 11.75427, 11.96026, 12.5225 , 13.03039, 13.72758,\n",
       "          14.21543, 15.03972, 16.12045]), 'Back/FrontRatio': array([0.01930935, 0.01988259, 0.02008376, 0.02093598, 0.02164565,\n",
       "          0.02273313, 0.02337446, 0.02465284, 0.02630513]), 'backRatio': array([0.01930935, 0.01988259, 0.02008376, 0.02093598, 0.02164565,\n",
       "          0.02273313, 0.02337446, 0.02465284, 0.02630513]), 'rearX': array([ 0.5410733 ,  0.405621  ,  0.2701688 ,  0.1347165 , -0.00073574,\n",
       "          -0.136188  , -0.2716403 , -0.4070925 , -0.5425448 ]), 'rearY': array([ 3.313118e-17,  2.483713e-17,  1.654307e-17,  8.249008e-18,\n",
       "          -4.505124e-20, -8.339110e-18, -1.663317e-17, -2.492723e-17,\n",
       "          -3.322129e-17])},\n",
       "   {'octfile': '1axis_2021-11-08_0930.oct', 'name': '1axis_2021-11-08_0930Ground_Scene0', 'hpc': False, 'modWanted': 10, 'rowWanted': 4, 'sceneNum': 0, 'power_data':   module row sceneNum    POA_eff  Grear_mean  Gfront_mean   Pout_raw  \\\n",
       "   0     10   4        0  36.115899    13.04082    26.987325  14.766463   \n",
       "   \n",
       "      Pout_Gfront        BGG        BGE  Mismatch       Pout  Wind Speed    DNI  \\\n",
       "   0     10.92283  33.825412  35.188989       0.0  14.766463         2.5  778.0   \n",
       "   \n",
       "       DHI    GHI  \n",
       "   0  55.0  271.0  , 'columns': ['hpc', 'modWanted', 'name', 'octfile', 'power_data', 'rowWanted', 'sceneNum'], 'methods': ['analysis', 'analyzeField', 'analyzeRow', 'calc_performance', 'getResults', 'groundAnalysis', 'makeFalseColor', 'makeImage', 'moduleAnalysis'], 'Wm2Front': array([23.62369, 24.75632, 25.78333, 27.12949, 28.19743, 29.41232,\n",
       "          30.62722, 32.0546 , 32.99094, 33.92729, 34.654  , 35.02919,\n",
       "          35.40437, 36.71206, 36.43124, 36.15041, 35.86958, 35.58876,\n",
       "          33.07798, 32.60631, 32.13464, 31.66297, 31.1913 , 30.71963,\n",
       "          29.14254, 28.652  , 28.16146, 27.17035, 26.67018, 26.17001,\n",
       "          25.07406, 24.5251 , 23.97614, 22.62771, 22.15004, 21.67238,\n",
       "          21.04867, 20.49321, 19.93776, 19.44088, 18.78777, 18.13466,\n",
       "          18.64796, 18.40119, 18.15442, 20.26754, 20.66636, 21.35884,\n",
       "          22.24459, 22.99386, 24.04883]), 'Wm2Back': array([13.04082]), 'backRatio': 0.48320227182039754, 'x': array([-0.00073574]), 'y': array([-4.505124e-20]), 'z': array([1.499323]), 'mattype': array(['groundplane', 'groundplane', 'groundplane', 'groundplane',\n",
       "          'groundplane', 'groundplane', 'groundplane', 'groundplane',\n",
       "          'groundplane', 'groundplane', 'groundplane', 'groundplane',\n",
       "          'groundplane', 'groundplane', 'groundplane', 'groundplane',\n",
       "          'groundplane', 'groundplane', 'groundplane', 'groundplane',\n",
       "          'groundplane', 'groundplane', 'groundplane', 'groundplane',\n",
       "          'groundplane', 'groundplane', 'groundplane', 'groundplane',\n",
       "          'groundplane', 'groundplane', 'groundplane', 'groundplane',\n",
       "          'groundplane', 'groundplane', 'groundplane', 'groundplane',\n",
       "          'groundplane', 'groundplane', 'groundplane', 'groundplane',\n",
       "          'groundplane', 'groundplane', 'groundplane', 'groundplane',\n",
       "          'groundplane', 'groundplane', 'groundplane', 'groundplane',\n",
       "          'groundplane', 'groundplane', 'groundplane'], dtype=object), 'rearMat': array(['a9.3.a0.PVmodule.2310'], dtype=object)}]},\n",
       " '2021-11-08_1030': {'surf_azm': 90.0,\n",
       "  'surf_tilt': 50.0,\n",
       "  'theta': -50.0,\n",
       "  'dni': 876.0,\n",
       "  'ghi': 405.0,\n",
       "  'dhi': 65.0,\n",
       "  'temp_air': 1.0,\n",
       "  'wind_speed': 2.5,\n",
       "  'skyfile': 'skies\\\\sky2_44.25_-117.34_2021-11-08_1030.rad',\n",
       "  'scenes': [{'module': {'x': 1, 'y': 2, 'z': 0.02, 'modulematerial': 'black', 'scenex': 1.01, 'sceney': 2.0, 'scenez': 0.1, 'numpanels': 1, 'bifi': 1, 'text': '! genbox black PVmodule 1 2 0.02 | xform -t -0.5 -1.0 0 -a 1 -t 0 2.0 0', 'modulefile': 'objects\\\\PVmodule.rad', 'glass': False, 'offsetfromaxis': 0, 'xgap': 0.01, 'ygap': 0.0, 'zgap': 0.1}, 'modulefile': 'objects\\\\PVmodule.rad', 'hpc': True, 'name': 'Scene0', 'gcr': 0.4, 'text': '!xform -rx 50.0 -t 0 0 1.5 -a 19 -t 1.01 0 0 -a 7 -t 0 5 0 -i 1 -t -9.09 -15.0 0 -rz 90.0 -t 0 0 0 \"C:\\\\Users\\\\sayala\\\\Documents\\\\GitHub\\\\InSPIRE\\\\Studies\\\\USMap_Doubleday_2024\\\\TEMP\\\\objects\\\\PVmodule.rad\"', 'radfiles': 'C:\\\\Users\\\\sayala\\\\Documents\\\\GitHub\\\\InSPIRE\\\\Studies\\\\USMap_Doubleday_2024\\\\TEMP\\\\objects\\\\1axis2021-11-08_1030__C_0.73396_rtr_5.00000_tilt_50.00000_19modsx7rows_origin0,0.rad', 'sceneDict': {'pitch': 5, 'nMods': 19, 'nRows': 7, 'tilt': 50.0, 'sazm': 180, 'clearance_height': 0.733955556881022, 'azimuth': 90.0, 'modulez': 0.02, 'axis_tilt': 0, 'originx': 0, 'originy': 0}}],\n",
       "  'octfile': '1axis_2021-11-08_1030.oct',\n",
       "  'AnalysisObj': [{'octfile': '1axis_2021-11-08_1030.oct', 'name': '1axis_2021-11-08_1030Module_Scene0', 'hpc': False, 'modWanted': 10, 'rowWanted': 4, 'sceneNum': 0, 'power_data':   module row sceneNum     POA_eff  Grear_mean  Gfront_mean    Pout_raw  \\\n",
       "   0     10   4        0  641.891729   35.205978   617.247544  264.748784   \n",
       "   \n",
       "      Pout_Gfront       BGG       BGE  Mismatch        Pout  Wind Speed    DNI  \\\n",
       "   0   255.189323  3.992593  3.746027  0.000299  264.747992         2.5  876.0   \n",
       "   \n",
       "       DHI    GHI  \n",
       "   0  65.0  405.0  , 'columns': ['hpc', 'modWanted', 'name', 'octfile', 'power_data', 'rowWanted', 'sceneNum'], 'methods': ['analysis', 'analyzeField', 'analyzeRow', 'calc_performance', 'getResults', 'groundAnalysis', 'makeFalseColor', 'makeImage', 'moduleAnalysis'], 'x': array([ 0.530317  ,  0.4017595 ,  0.273202  ,  0.1446445 ,  0.01608693,\n",
       "          -0.1124706 , -0.2410281 , -0.3695856 , -0.4981432 ]), 'y': array([ 3.247255e-17,  2.460067e-17,  1.672880e-17,  8.856918e-18,\n",
       "           9.850406e-19, -6.886837e-18, -1.475872e-17, -2.263059e-17,\n",
       "          -3.050247e-17]), 'z': array([0.900663, 1.053872, 1.207081, 1.36029 , 1.513499, 1.666707,\n",
       "          1.819916, 1.973125, 2.126334]), 'rearZ': array([0.8865217, 1.039731 , 1.192939 , 1.346148 , 1.499357 , 1.652566 ,\n",
       "          1.805775 , 1.958984 , 2.112193 ]), 'mattype': array(['a9.3.a0.PVmodule.6457', 'a9.3.a0.PVmodule.6457',\n",
       "          'a9.3.a0.PVmodule.6457', 'a9.3.a0.PVmodule.6457',\n",
       "          'a9.3.a0.PVmodule.6457', 'a9.3.a0.PVmodule.6457',\n",
       "          'a9.3.a0.PVmodule.6457', 'a9.3.a0.PVmodule.6457',\n",
       "          'a9.3.a0.PVmodule.6457'], dtype=object), 'rearMat': array(['a9.3.a0.PVmodule.2310', 'a9.3.a0.PVmodule.2310',\n",
       "          'a9.3.a0.PVmodule.2310', 'a9.3.a0.PVmodule.2310',\n",
       "          'a9.3.a0.PVmodule.2310', 'a9.3.a0.PVmodule.2310',\n",
       "          'a9.3.a0.PVmodule.2310', 'a9.3.a0.PVmodule.2310',\n",
       "          'a9.3.a0.PVmodule.2310'], dtype=object), 'Wm2Front': array([607.5184, 609.4681, 612.2561, 614.0816, 617.7361, 619.5109,\n",
       "          622.8879, 624.5885, 627.1803]), 'Wm2Back': array([45.59946, 41.25131, 37.18565, 34.5782 , 32.53164, 31.14683,\n",
       "          31.05405, 31.74662, 31.76004]), 'Back/FrontRatio': array([0.07505844, 0.06768401, 0.06073535, 0.05630871, 0.0526626 ,\n",
       "          0.0502764 , 0.04985488, 0.05082798, 0.05063933]), 'backRatio': array([0.07505844, 0.06768401, 0.06073535, 0.05630871, 0.0526626 ,\n",
       "          0.0502764 , 0.04985488, 0.05082798, 0.05063933]), 'rearX': array([ 0.513464  ,  0.3849065 ,  0.256349  ,  0.1277915 , -0.00076604,\n",
       "          -0.1293236 , -0.2578811 , -0.3864386 , -0.5149961 ]), 'rearY': array([ 3.144060e-17,  2.356873e-17,  1.569685e-17,  7.824971e-18,\n",
       "          -4.690669e-20, -7.918785e-18, -1.579066e-17, -2.366254e-17,\n",
       "          -3.153442e-17])},\n",
       "   {'octfile': '1axis_2021-11-08_1030.oct', 'name': '1axis_2021-11-08_1030Ground_Scene0', 'hpc': False, 'modWanted': 10, 'rowWanted': 4, 'sceneNum': 0, 'power_data': None, 'columns': ['hpc', 'modWanted', 'name', 'octfile', 'power_data', 'rowWanted', 'sceneNum'], 'methods': ['analysis', 'analyzeField', 'analyzeRow', 'calc_performance', 'getResults', 'groundAnalysis', 'makeFalseColor', 'makeImage', 'moduleAnalysis'], 'Wm2Front': array([368.1037 , 369.5178 , 372.5037 , 374.4819 , 376.655  , 378.5054 ,\n",
       "          380.8873 , 382.4726 , 384.0579 , 385.7605 , 386.5822 , 387.4039 ,\n",
       "          388.3505 , 388.0762 , 387.802  ,  46.38946,  45.89542,  45.40139,\n",
       "           44.90734,  42.69228,  42.04039,  41.38849,  40.7366 ,  39.1289 ,\n",
       "           38.48551,  37.84212,  36.12665,  35.45542,  34.78418,  32.75261,\n",
       "           32.09539,  31.43817,  30.47176,  29.69638,  28.92101,  28.14563,\n",
       "           26.51933,  25.7562 ,  24.99307,  23.67235,  22.82483,  21.9773 ,\n",
       "           22.5135 ,  21.99359,  21.47367,  22.85631,  22.97144,  24.72222,\n",
       "          365.1377 , 365.8596 , 367.5251 ]), 'Wm2Back': array([32.49606]), 'backRatio': 0.2104025045359425, 'x': array([-0.00076604]), 'y': array([-4.690669e-20]), 'z': array([1.499357]), 'mattype': array(['groundplane', 'groundplane', 'groundplane', 'groundplane',\n",
       "          'groundplane', 'groundplane', 'groundplane', 'groundplane',\n",
       "          'groundplane', 'groundplane', 'groundplane', 'groundplane',\n",
       "          'groundplane', 'groundplane', 'groundplane', 'groundplane',\n",
       "          'groundplane', 'groundplane', 'groundplane', 'groundplane',\n",
       "          'groundplane', 'groundplane', 'groundplane', 'groundplane',\n",
       "          'groundplane', 'groundplane', 'groundplane', 'groundplane',\n",
       "          'groundplane', 'groundplane', 'groundplane', 'groundplane',\n",
       "          'groundplane', 'groundplane', 'groundplane', 'groundplane',\n",
       "          'groundplane', 'groundplane', 'groundplane', 'groundplane',\n",
       "          'groundplane', 'groundplane', 'groundplane', 'groundplane',\n",
       "          'groundplane', 'groundplane', 'groundplane', 'groundplane',\n",
       "          'groundplane', 'groundplane', 'groundplane'], dtype=object), 'rearMat': array(['a9.3.a0.PVmodule.2310'], dtype=object)}]}}"
      ]
     },
     "execution_count": 41,
     "metadata": {},
     "output_type": "execute_result"
    }
   ],
   "source": [
    "trackerdict"
   ]
  },
  {
   "cell_type": "code",
   "execution_count": 67,
   "id": "973803ff-308c-4c0e-aac9-dd03f1e28e4c",
   "metadata": {},
   "outputs": [
    {
     "data": {
      "text/plain": [
       "[23.62369,\n",
       " 24.75632,\n",
       " 25.783329999999996,\n",
       " 27.12949,\n",
       " 28.19743,\n",
       " 29.412320000000005,\n",
       " 30.627220000000005,\n",
       " 32.0546,\n",
       " 32.99094,\n",
       " 33.92729,\n",
       " 34.654,\n",
       " 35.02919,\n",
       " 35.40437,\n",
       " 36.71206,\n",
       " 36.43124,\n",
       " 36.15041,\n",
       " 35.86958,\n",
       " 35.58876,\n",
       " 33.07798,\n",
       " 32.60631,\n",
       " 32.13464,\n",
       " 31.66297,\n",
       " 31.1913,\n",
       " 30.71963,\n",
       " 29.14254,\n",
       " 28.652,\n",
       " 28.16146,\n",
       " 27.17035,\n",
       " 26.67018,\n",
       " 26.17001,\n",
       " 25.07406,\n",
       " 24.5251,\n",
       " 23.97614,\n",
       " 22.627709999999997,\n",
       " 22.15004,\n",
       " 21.67238,\n",
       " 21.04867,\n",
       " 20.49321,\n",
       " 19.93776,\n",
       " 19.44088,\n",
       " 18.78777,\n",
       " 18.13466,\n",
       " 18.64796,\n",
       " 18.40119,\n",
       " 18.15442,\n",
       " 20.26754,\n",
       " 20.66636,\n",
       " 21.35884,\n",
       " 22.24459,\n",
       " 22.99386,\n",
       " 24.04883]"
      ]
     },
     "execution_count": 67,
     "metadata": {},
     "output_type": "execute_result"
    }
   ],
   "source": [
    "list(trackerdict[key]['AnalysisObj'][1].Wm2Front)"
   ]
  },
  {
   "cell_type": "code",
   "execution_count": 75,
   "id": "55ac1104-b8f3-4031-b282-d20c67013774",
   "metadata": {},
   "outputs": [],
   "source": [
    "keys=list(trackerdict.keys())\n",
    "\n",
    "ResultGroundIrrad = []\n",
    "ResultTemp = []\n",
    "for key in keys:\n",
    "    # before version 0.4.2 comit 236 or something\n",
    "    #ResultGroundIrrad.append(trackerdict[key]['Results'][1]['Wm2Front'])\n",
    "    ResultGroundIrrad.append(list(trackerdict[key]['AnalysisObj'][1].Wm2Front))\n",
    "    ResultTemp.append(trackerdict[key]['temp_air']) # TEMP AIR NOR SAVED ON COMPILED RESULTS OR ELSEWHERE\n"
   ]
  },
  {
   "cell_type": "code",
   "execution_count": 20,
   "id": "a0a92989-931b-4eba-8b0e-810c6fbcceeb",
   "metadata": {},
   "outputs": [],
   "source": [
    "sceneDict = {'pitch':pitch, \n",
    "             'hub_height': hub_height,\n",
    "             'nMods': 19,\n",
    "             'nRows': 7,\n",
    "            'tilt': fixed_tilt_angle,  \n",
    "            'sazm': sazm\n",
    "             }"
   ]
  },
  {
   "cell_type": "markdown",
   "id": "53d9ffe5-b9d3-4122-ba6b-64361c348d40",
   "metadata": {},
   "source": []
  },
  {
   "cell_type": "markdown",
   "id": "5197548b-625e-4ce5-aaf3-14f2dccdd071",
   "metadata": {},
   "source": [
    "trackerdict = radObj.makeScene1axis(module=modulename,sceneDict=sceneDict)\n"
   ]
  },
  {
   "cell_type": "code",
   "execution_count": null,
   "id": "aaaa62d9-f551-42ab-98df-db7eb4b7d27f",
   "metadata": {},
   "outputs": [],
   "source": []
  },
  {
   "cell_type": "code",
   "execution_count": null,
   "id": "830c9094-3cc9-4a7c-a0c0-b862060e2afd",
   "metadata": {},
   "outputs": [],
   "source": []
  }
 ],
 "metadata": {
  "kernelspec": {
   "display_name": "Python (base)",
   "language": "python",
   "name": "base"
  },
  "language_info": {
   "codemirror_mode": {
    "name": "ipython",
    "version": 3
   },
   "file_extension": ".py",
   "mimetype": "text/x-python",
   "name": "python",
   "nbconvert_exporter": "python",
   "pygments_lexer": "ipython3",
   "version": "3.11.7"
  }
 },
 "nbformat": 4,
 "nbformat_minor": 5
}
