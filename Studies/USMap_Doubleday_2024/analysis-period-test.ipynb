{
 "cells": [
  {
   "cell_type": "code",
   "execution_count": 42,
   "id": "842ae140-791f-45fc-9697-9f720d358636",
   "metadata": {},
   "outputs": [],
   "source": [
    "import pvdeg\n",
    "import pandas as pd\n",
    "import numpy as np\n",
    "import xarray as xr\n",
    "import matplotlib.pyplot as plt\n",
    "\n",
    "import os\n",
    "import time"
   ]
  },
  {
   "cell_type": "markdown",
   "id": "dddaf1cb-6026-4382-8a65-b6b40722a349",
   "metadata": {},
   "source": [
    "PYSAM configs contained in the repo were originally using analysis_period = 25, so we would get 8760*25 outputs for the temporal results, this is wasteful because we are using TMY data so it would repeat the data and produce identical outputs between years. Computation time is linearly proportional to number of years as shown in the plot below.\n",
    "\n",
    "We can save 25x on compute but setting the analysis_period = 1"
   ]
  },
  {
   "cell_type": "code",
   "execution_count": 28,
   "id": "8dd23d74-3fbd-4137-84d6-5858c6cddeb2",
   "metadata": {},
   "outputs": [
    {
     "name": "stderr",
     "output_type": "stream",
     "text": [
      "/home/tford/.conda-envs/geospatial/lib/python3.9/site-packages/xarray/core/dataset.py:277: UserWarning: The specified chunks separate the stored chunks along dimension \"phony_dim_1\" starting at index 500. This could degrade performance. Instead, consider rechunking after loading.\n",
      "  warnings.warn(\n"
     ]
    }
   ],
   "source": [
    "weather_db = \"NSRDB\"\n",
    "weather_arg = {\n",
    "    \"satellite\": \"Americas\",\n",
    "    \"names\": \"TMY\",\n",
    "    \"NREL_HPC\": True,\n",
    "    \"attributes\": pvdeg.pysam.INSPIRE_NSRDB_ATTRIBUTES,\n",
    "}\n",
    "\n",
    "geo_weather, geo_meta = pvdeg.weather.get(\n",
    "    weather_db, geospatial=True, **weather_arg)"
   ]
  },
  {
   "cell_type": "code",
   "execution_count": 34,
   "id": "356ddd5d-fd1c-4685-bb34-38aec2014966",
   "metadata": {},
   "outputs": [
    {
     "data": {
      "text/html": [
       "<div>\n",
       "<style scoped>\n",
       "    .dataframe tbody tr th:only-of-type {\n",
       "        vertical-align: middle;\n",
       "    }\n",
       "\n",
       "    .dataframe tbody tr th {\n",
       "        vertical-align: top;\n",
       "    }\n",
       "\n",
       "    .dataframe thead th {\n",
       "        text-align: right;\n",
       "    }\n",
       "</style>\n",
       "<table border=\"1\" class=\"dataframe\">\n",
       "  <thead>\n",
       "    <tr style=\"text-align: right;\">\n",
       "      <th></th>\n",
       "      <th>latitude</th>\n",
       "      <th>longitude</th>\n",
       "      <th>altitude</th>\n",
       "      <th>tz</th>\n",
       "      <th>country</th>\n",
       "      <th>state</th>\n",
       "      <th>county</th>\n",
       "      <th>wind_height</th>\n",
       "    </tr>\n",
       "  </thead>\n",
       "  <tbody>\n",
       "    <tr>\n",
       "      <th>389874</th>\n",
       "      <td>38.570000</td>\n",
       "      <td>-109.059998</td>\n",
       "      <td>2494</td>\n",
       "      <td>-7</td>\n",
       "      <td>United States</td>\n",
       "      <td>Colorado</td>\n",
       "      <td>Mesa</td>\n",
       "      <td>2</td>\n",
       "    </tr>\n",
       "    <tr>\n",
       "      <th>389875</th>\n",
       "      <td>38.529999</td>\n",
       "      <td>-109.059998</td>\n",
       "      <td>2189</td>\n",
       "      <td>-7</td>\n",
       "      <td>United States</td>\n",
       "      <td>Colorado</td>\n",
       "      <td>Mesa</td>\n",
       "      <td>2</td>\n",
       "    </tr>\n",
       "    <tr>\n",
       "      <th>389876</th>\n",
       "      <td>38.490002</td>\n",
       "      <td>-109.059998</td>\n",
       "      <td>2300</td>\n",
       "      <td>-7</td>\n",
       "      <td>United States</td>\n",
       "      <td>Colorado</td>\n",
       "      <td>Montrose</td>\n",
       "      <td>2</td>\n",
       "    </tr>\n",
       "    <tr>\n",
       "      <th>389877</th>\n",
       "      <td>38.450001</td>\n",
       "      <td>-109.059998</td>\n",
       "      <td>2349</td>\n",
       "      <td>-7</td>\n",
       "      <td>United States</td>\n",
       "      <td>Colorado</td>\n",
       "      <td>Montrose</td>\n",
       "      <td>2</td>\n",
       "    </tr>\n",
       "    <tr>\n",
       "      <th>389878</th>\n",
       "      <td>38.410000</td>\n",
       "      <td>-109.059998</td>\n",
       "      <td>2330</td>\n",
       "      <td>-7</td>\n",
       "      <td>United States</td>\n",
       "      <td>Colorado</td>\n",
       "      <td>Montrose</td>\n",
       "      <td>2</td>\n",
       "    </tr>\n",
       "    <tr>\n",
       "      <th>...</th>\n",
       "      <td>...</td>\n",
       "      <td>...</td>\n",
       "      <td>...</td>\n",
       "      <td>...</td>\n",
       "      <td>...</td>\n",
       "      <td>...</td>\n",
       "      <td>...</td>\n",
       "      <td>...</td>\n",
       "    </tr>\n",
       "    <tr>\n",
       "      <th>560848</th>\n",
       "      <td>37.169998</td>\n",
       "      <td>-102.059998</td>\n",
       "      <td>1124</td>\n",
       "      <td>-7</td>\n",
       "      <td>United States</td>\n",
       "      <td>Colorado</td>\n",
       "      <td>Baca</td>\n",
       "      <td>2</td>\n",
       "    </tr>\n",
       "    <tr>\n",
       "      <th>560849</th>\n",
       "      <td>37.130001</td>\n",
       "      <td>-102.059998</td>\n",
       "      <td>1125</td>\n",
       "      <td>-7</td>\n",
       "      <td>United States</td>\n",
       "      <td>Colorado</td>\n",
       "      <td>Baca</td>\n",
       "      <td>2</td>\n",
       "    </tr>\n",
       "    <tr>\n",
       "      <th>560850</th>\n",
       "      <td>37.090000</td>\n",
       "      <td>-102.059998</td>\n",
       "      <td>1085</td>\n",
       "      <td>-7</td>\n",
       "      <td>United States</td>\n",
       "      <td>Colorado</td>\n",
       "      <td>Baca</td>\n",
       "      <td>2</td>\n",
       "    </tr>\n",
       "    <tr>\n",
       "      <th>560851</th>\n",
       "      <td>37.049999</td>\n",
       "      <td>-102.059998</td>\n",
       "      <td>1080</td>\n",
       "      <td>-7</td>\n",
       "      <td>United States</td>\n",
       "      <td>Colorado</td>\n",
       "      <td>Baca</td>\n",
       "      <td>2</td>\n",
       "    </tr>\n",
       "    <tr>\n",
       "      <th>560852</th>\n",
       "      <td>37.009998</td>\n",
       "      <td>-102.059998</td>\n",
       "      <td>1101</td>\n",
       "      <td>-7</td>\n",
       "      <td>United States</td>\n",
       "      <td>Colorado</td>\n",
       "      <td>Baca</td>\n",
       "      <td>2</td>\n",
       "    </tr>\n",
       "  </tbody>\n",
       "</table>\n",
       "<p>17508 rows × 8 columns</p>\n",
       "</div>"
      ],
      "text/plain": [
       "         latitude   longitude  altitude  tz        country     state  \\\n",
       "389874  38.570000 -109.059998      2494  -7  United States  Colorado   \n",
       "389875  38.529999 -109.059998      2189  -7  United States  Colorado   \n",
       "389876  38.490002 -109.059998      2300  -7  United States  Colorado   \n",
       "389877  38.450001 -109.059998      2349  -7  United States  Colorado   \n",
       "389878  38.410000 -109.059998      2330  -7  United States  Colorado   \n",
       "...           ...         ...       ...  ..            ...       ...   \n",
       "560848  37.169998 -102.059998      1124  -7  United States  Colorado   \n",
       "560849  37.130001 -102.059998      1125  -7  United States  Colorado   \n",
       "560850  37.090000 -102.059998      1085  -7  United States  Colorado   \n",
       "560851  37.049999 -102.059998      1080  -7  United States  Colorado   \n",
       "560852  37.009998 -102.059998      1101  -7  United States  Colorado   \n",
       "\n",
       "          county  wind_height  \n",
       "389874      Mesa            2  \n",
       "389875      Mesa            2  \n",
       "389876  Montrose            2  \n",
       "389877  Montrose            2  \n",
       "389878  Montrose            2  \n",
       "...          ...          ...  \n",
       "560848      Baca            2  \n",
       "560849      Baca            2  \n",
       "560850      Baca            2  \n",
       "560851      Baca            2  \n",
       "560852      Baca            2  \n",
       "\n",
       "[17508 rows x 8 columns]"
      ]
     },
     "execution_count": 34,
     "metadata": {},
     "output_type": "execute_result"
    }
   ],
   "source": [
    "geo_meta[geo_meta[\"state\"] == \"Colorado\"]"
   ]
  },
  {
   "cell_type": "markdown",
   "id": "c5af8583-9b1b-492a-bce7-130fa34dea82",
   "metadata": {},
   "source": [
    "we will use the first point in colorado\n",
    "- gid = 389874"
   ]
  },
  {
   "cell_type": "code",
   "execution_count": 38,
   "id": "1879565c-fda7-4312-9c5a-32cd71d94738",
   "metadata": {},
   "outputs": [
    {
     "data": {
      "text/plain": [
       "latitude               38.57\n",
       "longitude        -109.059998\n",
       "altitude                2494\n",
       "tz                        -7\n",
       "country        United States\n",
       "state               Colorado\n",
       "county                  Mesa\n",
       "wind_height                2\n",
       "Name: 389874, dtype: object"
      ]
     },
     "execution_count": 38,
     "metadata": {},
     "output_type": "execute_result"
    }
   ],
   "source": [
    "geo_meta.loc[gid]"
   ]
  },
  {
   "cell_type": "code",
   "execution_count": 40,
   "id": "b3c1dcbd-ff11-4bc0-9f8b-30c45e4229bd",
   "metadata": {},
   "outputs": [
    {
     "name": "stdout",
     "output_type": "stream",
     "text": [
      "01 done\n",
      "02 done\n",
      "03 done\n",
      "04 done\n",
      "05 done\n",
      "06 done\n",
      "07 done\n",
      "08 done\n",
      "09 done\n",
      "10 done\n"
     ]
    }
   ],
   "source": [
    "confs = ['01', '02', '03', '04', '05', '06', '07', '08', '09', '10']\n",
    "\n",
    "times = {}\n",
    "gid = 389874\n",
    "\n",
    "for conf in confs:\n",
    "\n",
    "    # convert to single site (weather dataframe, meta dict)\n",
    "    weather_df = geo_weather.sel(gid=gid).to_dataframe()\n",
    "    meta = geo_meta.loc[gid].to_dict()\n",
    "\n",
    "    # rename variables to align with pvdeg/duramat standards\n",
    "    weather_df = pvdeg.weather.map_weather(weather_df)\n",
    "    meta = pvdeg.weather.map_meta(meta)\n",
    "\n",
    "    one_yr_path = f\"/home/tford/dev/InSPIRE-1yr/Studies/USMap_Doubleday_2024/SAM/{conf}/{conf}_pvsamv1.json\" # these have an analysis period of 1 year\n",
    "    inspire_path = f\"/home/tford/dev/InSPIRE/Studies/USMap_Doubleday_2024/SAM/{conf}/{conf}_pvsamv1.json\" # these have an analysis period of 25 years\n",
    "\n",
    "    short_start = time.time()\n",
    "    \n",
    "    short = pvdeg.pysam.inspire_ground_irradiance(\n",
    "        weather_df=weather_df,\n",
    "        meta=meta,\n",
    "        config_files={'pv':one_yr_path}\n",
    "    )\n",
    "\n",
    "    short_end = time.time()\n",
    "    long_start = time.time()\n",
    "    \n",
    "    long = pvdeg.pysam.inspire_ground_irradiance(\n",
    "        weather_df=weather_df,\n",
    "        meta=meta,\n",
    "        config_files={'pv':inspire_path}\n",
    "    )\n",
    "\n",
    "    long_end = time.time()\n",
    "\n",
    "    short_duration = short_end - short_start\n",
    "    long_duration = long_end - long_start\n",
    "\n",
    "    times[conf] = {\n",
    "        \"1yr\":short_duration,\n",
    "        \"25yr\":long_duration\n",
    "    }\n",
    "    \n",
    "    print(f\"{conf} done\")\n"
   ]
  },
  {
   "cell_type": "code",
   "execution_count": 45,
   "id": "61954edb-0a47-4afb-a555-0cff760bc4a6",
   "metadata": {},
   "outputs": [
    {
     "data": {
      "image/png": "[encoded data removed]",
      "text/plain": [
       "<Figure size 1200x600 with 1 Axes>"
      ]
     },
     "metadata": {},
     "output_type": "display_data"
    }
   ],
   "source": [
    "data = times\n",
    "\n",
    "categories = list(data.keys())\n",
    "yr_1 = [data[cat]['1yr'] for cat in categories]\n",
    "yr_25 = [data[cat]['25yr'] for cat in categories]\n",
    "\n",
    "x = np.arange(len(categories))\n",
    "width = 0.35\n",
    "\n",
    "fig, ax = plt.subplots(figsize=(12, 6))\n",
    "bars1 = ax.bar(x - width/2, yr_1, width, label='1yr')\n",
    "bars2 = ax.bar(x + width/2, yr_25, width, label='25yr')\n",
    "\n",
    "# Labels and title\n",
    "ax.set_xlabel('Category')\n",
    "ax.set_ylabel('time (s)')\n",
    "ax.set_title('1yr and 25yr values by Category')\n",
    "ax.set_xticks(x)\n",
    "ax.set_xticklabels(categories)\n",
    "ax.legend()\n",
    "\n",
    "# Display values on top of bars\n",
    "for bar in bars1 + bars2:\n",
    "    height = bar.get_height()\n",
    "    ax.annotate(f'{height:.2f}',\n",
    "                xy=(bar.get_x() + bar.get_width() / 2, height),\n",
    "                xytext=(0, 3),\n",
    "                textcoords=\"offset points\",\n",
    "                ha='center', va='bottom', fontsize=8)\n",
    "\n",
    "plt.tight_layout()\n",
    "plt.show()"
   ]
  },
  {
   "cell_type": "markdown",
   "id": "c58420be-8bf4-43a7-94b1-bf03b554f23c",
   "metadata": {},
   "source": [
    "run single location and compare values to check that we are getting the same results"
   ]
  },
  {
   "cell_type": "code",
   "execution_count": 46,
   "id": "06d4c6ab-885b-4677-b968-25bee55f7012",
   "metadata": {},
   "outputs": [],
   "source": [
    "conf = \"01\"\n",
    "\n",
    "# convert to single site (weather dataframe, meta dict)\n",
    "weather_df = geo_weather.sel(gid=gid).to_dataframe()\n",
    "meta = geo_meta.loc[gid].to_dict()\n",
    "\n",
    "# rename variables to align with pvdeg/duramat standards\n",
    "weather_df = pvdeg.weather.map_weather(weather_df)\n",
    "meta = pvdeg.weather.map_meta(meta)\n",
    "\n",
    "one_yr_path = f\"/home/tford/dev/InSPIRE-1yr/Studies/USMap_Doubleday_2024/SAM/{conf}/{conf}_pvsamv1.json\" # these have an analysis period of 1 year\n",
    "inspire_path = f\"/home/tford/dev/InSPIRE/Studies/USMap_Doubleday_2024/SAM/{conf}/{conf}_pvsamv1.json\" # these have an analysis period of 25 years\n",
    "\n",
    "short = pvdeg.pysam.inspire_ground_irradiance(\n",
    "    weather_df=weather_df,\n",
    "    meta=meta,\n",
    "    config_files={'pv':one_yr_path}\n",
    ")\n",
    "\n",
    "long = pvdeg.pysam.inspire_ground_irradiance(\n",
    "    weather_df=weather_df,\n",
    "    meta=meta,\n",
    "    config_files={'pv':inspire_path}\n",
    ")\n"
   ]
  },
  {
   "cell_type": "code",
   "execution_count": 52,
   "id": "0b2e6899-22aa-4e22-976c-e42dc8f46dc7",
   "metadata": {},
   "outputs": [
    {
     "data": {
      "text/plain": [
       "True"
      ]
     },
     "execution_count": 52,
     "metadata": {},
     "output_type": "execute_result"
    }
   ],
   "source": [
    "short.identical(long)"
   ]
  }
 ],
 "metadata": {
  "kernelspec": {
   "display_name": "geospatial",
   "language": "python",
   "name": "geospatial"
  },
  "language_info": {
   "codemirror_mode": {
    "name": "ipython",
    "version": 3
   },
   "file_extension": ".py",
   "mimetype": "text/x-python",
   "name": "python",
   "nbconvert_exporter": "python",
   "pygments_lexer": "ipython3",
   "version": "3.9.21"
  }
 },
 "nbformat": 4,
 "nbformat_minor": 5
}
