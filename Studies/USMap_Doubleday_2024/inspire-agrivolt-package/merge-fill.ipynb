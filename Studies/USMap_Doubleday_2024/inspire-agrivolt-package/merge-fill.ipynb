{
 "cells": [
  {
   "cell_type": "code",
   "execution_count": 1,
   "id": "16d1f667-c18c-47ea-abe8-835d3264d1d1",
   "metadata": {},
   "outputs": [],
   "source": [
    "import inspire_agrivolt\n",
    "from pathlib import Path\n",
    "import xarray as xr"
   ]
  },
  {
   "cell_type": "code",
   "execution_count": null,
   "id": "9d55927f-aed8-4048-ac22-0ba158d9b39a",
   "metadata": {},
   "outputs": [],
   "source": [
    "full_outputs_dir = Path(\"/projects/inspire/PySAM-MAPS/v0.5/\")\n",
    "\n",
    "state = \"colorado\"\n",
    "confs = [\"04\", \"08\", \"09\"] # all of these confs were broken"
   ]
  },
  {
   "cell_type": "code",
   "execution_count": 5,
   "id": "2d572c46-13da-43cb-abd4-58a7f2cfc672",
   "metadata": {},
   "outputs": [
    {
     "name": "stdout",
     "output_type": "stream",
     "text": [
      "starting colorado 08\n",
      "BAD FILE: /projects/inspire/PySAM-MAPS/v0.5/colorado/08/528166-532285.nc\n",
      "Failed to decode variable 'time': unable to decode time units 'hours since 2001-01-01 00:00:00' with \"calendar 'proleptic_gregorian'\". Try opening your dataset with decode_times=False or installing cftime if it is not installed.\n",
      "skipping bad original nc files: [PosixPath('/projects/inspire/PySAM-MAPS/v0.5/colorado/08/528166-532285.nc')]\n"
     ]
    },
    {
     "name": "stderr",
     "output_type": "stream",
     "text": [
      "/home/tford/.conda-envs/geospatial/lib/python3.9/site-packages/xarray/core/dataset.py:277: UserWarning: The specified chunks separate the stored chunks along dimension \"phony_dim_1\" starting at index 500. This could degrade performance. Instead, consider rechunking after loading.\n",
      "  warnings.warn(\n"
     ]
    },
    {
     "name": "stdout",
     "output_type": "stream",
     "text": [
      "ending colorado 08\n"
     ]
    }
   ],
   "source": [
    "inspire_agrivolt.merge_original_fill_data_to_zarr(\n",
    "    conf=\"08\",\n",
    "    state=\"colorado\",\n",
    "    full_outputs_dir = Path(\"/projects/inspire/PySAM-MAPS/v0.5\"),\n",
    "    fill_outputs_dir= Path(\"/projects/inspire/PySAM-MAPS/v0.5-fill\")\n",
    ")   "
   ]
  },
  {
   "cell_type": "code",
   "execution_count": null,
   "id": "b03ebecd-6026-4b8b-bb29-cb8e5f8b8fc7",
   "metadata": {},
   "outputs": [],
   "source": [
    "from_zarr = xr.open_zarr(\"/projects/inspire/PySAM-MAPS/Full-Outputs/colorado/08.zarr\")"
   ]
  },
  {
   "cell_type": "code",
   "execution_count": null,
   "id": "3c2d58ac-f94b-4190-b01c-fc6d4b6ba700",
   "metadata": {},
   "outputs": [],
   "source": [
    "inspire_agrivolt.visualize_empty_data(from_zarr, \"colorado\")"
   ]
  },
  {
   "cell_type": "code",
   "execution_count": null,
   "id": "db987535-1562-4168-842f-a842bbf99d0e",
   "metadata": {},
   "outputs": [],
   "source": [
    "inspire_agrivolt.visualize_empty_data(from_zarr, \"colorado\")"
   ]
  },
  {
   "cell_type": "code",
   "execution_count": null,
   "id": "eb952fa3-5fc3-4d9e-89b5-8f57bdc446b5",
   "metadata": {},
   "outputs": [],
   "source": [
    "state = \"colorado\"\n",
    "conf = \"08\"\n",
    "\n",
    "examine = xr.open_zarr(f\"/projects/inspire/PySAM-MAPS/Full-Outputs/{state}/{conf}.zarr\")"
   ]
  },
  {
   "cell_type": "code",
   "execution_count": null,
   "id": "fb178c13-e5b1-49af-a00d-c28037308321",
   "metadata": {},
   "outputs": [],
   "source": [
    "inspire_agrivolt.visualize_empty_data(examine, \"Colorado\")"
   ]
  },
  {
   "cell_type": "code",
   "execution_count": null,
   "id": "1ed9dfae-f866-4e0c-b3fc-19e06bc59e3b",
   "metadata": {},
   "outputs": [],
   "source": [
    "xr.open_mfdataset(\"/projects/inspire/PySAM-MAPS/Full-Outputs/colorado-fill/08/*.nc\")"
   ]
  },
  {
   "cell_type": "code",
   "execution_count": null,
   "id": "85d2bf7a-839c-4e6f-a085-803e36bd50be",
   "metadata": {},
   "outputs": [],
   "source": [
    "import glob\n",
    "glob.glob(\"/projects/inspire/PySAM-MAPS/Full-Outputs/colorado-fill/08/*.nc\")"
   ]
  },
  {
   "cell_type": "code",
   "execution_count": null,
   "id": "0665ba2c-5e66-461f-ab45-9fdf1af8e970",
   "metadata": {},
   "outputs": [],
   "source": [
    "xr.open_mfdataset(\"/projects/inspire/PySAM-MAPS/Full-Outputs/colorado-fill/08/*.nc\")"
   ]
  },
  {
   "cell_type": "code",
   "execution_count": null,
   "id": "1414c3e0-93bd-434d-9365-3fb66b865dd9",
   "metadata": {},
   "outputs": [],
   "source": []
  }
 ],
 "metadata": {
  "kernelspec": {
   "display_name": "geospatial",
   "language": "python",
   "name": "geospatial"
  },
  "language_info": {
   "codemirror_mode": {
    "name": "ipython",
    "version": 3
   },
   "file_extension": ".py",
   "mimetype": "text/x-python",
   "name": "python",
   "nbconvert_exporter": "python",
   "pygments_lexer": "ipython3",
   "version": "3.9.21"
  }
 },
 "nbformat": 4,
 "nbformat_minor": 5
}
