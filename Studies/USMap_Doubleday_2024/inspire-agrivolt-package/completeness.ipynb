{
 "cells": [
  {
   "cell_type": "code",
   "execution_count": 1,
   "id": "5d600853-ea2e-4a2b-b8dd-5be527dc4983",
   "metadata": {},
   "outputs": [],
   "source": [
    "import inspire_agrivolt\n",
    "from glob import glob\n",
    "import xarray as xr\n",
    "import pathlib"
   ]
  },
  {
   "cell_type": "code",
   "execution_count": null,
   "id": "fef5d483-201c-4265-abf0-f1f2f80c5d11",
   "metadata": {},
   "outputs": [],
   "source": [
    "# for i in range(1,10): #### CHECK CONF 01-09 skips checking 10\n",
    "for i in [7,9]:\n",
    "    conf = f\"{i:02d}\"\n",
    "\n",
    "    print(conf,inspire_agrivolt.check_completeness(outputs_dir=\"/projects/inspire/PySAM-MAPS/Full-Outputs/\", state=\"colorado\", conf=conf))"
   ]
  },
  {
   "cell_type": "code",
   "execution_count": null,
   "id": "203ca7f9-a6f6-405a-abd8-08c96cd4ed28",
   "metadata": {},
   "outputs": [],
   "source": [
    "import pvdeg\n",
    "\n",
    "weather_db = \"NSRDB\"\n",
    "weather_arg = {\n",
    "    \"satellite\": \"Americas\",\n",
    "    \"names\": \"TMY\",\n",
    "    \"NREL_HPC\": True,\n",
    "    \"attributes\": pvdeg.pysam.INSPIRE_NSRDB_ATTRIBUTES,\n",
    "}\n",
    "\n",
    "geo_weather, geo_meta = pvdeg.weather.get(\n",
    "    weather_db, geospatial=True, **weather_arg)\n",
    "\n"
   ]
  },
  {
   "cell_type": "code",
   "execution_count": 86,
   "id": "fbdaab00-535b-4aed-aa3d-a8794ba61019",
   "metadata": {},
   "outputs": [],
   "source": [
    "nc_files = sorted(list(pathlib.Path(\"/projects/inspire/PySAM-MAPS/v0.5/colorado/01\").glob(\"*.nc\")))"
   ]
  },
  {
   "cell_type": "code",
   "execution_count": 87,
   "id": "771a1f3d-ddad-47b6-a006-8cc46f6c531e",
   "metadata": {},
   "outputs": [],
   "source": [
    "inspire_agrivolt.check_datasets_coords_dims(nc_files)"
   ]
  },
  {
   "cell_type": "code",
   "execution_count": null,
   "id": "551bba66-f936-4e42-9dea-374ed7dfbcd1",
   "metadata": {},
   "outputs": [],
   "source": []
  }
 ],
 "metadata": {
  "kernelspec": {
   "display_name": "geospatial",
   "language": "python",
   "name": "geospatial"
  },
  "language_info": {
   "codemirror_mode": {
    "name": "ipython",
    "version": 3
   },
   "file_extension": ".py",
   "mimetype": "text/x-python",
   "name": "python",
   "nbconvert_exporter": "python",
   "pygments_lexer": "ipython3",
   "version": "3.9.21"
  }
 },
 "nbformat": 4,
 "nbformat_minor": 5
}
