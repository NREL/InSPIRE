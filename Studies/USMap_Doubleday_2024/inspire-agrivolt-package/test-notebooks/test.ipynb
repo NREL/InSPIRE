{
 "cells": [
  {
   "cell_type": "code",
   "execution_count": 1,
   "metadata": {},
   "outputs": [],
   "source": [
    "import pvdeg\n",
    "\n",
    "import xarray as xr\n",
    "import pandas as pd\n",
    "from dask.distributed import LocalCluster, Client\n",
    "import glob\n",
    "import numpy as np\n",
    "import dask.array as da\n",
    "import matplotlib.pyplot as plt\n",
    "\n",
    "#import inspire_agrivolt"
   ]
  },
  {
   "cell_type": "code",
   "execution_count": 2,
   "metadata": {},
   "outputs": [
    {
     "name": "stderr",
     "output_type": "stream",
     "text": [
      "/home/tford/.conda-envs/geospatial/lib/python3.9/site-packages/xarray/core/dataset.py:277: UserWarning: The specified chunks separate the stored chunks along dimension \"phony_dim_1\" starting at index 500. This could degrade performance. Instead, consider rechunking after loading.\n",
      "  warnings.warn(\n"
     ]
    }
   ],
   "source": [
    "WEATHER_DB = \"NSRDB\"\n",
    "WEATHER_ARG = {\n",
    "    \"satellite\": \"Americas\",\n",
    "    \"names\": \"TMY\",\n",
    "    \"NREL_HPC\": True,\n",
    "    \"attributes\": pvdeg.pysam.INSPIRE_NSRDB_ATTRIBUTES,\n",
    "}\n",
    "\n",
    "geo_weather, geo_meta = pvdeg.weather.get(\n",
    "    WEATHER_DB, geospatial=True, **WEATHER_ARG\n",
    ")"
   ]
  },
  {
   "cell_type": "code",
   "execution_count": 7,
   "metadata": {},
   "outputs": [
    {
     "data": {
      "text/html": [
       "<div>\n",
       "<style scoped>\n",
       "    .dataframe tbody tr th:only-of-type {\n",
       "        vertical-align: middle;\n",
       "    }\n",
       "\n",
       "    .dataframe tbody tr th {\n",
       "        vertical-align: top;\n",
       "    }\n",
       "\n",
       "    .dataframe thead th {\n",
       "        text-align: right;\n",
       "    }\n",
       "</style>\n",
       "<table border=\"1\" class=\"dataframe\">\n",
       "  <thead>\n",
       "    <tr style=\"text-align: right;\">\n",
       "      <th></th>\n",
       "      <th>latitude</th>\n",
       "      <th>longitude</th>\n",
       "    </tr>\n",
       "  </thead>\n",
       "  <tbody>\n",
       "    <tr>\n",
       "      <th>0</th>\n",
       "      <td>-15.950000</td>\n",
       "      <td>-179.979996</td>\n",
       "    </tr>\n",
       "    <tr>\n",
       "      <th>1</th>\n",
       "      <td>-15.990000</td>\n",
       "      <td>-179.979996</td>\n",
       "    </tr>\n",
       "    <tr>\n",
       "      <th>2</th>\n",
       "      <td>-16.030001</td>\n",
       "      <td>-179.979996</td>\n",
       "    </tr>\n",
       "    <tr>\n",
       "      <th>3</th>\n",
       "      <td>-16.070000</td>\n",
       "      <td>-179.979996</td>\n",
       "    </tr>\n",
       "    <tr>\n",
       "      <th>4</th>\n",
       "      <td>-16.110001</td>\n",
       "      <td>-179.979996</td>\n",
       "    </tr>\n",
       "    <tr>\n",
       "      <th>...</th>\n",
       "      <td>...</td>\n",
       "      <td>...</td>\n",
       "    </tr>\n",
       "    <tr>\n",
       "      <th>995</th>\n",
       "      <td>51.169998</td>\n",
       "      <td>-178.899994</td>\n",
       "    </tr>\n",
       "    <tr>\n",
       "      <th>996</th>\n",
       "      <td>51.130001</td>\n",
       "      <td>-178.899994</td>\n",
       "    </tr>\n",
       "    <tr>\n",
       "      <th>997</th>\n",
       "      <td>51.090000</td>\n",
       "      <td>-178.899994</td>\n",
       "    </tr>\n",
       "    <tr>\n",
       "      <th>998</th>\n",
       "      <td>51.049999</td>\n",
       "      <td>-178.899994</td>\n",
       "    </tr>\n",
       "    <tr>\n",
       "      <th>999</th>\n",
       "      <td>-16.990000</td>\n",
       "      <td>-178.899994</td>\n",
       "    </tr>\n",
       "  </tbody>\n",
       "</table>\n",
       "<p>1000 rows × 2 columns</p>\n",
       "</div>"
      ],
      "text/plain": [
       "      latitude   longitude\n",
       "0   -15.950000 -179.979996\n",
       "1   -15.990000 -179.979996\n",
       "2   -16.030001 -179.979996\n",
       "3   -16.070000 -179.979996\n",
       "4   -16.110001 -179.979996\n",
       "..         ...         ...\n",
       "995  51.169998 -178.899994\n",
       "996  51.130001 -178.899994\n",
       "997  51.090000 -178.899994\n",
       "998  51.049999 -178.899994\n",
       "999 -16.990000 -178.899994\n",
       "\n",
       "[1000 rows x 2 columns]"
      ]
     },
     "execution_count": 7,
     "metadata": {},
     "output_type": "execute_result"
    }
   ],
   "source": [
    "geo_meta[['latitude','longitude']]#.to_csv(\"nsrdb_full_meta.csv\")\n",
    "#import os\n",
    "\n",
    "#print(os.getcwd())"
   ]
  },
  {
   "cell_type": "code",
   "execution_count": 11,
   "metadata": {},
   "outputs": [
    {
     "data": {
      "text/plain": [
       "<Axes: >"
      ]
     },
     "execution_count": 11,
     "metadata": {},
     "output_type": "execute_result"
    },
    {
     "data": {
      "image/png": "[encoded data removed]",
      "text/plain": [
       "<Figure size 640x480 with 1 Axes>"
      ]
     },
     "metadata": {},
     "output_type": "display_data"
    }
   ],
   "source": [
    "geo_meta[['longitude']].plot()"
   ]
  },
  {
   "cell_type": "code",
   "execution_count": null,
   "metadata": {},
   "outputs": [],
   "source": [
    "conf = \"01\"\n",
    "state = \"Colorado\"\n",
    "target_path = f\"/projects/inspire/PySAM-MAPS/Full-Outputs/{state}/{conf}/merged.zarr\"\n",
    "\n",
    "merged = xr.open_zarr(target_path)\n",
    "\n",
    "merged_with_gids = pvdeg.utilities.restore_gids(\n",
    "    meta_df=geo_meta, # superset metadata, all US points\n",
    "    update_ds=merged\n",
    ")"
   ]
  },
  {
   "cell_type": "code",
   "execution_count": null,
   "metadata": {},
   "outputs": [],
   "source": [
    "xr.open_dataset(\"/projects/inspire/PySAM-MAPS/test-cli/05/462482-545008.nc\").albedo.mean(\"time\").plot()"
   ]
  },
  {
   "cell_type": "code",
   "execution_count": null,
   "metadata": {},
   "outputs": [],
   "source": [
    "import \n",
    "\n",
    "inspire_agrivolt.verify_dataset_gids"
   ]
  },
  {
   "cell_type": "code",
   "execution_count": null,
   "metadata": {},
   "outputs": [],
   "source": [
    "# confirm that all points are filled in\n",
    "# might be worth checking all variables individually \n",
    "ref_var = \"albedo\" # comes from nsrdb -> pysam -> outputs\n",
    "\n",
    "# this gets us pairs where null\n",
    "mask = merged_with_gids[ref_var].mean(dim=\"time\").isnull()\n",
    "\n",
    "skipped_gids = merged_with_gids.where(mask.compute(), drop=False).gid\n",
    "\n",
    "# visual representation of what was skipped\n",
    "#skipped_gids.plot()\n",
    "\n",
    "gids_arr = skipped_gids.values\n",
    "gids_arr = gids_arr[~np.isnan(gids_arr)].astype(int)\n",
    "\n",
    "gids_arr"
   ]
  },
  {
   "cell_type": "code",
   "execution_count": null,
   "metadata": {},
   "outputs": [],
   "source": [
    "@pvdeg.decorators.geospatial_quick_shape(\"numeric\", (\"gid\",))\n",
    "def map_gid(weather_df, meta):\n",
    "    return meta[\"gid\"]\n",
    "    "
   ]
  },
  {
   "cell_type": "code",
   "execution_count": null,
   "metadata": {},
   "outputs": [],
   "source": [
    "np.genfromtxt(f\"states-gids/{state}-gids.txt\", dtype=float)"
   ]
  },
  {
   "cell_type": "code",
   "execution_count": null,
   "metadata": {},
   "outputs": [],
   "source": [
    "merged"
   ]
  },
  {
   "cell_type": "code",
   "execution_count": null,
   "metadata": {},
   "outputs": [],
   "source": [
    "workers = 8\n",
    "\n",
    "cluster = LocalCluster(\n",
    "    n_workers=workers,\n",
    "    processes=True,\n",
    "    dashboard_address=22118,\n",
    ")\n",
    "\n",
    "client = Client(cluster)\n",
    "\n",
    "print(client.dashboard_link)"
   ]
  },
  {
   "cell_type": "code",
   "execution_count": null,
   "metadata": {},
   "outputs": [],
   "source": [
    "conf = \"10\"\n",
    "files = glob.glob(f\"/projects/inspire/PySAM-MAPS/Full-Outputs/Colorado/{conf}/*.nc\")\n",
    "zarr_path = f\"/projects/inspire/PySAM-MAPS/Full-Outputs/Colorado/{conf}/merged.zarr\"\n",
    "\n",
    "inspire_agrivolt.pysam_output_netcdf_to_zarr(\n",
    "    files=files,\n",
    "    zarr_path=zarr_path\n",
    ")"
   ]
  },
  {
   "cell_type": "code",
   "execution_count": null,
   "metadata": {},
   "outputs": [],
   "source": [
    "full_co_01 = xr.open_zarr(zarr_path)"
   ]
  },
  {
   "cell_type": "code",
   "execution_count": null,
   "metadata": {},
   "outputs": [],
   "source": [
    "full_co_01.pitch.plot()"
   ]
  },
  {
   "cell_type": "code",
   "execution_count": null,
   "metadata": {},
   "outputs": [],
   "source": [
    "import xarray as xr\n",
    "import matplotlib.pyplot as plt\n",
    "import numpy as np\n",
    "from matplotlib.cm import get_cmap\n",
    "\n",
    "def plot_dataset_grids(files: list[str], engine=\"netcdf4\") -> None:\n",
    "    \"\"\"\n",
    "    Plot the (longitude, latitude) grid points from each dataset with different colors.\n",
    "\n",
    "    Parameters\n",
    "    ----------\n",
    "    files : list[str]\n",
    "        List of NetCDF file paths.\n",
    "    engine : str\n",
    "        Backend engine to use for opening NetCDF files.\n",
    "    \"\"\"\n",
    "    cmap = get_cmap(\"tab20\")  # Up to 20 distinguishable colors\n",
    "    num_colors = len(files)\n",
    "\n",
    "    plt.figure(figsize=(10, 6))\n",
    "\n",
    "    for i, file in enumerate(files):\n",
    "        with xr.open_dataset(file, engine=engine) as ds:\n",
    "            lats = ds.latitude.values\n",
    "            lons = ds.longitude.values\n",
    "\n",
    "            grid_lon, grid_lat = np.meshgrid(lons, lats)\n",
    "\n",
    "            plt.scatter(\n",
    "                grid_lon.flatten(),\n",
    "                grid_lat.flatten(),\n",
    "                s=3,\n",
    "                color=cmap(i % 20),\n",
    "                label=f\"File {i}\",\n",
    "                marker='x'\n",
    "            )\n",
    "\n",
    "    plt.xlabel(\"Longitude\")\n",
    "    plt.ylabel(\"Latitude\")\n",
    "    plt.title(\"Grid points from each NetCDF file\")\n",
    "    plt.legend(markerscale=3, loc='upper right', bbox_to_anchor=(1.15, 1))\n",
    "    plt.grid(True)\n",
    "    plt.tight_layout()\n",
    "    plt.show()\n",
    "\n",
    "plot_dataset_grids(files)"
   ]
  },
  {
   "cell_type": "markdown",
   "metadata": {},
   "source": [
    "\n",
    "\n",
    "\n",
    "\n",
    "\n",
    "\n",
    "\n",
    "\n",
    "\n",
    "\n",
    "\n",
    "\n",
    "\n",
    "\n",
    "\n",
    "\n",
    "\n",
    "\n",
    "\n",
    "\n",
    "\n",
    "\n",
    "\n",
    "\n",
    "\n"
   ]
  },
  {
   "cell_type": "code",
   "execution_count": null,
   "metadata": {},
   "outputs": [],
   "source": [
    "xr.open_zarr(zarr_path).pitch.plot()"
   ]
  },
  {
   "cell_type": "code",
   "execution_count": null,
   "metadata": {},
   "outputs": [],
   "source": [
    "WEATHER_DB = \"NSRDB\"\n",
    "WEATHER_ARG = {\n",
    "    \"satellite\": \"Americas\",\n",
    "    \"names\": \"TMY\",\n",
    "    \"NREL_HPC\": True,\n",
    "    \"attributes\": pvdeg.pysam.INSPIRE_NSRDB_ATTRIBUTES,\n",
    "}"
   ]
  },
  {
   "cell_type": "code",
   "execution_count": null,
   "metadata": {},
   "outputs": [],
   "source": [
    "weather, meta, chunk_size = inspire_agrivolt.load_weather(local_test_paths=None, state=\"Colorado\")"
   ]
  },
  {
   "cell_type": "code",
   "execution_count": null,
   "metadata": {},
   "outputs": [],
   "source": [
    "weather"
   ]
  },
  {
   "cell_type": "code",
   "execution_count": null,
   "metadata": {},
   "outputs": [],
   "source": [
    "pvdeg.geospatial.output_template"
   ]
  },
  {
   "cell_type": "code",
   "execution_count": null,
   "metadata": {},
   "outputs": [],
   "source": [
    "pvdeg.geospatial.output_template(ds_gids=weather, shapes=pvdeg.pysam.INSPIRE_GEOSPATIAL_TEMPLATE_SHAPES, add_dims={\"distance\":10})"
   ]
  },
  {
   "cell_type": "code",
   "execution_count": null,
   "metadata": {},
   "outputs": [],
   "source": []
  },
  {
   "cell_type": "code",
   "execution_count": null,
   "metadata": {},
   "outputs": [],
   "source": [
    "meta.iloc[12:15].index"
   ]
  },
  {
   "cell_type": "code",
   "execution_count": null,
   "metadata": {},
   "outputs": [],
   "source": [
    "pvdeg.weather.get(\n",
    "    WEATHER_DB,\n",
    "    geospatial=True, \n",
    "    **WEATHER_ARG\n",
    ")"
   ]
  },
  {
   "cell_type": "code",
   "execution_count": null,
   "metadata": {},
   "outputs": [],
   "source": [
    "len(meta)"
   ]
  },
  {
   "cell_type": "code",
   "execution_count": null,
   "metadata": {},
   "outputs": [],
   "source": [
    "\"wind_direction\" in geo_weather.data_vars"
   ]
  },
  {
   "cell_type": "code",
   "execution_count": null,
   "metadata": {},
   "outputs": [],
   "source": [
    "geo_weather = geo_weather.assign(wind_direction=geo_weather[\"temp_air\"] * 0)\n",
    "geo_weather = geo_weather.assign(albedo=geo_weather[\"temp_air\"] * 0 + 0.2) \n",
    "\n",
    "geo_weather"
   ]
  },
  {
   "cell_type": "code",
   "execution_count": null,
   "metadata": {},
   "outputs": [],
   "source": [
    "geo_weather = xr.open_dataset(\"C:/Users/tford/Downloads/small-usa-tmy.nc\")\n",
    "geo_meta = pd.read_csv(\"C:/Users/tford/Downloads/small-usa-tmy.csv\", index_col=0)\n",
    "\n",
    "weather_df = geo_weather.isel(gid=0).to_dataframe()\n",
    "meta = geo_meta.iloc[0].to_dict()\n",
    "\n",
    "# add placeholder wind and albedo data\n",
    "# this will come from the NSRDB but this file does not contain it\n",
    "weather_df[\"wind_direction\"] = 0\n",
    "weather_df[\"albedo\"] = 0.2"
   ]
  },
  {
   "cell_type": "code",
   "execution_count": null,
   "metadata": {},
   "outputs": [],
   "source": [
    "conf = \"01\"\n",
    "\n",
    "single_loc_res = pvdeg.pysam.inspire_ground_irradiance(\n",
    "    weather_df=weather_df,\n",
    "    meta=meta,\n",
    "    config_files={\"pv\":f\"C:/Users/tford/dev/InSPIRE/Studies/USMap_Doubleday_2024/SAM/{conf}/{conf}_pvsamv1.json\"}\n",
    ")"
   ]
  },
  {
   "cell_type": "code",
   "execution_count": null,
   "metadata": {},
   "outputs": [],
   "source": [
    "# 15 day plot we can see that they all have values\n",
    "single_loc_res.ground_irradiance.isel(time=slice(650,1000)).plot()"
   ]
  }
 ],
 "metadata": {
  "kernelspec": {
   "display_name": "geospatial",
   "language": "python",
   "name": "geospatial"
  },
  "language_info": {
   "codemirror_mode": {
    "name": "ipython",
    "version": 3
   },
   "file_extension": ".py",
   "mimetype": "text/x-python",
   "name": "python",
   "nbconvert_exporter": "python",
   "pygments_lexer": "ipython3",
   "version": "3.9.21"
  }
 },
 "nbformat": 4,
 "nbformat_minor": 4
}
