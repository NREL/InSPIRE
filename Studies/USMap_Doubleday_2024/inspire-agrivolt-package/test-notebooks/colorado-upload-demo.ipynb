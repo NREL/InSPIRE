{
 "cells": [
  {
   "cell_type": "code",
   "execution_count": 1,
   "id": "3b3109b9-203a-4345-bcf3-caab9ba71cd0",
   "metadata": {},
   "outputs": [],
   "source": [
    "from pathlib import Path\n",
    "import xarray as xr"
   ]
  },
  {
   "cell_type": "code",
   "execution_count": 7,
   "id": "1afd6f86-4ce0-48e6-be26-25ce88913cfd",
   "metadata": {},
   "outputs": [],
   "source": [
    "for conf in (\"01\", \"02\", \"03\", \"05\", \"06\", \"07\"):\n",
    "    try:\n",
    "        opened = xr.open_mfdataset(f\"/projects/inspire/PySAM-MAPS/Full-Outputs/colorado/{conf}/*.nc\")\n",
    "        opened.to_zarr(f\"/projects/inspire/PySAM-MAPS/Full-Outputs/colorado/{conf}.zarr\")\n",
    "    except Exception as e:\n",
    "        print(conf, \"failed\")\n",
    "        print(e)"
   ]
  },
  {
   "cell_type": "code",
   "execution_count": null,
   "id": "dd8ff4f8-13e0-4ebb-a54f-90e6245173e5",
   "metadata": {},
   "outputs": [],
   "source": []
  }
 ],
 "metadata": {
  "kernelspec": {
   "display_name": "geospatial",
   "language": "python",
   "name": "geospatial"
  },
  "language_info": {
   "codemirror_mode": {
    "name": "ipython",
    "version": 3
   },
   "file_extension": ".py",
   "mimetype": "text/x-python",
   "name": "python",
   "nbconvert_exporter": "python",
   "pygments_lexer": "ipython3",
   "version": "3.9.21"
  }
 },
 "nbformat": 4,
 "nbformat_minor": 5
}
