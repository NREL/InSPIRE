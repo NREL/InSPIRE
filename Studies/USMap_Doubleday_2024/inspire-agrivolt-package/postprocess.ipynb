{
 "cells": [
  {
   "cell_type": "code",
   "execution_count": 1,
   "id": "909ec5e6",
   "metadata": {},
   "outputs": [],
   "source": [
    "import inspire_agrivolt\n",
    "    \n",
    "from dask.distributed import Client, LocalCluster\n",
    "\n",
    "from pathlib import Path\n",
    "import xarray as xr"
   ]
  },
  {
   "cell_type": "code",
   "execution_count": 2,
   "id": "443a63c0",
   "metadata": {},
   "outputs": [
    {
     "name": "stderr",
     "output_type": "stream",
     "text": [
      "/home/tford/.conda-envs/geospatial/lib/python3.9/site-packages/distributed/node.py:182: UserWarning: Port 8787 is already in use.\n",
      "Perhaps you already have a cluster running?\n",
      "Hosting the HTTP server on port 41287 instead\n",
      "  warnings.warn(\n"
     ]
    },
    {
     "name": "stdout",
     "output_type": "stream",
     "text": [
      "http://127.0.0.1:41287/status\n"
     ]
    }
   ],
   "source": [
    "cluster = LocalCluster(\n",
    "    n_workers=8\n",
    ")\n",
    "\n",
    "client = cluster.get_client()\n",
    "\n",
    "print(client.dashboard_link)"
   ]
  },
  {
   "cell_type": "code",
   "execution_count": 3,
   "id": "696034ca",
   "metadata": {},
   "outputs": [
    {
     "name": "stdout",
     "output_type": "stream",
     "text": [
      "2025-09-11 18:55:56,985 - inspire_agrivolt - INFO - Postprocessing scenario=01 using bed_proc=tracking_3_beds\n",
      "2025-09-11 18:55:57,018 - inspire_agrivolt - INFO - Merging outputs...\n",
      "2025-09-11 18:56:02,362 - inspire_agrivolt - INFO - Postprocessing complete\n",
      "2025-09-11 18:56:02,514 - inspire_agrivolt - INFO - Postprocessing scenario=02 using bed_proc=tracking_3_beds\n",
      "2025-09-11 18:56:02,538 - inspire_agrivolt - INFO - Merging outputs...\n",
      "2025-09-11 18:56:12,021 - inspire_agrivolt - INFO - Postprocessing complete\n",
      "2025-09-11 18:56:12,077 - inspire_agrivolt - INFO - Postprocessing scenario=03 using bed_proc=tracking_3_beds\n",
      "2025-09-11 18:56:12,102 - inspire_agrivolt - INFO - Merging outputs...\n",
      "2025-09-11 18:56:16,410 - inspire_agrivolt - INFO - Postprocessing complete\n",
      "2025-09-11 18:56:16,501 - inspire_agrivolt - INFO - Postprocessing scenario=04 using bed_proc=tracking_3_beds\n",
      "2025-09-11 18:56:16,522 - inspire_agrivolt - INFO - Merging outputs...\n",
      "2025-09-11 18:56:26,998 - inspire_agrivolt - INFO - Postprocessing complete\n",
      "2025-09-11 18:56:27,063 - inspire_agrivolt - INFO - Postprocessing scenario=05 using bed_proc=tracking_6_beds\n",
      "2025-09-11 18:56:27,089 - inspire_agrivolt - INFO - Merging outputs...\n",
      "2025-09-11 18:56:38,902 - inspire_agrivolt - INFO - Postprocessing complete\n",
      "2025-09-11 18:56:38,924 - inspire_agrivolt - INFO - Postprocessing scenario=10 using bed_proc=fixed_tilt_vertical_6_beds\n",
      "2025-09-11 18:56:38,952 - inspire_agrivolt - INFO - Merging outputs...\n",
      "2025-09-11 18:56:50,687 - inspire_agrivolt - INFO - Postprocessing complete\n"
     ]
    }
   ],
   "source": [
    "# conf = \"08\"\n",
    "\n",
    "confs = [\"01\", \"02\", \"03\", \"04\", \"05\", \"10\"]\n",
    "\n",
    "for conf in confs:\n",
    "\n",
    "    MODEL_OUTS_ZARR = Path(f\"/projects/inspire/PySAM-MAPS/v0.5/colorado/{conf}.zarr\")\n",
    "    POSTPROCESS_OUTS_ZARR = Path(f\"/projects/inspire/PySAM-MAPS/v0.5/postprocess/colorado/{conf}.zarr\")\n",
    "\n",
    "    inspire_agrivolt.beds_postprocessing.postprocessing(\n",
    "        scenario=conf,\n",
    "        input_zarr_path=MODEL_OUTS_ZARR,\n",
    "        output_zarr_path=POSTPROCESS_OUTS_ZARR\n",
    "    )"
   ]
  },
  {
   "cell_type": "code",
   "execution_count": 4,
   "id": "943e37e4",
   "metadata": {},
   "outputs": [],
   "source": [
    "loaded_postprocess_ds = xr.open_zarr(POSTPROCESS_OUTS_ZARR)"
   ]
  },
  {
   "cell_type": "code",
   "execution_count": 6,
   "id": "43e6caf8",
   "metadata": {},
   "outputs": [
    {
     "name": "stdout",
     "output_type": "stream",
     "text": [
      "<xarray.Dataset> Size: 11GB\n",
      "Dimensions:                                (gid: 15908, time: 8760)\n",
      "Coordinates:\n",
      "  * gid                                    (gid) int64 127kB 389874 ... 560852\n",
      "  * time                                   (time) datetime64[ns] 70kB 2001-01...\n",
      "Data variables:\n",
      "    annual_energy_per_acre                 (gid) float64 127kB dask.array<chunksize=(2000,), meta=np.ndarray>\n",
      "    annual_energy_per_kWdc_installed       (gid) float64 127kB dask.array<chunksize=(2000,), meta=np.ndarray>\n",
      "    beda                                   (gid, time) float64 1GB dask.array<chunksize=(2000, 8760), meta=np.ndarray>\n",
      "    bedb                                   (gid, time) float64 1GB dask.array<chunksize=(2000, 8760), meta=np.ndarray>\n",
      "    bedc                                   (gid, time) float64 1GB dask.array<chunksize=(2000, 8760), meta=np.ndarray>\n",
      "    bedd                                   (gid, time) float64 1GB dask.array<chunksize=(2000, 8760), meta=np.ndarray>\n",
      "    bede                                   (gid, time) float64 1GB dask.array<chunksize=(2000, 8760), meta=np.ndarray>\n",
      "    bedf                                   (gid, time) float64 1GB dask.array<chunksize=(2000, 8760), meta=np.ndarray>\n",
      "    edgetoedge                             (gid, time) float64 1GB dask.array<chunksize=(2000, 8760), meta=np.ndarray>\n",
      "    subarray1_dc_gross_per_acre            (gid, time) float64 1GB dask.array<chunksize=(2000, 8760), meta=np.ndarray>\n",
      "    subarray1_dc_gross_per_kWdc_installed  (gid, time) float64 1GB dask.array<chunksize=(2000, 8760), meta=np.ndarray>\n",
      "    underpannel                            (gid, time) float64 1GB dask.array<chunksize=(2000, 8760), meta=np.ndarray>\n"
     ]
    }
   ],
   "source": [
    "print(loaded_postprocess_ds)"
   ]
  },
  {
   "cell_type": "code",
   "execution_count": null,
   "id": "ed791f66",
   "metadata": {},
   "outputs": [],
   "source": [
    "loaded_postprocess_ds.annual_energy_per_kWdc_installed.compute()"
   ]
  },
  {
   "cell_type": "code",
   "execution_count": null,
   "id": "5a9e68aa",
   "metadata": {},
   "outputs": [],
   "source": [
    "post_ds = xr.open_zarr(\n",
    "    POSTPROCESS_OUTS_ZARR\n",
    ")"
   ]
  },
  {
   "cell_type": "code",
   "execution_count": null,
   "id": "04f8133a-101c-4633-a06b-8f0bb36d4347",
   "metadata": {},
   "outputs": [],
   "source": [
    "post_ds"
   ]
  },
  {
   "cell_type": "code",
   "execution_count": null,
   "id": "e56b2bd0-3786-4983-ae27-b62c22442ae7",
   "metadata": {},
   "outputs": [],
   "source": [
    "post_ds.bedA.plot()"
   ]
  },
  {
   "cell_type": "code",
   "execution_count": null,
   "id": "d01c7e3e-9079-44f6-9887-e3c8ab24c841",
   "metadata": {},
   "outputs": [],
   "source": [
    "model_ds = xr.open_zarr(\n",
    "    MODEL_OUTS_ZARR\n",
    ")"
   ]
  },
  {
   "cell_type": "code",
   "execution_count": null,
   "id": "06ee3baf-31d3-4951-8a01-4b009c28fd87",
   "metadata": {},
   "outputs": [],
   "source": [
    "model_ds.ground_irradiance.mean(dim=\"distance\").plot()"
   ]
  },
  {
   "cell_type": "code",
   "execution_count": null,
   "id": "0986ce48-23b5-424b-8df2-c5b827c2fd70",
   "metadata": {},
   "outputs": [],
   "source": []
  }
 ],
 "metadata": {
  "kernelspec": {
   "display_name": "geospatial",
   "language": "python",
   "name": "geospatial"
  },
  "language_info": {
   "codemirror_mode": {
    "name": "ipython",
    "version": 3
   },
   "file_extension": ".py",
   "mimetype": "text/x-python",
   "name": "python",
   "nbconvert_exporter": "python",
   "pygments_lexer": "ipython3",
   "version": "3.9.21"
  }
 },
 "nbformat": 4,
 "nbformat_minor": 5
}
