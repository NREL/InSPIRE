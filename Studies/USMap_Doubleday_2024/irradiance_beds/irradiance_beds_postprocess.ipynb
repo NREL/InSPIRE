{
 "cells": [
  {
   "cell_type": "code",
   "execution_count": 1,
   "metadata": {},
   "outputs": [],
   "source": [
    "import irradiance_beds\n",
    "import pandas as pd\n",
    "import xarray as xr"
   ]
  },
  {
   "cell_type": "code",
   "execution_count": 2,
   "metadata": {},
   "outputs": [],
   "source": [
    "### Alternatively we can run the function on this file rather than pulling from dataset netcdfs\n",
    "\n",
    "loaded = pd.read_csv(r\"agrivoltaics_irradiance_single_location-time-index.csv\", index_col=0)\n",
    "loaded.index = pd.DatetimeIndex(loaded.index)"
   ]
  },
  {
   "cell_type": "code",
   "execution_count": 45,
   "metadata": {},
   "outputs": [],
   "source": [
    "for conf in [\"01\", \"02\", \"03\"]:\n",
    "    for i in range(1,3):\n",
    "\n",
    "        fp = f\"/projects/inspire/PySAM-MAPS/CO-sample/{conf}/1-16th-res-{conf}.nc\"\n",
    "\n",
    "        irradiance_da = single_location_irrradiance_df = geospatial_loaded_co.isel(latitude=0, longitude=i).ground_irradiance\n",
    "        latitude = irradiance_da.latitude.values\n",
    "        longitude = irradiance_da.longitude.values\n",
    "        \n",
    "        single_location_irrradiance_df = geospatial_loaded_co.isel(latitude=0, longitude=i).ground_irradiance.to_pandas()\n",
    "\n",
    "        conf_beds = irradiance_beds.testbeds_irradiance(\n",
    "            irradiance_df=single_location_irrradiance_df,\n",
    "            conf=conf\n",
    "        )\n",
    "\n",
    "        res = pd.concat([single_location_irrradiance_df, conf_beds], axis=1)\n",
    "\n",
    "        res.to_csv(f\"beds-irradiance-{latitude}-{longitude}-conf-{conf}.csv\")"
   ]
  }
 ],
 "metadata": {
  "kernelspec": {
   "display_name": "geospatial",
   "language": "python",
   "name": "geospatial"
  },
  "language_info": {
   "codemirror_mode": {
    "name": "ipython",
    "version": 3
   },
   "file_extension": ".py",
   "mimetype": "text/x-python",
   "name": "python",
   "nbconvert_exporter": "python",
   "pygments_lexer": "ipython3",
   "version": "3.9.21"
  }
 },
 "nbformat": 4,
 "nbformat_minor": 4
}
