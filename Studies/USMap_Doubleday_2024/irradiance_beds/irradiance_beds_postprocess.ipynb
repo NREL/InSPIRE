{
 "cells": [
  {
   "cell_type": "code",
   "execution_count": 1,
   "metadata": {},
   "outputs": [],
   "source": [
    "import irradiance_beds\n",
    "import pandas as pd\n",
    "import xarray as xr"
   ]
  },
  {
   "cell_type": "code",
   "execution_count": 2,
   "metadata": {},
   "outputs": [],
   "source": [
    "### Alternatively we can run the function on this file rather than pulling from dataset netcdfs\n",
    "\n",
    "loaded = pd.read_csv(r\"agrivoltaics_irradiance_single_location-time-index.csv\", index_col=0)\n",
    "loaded.index = pd.DatetimeIndex(loaded.index)"
   ]
  },
  {
   "cell_type": "code",
   "execution_count": 45,
   "metadata": {},
   "outputs": [],
   "source": [
    "for conf in [\"01\", \"02\", \"03\"]:\n",
    "    for i in range(1,3):\n",
    "\n",
    "        fp = f\"/projects/inspire/PySAM-MAPS/CO-sample/{conf}/1-16th-res-{conf}.nc\"\n",
    "\n",
    "        irradiance_da = single_location_irrradiance_df = geospatial_loaded_co.isel(latitude=0, longitude=i).ground_irradiance\n",
    "        latitude = irradiance_da.latitude.values\n",
    "        longitude = irradiance_da.longitude.values\n",
    "        \n",
    "        single_location_irrradiance_df = geospatial_loaded_co.isel(latitude=0, longitude=i).ground_irradiance.to_pandas()\n",
    "\n",
    "        conf_beds = irradiance_beds.testbeds_irradiance(\n",
    "            irradiance_df=single_location_irrradiance_df,\n",
    "            conf=conf\n",
    "        )\n",
    "\n",
    "        res = pd.concat([single_location_irrradiance_df, conf_beds], axis=1)\n",
    "\n",
    "        res.to_csv(f\"beds-irradiance-{latitude}-{longitude}-conf-{conf}.csv\")"
   ]
  },
  {
   "cell_type": "code",
   "execution_count": 126,
   "metadata": {},
   "outputs": [],
   "source": [
    "### CONVERTING TO H5 from csvs\n",
    "# this is a bad step, we do not want to do this on a large scale but CSV's existed already ehhh\n",
    "\n",
    "import os\n",
    "import glob\n",
    "import xarray as xr\n",
    "\n",
    "files = glob.glob(os.path.join(os.getcwd(), \"beds-*.csv\"))"
   ]
  },
  {
   "cell_type": "code",
   "execution_count": 125,
   "metadata": {},
   "outputs": [
    {
     "data": {
      "text/plain": [
       "['/home/tford/dev/InSPIRE/Studies/USMap_Doubleday_2024/irradiance_beds/beds-irradiance-37.0099983215332--108.9000015258789-conf-01.csv',\n",
       " '/home/tford/dev/InSPIRE/Studies/USMap_Doubleday_2024/irradiance_beds/beds-irradiance-37.0099983215332--108.9000015258789-conf-02.csv',\n",
       " '/home/tford/dev/InSPIRE/Studies/USMap_Doubleday_2024/irradiance_beds/beds-irradiance-37.0099983215332--108.9000015258789-conf-03.csv']"
      ]
     },
     "execution_count": 125,
     "metadata": {},
     "output_type": "execute_result"
    }
   ],
   "source": [
    "files"
   ]
  },
  {
   "cell_type": "code",
   "execution_count": 129,
   "metadata": {},
   "outputs": [
    {
     "name": "stdout",
     "output_type": "stream",
     "text": [
      "01 group has 2 locations:\n",
      "  - /home/tford/dev/InSPIRE/Studies/USMap_Doubleday_2024/irradiance_beds/beds-irradiance-37.0099983215332--108.9000015258789-conf-01.csv\n",
      "  - /home/tford/dev/InSPIRE/Studies/USMap_Doubleday_2024/irradiance_beds/beds-irradiance-37.0099983215332--108.73999786376953-conf-01.csv\n",
      "\n",
      "02 group has 2 locations:\n",
      "  - /home/tford/dev/InSPIRE/Studies/USMap_Doubleday_2024/irradiance_beds/beds-irradiance-37.0099983215332--108.73999786376953-conf-02.csv\n",
      "  - /home/tford/dev/InSPIRE/Studies/USMap_Doubleday_2024/irradiance_beds/beds-irradiance-37.0099983215332--108.9000015258789-conf-02.csv\n",
      "\n",
      "03 group has 2 locations:\n",
      "  - /home/tford/dev/InSPIRE/Studies/USMap_Doubleday_2024/irradiance_beds/beds-irradiance-37.0099983215332--108.73999786376953-conf-03.csv\n",
      "  - /home/tford/dev/InSPIRE/Studies/USMap_Doubleday_2024/irradiance_beds/beds-irradiance-37.0099983215332--108.9000015258789-conf-03.csv\n",
      "\n"
     ]
    }
   ],
   "source": [
    "from collections import defaultdict\n",
    "# Group by configuration type (conf-01, conf-02, conf-03)\n",
    "config_groups = defaultdict(list)\n",
    "\n",
    "for file in files:\n",
    "    # Extract configuration type from the filename\n",
    "    parts = file.split(\"-\")\n",
    "    config_type = parts[-1].split(\".\")[0]  # Extract conf-01, conf-02, conf-03\n",
    "    config_groups[config_type].append(file)\n",
    "\n",
    "    \n",
    "# Display the grouped results\n",
    "for config, paths in sorted(config_groups.items()):\n",
    "    print(f\"{config} group has {len(paths)} locations:\")\n",
    "    for path in paths:\n",
    "        print(f\"  - {path}\")\n",
    "    print()"
   ]
  },
  {
   "cell_type": "code",
   "execution_count": 131,
   "metadata": {},
   "outputs": [
    {
     "data": {
      "text/plain": [
       "defaultdict(list,\n",
       "            {'03': ['/home/tford/dev/InSPIRE/Studies/USMap_Doubleday_2024/irradiance_beds/beds-irradiance-37.0099983215332--108.73999786376953-conf-03.csv',\n",
       "              '/home/tford/dev/InSPIRE/Studies/USMap_Doubleday_2024/irradiance_beds/beds-irradiance-37.0099983215332--108.9000015258789-conf-03.csv'],\n",
       "             '01': ['/home/tford/dev/InSPIRE/Studies/USMap_Doubleday_2024/irradiance_beds/beds-irradiance-37.0099983215332--108.9000015258789-conf-01.csv',\n",
       "              '/home/tford/dev/InSPIRE/Studies/USMap_Doubleday_2024/irradiance_beds/beds-irradiance-37.0099983215332--108.73999786376953-conf-01.csv'],\n",
       "             '02': ['/home/tford/dev/InSPIRE/Studies/USMap_Doubleday_2024/irradiance_beds/beds-irradiance-37.0099983215332--108.73999786376953-conf-02.csv',\n",
       "              '/home/tford/dev/InSPIRE/Studies/USMap_Doubleday_2024/irradiance_beds/beds-irradiance-37.0099983215332--108.9000015258789-conf-02.csv']})"
      ]
     },
     "execution_count": 131,
     "metadata": {},
     "output_type": "execute_result"
    }
   ],
   "source": [
    "config_groups"
   ]
  },
  {
   "cell_type": "code",
   "execution_count": 132,
   "metadata": {},
   "outputs": [],
   "source": [
    "for conf in ['01','02','03']:\n",
    "    path_a = config_groups[conf][0]\n",
    "    path_a = config_groups[conf][1]\n",
    "\n",
    "    single = load_csv(path_a)\n",
    "\n",
    "    # only contains first location for now\n",
    "    builder = xr.Dataset.from_dataframe(single).expand_dims({\"latitude\":lats, \"longitude\":lons})\n",
    "    \n",
    "    second_location = xr.Dataset.from_dataframe(load_csv(path_b))\n",
    "    \n",
    "    builder = builder.assign({\n",
    "        var: builder[var].where(~((builder.latitude == lats[0]) & (builder.longitude == lons[1])), second_location[var])\n",
    "        for var in second_location.data_vars\n",
    "    })\n",
    "\n",
    "    builder.to_netcdf(f\"{conf}-irradiance.h5\", engine=\"h5netcdf\")\n",
    "\n",
    "    "
   ]
  },
  {
   "cell_type": "code",
   "execution_count": 136,
   "metadata": {},
   "outputs": [
    {
     "data": {
      "text/plain": [
       "<matplotlib.collections.QuadMesh at 0x7f5f20ec65e0>"
      ]
     },
     "execution_count": 136,
     "metadata": {},
     "output_type": "execute_result"
    },
    {
     "data": {
      "image/png": "[encoded data removed]",
      "text/plain": [
       "<Figure size 640x480 with 2 Axes>"
      ]
     },
     "metadata": {},
     "output_type": "display_data"
    }
   ],
   "source": [
    "xr.open_dataset(\"03-irradiance.h5\").edgetoedge.plot()"
   ]
  },
  {
   "cell_type": "code",
   "execution_count": 119,
   "metadata": {},
   "outputs": [
    {
     "name": "stdout",
     "output_type": "stream",
     "text": [
      "['/home/tford/dev/InSPIRE/Studies/USMap_Doubleday_2024/irradiance_beds/beds-irradiance-37.0099983215332--108.9000015258789-conf-01.csv', '/home/tford/dev/InSPIRE/Studies/USMap_Doubleday_2024/irradiance_beds/beds-irradiance-37.0099983215332--108.9000015258789-conf-02.csv', '/home/tford/dev/InSPIRE/Studies/USMap_Doubleday_2024/irradiance_beds/beds-irradiance-37.0099983215332--108.9000015258789-conf-03.csv']\n"
     ]
    },
    {
     "data": {
      "text/html": [
       "<div>\n",
       "<style scoped>\n",
       "    .dataframe tbody tr th:only-of-type {\n",
       "        vertical-align: middle;\n",
       "    }\n",
       "\n",
       "    .dataframe tbody tr th {\n",
       "        vertical-align: top;\n",
       "    }\n",
       "\n",
       "    .dataframe thead th {\n",
       "        text-align: right;\n",
       "    }\n",
       "</style>\n",
       "<table border=\"1\" class=\"dataframe\">\n",
       "  <thead>\n",
       "    <tr style=\"text-align: right;\">\n",
       "      <th></th>\n",
       "      <th>0</th>\n",
       "      <th>1</th>\n",
       "      <th>2</th>\n",
       "      <th>3</th>\n",
       "      <th>4</th>\n",
       "      <th>5</th>\n",
       "      <th>6</th>\n",
       "      <th>7</th>\n",
       "      <th>8</th>\n",
       "      <th>9</th>\n",
       "      <th>underpanel</th>\n",
       "      <th>edgetoedge</th>\n",
       "      <th>bedA</th>\n",
       "      <th>bedB</th>\n",
       "      <th>bedC</th>\n",
       "    </tr>\n",
       "    <tr>\n",
       "      <th>time</th>\n",
       "      <th></th>\n",
       "      <th></th>\n",
       "      <th></th>\n",
       "      <th></th>\n",
       "      <th></th>\n",
       "      <th></th>\n",
       "      <th></th>\n",
       "      <th></th>\n",
       "      <th></th>\n",
       "      <th></th>\n",
       "      <th></th>\n",
       "      <th></th>\n",
       "      <th></th>\n",
       "      <th></th>\n",
       "      <th></th>\n",
       "    </tr>\n",
       "  </thead>\n",
       "  <tbody>\n",
       "    <tr>\n",
       "      <th>2001-01-01 00:30:00</th>\n",
       "      <td>0.0</td>\n",
       "      <td>0.0</td>\n",
       "      <td>0.0</td>\n",
       "      <td>0.0</td>\n",
       "      <td>0.0</td>\n",
       "      <td>0.0</td>\n",
       "      <td>0.0</td>\n",
       "      <td>0.0</td>\n",
       "      <td>0.0</td>\n",
       "      <td>0.0</td>\n",
       "      <td>0.0</td>\n",
       "      <td>0.0</td>\n",
       "      <td>0.0</td>\n",
       "      <td>0.0</td>\n",
       "      <td>0.0</td>\n",
       "    </tr>\n",
       "    <tr>\n",
       "      <th>2001-01-01 01:30:00</th>\n",
       "      <td>0.0</td>\n",
       "      <td>0.0</td>\n",
       "      <td>0.0</td>\n",
       "      <td>0.0</td>\n",
       "      <td>0.0</td>\n",
       "      <td>0.0</td>\n",
       "      <td>0.0</td>\n",
       "      <td>0.0</td>\n",
       "      <td>0.0</td>\n",
       "      <td>0.0</td>\n",
       "      <td>0.0</td>\n",
       "      <td>0.0</td>\n",
       "      <td>0.0</td>\n",
       "      <td>0.0</td>\n",
       "      <td>0.0</td>\n",
       "    </tr>\n",
       "    <tr>\n",
       "      <th>2001-01-01 02:30:00</th>\n",
       "      <td>0.0</td>\n",
       "      <td>0.0</td>\n",
       "      <td>0.0</td>\n",
       "      <td>0.0</td>\n",
       "      <td>0.0</td>\n",
       "      <td>0.0</td>\n",
       "      <td>0.0</td>\n",
       "      <td>0.0</td>\n",
       "      <td>0.0</td>\n",
       "      <td>0.0</td>\n",
       "      <td>0.0</td>\n",
       "      <td>0.0</td>\n",
       "      <td>0.0</td>\n",
       "      <td>0.0</td>\n",
       "      <td>0.0</td>\n",
       "    </tr>\n",
       "    <tr>\n",
       "      <th>2001-01-01 03:30:00</th>\n",
       "      <td>0.0</td>\n",
       "      <td>0.0</td>\n",
       "      <td>0.0</td>\n",
       "      <td>0.0</td>\n",
       "      <td>0.0</td>\n",
       "      <td>0.0</td>\n",
       "      <td>0.0</td>\n",
       "      <td>0.0</td>\n",
       "      <td>0.0</td>\n",
       "      <td>0.0</td>\n",
       "      <td>0.0</td>\n",
       "      <td>0.0</td>\n",
       "      <td>0.0</td>\n",
       "      <td>0.0</td>\n",
       "      <td>0.0</td>\n",
       "    </tr>\n",
       "    <tr>\n",
       "      <th>2001-01-01 04:30:00</th>\n",
       "      <td>0.0</td>\n",
       "      <td>0.0</td>\n",
       "      <td>0.0</td>\n",
       "      <td>0.0</td>\n",
       "      <td>0.0</td>\n",
       "      <td>0.0</td>\n",
       "      <td>0.0</td>\n",
       "      <td>0.0</td>\n",
       "      <td>0.0</td>\n",
       "      <td>0.0</td>\n",
       "      <td>0.0</td>\n",
       "      <td>0.0</td>\n",
       "      <td>0.0</td>\n",
       "      <td>0.0</td>\n",
       "      <td>0.0</td>\n",
       "    </tr>\n",
       "    <tr>\n",
       "      <th>...</th>\n",
       "      <td>...</td>\n",
       "      <td>...</td>\n",
       "      <td>...</td>\n",
       "      <td>...</td>\n",
       "      <td>...</td>\n",
       "      <td>...</td>\n",
       "      <td>...</td>\n",
       "      <td>...</td>\n",
       "      <td>...</td>\n",
       "      <td>...</td>\n",
       "      <td>...</td>\n",
       "      <td>...</td>\n",
       "      <td>...</td>\n",
       "      <td>...</td>\n",
       "      <td>...</td>\n",
       "    </tr>\n",
       "    <tr>\n",
       "      <th>2001-12-31 19:30:00</th>\n",
       "      <td>0.0</td>\n",
       "      <td>0.0</td>\n",
       "      <td>0.0</td>\n",
       "      <td>0.0</td>\n",
       "      <td>0.0</td>\n",
       "      <td>0.0</td>\n",
       "      <td>0.0</td>\n",
       "      <td>0.0</td>\n",
       "      <td>0.0</td>\n",
       "      <td>0.0</td>\n",
       "      <td>0.0</td>\n",
       "      <td>0.0</td>\n",
       "      <td>0.0</td>\n",
       "      <td>0.0</td>\n",
       "      <td>0.0</td>\n",
       "    </tr>\n",
       "    <tr>\n",
       "      <th>2001-12-31 20:30:00</th>\n",
       "      <td>0.0</td>\n",
       "      <td>0.0</td>\n",
       "      <td>0.0</td>\n",
       "      <td>0.0</td>\n",
       "      <td>0.0</td>\n",
       "      <td>0.0</td>\n",
       "      <td>0.0</td>\n",
       "      <td>0.0</td>\n",
       "      <td>0.0</td>\n",
       "      <td>0.0</td>\n",
       "      <td>0.0</td>\n",
       "      <td>0.0</td>\n",
       "      <td>0.0</td>\n",
       "      <td>0.0</td>\n",
       "      <td>0.0</td>\n",
       "    </tr>\n",
       "    <tr>\n",
       "      <th>2001-12-31 21:30:00</th>\n",
       "      <td>0.0</td>\n",
       "      <td>0.0</td>\n",
       "      <td>0.0</td>\n",
       "      <td>0.0</td>\n",
       "      <td>0.0</td>\n",
       "      <td>0.0</td>\n",
       "      <td>0.0</td>\n",
       "      <td>0.0</td>\n",
       "      <td>0.0</td>\n",
       "      <td>0.0</td>\n",
       "      <td>0.0</td>\n",
       "      <td>0.0</td>\n",
       "      <td>0.0</td>\n",
       "      <td>0.0</td>\n",
       "      <td>0.0</td>\n",
       "    </tr>\n",
       "    <tr>\n",
       "      <th>2001-12-31 22:30:00</th>\n",
       "      <td>0.0</td>\n",
       "      <td>0.0</td>\n",
       "      <td>0.0</td>\n",
       "      <td>0.0</td>\n",
       "      <td>0.0</td>\n",
       "      <td>0.0</td>\n",
       "      <td>0.0</td>\n",
       "      <td>0.0</td>\n",
       "      <td>0.0</td>\n",
       "      <td>0.0</td>\n",
       "      <td>0.0</td>\n",
       "      <td>0.0</td>\n",
       "      <td>0.0</td>\n",
       "      <td>0.0</td>\n",
       "      <td>0.0</td>\n",
       "    </tr>\n",
       "    <tr>\n",
       "      <th>2001-12-31 23:30:00</th>\n",
       "      <td>0.0</td>\n",
       "      <td>0.0</td>\n",
       "      <td>0.0</td>\n",
       "      <td>0.0</td>\n",
       "      <td>0.0</td>\n",
       "      <td>0.0</td>\n",
       "      <td>0.0</td>\n",
       "      <td>0.0</td>\n",
       "      <td>0.0</td>\n",
       "      <td>0.0</td>\n",
       "      <td>0.0</td>\n",
       "      <td>0.0</td>\n",
       "      <td>0.0</td>\n",
       "      <td>0.0</td>\n",
       "      <td>0.0</td>\n",
       "    </tr>\n",
       "  </tbody>\n",
       "</table>\n",
       "<p>8760 rows × 15 columns</p>\n",
       "</div>"
      ],
      "text/plain": [
       "                       0    1    2    3    4    5    6    7    8    9  \\\n",
       "time                                                                    \n",
       "2001-01-01 00:30:00  0.0  0.0  0.0  0.0  0.0  0.0  0.0  0.0  0.0  0.0   \n",
       "2001-01-01 01:30:00  0.0  0.0  0.0  0.0  0.0  0.0  0.0  0.0  0.0  0.0   \n",
       "2001-01-01 02:30:00  0.0  0.0  0.0  0.0  0.0  0.0  0.0  0.0  0.0  0.0   \n",
       "2001-01-01 03:30:00  0.0  0.0  0.0  0.0  0.0  0.0  0.0  0.0  0.0  0.0   \n",
       "2001-01-01 04:30:00  0.0  0.0  0.0  0.0  0.0  0.0  0.0  0.0  0.0  0.0   \n",
       "...                  ...  ...  ...  ...  ...  ...  ...  ...  ...  ...   \n",
       "2001-12-31 19:30:00  0.0  0.0  0.0  0.0  0.0  0.0  0.0  0.0  0.0  0.0   \n",
       "2001-12-31 20:30:00  0.0  0.0  0.0  0.0  0.0  0.0  0.0  0.0  0.0  0.0   \n",
       "2001-12-31 21:30:00  0.0  0.0  0.0  0.0  0.0  0.0  0.0  0.0  0.0  0.0   \n",
       "2001-12-31 22:30:00  0.0  0.0  0.0  0.0  0.0  0.0  0.0  0.0  0.0  0.0   \n",
       "2001-12-31 23:30:00  0.0  0.0  0.0  0.0  0.0  0.0  0.0  0.0  0.0  0.0   \n",
       "\n",
       "                     underpanel  edgetoedge  bedA  bedB  bedC  \n",
       "time                                                           \n",
       "2001-01-01 00:30:00         0.0         0.0   0.0   0.0   0.0  \n",
       "2001-01-01 01:30:00         0.0         0.0   0.0   0.0   0.0  \n",
       "2001-01-01 02:30:00         0.0         0.0   0.0   0.0   0.0  \n",
       "2001-01-01 03:30:00         0.0         0.0   0.0   0.0   0.0  \n",
       "2001-01-01 04:30:00         0.0         0.0   0.0   0.0   0.0  \n",
       "...                         ...         ...   ...   ...   ...  \n",
       "2001-12-31 19:30:00         0.0         0.0   0.0   0.0   0.0  \n",
       "2001-12-31 20:30:00         0.0         0.0   0.0   0.0   0.0  \n",
       "2001-12-31 21:30:00         0.0         0.0   0.0   0.0   0.0  \n",
       "2001-12-31 22:30:00         0.0         0.0   0.0   0.0   0.0  \n",
       "2001-12-31 23:30:00         0.0         0.0   0.0   0.0   0.0  \n",
       "\n",
       "[8760 rows x 15 columns]"
      ]
     },
     "execution_count": 119,
     "metadata": {},
     "output_type": "execute_result"
    }
   ],
   "source": [
    "files = groups['--108.73999786376953']\n",
    "files = groups['--108.9000015258789']\n",
    "\n",
    "# handle configs in order\n",
    "files.sort()\n",
    "\n",
    "path_a = files[0]\n",
    "path_b = files[1]\n",
    "\n",
    "def load_csv(path) -> xr.Dataset:\n",
    "\n",
    "    single = pd.read_csv(path, index_col=0)\n",
    "    single.index = pd.date_range(\"2001-01-01 00:30:00\", periods=8760, freq=\"1h\")\n",
    "    single.index.name = \"time\"\n",
    "\n",
    "    return single\n",
    "\n",
    "single = load_csv(path_a)\n",
    "single"
   ]
  },
  {
   "cell_type": "code",
   "execution_count": 105,
   "metadata": {},
   "outputs": [],
   "source": [
    "lats = [\n",
    "37.0099983215332\n",
    "]\n",
    "    \n",
    "lons = [\n",
    "-108.73999786376953,\n",
    "-108.9000015258789\n",
    "]\n",
    "\n",
    "# only contains first location for now\n",
    "builder = xr.Dataset.from_dataframe(single).expand_dims({\"latitude\":lats, \"longitude\":lons})\n",
    "\n",
    "second_location = xr.Dataset.from_dataframe(load_csv(path_b))\n",
    "\n",
    "builder = builder.assign({\n",
    "    var: builder[var].where(~((builder.latitude == lats[0]) & (builder.longitude == lons[1])), second_location[var])\n",
    "    for var in second_location.data_vars\n",
    "})"
   ]
  },
  {
   "cell_type": "code",
   "execution_count": 109,
   "metadata": {},
   "outputs": [
    {
     "data": {
      "text/plain": [
       "[<matplotlib.lines.Line2D at 0x7f5f21815c40>]"
      ]
     },
     "execution_count": 109,
     "metadata": {},
     "output_type": "execute_result"
    },
    {
     "data": {
      "image/png": "[encoded data removed]",
      "text/plain": [
       "<Figure size 640x480 with 1 Axes>"
      ]
     },
     "metadata": {},
     "output_type": "display_data"
    }
   ],
   "source": [
    "builder.isel(latitude=0, longitude=0)"
   ]
  }
 ],
 "metadata": {
  "kernelspec": {
   "display_name": "geospatial",
   "language": "python",
   "name": "geospatial"
  },
  "language_info": {
   "codemirror_mode": {
    "name": "ipython",
    "version": 3
   },
   "file_extension": ".py",
   "mimetype": "text/x-python",
   "name": "python",
   "nbconvert_exporter": "python",
   "pygments_lexer": "ipython3",
   "version": "3.9.21"
  }
 },
 "nbformat": 4,
 "nbformat_minor": 4
}
