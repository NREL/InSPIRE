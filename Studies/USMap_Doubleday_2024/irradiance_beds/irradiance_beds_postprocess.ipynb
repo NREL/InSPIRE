{
 "cells": [
  {
   "cell_type": "code",
   "execution_count": null,
   "metadata": {},
   "outputs": [],
   "source": [
    "import irradiance_beds\n",
    "import pandas as pd\n",
    "import xarray as xr\n",
    "import numpy as np\n",
    "\n",
    "import pvdeg"
   ]
  },
  {
   "cell_type": "code",
   "execution_count": null,
   "metadata": {},
   "outputs": [],
   "source": [
    "pvdeg.geospatial.start_dask()\n",
    "\n",
    "coords = [\n",
    "    (37.01, -108.9),\n",
    "    (37.01, -108.74)\n",
    "]\n",
    "\n",
    "# # this is to fix the missing weather data\n",
    "weather, meta, failed = pvdeg.weather.weather_distributed(\n",
    "    coords = coords,\n",
    "    database=\"PSM3\",\n",
    "    email=\"tobin.ford@nrel.gov\"\n",
    ")"
   ]
  },
  {
   "cell_type": "markdown",
   "metadata": {},
   "source": [
    "Force load a sample output so we can generate an output template."
   ]
  },
  {
   "cell_type": "code",
   "execution_count": null,
   "metadata": {},
   "outputs": [],
   "source": [
    "conf = \"01\"\n",
    "fp = f\"/projects/inspire/PySAM-MAPS/CO-sample/{conf}/1-16th-res-{conf}.nc\"\n",
    "\n",
    "loaded = xr.open_dataset(fp)\n",
    "loaded_sub = loaded.isel(latitude=slice(0,1), longitude=range(1,3))\n",
    "\n",
    "template = irradiance_beds.output_template(loaded_sub)"
   ]
  },
  {
   "cell_type": "code",
   "execution_count": null,
   "metadata": {},
   "outputs": [],
   "source": [
    "template.compute()"
   ]
  },
  {
   "cell_type": "code",
   "execution_count": null,
   "metadata": {},
   "outputs": [],
   "source": [
    "for conf in [\"01\", \"02\", \"03\"]:\n",
    "\n",
    "    conf_template = template.copy()\n",
    "    \n",
    "    for i in range(1,3):\n",
    "\n",
    "        single_location_irrradiance_da = loaded.isel(latitude=0, longitude=i).ground_irradiance\n",
    "        latitude, longitude = coords[i - 1]\n",
    "\n",
    "        conf_beds = irradiance_beds.testbeds_irradiance(\n",
    "            irradiance_df=single_location_irrradiance_da.to_pandas(),\n",
    "            conf=conf\n",
    "        )\n",
    "\n",
    "        # save conf_beds results\n",
    "        for var_name, da in conf_beds_ds.data_vars.items():\n",
    "            conf_template[var_name].loc[dict(latitude=[latitude], longitude=[longitude])] = da\n",
    "\n",
    "        # save irradiance data with distance axis\n",
    "        conf_template['ground_irradiance'].loc[dict(latitude=[latitude], longitude=[longitude])] = single_location_irrradiance_da\n",
    "\n",
    "        # save weather data|\n",
    "        weather_da = weather.isel(gid=i - 1).drop_vars([\"Year\", \"Month\", \"Day\", \"Hour\", \"Minute\", \"gid\"])\n",
    "        for var_name, da in weather_da.data_vars.items():\n",
    "            conf_template[var_name].loc[dict(latitude=[latitude], longitude=[longitude])] = da\n",
    "\n",
    "    # conf_template.to_netcdf(f\"conf_{conf}-agrivoltaics-irradiance-weather.h5\", engine=\"h5netcdf\")"
   ]
  },
  {
   "cell_type": "code",
   "execution_count": null,
   "metadata": {},
   "outputs": [],
   "source": [
    "#weather[\"time\"] = res.index # overwrite mismatched time index, both are localized tmy data\n",
    "\n",
    "for conf in [\"01\", \"02\", \"03\"]:\n",
    "    for i in range(1,3):\n",
    "\n",
    "        fp = f\"/projects/inspire/PySAM-MAPS/CO-sample/{conf}/1-16th-res-{conf}.nc\"\n",
    "\n",
    "        single_location_irrradiance_da = loaded.isel(latitude=0, longitude=i).ground_irradiance\n",
    "        latitude = single_location_irrradiance_da.latitude.values\n",
    "        longitude = single_location_irrradiance_da.longitude.values\n",
    "\n",
    "        single_location_tmy_df = weather.isel(gid=0).drop_vars([\"Year\", \"Month\", \"Day\", \"Hour\", \"Minute\", \"gid\"]).to_dataframe()\n",
    "\n",
    "        conf_beds = irradiance_beds.testbeds_irradiance(\n",
    "            irradiance_df=single_location_irrradiance_da.to_pandas(),\n",
    "            conf=conf\n",
    "        )\n",
    "\n",
    "        \n",
    "        \n",
    "        \n",
    "\n",
    "        #res = pd.concat([single_location_irrradiance_df, conf_beds, single_location_tmy_df], axis=1)\n",
    "\n",
    "        #res.to_csv(f\"beds-irradiance-{latitude}-{longitude}-conf-{conf}.csv\")"
   ]
  },
  {
   "cell_type": "code",
   "execution_count": null,
   "metadata": {},
   "outputs": [],
   "source": [
    "xr.Dataset.from_dataframe(conf_beds).expand_dims([\"latitude\", \"longitude\"])"
   ]
  },
  {
   "cell_type": "code",
   "execution_count": null,
   "metadata": {},
   "outputs": [],
   "source": [
    "conf_beds = irradiance_beds.testbeds_irradiance(\n",
    "    irradiance_df=single_location_irrradiance_da.to_pandas(),\n",
    "    conf=conf\n",
    ")\n"
   ]
  },
  {
   "cell_type": "code",
   "execution_count": null,
   "metadata": {},
   "outputs": [],
   "source": [
    "conf = \"01\"\n",
    "fp = f\"/projects/inspire/PySAM-MAPS/CO-sample/{conf}/1-16th-res-{conf}.nc\"\n",
    "\n",
    "loaded = xr.open_dataset(fp)\n",
    "\n",
    "irradiance_beds.output_template(loaded)"
   ]
  },
  {
   "cell_type": "code",
   "execution_count": null,
   "metadata": {},
   "outputs": [],
   "source": [
    "lats = (37.01,)\n",
    "lons = (-108.9, -108.74)\n",
    "\n",
    "single_location = xr.Dataset.from_dataframe(single_location_tmy_df).expand_dims({\"latitude\":lats, \"longitude\":lons})\n",
    "\n",
    "single_location[\"ground_irradiance\"] = single_location_irrradiance_da\n",
    "\n",
    "single_location"
   ]
  },
  {
   "cell_type": "code",
   "execution_count": null,
   "metadata": {},
   "outputs": [],
   "source": [
    "xr.Dataset(\n",
    "    \n",
    "    \n",
    ")"
   ]
  },
  {
   "cell_type": "code",
   "execution_count": null,
   "metadata": {},
   "outputs": [],
   "source": [
    "weather.isel(gid=0).drop_vars([\"Year\", \"Month\", \"Day\", \"Hour\", \"Minute\", \"gid\"])"
   ]
  },
  {
   "cell_type": "code",
   "execution_count": null,
   "metadata": {},
   "outputs": [],
   "source": [
    "fp = f\"/projects/inspire/PySAM-MAPS/CO-sample/{conf}/1-16th-res-{conf}.nc\"\n",
    "\n",
    "\n",
    "loaded = xr.open_dataset(fp)"
   ]
  },
  {
   "cell_type": "code",
   "execution_count": null,
   "metadata": {},
   "outputs": [],
   "source": [
    "loaded"
   ]
  },
  {
   "cell_type": "code",
   "execution_count": null,
   "metadata": {},
   "outputs": [],
   "source": [
    "### CONVERTING TO H5 from csvs\n",
    "# this is a bad step, we do not want to do this on a large scale but CSV's existed already ehhh\n",
    "\n",
    "import os\n",
    "import glob\n",
    "import xarray as xr\n",
    "\n",
    "files = glob.glob(os.path.join(os.getcwd(), \"beds-*.csv\"))"
   ]
  },
  {
   "cell_type": "code",
   "execution_count": null,
   "metadata": {},
   "outputs": [],
   "source": [
    "files"
   ]
  },
  {
   "cell_type": "code",
   "execution_count": null,
   "metadata": {},
   "outputs": [],
   "source": [
    "from collections import defaultdict\n",
    "# Group by configuration type (conf-01, conf-02, conf-03)\n",
    "config_groups = defaultdict(list)\n",
    "\n",
    "for file in files:\n",
    "    # Extract configuration type from the filename\n",
    "    parts = file.split(\"-\")\n",
    "    config_type = parts[-1].split(\".\")[0]  # Extract conf-01, conf-02, conf-03\n",
    "    config_groups[config_type].append(file)\n",
    "\n",
    "    \n",
    "# Display the grouped results\n",
    "for config, paths in sorted(config_groups.items()):\n",
    "    print(f\"{config} group has {len(paths)} locations:\")\n",
    "    for path in paths:\n",
    "        print(f\"  - {path}\")\n",
    "    print()"
   ]
  },
  {
   "cell_type": "code",
   "execution_count": null,
   "metadata": {},
   "outputs": [],
   "source": [
    "config_groups"
   ]
  },
  {
   "cell_type": "code",
   "execution_count": null,
   "metadata": {},
   "outputs": [],
   "source": [
    "for conf in ['01','02','03']:\n",
    "    path_a = config_groups[conf][0]\n",
    "    path_a = config_groups[conf][1]\n",
    "\n",
    "    single = load_csv(path_a)\n",
    "\n",
    "    # only contains first location for now\n",
    "    builder = xr.Dataset.from_dataframe(single).expand_dims({\"latitude\":lats, \"longitude\":lons})\n",
    "    \n",
    "    second_location = xr.Dataset.from_dataframe(load_csv(path_b))\n",
    "    \n",
    "    builder = builder.assign({\n",
    "        var: builder[var].where(~((builder.latitude == lats[0]) & (builder.longitude == lons[1])), second_location[var])\n",
    "        for var in second_location.data_vars\n",
    "    })\n",
    "\n",
    "    builder.to_netcdf(f\"{conf}-irradiance.h5\", engine=\"h5netcdf\")\n",
    "\n",
    "    "
   ]
  },
  {
   "cell_type": "code",
   "execution_count": null,
   "metadata": {},
   "outputs": [],
   "source": [
    "xr.open_dataset(\"03-irradiance.h5\").edgetoedge.plot()"
   ]
  },
  {
   "cell_type": "code",
   "execution_count": null,
   "metadata": {},
   "outputs": [],
   "source": [
    "files = groups['--108.73999786376953']\n",
    "files = groups['--108.9000015258789']\n",
    "\n",
    "# handle configs in order\n",
    "files.sort()\n",
    "\n",
    "path_a = files[0]\n",
    "path_b = files[1]\n",
    "\n",
    "def load_csv(path) -> xr.Dataset:\n",
    "\n",
    "    single = pd.read_csv(path, index_col=0)\n",
    "    single.index = pd.date_range(\"2001-01-01 00:30:00\", periods=8760, freq=\"1h\")\n",
    "    single.index.name = \"time\"\n",
    "\n",
    "    return single\n",
    "\n",
    "single = load_csv(path_a)\n",
    "single"
   ]
  },
  {
   "cell_type": "code",
   "execution_count": null,
   "metadata": {},
   "outputs": [],
   "source": [
    "lats = [\n",
    "37.0099983215332\n",
    "]\n",
    "    \n",
    "lons = [\n",
    "-108.73999786376953,\n",
    "-108.9000015258789\n",
    "]\n",
    "\n",
    "# only contains first location for now\n",
    "builder = xr.Dataset.from_dataframe(single).expand_dims({\"latitude\":lats, \"longitude\":lons})\n",
    "\n",
    "second_location = xr.Dataset.from_dataframe(load_csv(path_b))\n",
    "\n",
    "builder = builder.assign({\n",
    "    var: builder[var].where(~((builder.latitude == lats[0]) & (builder.longitude == lons[1])), second_location[var])\n",
    "    for var in second_location.data_vars\n",
    "})"
   ]
  },
  {
   "cell_type": "code",
   "execution_count": null,
   "metadata": {},
   "outputs": [],
   "source": [
    "builder.isel(latitude=0, longitude=0)"
   ]
  }
 ],
 "metadata": {
  "kernelspec": {
   "display_name": "geospatial",
   "language": "python",
   "name": "geospatial"
  },
  "language_info": {
   "codemirror_mode": {
    "name": "ipython",
    "version": 3
   },
   "file_extension": ".py",
   "mimetype": "text/x-python",
   "name": "python",
   "nbconvert_exporter": "python",
   "pygments_lexer": "ipython3",
   "version": "3.9.21"
  }
 },
 "nbformat": 4,
 "nbformat_minor": 4
}
