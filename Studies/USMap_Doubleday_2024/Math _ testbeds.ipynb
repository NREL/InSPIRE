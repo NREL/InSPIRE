{
 "cells": [
  {
   "cell_type": "code",
   "execution_count": 1,
   "id": "976f904f-8bc7-4933-bc6c-5af52a3162fe",
   "metadata": {},
   "outputs": [],
   "source": [
    "import pandas as pd\n",
    "import numpy as np"
   ]
  },
  {
   "cell_type": "code",
   "execution_count": 2,
   "id": "a7cdf64d-2540-4d56-bfd4-b279c770def0",
   "metadata": {},
   "outputs": [],
   "source": [
    "df = pd.read_csv(r\"C:\\Users\\sayala\\Documents\\GitHub\\InSPIRE\\Studies\\USMap_Doubleday_2024\\agrivoltaics_irradiance_single_location-time-index.csv\", index_col=[0])"
   ]
  },
  {
   "cell_type": "code",
   "execution_count": 3,
   "id": "ba057156-76c0-41a9-9075-8921f0dc186e",
   "metadata": {},
   "outputs": [
    {
     "data": {
      "text/plain": [
       "Index(['2001-01-01 00:30:00', '2001-01-01 01:30:00', '2001-01-01 02:30:00',\n",
       "       '2001-01-01 03:30:00', '2001-01-01 04:30:00', '2001-01-01 05:30:00',\n",
       "       '2001-01-01 06:30:00', '2001-01-01 07:30:00', '2001-01-01 08:30:00',\n",
       "       '2001-01-01 09:30:00',\n",
       "       ...\n",
       "       '2001-12-31 14:30:00', '2001-12-31 15:30:00', '2001-12-31 16:30:00',\n",
       "       '2001-12-31 17:30:00', '2001-12-31 18:30:00', '2001-12-31 19:30:00',\n",
       "       '2001-12-31 20:30:00', '2001-12-31 21:30:00', '2001-12-31 22:30:00',\n",
       "       '2001-12-31 23:30:00'],\n",
       "      dtype='object', name='time', length=8760)"
      ]
     },
     "execution_count": 3,
     "metadata": {},
     "output_type": "execute_result"
    }
   ],
   "source": [
    "df.index"
   ]
  },
  {
   "cell_type": "code",
   "execution_count": 4,
   "id": "cfac3e5a-5f8a-428c-92cf-4aa3711f7d8e",
   "metadata": {},
   "outputs": [],
   "source": [
    "cw = 2\n",
    "pitch = 5"
   ]
  },
  {
   "cell_type": "code",
   "execution_count": 5,
   "id": "3f478a5e-970e-41de-b2de-9db671fa606f",
   "metadata": {},
   "outputs": [],
   "source": [
    "underpanel_left_start = 0\n",
    "underpanel_left_end = cw/2  # u\n",
    "underpanel_right_start = pitch-cw/2  # b\n",
    "underpanel_right_end = pitch"
   ]
  },
  {
   "cell_type": "code",
   "execution_count": 6,
   "id": "9464b785-1a8e-40a9-b5fe-f6cb741e305c",
   "metadata": {},
   "outputs": [],
   "source": [
    "dx = pitch/10"
   ]
  },
  {
   "cell_type": "code",
   "execution_count": 7,
   "id": "96d1c90f-097a-4b3e-9d6f-aa125ea8909b",
   "metadata": {},
   "outputs": [],
   "source": [
    "# Tracking TILT, 3 beds\n",
    "xp = cw/2 # Projection of panel on P.\n",
    "u = int(np.ceil(10*underpanel_left_end/pitch)) # underpanel limit integer box\n",
    "b = 10-u\n",
    "# Three testbeds:\n",
    "e2e = b-u # dimensions of edge to edge\n",
    "bA = int(np.ceil(e2e/3.0))\n",
    "bC = int(bA)\n",
    "bB = int(e2e-bA-bC)\n",
    "\n",
    "underpanel = df.iloc[:,0:u].join(df.iloc[:,b:10]).mean(axis=1)\n",
    "edgetoedge = df.iloc[:,u:b].mean(axis=1)\n",
    "bedA = df.iloc[:,u:u+bA].mean(axis=1)\n",
    "bedB = df.iloc[:,u+bA:u+bA+bB].mean(axis=1)\n",
    "bedC = df.iloc[:,u+bA+bB:b].mean(axis=1)"
   ]
  },
  {
   "cell_type": "code",
   "execution_count": 8,
   "id": "0908d01d-d5b7-41e2-8bc5-223ad01e5632",
   "metadata": {},
   "outputs": [],
   "source": [
    "df['underpanel'] = underpanel\n",
    "df['edgetoedge'] = edgetoedge\n",
    "df['bedA'] = bedA\n",
    "df['bedB'] = bedB\n",
    "df['bedC'] = bedC\n"
   ]
  },
  {
   "cell_type": "code",
   "execution_count": 9,
   "id": "f705ed71-5fb2-4984-8916-5ac558b1c37b",
   "metadata": {},
   "outputs": [],
   "source": [
    "import pvlib"
   ]
  },
  {
   "cell_type": "code",
   "execution_count": 10,
   "id": "ffdbfbfa-4f57-4484-b8c3-d03fe19f819b",
   "metadata": {},
   "outputs": [],
   "source": [
    "NREL_API_KEY = None  # <-- please set your NREL API key here\n",
    "# note you must use \"quotes\" around your key as it is a string.\n",
    "\n",
    "if NREL_API_KEY is None:\n",
    "       NREL_API_KEY = 'DEMO_KEY'  # OK for this demo, but better to get your own key"
   ]
  },
  {
   "cell_type": "code",
   "execution_count": 11,
   "id": "a8659eb5-a353-4b7c-9d15-0b8b681edf9d",
   "metadata": {},
   "outputs": [
    {
     "data": {
      "text/plain": [
       "{'Source': 'NSRDB',\n",
       " 'Location ID': '146288',\n",
       " 'City': '-',\n",
       " 'State': '-',\n",
       " 'Country': '-',\n",
       " 'Time Zone': -7,\n",
       " 'Local Time Zone': -7,\n",
       " 'Dew Point Units': 'c',\n",
       " 'DHI Units': 'w/m2',\n",
       " 'DNI Units': 'w/m2',\n",
       " 'GHI Units': 'w/m2',\n",
       " 'Temperature Units': 'c',\n",
       " 'Pressure Units': 'mbar',\n",
       " 'Wind Direction Units': 'Degrees',\n",
       " 'Wind Speed Units': 'm/s',\n",
       " 'Surface Albedo Units': 'N/A',\n",
       " 'Version': '3.2.0',\n",
       " 'latitude': 39.77,\n",
       " 'longitude': -105.22,\n",
       " 'altitude': 1879}"
      ]
     },
     "execution_count": 11,
     "metadata": {},
     "output_type": "execute_result"
    }
   ],
   "source": [
    "import pvlib\n",
    "\n",
    "metdata, metadata = pvlib.iotools.get_psm3(\n",
    "    latitude=39.7555, longitude=-105.2211,\n",
    "#    latitude=44.25, longitude=-117.33999633789062,\n",
    "    api_key=NREL_API_KEY,\n",
    "    email='silvana.ovaitt@nrel.gov',  # <-- any email works here fine\n",
    "    names='tmy', map_variables=True)\n",
    "metadata"
   ]
  },
  {
   "cell_type": "code",
   "execution_count": 12,
   "id": "03565ef2-8472-4b29-967a-01c208ed861c",
   "metadata": {},
   "outputs": [],
   "source": [
    "df['ghi'] = list(metdata.ghi)"
   ]
  },
  {
   "cell_type": "code",
   "execution_count": 13,
   "id": "5a0724eb-842c-4c0f-ad8f-9d0ef87c2f48",
   "metadata": {},
   "outputs": [],
   "source": [
    "df['SF_underpanel'] = (1-df['underpanel']/df['ghi'])*100\n",
    "df['SF_edgetoedge'] = (1-df['edgetoedge']/df['ghi'])*100\n",
    "df['SF_bedA'] = (1-df['bedA']/df['ghi'])*100\n",
    "df['SF_bedB'] = (1-df['bedB']/df['ghi'])*100\n",
    "df['SF_bedC'] = (1-df['bedC']/df['ghi'])*100"
   ]
  },
  {
   "cell_type": "code",
   "execution_count": 14,
   "id": "18f08485-f2fb-4644-bd95-73c1a3ffdf23",
   "metadata": {},
   "outputs": [],
   "source": [
    "# Only necessary because I don't know the real location so i'm getting neg numbers\n",
    "df['SF_underpanel'] = df['SF_underpanel'].mask(df['SF_underpanel'] < 0, np.nan)\n",
    "df['SF_edgetoedge'] = df['SF_edgetoedge'].mask(df['SF_edgetoedge'] < 0, np.nan)\n",
    "df['SF_bedA'] = df['SF_bedA'].mask(df['SF_bedA'] < 0, np.nan)\n",
    "df['SF_bedB'] = df['SF_bedB'].mask(df['SF_bedB'] < 0, np.nan)\n",
    "df['SF_bedC'] = df['SF_bedC'].mask(df['SF_bedC'] < 0, np.nan)\n"
   ]
  },
  {
   "cell_type": "code",
   "execution_count": 17,
   "id": "7d2ae459-5441-4ae8-91fe-3dc9d8708f32",
   "metadata": {},
   "outputs": [],
   "source": [
    "df['PAR_ghi'] = df['ghi']*3600/1000000*0.43*638.89\n",
    "df['PAR_underpanel'] = df['underpanel']*3600/1000000*0.43*638.89\n",
    "df['PAR_edgetoedge'] = df['edgetoedge']*3600/1000000*0.43*638.89\n",
    "df['PAR_bedA'] = df['bedA']*3600/1000000*0.43*638.89\n",
    "df['PAR_bedB'] = df['bedB']*3600/1000000*0.43*638.89\n",
    "df['PAR_bedC'] = df['bedC']*3600/1000000*0.43*638.89\n"
   ]
  },
  {
   "cell_type": "code",
   "execution_count": 20,
   "id": "43933016-3e30-48c2-9449-a8706da22ea6",
   "metadata": {},
   "outputs": [],
   "source": [
    "df.to_csv('Results_Setup1_example.csv')"
   ]
  },
  {
   "cell_type": "markdown",
   "id": "ec476838-3f76-4f25-aa1f-346b41ff5c7b",
   "metadata": {},
   "source": [
    "## OTHERS"
   ]
  },
  {
   "cell_type": "code",
   "execution_count": null,
   "id": "3bbb67bf-230e-47e6-b328-7279a6df5878",
   "metadata": {},
   "outputs": [],
   "source": [
    "# FIXED TILT 3 Beds (i.e. # SCENARIO 1 )\n",
    "\n",
    "xp = CW*np.cos(np.radians(float(meta['Tilt(deg)']))) # Projection of panel on P.\n",
    "u = int(np.ceil(10*xp/pitch)) # underpanel limit integer box\n",
    "e2e = 10-u\n",
    "# Three testbeds:\n",
    "bA = int(np.ceil(b/3.0))\n",
    "bC = int(bA)\n",
    "bB = int(e2e-bA-bC)\n",
    "\n",
    "underpanel = df.iloc[:,0:u].mean(axis=1)\n",
    "underpanel.append(ground[mask].iloc[:,0:u].mean(axis=1).mean())\n",
    "edgetoedge = df.iloc[u:].mean(axis=1)\n",
    "bedA = df.iloc[:,u:u+bA].mean(axis=1).mean()\n",
    "bedB = df.iloc[:,u+bA:u+bA+bB].mean(axis=1).mean()\n",
    "bedC = df.iloc[:,u+bA+bB:].mean(axis=1).mean()"
   ]
  },
  {
   "cell_type": "code",
   "execution_count": null,
   "id": "e4f75d7f-c713-4dab-8002-bcdc43320c2d",
   "metadata": {},
   "outputs": [],
   "source": [
    "# Fixed tilt, 6 beds\n",
    "xp = CW*np.cos(np.radians(float(meta['Tilt(deg)']))) # Projection of panel on P.\n",
    "u = int(np.ceil(10*xp/pitch)) # underpanel limit integer box\n",
    "e2e = 10-u\n",
    "# Three testbeds:\n",
    "b1 = int(np.ceil(b/6.0))\n",
    "b2 = int(e2e-b1*5)\n",
    "\n",
    "underpanel = df.iloc[:,0:u].join(df.iloc[:,b:10]).mean(axis=1)\n",
    "edgetoedge = df.iloc[u:b].mean(axis=1)\n",
    "bedA = df.iloc[:,u:u+b1*1].mean(axis=1)\n",
    "bedB = df.iloc[:,u+b1*1:u+b1*3].mean(axis=1)\n",
    "bedC = df.iloc[:,u+b1*2:u+b1*4].mean(axis=1)\n",
    "bedD = df.iloc[:,u+b1*3:u+b1*4+b2].mean(axis=1)\n",
    "bedE = df.iloc[:,u+b1*4+b2:u+b1*5+b2].mean(axis=1)\n",
    "bedF = df.iloc[:,u+b1*5+b2:].mean(axis=1)"
   ]
  },
  {
   "cell_type": "code",
   "execution_count": null,
   "id": "40b692e5-a487-47c9-847a-f3896b11b132",
   "metadata": {},
   "outputs": [],
   "source": []
  },
  {
   "cell_type": "code",
   "execution_count": null,
   "id": "4bb158b7-8b87-441a-835b-4c75cfb66632",
   "metadata": {},
   "outputs": [],
   "source": [
    "# Tracking, 6 beds\n",
    "xp = cw/2 # Projection of panel on P.\n",
    "u = int(np.ceil(10*underpanel_left_end/pitch)) # underpanel limit integer box\n",
    "b = 10-u\n",
    "# Six testbeds:\n",
    "e2e = b-u # dimensions of edge to edge\n",
    "bA = int(np.ceil(e2e/6.0))\n",
    "bB = int(bA)\n",
    "bC = int(bA)\n",
    "bE = int(bA)\n",
    "bF = int(bA)\n",
    "bD = int(e2e-bA-bB-bC-bE-bF)\n",
    "\n",
    "underpanel = df.iloc[:,0:u].join(df.iloc[:,b:10]).mean(axis=1)\n",
    "edgetoedge = df.iloc[u:b].mean(axis=1)\n",
    "bedA = df.iloc[:,u:u+bA].mean(axis=1)\n",
    "bedB = df.iloc[:,u+bA:u+bA+bB].mean(axis=1)\n",
    "bedC = df.iloc[:,u+bA+bB:u+bA+bB+bC].mean(axis=1)\n",
    "bedD = df.iloc[:,u+bA+bB+bC:u+bA+bB+bC+bD].mean(axis=1)\n",
    "bedE = df.iloc[:,u+bA+bB+bC+bD:u+bA+bB+bC+bD+bE].mean(axis=1)\n",
    "bedF = df.iloc[:,u+bA+bB+bC+bD+bE:b].mean(axis=1)"
   ]
  },
  {
   "cell_type": "code",
   "execution_count": null,
   "id": "52dfe3c1-3dfc-44fa-b981-f5bf28ee7636",
   "metadata": {},
   "outputs": [],
   "source": [
    "# Fixed tilt, VERTICAL BEDS??\n",
    "pitch = 8.6\n",
    "xp = 0.6 #m Spacing from panels to not harvest and damage \n",
    "u = int(np.ceil(10*underpanel_left_end/pitch)) # underpanel limit integer box\n",
    "b = 10-u\n",
    "# Six testbeds:\n",
    "e2e = b-u # dimensions of edge to edge\n",
    "bA = int(np.ceil(e2e/6.0))\n",
    "bB = int(bA)\n",
    "bC = int(bA)\n",
    "bE = int(bA)\n",
    "bF = int(bA)\n",
    "bD = int(e2e-bA-bB-bC-bE-bF)\n",
    "\n",
    "underpanel = df.iloc[:,0:u].join(df.iloc[:,b:10]).mean(axis=1)\n",
    "edgetoedge = df.iloc[u:b].mean(axis=1)\n",
    "bedA = df.iloc[:,u:u+bA].mean(axis=1)\n",
    "bedB = df.iloc[:,u+bA:u+bA+bB].mean(axis=1)\n",
    "bedC = df.iloc[:,u+bA+bB:u+bA+bB+bC].mean(axis=1)\n",
    "bedD = df.iloc[:,u+bA+bB+bC:u+bA+bB+bC+bD].mean(axis=1)\n",
    "bedE = df.iloc[:,u+bA+bB+bC+bD:u+bA+bB+bC+bD+bE].mean(axis=1)\n",
    "bedF = df.iloc[:,u+bA+bB+bC+bD+bE:b].mean(axis=1)\n"
   ]
  },
  {
   "cell_type": "code",
   "execution_count": null,
   "id": "34d3de7e-fa7a-4ff2-bc7b-ef0a688dc04c",
   "metadata": {},
   "outputs": [],
   "source": [
    "# Tracking, 9 beds\n",
    "xp = cw/2 # Projection of panel on P.\n",
    "u = int(np.ceil(10*underpanel_left_end/pitch)) # underpanel limit integer box\n",
    "b = 10-u\n",
    "# Six testbeds:\n",
    "e2e = b-u # dimensions of edge to edge\n",
    "b1 = int(np.ceil(e2e/9.0))\n",
    "b5 = int(e2e-b1*8)\n",
    "\n",
    "underpanel = df.iloc[:,0:u].join(df.iloc[:,b:10]).mean(axis=1)\n",
    "edgetoedge = df.iloc[u:b].mean(axis=1)\n",
    "bedA = df.iloc[:,u:u+bA].mean(axis=1)\n",
    "bedB = df.iloc[:,u+bA:u+bA+bB].mean(axis=1)\n",
    "bedC = df.iloc[:,u+bA+bB:u+bA+bB+bC].mean(axis=1)\n",
    "bedD = df.iloc[:,u+bA+bB+bC:u+bA+bB+bC+bD].mean(axis=1)\n",
    "bedE = df.iloc[:,u+bA+bB+bC+bD:u+bA+bB+bC+bD+bE].mean(axis=1)\n",
    "bedF = df.iloc[:,u+bA+bB+bC+bD+bE:b].mean(axis=1)"
   ]
  },
  {
   "cell_type": "code",
   "execution_count": null,
   "id": "97f74ced-4493-4cb3-b7fd-70f01ecbe634",
   "metadata": {},
   "outputs": [],
   "source": [
    "# Tracking, 9 beds\n",
    "pitch = 11\n",
    "xp = cw/2 # Projection of panel on P.\n",
    "u = int(np.ceil(10*underpanel_left_end/pitch)) # underpanel limit integer box\n",
    "b = 10-u\n",
    "# Six testbeds:\n",
    "e2e = b-u # dimensions of edge to edge\n",
    "b1 = int(np.floor(e2e/8.0))\n",
    "b5 = int(e2e-b1*7)\n",
    "\n",
    "underpanel = df.iloc[:,0:u].join(df.iloc[:,b:10]).mean(axis=1)\n",
    "edgetoedge = df.iloc[u:b].mean(axis=1)\n",
    "bedA = df.iloc[:,u:u+b1].mean(axis=1)\n",
    "bedB = df.iloc[:,u+b1*1:u+b1*2].mean(axis=1)\n",
    "bedC = df.iloc[:,u+b1*2:u+b1*3].mean(axis=1)\n",
    "bedD = df.iloc[:,u+b1*3:u+b1*4].mean(axis=1)\n",
    "bedE = df.iloc[:,u+b1*4:u+b1*4+b5].mean(axis=1)\n",
    "bedF = df.iloc[:,u+b1*4+b5:u+b1*5+b5].mean(axis=1)\n",
    "bedG = df.iloc[:,u+b1*5+b5:u+b1*6+b5].mean(axis=1)\n",
    "bedH = df.iloc[:,u+b1*6+b5:u+b1*7+b5].mean(axis=1)\n"
   ]
  },
  {
   "cell_type": "code",
   "execution_count": null,
   "id": "82f57d03-3581-4755-b55b-4e295d965275",
   "metadata": {},
   "outputs": [],
   "source": [
    "# Tracking TILT\n",
    "underpanel_left_start = 0\n",
    "underpanel_left_end = cw/2  # u\n",
    "underpanel_right_start = pitch-cw/2  # b\n",
    "underpanel_right_end = pitch\n",
    "\n",
    "xp = cw/2 # Projection of panel on P.\n",
    "u = int(np.ceil(10*underpanel_left_end/pitch)) # underpanel limit integer box\n",
    "b = 10-u\n",
    "# Three testbeds:\n",
    "e2e = b-u # dimensions of edge to edge\n",
    "bA = int(np.ceil(e2e/3.0))\n",
    "bC = int(bA)\n",
    "bB = int(e2e-bA-bC)\n",
    "\n",
    "underpanel.append((ground[mask].iloc[:,0:u]+ ground[mask].iloc[:,b:10]).mean(axis=1).mean()) \n",
    "bedA.append(ground[mask].iloc[:,u:u+bA].mean(axis=1).mean())\n",
    "bedB.append(ground[mask].iloc[:,u+bA:u+bA+bB].mean(axis=1).mean())\n",
    "bedC.append(ground[mask].iloc[:,u+bA+bB:b].mean(axis=1).mean())\n",
    ".mean(axis=1).mean())"
   ]
  },
  {
   "cell_type": "code",
   "execution_count": null,
   "id": "4b83ba7a-0301-43a5-9543-64a755475b6e",
   "metadata": {},
   "outputs": [],
   "source": [
    "# Calculate geometry\n",
    "xp = np.cos(np.radians(float(meta['Tilt(deg)']))) # Projection of panel on P.\n",
    "u = int(np.ceil(100*xp/pitch)) # underpanel limit\n",
    "b = 100-u   # \n",
    "bA = int(np.floor(b/3.0))\n",
    "bC = int(bA)\n",
    "bB = int(b-bA-bC)\n",
    "\n",
    "underpanel = []\n",
    "bedA = []\n",
    "bedB = []\n",
    "bedC = []\n",
    "for mmonths in range (5, 10):\n",
    "    datestart = data[data.index.month == mmonths].iloc[0].date\n",
    "    dateend = data[data.index.month == mmonths].iloc[-1].date\n",
    "    mask = (data.index >= datestart) & (data.index <= dateend)\n",
    "    underpanel.append(ground[mask].iloc[:,0:u].mean(axis=1).mean())\n",
    "    bedA.append(ground[mask].iloc[:,u:u+bA].mean(axis=1).mean())\n",
    "    bedB.append(ground[mask].iloc[:,u+bA:u+bA+bB].mean(axis=1).mean())\n",
    "    bedC.append(ground[mask].iloc[:,u+bA+bB:].mean(axis=1).mean())\n",
    "x = underpanel, bedA, bedB, bedC\n",
    "\n",
    "results = [meta_dict['latitude'], meta_dict['longitude'], x]"
   ]
  },
  {
   "cell_type": "raw",
   "id": "404eea06-e8df-4a32-9dae-dbae97a6b478",
   "metadata": {},
   "source": [
    "\n",
    "    # GROUND TESTBEDS COMPILATION\n",
    "    df_temp = ResultPVGround\n",
    "    # Under panel irradiance calculation\n",
    "    edgemean = np.mean(df_temp[:xp] + df_temp[-xp:])\n",
    "    edge_normGHI = edgemean / ghi_sum\n",
    "\n",
    "    # All testbeds irradiance average\n",
    "    insidemean = np.mean(df_temp[xp:-xp])\n",
    "    inside_normGHI = insidemean / ghi_sum\n",
    "\n",
    "    # Length of each testbed between rows\n",
    "    dist1 = int(np.floor(len(df_temp[xp:-xp])/bedsWanted))\n",
    "\n",
    "    Astart = xp + dist1*0\n",
    "    Bstart = xp + dist1*1\n",
    "    Cstart = xp + dist1*2\n",
    "\n",
    "    if bedsWanted == 3:\n",
    "        Dstart = -xp # in this case it is Cend\n",
    "    if bedsWanted > 3:\n",
    "        Dstart = xp + dist1*3\n",
    "        Estart = xp + dist1*4\n",
    "        Fstart = xp + dist1*5\n",
    "        Gstart = -xp  # in this case it is Fend\n",
    "    if bedsWanted > 6:\n",
    "        Gstart = xp + dist1*6\n",
    "        Hstart = -xp # this is I end\n",
    "    if bedsWanted > 7:\n",
    "        Hstart = xp + dist1*7\n",
    "        Istart = xp + dist1*8\n",
    "        Iend = -xp # this is I end\n",
    "\n",
    "    testbedA = df_temp[Astart:Bstart]\n",
    "    testbedAmean = np.mean(testbedA)\n",
    "    testbedA_normGHI = testbedAmean / ghi_sum\n",
    "\n",
    "    testbedB = df_temp[Bstart:Cstart]\n",
    "    testbedBmean = np.mean(testbedB)\n",
    "    testbedB_normGHI = testbedBmean / ghi_sum\n",
    "\n",
    "    testbedC = df_temp[Cstart:Dstart]\n",
    "    testbedCmean = np.mean(testbedC)\n",
    "    testbedC_normGHI = testbedCmean / ghi_sum\n",
    "\n",
    "    testbedDmean = np.NaN\n",
    "    testbedEmean = np.NaN\n",
    "    testbedFmean = np.NaN\n",
    "    testbedGmean = np.NaN\n",
    "    testbedHmean = np.NaN\n",
    "    testbedImean = np.NaN\n",
    "\n",
    "    testbedD_normGHI = np.NaN\n",
    "    testbedE_normGHI = np.NaN\n",
    "    testbedF_normGHI = np.NaN\n",
    "    testbedG_normGHI = np.NaN \n",
    "    testbedH_normGHI = np.NaN\n",
    "    testbedI_normGHI = np.NaN    \n",
    "\n",
    "    # Will run for bedswanted 6 and 9\n",
    "    if bedsWanted > 3:\n",
    "        testbedD = df_temp[Dstart:Estart]\n",
    "        testbedDmean = np.mean(testbedD)\n",
    "        testbedD_normGHI = testbedDmean / ghi_sum\n",
    "\n",
    "        testbedE = df_temp[Estart:Fstart]\n",
    "        testbedEmean = np.mean(testbedE)\n",
    "        testbedE_normGHI = testbedEmean / ghi_sum\n",
    "\n",
    "        testbedF = df_temp[Fstart:Gstart]\n",
    "        testbedFmean = np.mean(testbedF)\n",
    "        testbedF_normGHI = testbedFmean / ghi_sum\n",
    "\n",
    "    # Will only run for bedsawnted 9\n",
    "    if bedsWanted > 6:\n",
    "        testbedG = df_temp[Gstart:Hstart]\n",
    "        testbedGmean = np.mean(testbedG)\n",
    "        testbedG_normGHI = testbedGmean / ghi_sum\n",
    "\n",
    "    if bedsWanted > 7:\n",
    "        testbedH = df_temp[Hstart:Istart]\n",
    "        testbedHmean = np.mean(testbedH)\n",
    "        testbedH_normGHI = testbedHmean / ghi_sum\n",
    "\n",
    "        testbedI = df_temp[Istart:Iend]\n",
    "        testbedImean = np.mean(testbedI)\n",
    "        testbedI_normGHI = testbedImean / ghi_sum"
   ]
  },
  {
   "cell_type": "code",
   "execution_count": null,
   "id": "0cf08479-1bb4-49fa-b332-9b59dc9b832b",
   "metadata": {},
   "outputs": [],
   "source": []
  }
 ],
 "metadata": {
  "kernelspec": {
   "display_name": "Python 3 (ipykernel)",
   "language": "python",
   "name": "python3"
  },
  "language_info": {
   "codemirror_mode": {
    "name": "ipython",
    "version": 3
   },
   "file_extension": ".py",
   "mimetype": "text/x-python",
   "name": "python",
   "nbconvert_exporter": "python",
   "pygments_lexer": "ipython3",
   "version": "3.12.7"
  }
 },
 "nbformat": 4,
 "nbformat_minor": 5
}
