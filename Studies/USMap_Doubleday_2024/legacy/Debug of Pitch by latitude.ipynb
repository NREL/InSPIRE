{
 "cells": [
  {
   "cell_type": "code",
   "execution_count": 3,
   "id": "9a2e1b8e",
   "metadata": {},
   "outputs": [],
   "source": [
    "import bifacialvf"
   ]
  },
  {
   "cell_type": "code",
   "execution_count": 7,
   "id": "f134a6f8",
   "metadata": {},
   "outputs": [],
   "source": [
    "import numpy as np"
   ]
  },
  {
   "cell_type": "code",
   "execution_count": 4,
   "id": "6345f77b",
   "metadata": {},
   "outputs": [],
   "source": [
    "# Lats 20 to 60\n",
    "# Bellyham highest city in continental US : 48.7519° N, 122.4787° W\n",
    "# Hawwaii: 19.8987° N, 155.6659° W\n",
    "# Point Barrow is the northernmost point of Alaska at 71° 23' 25\""
   ]
  },
  {
   "cell_type": "code",
   "execution_count": 19,
   "id": "a3f8ead1",
   "metadata": {},
   "outputs": [],
   "source": [
    "lats = [0, 10, 15, 20, 25, 30, 35, 40, 45, 50, 55, 60]\n",
    "tilts = [20, 20, 20, 20, 25, 30, 35, 40, 40, 40, 40, 40]\n",
    "lon = -105.2211 # ° W"
   ]
  },
  {
   "cell_type": "code",
   "execution_count": 12,
   "id": "3e09be31",
   "metadata": {},
   "outputs": [],
   "source": [
    "y = 2"
   ]
  },
  {
   "cell_type": "code",
   "execution_count": 23,
   "id": "e9df5a6d",
   "metadata": {},
   "outputs": [
    {
     "name": "stdout",
     "output_type": "stream",
     "text": [
      "0 20 2.28 0.4 0.88\n",
      "10 20 2.47 0.59 0.81\n",
      "15 20 2.58 0.7 0.78\n",
      "20 20 2.71 0.83 0.74\n",
      "25 25 3.05 1.23 0.66\n",
      "30 30 3.5 1.77 0.57\n",
      "35 35 4.16 2.52 0.48\n",
      "40 40 5.17 3.64 0.39\n",
      "45 40 6.51 4.98 0.31\n",
      "Cannot find ideal pitch for location, setting D to 3.725\n",
      "50 40 8.98 7.45 0.22\n",
      "Cannot find ideal pitch for location, setting D to 3.725\n",
      "55 40 8.98 7.45 0.22\n",
      "Cannot find ideal pitch for location, setting D to 3.725\n",
      "60 40 8.98 7.45 0.22\n"
     ]
    }
   ],
   "source": [
    "for ii in range (0, len(lats)):\n",
    "    DD = bifacialvf.vf.rowSpacing(beta = tilts[ii],\n",
    "                                  sazm=180, lat = lats[ii],\n",
    "                                  lng = lon,\n",
    "                                  tz = -7,\n",
    "                                  hour = 9,\n",
    "                                  minute = 0.0)\n",
    "\n",
    "    if (DD <= 0) or (DD > 3.725):\n",
    "        DD = 3.725\n",
    "        print(\"Cannot find ideal pitch for location, setting D to 3.725\")\n",
    "\n",
    "    normalized_pitch = DD + np.cos(np.round(tilts[ii]) / 180.0 * np.pi)\n",
    "    pitch_unnorm = np.round(normalized_pitch*y,2)\n",
    "    DD_unnorm = np.round(DD*y, 2)\n",
    "    GCR = np.round(2/pitch_unnorm,2)\n",
    "    print(lats[ii], tilts[ii], pitch_unnorm, DD_unnorm, GCR)\n"
   ]
  },
  {
   "cell_type": "markdown",
   "id": "2bff668f",
   "metadata": {},
   "source": [
    "For reference, BARN HSAT has a GCR of 0.35"
   ]
  }
 ],
 "metadata": {
  "kernelspec": {
   "display_name": "Python 3 (ipykernel)",
   "language": "python",
   "name": "python3"
  },
  "language_info": {
   "codemirror_mode": {
    "name": "ipython",
    "version": 3
   },
   "file_extension": ".py",
   "mimetype": "text/x-python",
   "name": "python",
   "nbconvert_exporter": "python",
   "pygments_lexer": "ipython3",
   "version": "3.11.4"
  }
 },
 "nbformat": 4,
 "nbformat_minor": 5
}
