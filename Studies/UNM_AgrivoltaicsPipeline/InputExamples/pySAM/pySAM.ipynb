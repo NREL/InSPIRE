{
 "cells": [
  {
   "cell_type": "markdown",
   "id": "d17f0282",
   "metadata": {},
   "source": [
    "# pySAM run "
   ]
  },
  {
   "cell_type": "code",
   "execution_count": 1,
   "id": "b428daac",
   "metadata": {},
   "outputs": [],
   "source": [
    "import PySAM\n",
    "import PySAM.Pvsamv1 as PV\n",
    "import PySAM.Grid as Grid\n",
    "import PySAM.Utilityrate5 as UtilityRate\n",
    "import PySAM.Cashloan as Cashloan\n",
    "import pathlib, os\n",
    "import json\n",
    "import pvlib\n",
    "import pandas as pd\n",
    "import numpy as np\n"
   ]
  },
  {
   "cell_type": "code",
   "execution_count": 2,
   "id": "24affbfa",
   "metadata": {},
   "outputs": [
    {
     "name": "stdout",
     "output_type": "stream",
     "text": [
      "Working on a  Windows 10\n",
      "Python version  3.12.4 | packaged by Anaconda, Inc. | (main, Jun 18 2024, 15:03:56) [MSC v.1929 64 bit (AMD64)]\n",
      "Pandas version  2.2.2\n",
      "Pvlib version:  0.11.0\n",
      "PySAM version:  5.1.0\n"
     ]
    }
   ],
   "source": [
    "import sys, platform\n",
    "print(\"Working on a \", platform.system(), platform.release())\n",
    "print(\"Python version \", sys.version)\n",
    "print(\"Pandas version \", pd.__version__)\n",
    "print(\"Numpy version \", np.__version__)\n",
    "print(\"Pvlib version: \", pvlib.__version__)\n",
    "print(\"PySAM version: \", PySAM.__version__)"
   ]
  },
  {
   "cell_type": "code",
   "execution_count": 3,
   "id": "6a8b3959",
   "metadata": {},
   "outputs": [
    {
     "name": "stdout",
     "output_type": "stream",
     "text": [
      "<Pvsamv1 object at 0x000001D04C7CCCC0> adjust_constant 0\n",
      "<Pvsamv1 object at 0x000001D04C7CCCC0> adjust_en_timeindex 0\n",
      "<Pvsamv1 object at 0x000001D04C7CCCC0> adjust_en_periods 0\n",
      "<Pvsamv1 object at 0x000001D04C7CCCC0> adjust_timeindex [0]\n",
      "<Pvsamv1 object at 0x000001D04C7CCCC0> adjust_periods [[0, 0, 0]]\n",
      "<Pvsamv1 object at 0x000001D04C7CCCC0> dc_adjust_constant 0\n",
      "<Pvsamv1 object at 0x000001D04C7CCCC0> dc_adjust_en_timeindex 0\n",
      "<Pvsamv1 object at 0x000001D04C7CCCC0> dc_adjust_en_periods 0\n",
      "<Pvsamv1 object at 0x000001D04C7CCCC0> dc_adjust_timeindex [0]\n",
      "<Pvsamv1 object at 0x000001D04C7CCCC0> dc_adjust_periods [[0, 0, 0]]\n"
     ]
    }
   ],
   "source": [
    "# Loading dat for a Single Owner\n",
    "jsonfolder = '01'\n",
    "jsonnames = '01'\n",
    "file_names = [\"pvsamv1\", \"grid\", \"utilityrate5\", \"cashloan\"]\n",
    "\n",
    "pv4 = PV.new()\n",
    "grid4 = Grid.from_existing(pv4)\n",
    "ur4 = UtilityRate.from_existing(pv4)\n",
    "so4 = Cashloan.from_existing(grid4, 'FlatPlatePVCommercial')\n",
    "\n",
    "for count, module in enumerate([pv4, grid4, ur4, so4]):\n",
    "    filetitle= jsonnames + '_' + file_names[count] + \".json\"\n",
    "    with open(os.path.join(jsonfolder,filetitle), 'r') as file:\n",
    "        data = json.load(file)\n",
    "        for k, v in data.items():\n",
    "            if k == 'number_inputs':\n",
    "                continue\n",
    "            try:\n",
    "                if sys.version.split(' ')[0] == '3.11.7': \n",
    "                    # Check needed for python 3.10.7 and perhaps other releases above 3.10.4.\n",
    "                    # This prevents the failure \"UnicodeDecodeError: 'utf-8' codec can't decode byte... \n",
    "                    # This bug will be fixed on a newer version of pysam (currently not working on 5.1.0)\n",
    "                    if 'adjust_' in k:  # This check is needed for Python 3.10.7 and some others. Not needed for 3.7.4\n",
    "                        print(k)\n",
    "                        k = k.split('adjust_')[1]\n",
    "                module.value(k, v)\n",
    "            except AttributeError:\n",
    "                # there is an error is setting the value for ppa_escalation\n",
    "                print(module, k, v)"
   ]
  },
  {
   "cell_type": "code",
   "execution_count": 4,
   "id": "d64dc141",
   "metadata": {},
   "outputs": [
    {
     "data": {
      "text/plain": [
       "'C:/SAM/2023.12.17/solar_resource/phoenix_az_33.450495_-111.983688_psmv3_60_tmy.csv'"
      ]
     },
     "execution_count": 4,
     "metadata": {},
     "output_type": "execute_result"
    }
   ],
   "source": [
    "# Sanity Check\n",
    "pv4.SolarResource.solar_resource_file\n",
    "\n",
    "#Example of changing resource files\n",
    "#pv4.unassign('solar_resource_file')"
   ]
  },
  {
   "cell_type": "code",
   "execution_count": 5,
   "id": "4b91f723-57c8-4bc3-adc4-4f9c52959414",
   "metadata": {},
   "outputs": [],
   "source": [
    "#Execute\n",
    "pv4.execute()\n",
    "grid4.execute()\n",
    "ur4.execute()\n",
    "so4.execute()\n",
    "\n",
    "# SAVE RESULTS|\n",
    "results = pv4.Outputs.export()\n",
    "economicresults = so4.Outputs.export()"
   ]
  },
  {
   "cell_type": "code",
   "execution_count": 10,
   "id": "eac95e10-013e-4e8e-b41c-9f2fdbfe13df",
   "metadata": {},
   "outputs": [
    {
     "data": {
      "text/plain": [
       "160082.85107117283"
      ]
     },
     "execution_count": 10,
     "metadata": {},
     "output_type": "execute_result"
    }
   ],
   "source": [
    "# Example of accessing outputs\n",
    "results['annual_energy']"
   ]
  },
  {
   "cell_type": "code",
   "execution_count": 43,
   "id": "bef83adf-bb3b-4f55-a572-6d0be5d8c7f4",
   "metadata": {},
   "outputs": [
    {
     "data": {
      "text/html": [
       "<div>\n",
       "<style scoped>\n",
       "    .dataframe tbody tr th:only-of-type {\n",
       "        vertical-align: middle;\n",
       "    }\n",
       "\n",
       "    .dataframe tbody tr th {\n",
       "        vertical-align: top;\n",
       "    }\n",
       "\n",
       "    .dataframe thead th {\n",
       "        text-align: right;\n",
       "    }\n",
       "</style>\n",
       "<table border=\"1\" class=\"dataframe\">\n",
       "  <thead>\n",
       "    <tr style=\"text-align: right;\">\n",
       "      <th></th>\n",
       "      <th>1</th>\n",
       "      <th>2</th>\n",
       "      <th>3</th>\n",
       "      <th>4</th>\n",
       "      <th>5</th>\n",
       "      <th>6</th>\n",
       "      <th>7</th>\n",
       "      <th>8</th>\n",
       "      <th>9</th>\n",
       "      <th>10</th>\n",
       "    </tr>\n",
       "  </thead>\n",
       "  <tbody>\n",
       "    <tr>\n",
       "      <th>0</th>\n",
       "      <td>0.250281</td>\n",
       "      <td>0.750843</td>\n",
       "      <td>1.251405</td>\n",
       "      <td>1.751968</td>\n",
       "      <td>2.25253</td>\n",
       "      <td>2.753092</td>\n",
       "      <td>3.253654</td>\n",
       "      <td>3.754216</td>\n",
       "      <td>4.254779</td>\n",
       "      <td>4.755341</td>\n",
       "    </tr>\n",
       "    <tr>\n",
       "      <th>1</th>\n",
       "      <td>0.000000</td>\n",
       "      <td>0.000000</td>\n",
       "      <td>0.000000</td>\n",
       "      <td>0.000000</td>\n",
       "      <td>0.00000</td>\n",
       "      <td>0.000000</td>\n",
       "      <td>0.000000</td>\n",
       "      <td>0.000000</td>\n",
       "      <td>0.000000</td>\n",
       "      <td>0.000000</td>\n",
       "    </tr>\n",
       "    <tr>\n",
       "      <th>2</th>\n",
       "      <td>0.000000</td>\n",
       "      <td>0.000000</td>\n",
       "      <td>0.000000</td>\n",
       "      <td>0.000000</td>\n",
       "      <td>0.00000</td>\n",
       "      <td>0.000000</td>\n",
       "      <td>0.000000</td>\n",
       "      <td>0.000000</td>\n",
       "      <td>0.000000</td>\n",
       "      <td>0.000000</td>\n",
       "    </tr>\n",
       "    <tr>\n",
       "      <th>3</th>\n",
       "      <td>0.000000</td>\n",
       "      <td>0.000000</td>\n",
       "      <td>0.000000</td>\n",
       "      <td>0.000000</td>\n",
       "      <td>0.00000</td>\n",
       "      <td>0.000000</td>\n",
       "      <td>0.000000</td>\n",
       "      <td>0.000000</td>\n",
       "      <td>0.000000</td>\n",
       "      <td>0.000000</td>\n",
       "    </tr>\n",
       "    <tr>\n",
       "      <th>4</th>\n",
       "      <td>0.000000</td>\n",
       "      <td>0.000000</td>\n",
       "      <td>0.000000</td>\n",
       "      <td>0.000000</td>\n",
       "      <td>0.00000</td>\n",
       "      <td>0.000000</td>\n",
       "      <td>0.000000</td>\n",
       "      <td>0.000000</td>\n",
       "      <td>0.000000</td>\n",
       "      <td>0.000000</td>\n",
       "    </tr>\n",
       "    <tr>\n",
       "      <th>...</th>\n",
       "      <td>...</td>\n",
       "      <td>...</td>\n",
       "      <td>...</td>\n",
       "      <td>...</td>\n",
       "      <td>...</td>\n",
       "      <td>...</td>\n",
       "      <td>...</td>\n",
       "      <td>...</td>\n",
       "      <td>...</td>\n",
       "      <td>...</td>\n",
       "    </tr>\n",
       "    <tr>\n",
       "      <th>8756</th>\n",
       "      <td>0.000000</td>\n",
       "      <td>0.000000</td>\n",
       "      <td>0.000000</td>\n",
       "      <td>0.000000</td>\n",
       "      <td>0.00000</td>\n",
       "      <td>0.000000</td>\n",
       "      <td>0.000000</td>\n",
       "      <td>0.000000</td>\n",
       "      <td>0.000000</td>\n",
       "      <td>0.000000</td>\n",
       "    </tr>\n",
       "    <tr>\n",
       "      <th>8757</th>\n",
       "      <td>0.000000</td>\n",
       "      <td>0.000000</td>\n",
       "      <td>0.000000</td>\n",
       "      <td>0.000000</td>\n",
       "      <td>0.00000</td>\n",
       "      <td>0.000000</td>\n",
       "      <td>0.000000</td>\n",
       "      <td>0.000000</td>\n",
       "      <td>0.000000</td>\n",
       "      <td>0.000000</td>\n",
       "    </tr>\n",
       "    <tr>\n",
       "      <th>8758</th>\n",
       "      <td>0.000000</td>\n",
       "      <td>0.000000</td>\n",
       "      <td>0.000000</td>\n",
       "      <td>0.000000</td>\n",
       "      <td>0.00000</td>\n",
       "      <td>0.000000</td>\n",
       "      <td>0.000000</td>\n",
       "      <td>0.000000</td>\n",
       "      <td>0.000000</td>\n",
       "      <td>0.000000</td>\n",
       "    </tr>\n",
       "    <tr>\n",
       "      <th>8759</th>\n",
       "      <td>0.000000</td>\n",
       "      <td>0.000000</td>\n",
       "      <td>0.000000</td>\n",
       "      <td>0.000000</td>\n",
       "      <td>0.00000</td>\n",
       "      <td>0.000000</td>\n",
       "      <td>0.000000</td>\n",
       "      <td>0.000000</td>\n",
       "      <td>0.000000</td>\n",
       "      <td>0.000000</td>\n",
       "    </tr>\n",
       "    <tr>\n",
       "      <th>8760</th>\n",
       "      <td>0.000000</td>\n",
       "      <td>0.000000</td>\n",
       "      <td>0.000000</td>\n",
       "      <td>0.000000</td>\n",
       "      <td>0.00000</td>\n",
       "      <td>0.000000</td>\n",
       "      <td>0.000000</td>\n",
       "      <td>0.000000</td>\n",
       "      <td>0.000000</td>\n",
       "      <td>0.000000</td>\n",
       "    </tr>\n",
       "  </tbody>\n",
       "</table>\n",
       "<p>8761 rows × 10 columns</p>\n",
       "</div>"
      ],
      "text/plain": [
       "            1         2         3         4        5         6         7   \\\n",
       "0     0.250281  0.750843  1.251405  1.751968  2.25253  2.753092  3.253654   \n",
       "1     0.000000  0.000000  0.000000  0.000000  0.00000  0.000000  0.000000   \n",
       "2     0.000000  0.000000  0.000000  0.000000  0.00000  0.000000  0.000000   \n",
       "3     0.000000  0.000000  0.000000  0.000000  0.00000  0.000000  0.000000   \n",
       "4     0.000000  0.000000  0.000000  0.000000  0.00000  0.000000  0.000000   \n",
       "...        ...       ...       ...       ...      ...       ...       ...   \n",
       "8756  0.000000  0.000000  0.000000  0.000000  0.00000  0.000000  0.000000   \n",
       "8757  0.000000  0.000000  0.000000  0.000000  0.00000  0.000000  0.000000   \n",
       "8758  0.000000  0.000000  0.000000  0.000000  0.00000  0.000000  0.000000   \n",
       "8759  0.000000  0.000000  0.000000  0.000000  0.00000  0.000000  0.000000   \n",
       "8760  0.000000  0.000000  0.000000  0.000000  0.00000  0.000000  0.000000   \n",
       "\n",
       "            8         9         10  \n",
       "0     3.754216  4.254779  4.755341  \n",
       "1     0.000000  0.000000  0.000000  \n",
       "2     0.000000  0.000000  0.000000  \n",
       "3     0.000000  0.000000  0.000000  \n",
       "4     0.000000  0.000000  0.000000  \n",
       "...        ...       ...       ...  \n",
       "8756  0.000000  0.000000  0.000000  \n",
       "8757  0.000000  0.000000  0.000000  \n",
       "8758  0.000000  0.000000  0.000000  \n",
       "8759  0.000000  0.000000  0.000000  \n",
       "8760  0.000000  0.000000  0.000000  \n",
       "\n",
       "[8761 rows x 10 columns]"
      ]
     },
     "execution_count": 43,
     "metadata": {},
     "output_type": "execute_result"
    }
   ],
   "source": [
    "ground_irrad = pd.DataFrame(results['subarray1_ground_rear_spatial'])\n",
    "ground_irrad.drop(ground_irrad.columns[0], axis=1, inplace=True)  # droping first column that is the timestamp index (0 to 8760)\n",
    "ground_irrad"
   ]
  },
  {
   "cell_type": "code",
   "execution_count": 27,
   "id": "a13c9d9e-b41d-4f50-bb32-b85d3281f628",
   "metadata": {},
   "outputs": [],
   "source": [
    "import matplotlib.pyplot as plt"
   ]
  },
  {
   "cell_type": "code",
   "execution_count": 44,
   "id": "317006d9-1879-444b-9f1e-5bcc018105b6",
   "metadata": {},
   "outputs": [
    {
     "data": {
      "text/plain": [
       "<matplotlib.collections.PolyQuadMesh at 0x1d080fa1b20>"
      ]
     },
     "execution_count": 44,
     "metadata": {},
     "output_type": "execute_result"
    },
    {
     "data": {
      "image/png": "[encoded data removed]",
      "text/plain": [
       "<Figure size 640x480 with 1 Axes>"
      ]
     },
     "metadata": {},
     "output_type": "display_data"
    }
   ],
   "source": [
    "plt.pcolor(ground_irrad)"
   ]
  }
 ],
 "metadata": {
  "kernelspec": {
   "display_name": "Python (RadWorkshop)",
   "language": "python",
   "name": "radworkshop"
  },
  "language_info": {
   "codemirror_mode": {
    "name": "ipython",
    "version": 3
   },
   "file_extension": ".py",
   "mimetype": "text/x-python",
   "name": "python",
   "nbconvert_exporter": "python",
   "pygments_lexer": "ipython3",
   "version": "3.12.4"
  }
 },
 "nbformat": 4,
 "nbformat_minor": 5
}
