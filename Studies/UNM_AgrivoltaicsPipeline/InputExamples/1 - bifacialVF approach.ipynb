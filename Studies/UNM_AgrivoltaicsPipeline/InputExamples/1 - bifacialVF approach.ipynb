{
 "cells": [
  {
   "cell_type": "markdown",
   "id": "967a8149",
   "metadata": {},
   "source": [
    "# 1 - bifacialVF approach\n",
    "\n",
    "This jupyter journal will walk us through the creation of the most basic fixed-tilt simulation possible with bifacialvf for agrivoltaics\n",
    "We will simulate a 1-up landscape system over a grass albedo and look at the ground irradiance from the start of 1 row to the other.\n"
   ]
  },
  {
   "cell_type": "code",
   "execution_count": 2,
   "id": "a2877703",
   "metadata": {},
   "outputs": [],
   "source": [
    "from pathlib import Path\n",
    "import os\n",
    "import bifacialvf\n",
    "import matplotlib.pyplot as plt\n",
    "import pandas as pd\n",
    "\n",
    "# IO Files\n",
    "testfolder = 'TEMP' \n",
    "if not os.path.exists(testfolder):\n",
    "    os.makedirs(testfolder)"
   ]
  },
  {
   "cell_type": "code",
   "execution_count": 6,
   "id": "0b0d0582-7880-4e14-b6f2-8aad01842683",
   "metadata": {},
   "outputs": [
    {
     "name": "stdout",
     "output_type": "stream",
     "text": [
      "Working on a  Windows 10\n",
      "Python version  3.12.4 | packaged by Anaconda, Inc. | (main, Jun 18 2024, 15:03:56) [MSC v.1929 64 bit (AMD64)]\n",
      "Pandas version  2.2.2\n",
      "bifacialVF version  0.1.9\n"
     ]
    }
   ],
   "source": [
    "# This information helps with debugging and getting support :)\n",
    "import sys, platform\n",
    "print(\"Working on a \", platform.system(), platform.release())\n",
    "print(\"Python version \", sys.version)\n",
    "print(\"Pandas version \", pd.__version__)\n",
    "print(\"Numpy version \", np.__version__)\n",
    "print(\"Pvlib version: \", pvlib.__version__)\n",
    "print(\"bifacialVF version \", bifacialvf.__version__)"
   ]
  },
  {
   "cell_type": "code",
   "execution_count": 7,
   "id": "38e3237c",
   "metadata": {},
   "outputs": [],
   "source": [
    "plt.rcParams['timezone'] = 'Etc/GMT+7'\n",
    "font = {'family' : 'DejaVu Sans',\n",
    "'weight' : 'bold',\n",
    "'size'   : 22}\n",
    "plt.rc('font', **font)\n",
    "plt.rcParams['figure.figsize'] = (12, 5)"
   ]
  },
  {
   "cell_type": "code",
   "execution_count": 8,
   "id": "11fd7462",
   "metadata": {},
   "outputs": [],
   "source": [
    "writefiletitle = os.path.join(testfolder, 'Results_bifacialVF.csv')\n",
    "\n",
    "module_slope = 2            # m\n",
    "# Variables\n",
    "lat = 35.0844              # Albuquerque, NM, Coords.\n",
    "lon = -106.6504             # Albuquerque, NM Coords.\n",
    "tilt = 30                   # PV tilt (deg)\n",
    "sazm = 180                  # PV Azimuth(deg) or tracker axis direction\n",
    "albedo = None               # Calculated in previous section from SRRL data. Value is 0.28 up to 11/18/19o\n",
    "clearance_height =1.5/module_slope            #1.5m / 2m collector width. View factor is normalized\n",
    "# hub_height = 1.5/module_slope # for tracking, distance from ground to modules at the center of the module/pile\n",
    "pitch = 2/0.35/module_slope              # 1 / 0.35 where 0.35 is gcr --- row to row spacing in normalized panel lengths. View factor is normalized\n",
    "rowType = \"interior\"        # RowType(first interior last single)\n",
    "transFactor = 0             # TransmissionFactor(open area fraction)\n",
    "sensorsy = 12                # sensorsy(# hor rows in panel)   <--> THIS ASSUMES LANDSCAPE ORIENTATION \n",
    "PVfrontSurface = \"glass\"    # PVfrontSurface(glass or ARglass)\n",
    "PVbackSurface = \"glass\"     # PVbackSurface(glass or ARglass)\n",
    "agriPV = True\n",
    "\n",
    " # Calculate PV Output Through Various Methods    \n",
    "# calculateBilInterpol = False   # Only works with landscape at the moment.\n",
    "# calculatePVMismatch = False\n",
    "# portraitorlandscape='portrait'   # portrait or landscape\n",
    "# cellsnum = 72\n",
    "# bififactor = 1.0\n",
    "\n",
    "# Tracking instructions\n",
    "tracking=False\n",
    "backtrack=True # doesn't matter if tracking is false\n",
    "limit_angle = 50 # doesn't matter if not tracking"
   ]
  },
  {
   "cell_type": "code",
   "execution_count": 9,
   "id": "2d1069e7-95c7-49fb-8028-ad69100cefc9",
   "metadata": {},
   "outputs": [
    {
     "name": "stdout",
     "output_type": "stream",
     "text": [
      "path = C:\\Users\\sayala\\Documents\\GitHub\\InSPIRE\\Studies\\UNM_AgrivoltaicsPipeline\\InputExamples\\TEMP\n",
      "Making path: EPWs\n",
      "Getting weather file: USA_NM_Albuquerque.723650_TMY2.epw\n",
      " ... OK!\n"
     ]
    }
   ],
   "source": [
    "# Download and Read input\n",
    "TMYtoread=bifacialvf.getEPW(lat=lat,lon=lon, path = testfolder)\n",
    "myTMY3, meta = bifacialvf.readInputTMY(TMYtoread)\n",
    "deltastyle = 'TMY3'\n",
    "#myTMY3 = myTMY3.iloc[0:24].copy()  # Simulate just the first 24 hours of the data file for speed on this example"
   ]
  },
  {
   "cell_type": "code",
   "execution_count": 10,
   "id": "06d4ecc1-0b07-4485-b2a5-bdf9b87103c4",
   "metadata": {},
   "outputs": [
    {
     "data": {
      "text/plain": [
       "{'loc': 'LOCATION',\n",
       " 'city': 'ALBUQUERQUE',\n",
       " 'state-prov': 'NM',\n",
       " 'country': 'USA',\n",
       " 'data_type': 'TMY2-23050',\n",
       " 'WMO_code': '723650',\n",
       " 'latitude': 35.05,\n",
       " 'longitude': -106.62,\n",
       " 'TZ': -7.0,\n",
       " 'altitude': 1619.0}"
      ]
     },
     "execution_count": 10,
     "metadata": {},
     "output_type": "execute_result"
    }
   ],
   "source": [
    "meta"
   ]
  },
  {
   "cell_type": "code",
   "execution_count": 11,
   "id": "bb9e4aba-bbd6-4603-b212-60aaa4a2a980",
   "metadata": {},
   "outputs": [
    {
     "name": "stdout",
     "output_type": "stream",
     "text": [
      "Warning: hub_height passed and is being used as  clearance_height for the fixed_tilt routine.\n",
      "Calculating Sun position with a delta of -30 mins. i.e. 12 is 11:30 sunpos\n",
      "Using albedo from TMY3 file.\n",
      "Note that at the moment, no validation check is done in the albedo data, so we assume it's correct and valid.\n",
      "\n",
      " \n",
      "********* \n",
      "Running Simulation for TMY3: \n",
      "Location:   ALBUQUERQUE\n",
      "Lat:  35.05  Long:  -106.62  Tz  -7.0\n",
      "Parameters: tilt:  30   Sazm:  180     Clearance_Height :  0.75   Pitch:  2.857142857142857   Row type:  interior   Albedo:  None\n",
      "Saving into TEMP\\Results_bifacialVF.csv\n",
      " \n",
      " \n",
      "Distance between rows for no shading on Dec 21 at 9 am solar time =  1.1334118610468977\n",
      "Actual distance between rows =  1.9911174533584184\n",
      " \n",
      "Warning: tracking=False, but backtracking=True.  Setting backtracking=False because it doesn't make  sense to backtrack on fixed tilt systems.\n",
      "Saving Ground Irradiance Values for AgriPV Analysis. \n"
     ]
    },
    {
     "name": "stderr",
     "output_type": "stream",
     "text": [
      "  0%|          | 0/8760 [00:00<?, ?it/s]C:\\Users\\sayala\\.conda\\envs\\RadWorkshop\\Lib\\site-packages\\bifacialvf\\bifacialvf.py:459: FutureWarning: Series.__getitem__ treating keys as positions is deprecated. In a future version, integer keys will always be treated as labels (consistent with DataFrame behavior). To access a value by position, use `ser.iloc[pos]`\n",
      "  albedo = myTMY3.Alb[rl]\n",
      "100%|██████████| 8760/8760 [01:12<00:00, 121.24it/s]"
     ]
    },
    {
     "name": "stdout",
     "output_type": "stream",
     "text": [
      "Finished\n"
     ]
    },
    {
     "name": "stderr",
     "output_type": "stream",
     "text": [
      "\n"
     ]
    }
   ],
   "source": [
    "bifacialvf.simulate(myTMY3, meta, writefiletitle=writefiletitle, \n",
    "         tilt=tilt, sazm=sazm, pitch=pitch, clearance_height=clearance_height , \n",
    "         rowType=rowType, transFactor=transFactor, sensorsy=sensorsy, \n",
    "         PVfrontSurface=PVfrontSurface, PVbackSurface=PVbackSurface, \n",
    "         albedo=albedo, tracking=tracking, backtrack=backtrack, \n",
    "         limit_angle=limit_angle, deltastyle=deltastyle, agriPV=agriPV)\n"
   ]
  },
  {
   "cell_type": "code",
   "execution_count": 12,
   "id": "5105fbf9-1e41-4510-a135-3d3a86e8a7af",
   "metadata": {},
   "outputs": [],
   "source": [
    "#Load the results from the resultfile\n",
    "from bifacialvf import loadVFresults\n",
    "(data, metadata) = loadVFresults(writefiletitle)"
   ]
  },
  {
   "cell_type": "markdown",
   "id": "627ef051",
   "metadata": {},
   "source": [
    "## Looking and plotting at the results "
   ]
  },
  {
   "cell_type": "code",
   "execution_count": 16,
   "id": "2c09663e",
   "metadata": {},
   "outputs": [],
   "source": [
    "data.set_index(pd.to_datetime(data['date']), inplace=True, drop=True)\n",
    "data.index = data.index.map(lambda t: t.replace(year=2021))   # Chagning to be the same year\n"
   ]
  },
  {
   "cell_type": "code",
   "execution_count": null,
   "id": "4184bf52-4aec-4c9b-b15a-513fad0d637d",
   "metadata": {},
   "outputs": [],
   "source": [
    "groundIrrads = data['Ground Irradiance Values'].str.strip('[]').str.split(' ', expand=True).astype(float)"
   ]
  },
  {
   "cell_type": "code",
   "execution_count": 18,
   "id": "080a5bd9",
   "metadata": {},
   "outputs": [
    {
     "ename": "NameError",
     "evalue": "name 'groundIrrads' is not defined",
     "output_type": "error",
     "traceback": [
      "\u001b[1;31m---------------------------------------------------------------------------\u001b[0m",
      "\u001b[1;31mNameError\u001b[0m                                 Traceback (most recent call last)",
      "Cell \u001b[1;32mIn[18], line 1\u001b[0m\n\u001b[1;32m----> 1\u001b[0m df \u001b[38;5;241m=\u001b[39m \u001b[43mgroundIrrads\u001b[49m\u001b[38;5;241m.\u001b[39mgroupby([pd\u001b[38;5;241m.\u001b[39mGrouper(freq\u001b[38;5;241m=\u001b[39m\u001b[38;5;124m'\u001b[39m\u001b[38;5;124mM\u001b[39m\u001b[38;5;124m'\u001b[39m)])\u001b[38;5;241m.\u001b[39msum()\u001b[38;5;241m.\u001b[39mT\n\u001b[0;32m      2\u001b[0m \u001b[38;5;66;03m# I'm sure there's a fancier way to do this but hey, this works.\u001b[39;00m\n\u001b[0;32m      3\u001b[0m df\u001b[38;5;241m.\u001b[39mrename(columns\u001b[38;5;241m=\u001b[39m{ df\u001b[38;5;241m.\u001b[39mcolumns[\u001b[38;5;241m0\u001b[39m]: \u001b[38;5;124m\"\u001b[39m\u001b[38;5;124mJan\u001b[39m\u001b[38;5;124m\"\u001b[39m, df\u001b[38;5;241m.\u001b[39mcolumns[\u001b[38;5;241m1\u001b[39m]: \u001b[38;5;124m\"\u001b[39m\u001b[38;5;124mFeb\u001b[39m\u001b[38;5;124m\"\u001b[39m,df\u001b[38;5;241m.\u001b[39mcolumns[\u001b[38;5;241m2\u001b[39m]: \u001b[38;5;124m\"\u001b[39m\u001b[38;5;124mMar\u001b[39m\u001b[38;5;124m\"\u001b[39m, df\u001b[38;5;241m.\u001b[39mcolumns[\u001b[38;5;241m3\u001b[39m]: \u001b[38;5;124m\"\u001b[39m\u001b[38;5;124mApr\u001b[39m\u001b[38;5;124m\"\u001b[39m,\n\u001b[0;32m      4\u001b[0m                    df\u001b[38;5;241m.\u001b[39mcolumns[\u001b[38;5;241m4\u001b[39m]: \u001b[38;5;124m\"\u001b[39m\u001b[38;5;124mMay\u001b[39m\u001b[38;5;124m\"\u001b[39m,df\u001b[38;5;241m.\u001b[39mcolumns[\u001b[38;5;241m5\u001b[39m]: \u001b[38;5;124m\"\u001b[39m\u001b[38;5;124mJune\u001b[39m\u001b[38;5;124m\"\u001b[39m,df\u001b[38;5;241m.\u001b[39mcolumns[\u001b[38;5;241m6\u001b[39m]: \u001b[38;5;124m\"\u001b[39m\u001b[38;5;124mJuly\u001b[39m\u001b[38;5;124m\"\u001b[39m,df\u001b[38;5;241m.\u001b[39mcolumns[\u001b[38;5;241m7\u001b[39m]: \u001b[38;5;124m\"\u001b[39m\u001b[38;5;124mAug\u001b[39m\u001b[38;5;124m\"\u001b[39m,\n\u001b[0;32m      5\u001b[0m                    df\u001b[38;5;241m.\u001b[39mcolumns[\u001b[38;5;241m8\u001b[39m]: \u001b[38;5;124m\"\u001b[39m\u001b[38;5;124mSept\u001b[39m\u001b[38;5;124m\"\u001b[39m,df\u001b[38;5;241m.\u001b[39mcolumns[\u001b[38;5;241m9\u001b[39m]: \u001b[38;5;124m\"\u001b[39m\u001b[38;5;124mOct\u001b[39m\u001b[38;5;124m\"\u001b[39m,df\u001b[38;5;241m.\u001b[39mcolumns[\u001b[38;5;241m10\u001b[39m]: \u001b[38;5;124m\"\u001b[39m\u001b[38;5;124mNov\u001b[39m\u001b[38;5;124m\"\u001b[39m,df\u001b[38;5;241m.\u001b[39mcolumns[\u001b[38;5;241m11\u001b[39m]: \u001b[38;5;124m\"\u001b[39m\u001b[38;5;124mDec\u001b[39m\u001b[38;5;124m\"\u001b[39m    }, inplace \u001b[38;5;241m=\u001b[39m \u001b[38;5;28;01mTrue\u001b[39;00m)\n",
      "\u001b[1;31mNameError\u001b[0m: name 'groundIrrads' is not defined"
     ]
    }
   ],
   "source": [
    "df = groundIrrads.groupby([pd.Grouper(freq='M')]).sum().T\n",
    "# I'm sure there's a fancier way to do this but hey, this works.\n",
    "df.rename(columns={ df.columns[0]: \"Jan\", df.columns[1]: \"Feb\",df.columns[2]: \"Mar\", df.columns[3]: \"Apr\",\n",
    "                   df.columns[4]: \"May\",df.columns[5]: \"June\",df.columns[6]: \"July\",df.columns[7]: \"Aug\",\n",
    "                   df.columns[8]: \"Sept\",df.columns[9]: \"Oct\",df.columns[10]: \"Nov\",df.columns[11]: \"Dec\"    }, inplace = True)"
   ]
  },
  {
   "cell_type": "code",
   "execution_count": 19,
   "id": "bd06564f",
   "metadata": {},
   "outputs": [
    {
     "ename": "NameError",
     "evalue": "name 'df' is not defined",
     "output_type": "error",
     "traceback": [
      "\u001b[1;31m---------------------------------------------------------------------------\u001b[0m",
      "\u001b[1;31mNameError\u001b[0m                                 Traceback (most recent call last)",
      "Cell \u001b[1;32mIn[19], line 1\u001b[0m\n\u001b[1;32m----> 1\u001b[0m fig \u001b[38;5;241m=\u001b[39m (\u001b[43mdf\u001b[49m\u001b[38;5;241m/\u001b[39m\u001b[38;5;241m1000\u001b[39m)\u001b[38;5;241m.\u001b[39mplot()\n\u001b[0;32m      2\u001b[0m fig\u001b[38;5;241m.\u001b[39mset_xlabel(\u001b[38;5;124m'\u001b[39m\u001b[38;5;124mPosition between start of row and next row [\u001b[39m\u001b[38;5;124m%\u001b[39m\u001b[38;5;124m]\u001b[39m\u001b[38;5;124m'\u001b[39m)\n\u001b[0;32m      3\u001b[0m fig\u001b[38;5;241m.\u001b[39mset_ylabel(\u001b[38;5;124m'\u001b[39m\u001b[38;5;124mCumulative Insolation for the month [kWh/m2]\u001b[39m\u001b[38;5;124m'\u001b[39m)\n",
      "\u001b[1;31mNameError\u001b[0m: name 'df' is not defined"
     ]
    }
   ],
   "source": [
    "fig = (df/1000).plot()\n",
    "fig.set_xlabel('Position between start of row and next row [%]')\n",
    "fig.set_ylabel('Cumulative Insolation for the month [kWh/m2]')"
   ]
  },
  {
   "cell_type": "code",
   "execution_count": 20,
   "id": "ca7950d1",
   "metadata": {},
   "outputs": [
    {
     "name": "stderr",
     "output_type": "stream",
     "text": [
      "C:\\Users\\sayala\\AppData\\Local\\Temp\\1\\ipykernel_19104\\418417255.py:1: FutureWarning: 'M' is deprecated and will be removed in a future version, please use 'ME' instead.\n",
      "  monthlyGHI = pd.DataFrame(data['ghi'].groupby([pd.Grouper(freq='M')]).sum())\n"
     ]
    }
   ],
   "source": [
    "monthlyGHI = pd.DataFrame(data['ghi'].groupby([pd.Grouper(freq='M')]).sum())"
   ]
  },
  {
   "cell_type": "code",
   "execution_count": 21,
   "id": "5ce1bf61",
   "metadata": {},
   "outputs": [],
   "source": [
    "monthlyGHI['Month'] = ['Jan', 'Feb', 'Mar', 'Apr', 'May', 'June', 'July', 'Aug', 'Sept', 'Oct', 'Nov', 'Dec']\n",
    "monthlyGHI.set_index(monthlyGHI['Month'], inplace=True)\n",
    "monthlyGHI = monthlyGHI.drop(columns='Month')"
   ]
  },
  {
   "cell_type": "code",
   "execution_count": 22,
   "id": "d311fb60",
   "metadata": {},
   "outputs": [
    {
     "ename": "NameError",
     "evalue": "name 'df' is not defined",
     "output_type": "error",
     "traceback": [
      "\u001b[1;31m---------------------------------------------------------------------------\u001b[0m",
      "\u001b[1;31mNameError\u001b[0m                                 Traceback (most recent call last)",
      "Cell \u001b[1;32mIn[22], line 1\u001b[0m\n\u001b[1;32m----> 1\u001b[0m df_norm \u001b[38;5;241m=\u001b[39m \u001b[43mdf\u001b[49m\u001b[38;5;241m.\u001b[39mT\n\u001b[0;32m      2\u001b[0m df_norm \u001b[38;5;241m=\u001b[39m df_norm\u001b[38;5;241m.\u001b[39mdiv(monthlyGHI[\u001b[38;5;124m'\u001b[39m\u001b[38;5;124mghi\u001b[39m\u001b[38;5;124m'\u001b[39m], axis\u001b[38;5;241m=\u001b[39m\u001b[38;5;241m0\u001b[39m)\n\u001b[0;32m      3\u001b[0m df_norm \u001b[38;5;241m=\u001b[39m df_norm\u001b[38;5;241m.\u001b[39mT\n",
      "\u001b[1;31mNameError\u001b[0m: name 'df' is not defined"
     ]
    }
   ],
   "source": [
    "df_norm = df.T\n",
    "df_norm = df_norm.div(monthlyGHI['ghi'], axis=0)\n",
    "df_norm = df_norm.T"
   ]
  },
  {
   "cell_type": "code",
   "execution_count": 23,
   "id": "7f63b0f3",
   "metadata": {},
   "outputs": [
    {
     "ename": "NameError",
     "evalue": "name 'df_norm' is not defined",
     "output_type": "error",
     "traceback": [
      "\u001b[1;31m---------------------------------------------------------------------------\u001b[0m",
      "\u001b[1;31mNameError\u001b[0m                                 Traceback (most recent call last)",
      "Cell \u001b[1;32mIn[23], line 1\u001b[0m\n\u001b[1;32m----> 1\u001b[0m fig \u001b[38;5;241m=\u001b[39m (\u001b[43mdf_norm\u001b[49m)\u001b[38;5;241m.\u001b[39mplot()\n\u001b[0;32m      2\u001b[0m fig\u001b[38;5;241m.\u001b[39mset_xlabel(\u001b[38;5;124m'\u001b[39m\u001b[38;5;124mPosition between start of row and next row [\u001b[39m\u001b[38;5;124m%\u001b[39m\u001b[38;5;124m]\u001b[39m\u001b[38;5;124m'\u001b[39m)\n\u001b[0;32m      3\u001b[0m fig\u001b[38;5;241m.\u001b[39mset_ylabel(\u001b[38;5;124m'\u001b[39m\u001b[38;5;124mNormalized Insolation for the month/GHI\u001b[39m\u001b[38;5;124m'\u001b[39m)\n",
      "\u001b[1;31mNameError\u001b[0m: name 'df_norm' is not defined"
     ]
    }
   ],
   "source": [
    "fig = (df_norm).plot()\n",
    "fig.set_xlabel('Position between start of row and next row [%]')\n",
    "fig.set_ylabel('Normalized Insolation for the month/GHI')"
   ]
  },
  {
   "cell_type": "code",
   "execution_count": null,
   "id": "ce259791-1329-491c-8776-27c33bd0ad68",
   "metadata": {},
   "outputs": [],
   "source": []
  }
 ],
 "metadata": {
  "kernelspec": {
   "display_name": "Python (RadWorkshop)",
   "language": "python",
   "name": "radworkshop"
  },
  "language_info": {
   "codemirror_mode": {
    "name": "ipython",
    "version": 3
   },
   "file_extension": ".py",
   "mimetype": "text/x-python",
   "name": "python",
   "nbconvert_exporter": "python",
   "pygments_lexer": "ipython3",
   "version": "3.12.4"
  }
 },
 "nbformat": 4,
 "nbformat_minor": 5
}
